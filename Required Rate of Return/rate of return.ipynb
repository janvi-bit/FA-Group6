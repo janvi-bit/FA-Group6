{
 "cells": [
  {
   "cell_type": "code",
   "execution_count": 2,
   "id": "6f718229",
   "metadata": {},
   "outputs": [
    {
     "name": "stdout",
     "output_type": "stream",
     "text": [
      "7.447372232991042\n"
     ]
    }
   ],
   "source": [
    "# Import the numpy_financial package using the alias npf\n",
    "import numpy_financial as npf\n",
    "\n",
    "# Calculate return on investments required: required_return\n",
    "required_return = 12 * npf.rate(nper=30*12, pmt=-1500, pv=0, fv=2000000)\n",
    "\n",
    "# Print the result\n",
    "print(required_return*100)"
   ]
  },
  {
   "cell_type": "code",
   "execution_count": 2,
   "id": "d8473a8b",
   "metadata": {},
   "outputs": [
    {
     "name": "stdout",
     "output_type": "stream",
     "text": [
      "Collecting numpy_financial\n",
      "  Downloading numpy_financial-1.0.0-py3-none-any.whl (14 kB)\n",
      "Requirement already satisfied: numpy>=1.15 in /opt/anaconda3/lib/python3.8/site-packages (from numpy_financial) (1.19.5)\n",
      "Installing collected packages: numpy-financial\n",
      "Successfully installed numpy-financial-1.0.0\n",
      "Note: you may need to restart the kernel to use updated packages.\n"
     ]
    }
   ],
   "source": [
    "pip install numpy_financial"
   ]
  },
  {
   "cell_type": "code",
   "execution_count": 1,
   "id": "b8e96e3e",
   "metadata": {},
   "outputs": [],
   "source": [
    "import numpy_financial as npf"
   ]
  },
  {
   "cell_type": "code",
   "execution_count": 64,
   "id": "1e077c4f",
   "metadata": {},
   "outputs": [],
   "source": [
    "initial_cap = 50000\n",
    "\n",
    "quantitative_goal = 200000\n",
    "\n",
    "invest_each_month = 1500\n",
    "\n",
    "no_of_years = 5\n",
    "\n",
    "required_return = npf.rate(no_of_years*12, invest_each_month, -initial_cap, quantitative_goal)"
   ]
  },
  {
   "cell_type": "code",
   "execution_count": 65,
   "id": "974c5f7f",
   "metadata": {},
   "outputs": [
    {
     "data": {
      "text/plain": [
       "4.1767701600993865"
      ]
     },
     "execution_count": 65,
     "metadata": {},
     "output_type": "execute_result"
    }
   ],
   "source": [
    "required_return*100"
   ]
  },
  {
   "cell_type": "code",
   "execution_count": null,
   "id": "75edb5f9",
   "metadata": {},
   "outputs": [],
   "source": []
  },
  {
   "cell_type": "code",
   "execution_count": 66,
   "id": "7ea0c836",
   "metadata": {},
   "outputs": [],
   "source": [
    "model_returns = 0.0966\n",
    "\n",
    "monthly_saved = 1500\n",
    "\n",
    "initial_capital = 50000\n",
    "\n",
    "years = 30\n",
    "\n",
    "in_months = years*12\n",
    "\n",
    "money_at_end = npf.fv(model_returns/in_months, years*12, -monthly_saved, -initial_capital)"
   ]
  },
  {
   "cell_type": "code",
   "execution_count": 67,
   "id": "2877ba14",
   "metadata": {},
   "outputs": [
    {
     "data": {
      "text/plain": [
       "621933.0099892574"
      ]
     },
     "execution_count": 67,
     "metadata": {},
     "output_type": "execute_result"
    }
   ],
   "source": [
    "money_at_end"
   ]
  },
  {
   "cell_type": "code",
   "execution_count": null,
   "id": "1984d986",
   "metadata": {},
   "outputs": [],
   "source": []
  },
  {
   "cell_type": "code",
   "execution_count": null,
   "id": "15224619",
   "metadata": {},
   "outputs": [],
   "source": []
  },
  {
   "cell_type": "code",
   "execution_count": null,
   "id": "3265f5e1",
   "metadata": {},
   "outputs": [],
   "source": []
  },
  {
   "cell_type": "code",
   "execution_count": null,
   "id": "4c1f956e",
   "metadata": {},
   "outputs": [],
   "source": []
  },
  {
   "cell_type": "code",
   "execution_count": null,
   "id": "9c2d7898",
   "metadata": {},
   "outputs": [],
   "source": []
  },
  {
   "cell_type": "code",
   "execution_count": null,
   "id": "84649005",
   "metadata": {},
   "outputs": [],
   "source": []
  },
  {
   "cell_type": "code",
   "execution_count": 5,
   "id": "9d68cdbb",
   "metadata": {},
   "outputs": [
    {
     "data": {
      "text/plain": [
       "28.60317369916583"
      ]
     },
     "execution_count": 5,
     "metadata": {},
     "output_type": "execute_result"
    }
   ],
   "source": [
    "required_return*100"
   ]
  },
  {
   "cell_type": "code",
   "execution_count": 12,
   "id": "9dec9512",
   "metadata": {},
   "outputs": [],
   "source": [
    "def each_year(P, r, n, t):\n",
    "\n",
    "    for period in range(t):\n",
    "        amount = P*(pow((1+r/n), n*(period+1)))\n",
    "        print('Period:', period+1, amount)\n",
    "\n",
    "    return amount"
   ]
  },
  {
   "cell_type": "code",
   "execution_count": 13,
   "id": "0f1d6610",
   "metadata": {},
   "outputs": [
    {
     "name": "stdout",
     "output_type": "stream",
     "text": [
      "Period: 1 14694.113497560578\n",
      "Period: 2 21591.697147919196\n",
      "Period: 3 31727.084849647974\n"
     ]
    },
    {
     "data": {
      "text/plain": [
       "31727.084849647974"
      ]
     },
     "execution_count": 13,
     "metadata": {},
     "output_type": "execute_result"
    }
   ],
   "source": [
    "each_year(10000,0.3911,12,3)"
   ]
  },
  {
   "cell_type": "code",
   "execution_count": 14,
   "id": "e41facfd",
   "metadata": {},
   "outputs": [
    {
     "data": {
      "text/plain": [
       "68012.89549512776"
      ]
     },
     "execution_count": 14,
     "metadata": {},
     "output_type": "execute_result"
    }
   ],
   "source": [
    "31727.084849647974+21591.697147919196+14694.113497560578"
   ]
  },
  {
   "cell_type": "code",
   "execution_count": null,
   "id": "fc4ebbe9",
   "metadata": {},
   "outputs": [],
   "source": []
  },
  {
   "cell_type": "code",
   "execution_count": null,
   "id": "2cd789c1",
   "metadata": {},
   "outputs": [],
   "source": []
  },
  {
   "cell_type": "code",
   "execution_count": null,
   "id": "4c0ce07f",
   "metadata": {},
   "outputs": [],
   "source": []
  },
  {
   "cell_type": "code",
   "execution_count": null,
   "id": "710de867",
   "metadata": {},
   "outputs": [],
   "source": []
  },
  {
   "cell_type": "code",
   "execution_count": null,
   "id": "04566a89",
   "metadata": {},
   "outputs": [],
   "source": []
  }
 ],
 "metadata": {
  "kernelspec": {
   "display_name": "Python 3 (ipykernel)",
   "language": "python",
   "name": "python3"
  },
  "language_info": {
   "codemirror_mode": {
    "name": "ipython",
    "version": 3
   },
   "file_extension": ".py",
   "mimetype": "text/x-python",
   "name": "python",
   "nbconvert_exporter": "python",
   "pygments_lexer": "ipython3",
   "version": "3.8.8"
  }
 },
 "nbformat": 4,
 "nbformat_minor": 5
}
