{
 "cells": [
  {
   "cell_type": "code",
   "execution_count": 2,
   "id": "6f718229",
   "metadata": {},
   "outputs": [
    {
     "name": "stdout",
     "output_type": "stream",
     "text": [
      "7.447372232991042\n"
     ]
    }
   ],
   "source": [
    "# Import the numpy_financial package using the alias npf\n",
    "import numpy_financial as npf\n",
    "\n",
    "# Calculate return on investments required: required_return\n",
    "required_return = 12 * npf.rate(nper=30*12, pmt=-1500, pv=0, fv=2000000)\n",
    "\n",
    "# Print the result\n",
    "print(required_return*100)"
   ]
  },
  {
   "cell_type": "code",
   "execution_count": 2,
   "id": "d8473a8b",
   "metadata": {},
   "outputs": [
    {
     "name": "stdout",
     "output_type": "stream",
     "text": [
      "Collecting numpy_financial\n",
      "  Downloading numpy_financial-1.0.0-py3-none-any.whl (14 kB)\n",
      "Requirement already satisfied: numpy>=1.15 in /opt/anaconda3/lib/python3.8/site-packages (from numpy_financial) (1.19.5)\n",
      "Installing collected packages: numpy-financial\n",
      "Successfully installed numpy-financial-1.0.0\n",
      "Note: you may need to restart the kernel to use updated packages.\n"
     ]
    }
   ],
   "source": [
    "pip install numpy_financial"
   ]
  },
  {
   "cell_type": "code",
   "execution_count": null,
   "id": "b8e96e3e",
   "metadata": {},
   "outputs": [],
   "source": []
  }
 ],
 "metadata": {
  "kernelspec": {
   "display_name": "Python 3 (ipykernel)",
   "language": "python",
   "name": "python3"
  },
  "language_info": {
   "codemirror_mode": {
    "name": "ipython",
    "version": 3
   },
   "file_extension": ".py",
   "mimetype": "text/x-python",
   "name": "python",
   "nbconvert_exporter": "python",
   "pygments_lexer": "ipython3",
   "version": "3.8.8"
  }
 },
 "nbformat": 4,
 "nbformat_minor": 5
}
