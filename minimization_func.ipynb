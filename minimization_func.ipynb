{
 "cells": [
  {
   "cell_type": "code",
   "execution_count": 1,
   "metadata": {},
   "outputs": [],
   "source": [
    "import pandas as pd\n",
    "import numpy as np\n",
    "import matplotlib.pyplot as plt\n",
    "import scipy.stats\n",
    "\n",
    "from pandas_datareader import data"
   ]
  },
  {
   "cell_type": "code",
   "execution_count": 3,
   "metadata": {},
   "outputs": [
    {
     "name": "stdout",
     "output_type": "stream",
     "text": [
      "['AAPL', 'GOOGL', 'FB', 'V']\n"
     ]
    }
   ],
   "source": [
    "n_tickers = input('Number of Stocks in your portfolio: ')\n",
    "\n",
    "i = 0\n",
    "tickers = []\n",
    "\n",
    "while (i < int(n_tickers)):\n",
    "    x = input('Ticker: ')\n",
    "    tickers.append(x)\n",
    "    i += 1\n",
    "\n",
    "print(tickers)\n"
   ]
  },
  {
   "cell_type": "code",
   "execution_count": 4,
   "metadata": {},
   "outputs": [
    {
     "data": {
      "text/html": [
       "<div>\n",
       "<style scoped>\n",
       "    .dataframe tbody tr th:only-of-type {\n",
       "        vertical-align: middle;\n",
       "    }\n",
       "\n",
       "    .dataframe tbody tr th {\n",
       "        vertical-align: top;\n",
       "    }\n",
       "\n",
       "    .dataframe thead th {\n",
       "        text-align: right;\n",
       "    }\n",
       "</style>\n",
       "<table border=\"1\" class=\"dataframe\">\n",
       "  <thead>\n",
       "    <tr style=\"text-align: right;\">\n",
       "      <th></th>\n",
       "      <th>AAPL</th>\n",
       "      <th>GOOGL</th>\n",
       "      <th>FB</th>\n",
       "      <th>V</th>\n",
       "    </tr>\n",
       "    <tr>\n",
       "      <th>Date</th>\n",
       "      <th></th>\n",
       "      <th></th>\n",
       "      <th></th>\n",
       "      <th></th>\n",
       "    </tr>\n",
       "  </thead>\n",
       "  <tbody>\n",
       "    <tr>\n",
       "      <th>2015-12-31</th>\n",
       "      <td>24.199884</td>\n",
       "      <td>778.010010</td>\n",
       "      <td>104.660004</td>\n",
       "      <td>74.393578</td>\n",
       "    </tr>\n",
       "    <tr>\n",
       "      <th>2016-01-04</th>\n",
       "      <td>24.220577</td>\n",
       "      <td>759.440002</td>\n",
       "      <td>102.220001</td>\n",
       "      <td>72.618866</td>\n",
       "    </tr>\n",
       "    <tr>\n",
       "      <th>2016-01-05</th>\n",
       "      <td>23.613625</td>\n",
       "      <td>761.530029</td>\n",
       "      <td>102.730003</td>\n",
       "      <td>73.165657</td>\n",
       "    </tr>\n",
       "    <tr>\n",
       "      <th>2016-01-06</th>\n",
       "      <td>23.151518</td>\n",
       "      <td>759.330017</td>\n",
       "      <td>102.970001</td>\n",
       "      <td>72.206375</td>\n",
       "    </tr>\n",
       "    <tr>\n",
       "      <th>2016-01-07</th>\n",
       "      <td>22.174417</td>\n",
       "      <td>741.000000</td>\n",
       "      <td>97.919998</td>\n",
       "      <td>70.786606</td>\n",
       "    </tr>\n",
       "    <tr>\n",
       "      <th>...</th>\n",
       "      <td>...</td>\n",
       "      <td>...</td>\n",
       "      <td>...</td>\n",
       "      <td>...</td>\n",
       "    </tr>\n",
       "    <tr>\n",
       "      <th>2021-12-27</th>\n",
       "      <td>180.100540</td>\n",
       "      <td>2958.129883</td>\n",
       "      <td>346.179993</td>\n",
       "      <td>217.276505</td>\n",
       "    </tr>\n",
       "    <tr>\n",
       "      <th>2021-12-28</th>\n",
       "      <td>179.061859</td>\n",
       "      <td>2933.739990</td>\n",
       "      <td>346.220001</td>\n",
       "      <td>217.695831</td>\n",
       "    </tr>\n",
       "    <tr>\n",
       "      <th>2021-12-29</th>\n",
       "      <td>179.151749</td>\n",
       "      <td>2933.100098</td>\n",
       "      <td>342.940002</td>\n",
       "      <td>217.815628</td>\n",
       "    </tr>\n",
       "    <tr>\n",
       "      <th>2021-12-30</th>\n",
       "      <td>177.973251</td>\n",
       "      <td>2924.010010</td>\n",
       "      <td>344.359985</td>\n",
       "      <td>217.516113</td>\n",
       "    </tr>\n",
       "    <tr>\n",
       "      <th>2021-12-31</th>\n",
       "      <td>177.344055</td>\n",
       "      <td>2897.040039</td>\n",
       "      <td>336.350006</td>\n",
       "      <td>216.358002</td>\n",
       "    </tr>\n",
       "  </tbody>\n",
       "</table>\n",
       "<p>1512 rows × 4 columns</p>\n",
       "</div>"
      ],
      "text/plain": [
       "                  AAPL        GOOGL          FB           V\n",
       "Date                                                       \n",
       "2015-12-31   24.199884   778.010010  104.660004   74.393578\n",
       "2016-01-04   24.220577   759.440002  102.220001   72.618866\n",
       "2016-01-05   23.613625   761.530029  102.730003   73.165657\n",
       "2016-01-06   23.151518   759.330017  102.970001   72.206375\n",
       "2016-01-07   22.174417   741.000000   97.919998   70.786606\n",
       "...                ...          ...         ...         ...\n",
       "2021-12-27  180.100540  2958.129883  346.179993  217.276505\n",
       "2021-12-28  179.061859  2933.739990  346.220001  217.695831\n",
       "2021-12-29  179.151749  2933.100098  342.940002  217.815628\n",
       "2021-12-30  177.973251  2924.010010  344.359985  217.516113\n",
       "2021-12-31  177.344055  2897.040039  336.350006  216.358002\n",
       "\n",
       "[1512 rows x 4 columns]"
      ]
     },
     "execution_count": 4,
     "metadata": {},
     "output_type": "execute_result"
    }
   ],
   "source": [
    "start_date = \"2016-01-01\"\n",
    "end_date = \"2021-12-31\"\n",
    "\n",
    "stocks_data = pd.DataFrame()\n",
    "\n",
    "for ticker in tickers:\n",
    "    stocks_data[ticker] = data.DataReader(ticker, 'yahoo', start_date, end_date)['Adj Close']\n",
    "    \n",
    "stocks_data = stocks_data.dropna()\n",
    "stocks_data"
   ]
  },
  {
   "cell_type": "markdown",
   "metadata": {},
   "source": [
    "# ____________________________________________"
   ]
  },
  {
   "cell_type": "code",
   "execution_count": 5,
   "metadata": {},
   "outputs": [],
   "source": [
    "risk_free_ann_ret_rate = 0.01\n",
    "\n",
    "returns_ts = stocks_data.pct_change().dropna()\n",
    "avg_daily_ret = returns_ts.mean()\n",
    "\n",
    "returns_ts['RiskFree_Rate'] = risk_free_ann_ret_rate/252\n",
    "avg_rf_ret = returns_ts['RiskFree_Rate'].mean()"
   ]
  },
  {
   "cell_type": "code",
   "execution_count": 6,
   "metadata": {},
   "outputs": [],
   "source": [
    "for n in stocks_data.columns:\n",
    "    returns_ts['Excess_ret_' + n] = returns_ts[n] - returns_ts['RiskFree_Rate']"
   ]
  },
  {
   "cell_type": "code",
   "execution_count": 7,
   "metadata": {},
   "outputs": [
    {
     "data": {
      "text/html": [
       "<div>\n",
       "<style scoped>\n",
       "    .dataframe tbody tr th:only-of-type {\n",
       "        vertical-align: middle;\n",
       "    }\n",
       "\n",
       "    .dataframe tbody tr th {\n",
       "        vertical-align: top;\n",
       "    }\n",
       "\n",
       "    .dataframe thead th {\n",
       "        text-align: right;\n",
       "    }\n",
       "</style>\n",
       "<table border=\"1\" class=\"dataframe\">\n",
       "  <thead>\n",
       "    <tr style=\"text-align: right;\">\n",
       "      <th></th>\n",
       "      <th>AAPL</th>\n",
       "      <th>GOOGL</th>\n",
       "      <th>FB</th>\n",
       "      <th>V</th>\n",
       "      <th>RiskFree_Rate</th>\n",
       "      <th>Excess_ret_AAPL</th>\n",
       "      <th>Excess_ret_GOOGL</th>\n",
       "      <th>Excess_ret_FB</th>\n",
       "      <th>Excess_ret_V</th>\n",
       "    </tr>\n",
       "    <tr>\n",
       "      <th>Date</th>\n",
       "      <th></th>\n",
       "      <th></th>\n",
       "      <th></th>\n",
       "      <th></th>\n",
       "      <th></th>\n",
       "      <th></th>\n",
       "      <th></th>\n",
       "      <th></th>\n",
       "      <th></th>\n",
       "    </tr>\n",
       "  </thead>\n",
       "  <tbody>\n",
       "    <tr>\n",
       "      <th>2016-01-04</th>\n",
       "      <td>0.000855</td>\n",
       "      <td>-0.023869</td>\n",
       "      <td>-0.023314</td>\n",
       "      <td>-0.023856</td>\n",
       "      <td>0.00004</td>\n",
       "      <td>0.000815</td>\n",
       "      <td>-0.023908</td>\n",
       "      <td>-0.023353</td>\n",
       "      <td>-0.023895</td>\n",
       "    </tr>\n",
       "    <tr>\n",
       "      <th>2016-01-05</th>\n",
       "      <td>-0.025059</td>\n",
       "      <td>0.002752</td>\n",
       "      <td>0.004989</td>\n",
       "      <td>0.007530</td>\n",
       "      <td>0.00004</td>\n",
       "      <td>-0.025099</td>\n",
       "      <td>0.002712</td>\n",
       "      <td>0.004950</td>\n",
       "      <td>0.007490</td>\n",
       "    </tr>\n",
       "    <tr>\n",
       "      <th>2016-01-06</th>\n",
       "      <td>-0.019569</td>\n",
       "      <td>-0.002889</td>\n",
       "      <td>0.002336</td>\n",
       "      <td>-0.013111</td>\n",
       "      <td>0.00004</td>\n",
       "      <td>-0.019609</td>\n",
       "      <td>-0.002929</td>\n",
       "      <td>0.002297</td>\n",
       "      <td>-0.013151</td>\n",
       "    </tr>\n",
       "    <tr>\n",
       "      <th>2016-01-07</th>\n",
       "      <td>-0.042205</td>\n",
       "      <td>-0.024140</td>\n",
       "      <td>-0.049043</td>\n",
       "      <td>-0.019663</td>\n",
       "      <td>0.00004</td>\n",
       "      <td>-0.042244</td>\n",
       "      <td>-0.024179</td>\n",
       "      <td>-0.049083</td>\n",
       "      <td>-0.019702</td>\n",
       "    </tr>\n",
       "    <tr>\n",
       "      <th>2016-01-08</th>\n",
       "      <td>0.005288</td>\n",
       "      <td>-0.013617</td>\n",
       "      <td>-0.006025</td>\n",
       "      <td>-0.012332</td>\n",
       "      <td>0.00004</td>\n",
       "      <td>0.005248</td>\n",
       "      <td>-0.013656</td>\n",
       "      <td>-0.006065</td>\n",
       "      <td>-0.012372</td>\n",
       "    </tr>\n",
       "    <tr>\n",
       "      <th>...</th>\n",
       "      <td>...</td>\n",
       "      <td>...</td>\n",
       "      <td>...</td>\n",
       "      <td>...</td>\n",
       "      <td>...</td>\n",
       "      <td>...</td>\n",
       "      <td>...</td>\n",
       "      <td>...</td>\n",
       "      <td>...</td>\n",
       "    </tr>\n",
       "    <tr>\n",
       "      <th>2021-12-27</th>\n",
       "      <td>0.022975</td>\n",
       "      <td>0.006738</td>\n",
       "      <td>0.032633</td>\n",
       "      <td>0.004663</td>\n",
       "      <td>0.00004</td>\n",
       "      <td>0.022935</td>\n",
       "      <td>0.006699</td>\n",
       "      <td>0.032594</td>\n",
       "      <td>0.004623</td>\n",
       "    </tr>\n",
       "    <tr>\n",
       "      <th>2021-12-28</th>\n",
       "      <td>-0.005767</td>\n",
       "      <td>-0.008245</td>\n",
       "      <td>0.000116</td>\n",
       "      <td>0.001930</td>\n",
       "      <td>0.00004</td>\n",
       "      <td>-0.005807</td>\n",
       "      <td>-0.008285</td>\n",
       "      <td>0.000076</td>\n",
       "      <td>0.001890</td>\n",
       "    </tr>\n",
       "    <tr>\n",
       "      <th>2021-12-29</th>\n",
       "      <td>0.000502</td>\n",
       "      <td>-0.000218</td>\n",
       "      <td>-0.009474</td>\n",
       "      <td>0.000550</td>\n",
       "      <td>0.00004</td>\n",
       "      <td>0.000462</td>\n",
       "      <td>-0.000258</td>\n",
       "      <td>-0.009513</td>\n",
       "      <td>0.000511</td>\n",
       "    </tr>\n",
       "    <tr>\n",
       "      <th>2021-12-30</th>\n",
       "      <td>-0.006578</td>\n",
       "      <td>-0.003099</td>\n",
       "      <td>0.004141</td>\n",
       "      <td>-0.001375</td>\n",
       "      <td>0.00004</td>\n",
       "      <td>-0.006618</td>\n",
       "      <td>-0.003139</td>\n",
       "      <td>0.004101</td>\n",
       "      <td>-0.001415</td>\n",
       "    </tr>\n",
       "    <tr>\n",
       "      <th>2021-12-31</th>\n",
       "      <td>-0.003535</td>\n",
       "      <td>-0.009224</td>\n",
       "      <td>-0.023260</td>\n",
       "      <td>-0.005324</td>\n",
       "      <td>0.00004</td>\n",
       "      <td>-0.003575</td>\n",
       "      <td>-0.009263</td>\n",
       "      <td>-0.023300</td>\n",
       "      <td>-0.005364</td>\n",
       "    </tr>\n",
       "  </tbody>\n",
       "</table>\n",
       "<p>1511 rows × 9 columns</p>\n",
       "</div>"
      ],
      "text/plain": [
       "                AAPL     GOOGL        FB         V  RiskFree_Rate  \\\n",
       "Date                                                                \n",
       "2016-01-04  0.000855 -0.023869 -0.023314 -0.023856        0.00004   \n",
       "2016-01-05 -0.025059  0.002752  0.004989  0.007530        0.00004   \n",
       "2016-01-06 -0.019569 -0.002889  0.002336 -0.013111        0.00004   \n",
       "2016-01-07 -0.042205 -0.024140 -0.049043 -0.019663        0.00004   \n",
       "2016-01-08  0.005288 -0.013617 -0.006025 -0.012332        0.00004   \n",
       "...              ...       ...       ...       ...            ...   \n",
       "2021-12-27  0.022975  0.006738  0.032633  0.004663        0.00004   \n",
       "2021-12-28 -0.005767 -0.008245  0.000116  0.001930        0.00004   \n",
       "2021-12-29  0.000502 -0.000218 -0.009474  0.000550        0.00004   \n",
       "2021-12-30 -0.006578 -0.003099  0.004141 -0.001375        0.00004   \n",
       "2021-12-31 -0.003535 -0.009224 -0.023260 -0.005324        0.00004   \n",
       "\n",
       "            Excess_ret_AAPL  Excess_ret_GOOGL  Excess_ret_FB  Excess_ret_V  \n",
       "Date                                                                        \n",
       "2016-01-04         0.000815         -0.023908      -0.023353     -0.023895  \n",
       "2016-01-05        -0.025099          0.002712       0.004950      0.007490  \n",
       "2016-01-06        -0.019609         -0.002929       0.002297     -0.013151  \n",
       "2016-01-07        -0.042244         -0.024179      -0.049083     -0.019702  \n",
       "2016-01-08         0.005248         -0.013656      -0.006065     -0.012372  \n",
       "...                     ...               ...            ...           ...  \n",
       "2021-12-27         0.022935          0.006699       0.032594      0.004623  \n",
       "2021-12-28        -0.005807         -0.008285       0.000076      0.001890  \n",
       "2021-12-29         0.000462         -0.000258      -0.009513      0.000511  \n",
       "2021-12-30        -0.006618         -0.003139       0.004101     -0.001415  \n",
       "2021-12-31        -0.003575         -0.009263      -0.023300     -0.005364  \n",
       "\n",
       "[1511 rows x 9 columns]"
      ]
     },
     "execution_count": 7,
     "metadata": {},
     "output_type": "execute_result"
    }
   ],
   "source": [
    "returns_ts"
   ]
  },
  {
   "cell_type": "code",
   "execution_count": 8,
   "metadata": {},
   "outputs": [],
   "source": [
    "\n",
    "def sharpe_ratio(return_ts, ticker):\n",
    "\n",
    "    sharpe_ratio = ((avg_daily_ret[ticker] - avg_rf_ret) /returns_ts['Excess_ret_' + ticker].std())*np.sqrt(252)\n",
    "\n",
    "    return sharpe_ratio.round(3)\n"
   ]
  },
  {
   "cell_type": "code",
   "execution_count": 9,
   "metadata": {},
   "outputs": [
    {
     "name": "stdout",
     "output_type": "stream",
     "text": [
      "Sharpe Ratio AAPL :\n",
      " 1.245\n",
      "Sharpe Ratio GOOGL :\n",
      " 0.935\n",
      "Sharpe Ratio FB :\n",
      " 0.733\n",
      "Sharpe Ratio V :\n",
      " 0.78\n"
     ]
    }
   ],
   "source": [
    "for n in stocks_data.columns:\n",
    "    print(f\"Sharpe Ratio {n} :\\n\", sharpe_ratio(returns_ts, n))"
   ]
  },
  {
   "cell_type": "markdown",
   "metadata": {},
   "source": [
    "# ---------------------"
   ]
  },
  {
   "cell_type": "code",
   "execution_count": 19,
   "metadata": {},
   "outputs": [
    {
     "data": {
      "text/html": [
       "<div>\n",
       "<style scoped>\n",
       "    .dataframe tbody tr th:only-of-type {\n",
       "        vertical-align: middle;\n",
       "    }\n",
       "\n",
       "    .dataframe tbody tr th {\n",
       "        vertical-align: top;\n",
       "    }\n",
       "\n",
       "    .dataframe thead th {\n",
       "        text-align: right;\n",
       "    }\n",
       "</style>\n",
       "<table border=\"1\" class=\"dataframe\">\n",
       "  <thead>\n",
       "    <tr style=\"text-align: right;\">\n",
       "      <th></th>\n",
       "      <th>GOOGL</th>\n",
       "      <th>AAPL</th>\n",
       "      <th>FB</th>\n",
       "      <th>V</th>\n",
       "    </tr>\n",
       "    <tr>\n",
       "      <th>Date</th>\n",
       "      <th></th>\n",
       "      <th></th>\n",
       "      <th></th>\n",
       "      <th></th>\n",
       "    </tr>\n",
       "  </thead>\n",
       "  <tbody>\n",
       "    <tr>\n",
       "      <th>2015-12-31</th>\n",
       "      <td>NaN</td>\n",
       "      <td>NaN</td>\n",
       "      <td>NaN</td>\n",
       "      <td>NaN</td>\n",
       "    </tr>\n",
       "    <tr>\n",
       "      <th>2016-01-04</th>\n",
       "      <td>-0.024158</td>\n",
       "      <td>0.000855</td>\n",
       "      <td>-0.023590</td>\n",
       "      <td>-0.024145</td>\n",
       "    </tr>\n",
       "    <tr>\n",
       "      <th>2016-01-05</th>\n",
       "      <td>0.002748</td>\n",
       "      <td>-0.025379</td>\n",
       "      <td>0.004977</td>\n",
       "      <td>0.007501</td>\n",
       "    </tr>\n",
       "    <tr>\n",
       "      <th>2016-01-06</th>\n",
       "      <td>-0.002893</td>\n",
       "      <td>-0.019764</td>\n",
       "      <td>0.002333</td>\n",
       "      <td>-0.013198</td>\n",
       "    </tr>\n",
       "    <tr>\n",
       "      <th>2016-01-07</th>\n",
       "      <td>-0.024436</td>\n",
       "      <td>-0.043121</td>\n",
       "      <td>-0.050287</td>\n",
       "      <td>-0.019859</td>\n",
       "    </tr>\n",
       "    <tr>\n",
       "      <th>...</th>\n",
       "      <td>...</td>\n",
       "      <td>...</td>\n",
       "      <td>...</td>\n",
       "      <td>...</td>\n",
       "    </tr>\n",
       "    <tr>\n",
       "      <th>2021-12-27</th>\n",
       "      <td>0.006716</td>\n",
       "      <td>0.022715</td>\n",
       "      <td>0.032112</td>\n",
       "      <td>0.004652</td>\n",
       "    </tr>\n",
       "    <tr>\n",
       "      <th>2021-12-28</th>\n",
       "      <td>-0.008279</td>\n",
       "      <td>-0.005784</td>\n",
       "      <td>0.000116</td>\n",
       "      <td>0.001928</td>\n",
       "    </tr>\n",
       "    <tr>\n",
       "      <th>2021-12-29</th>\n",
       "      <td>-0.000218</td>\n",
       "      <td>0.000502</td>\n",
       "      <td>-0.009519</td>\n",
       "      <td>0.000550</td>\n",
       "    </tr>\n",
       "    <tr>\n",
       "      <th>2021-12-30</th>\n",
       "      <td>-0.003104</td>\n",
       "      <td>-0.006600</td>\n",
       "      <td>0.004132</td>\n",
       "      <td>-0.001376</td>\n",
       "    </tr>\n",
       "    <tr>\n",
       "      <th>2021-12-31</th>\n",
       "      <td>-0.009266</td>\n",
       "      <td>-0.003542</td>\n",
       "      <td>-0.023535</td>\n",
       "      <td>-0.005338</td>\n",
       "    </tr>\n",
       "  </tbody>\n",
       "</table>\n",
       "<p>1512 rows × 4 columns</p>\n",
       "</div>"
      ],
      "text/plain": [
       "               GOOGL      AAPL        FB         V\n",
       "Date                                              \n",
       "2015-12-31       NaN       NaN       NaN       NaN\n",
       "2016-01-04 -0.024158  0.000855 -0.023590 -0.024145\n",
       "2016-01-05  0.002748 -0.025379  0.004977  0.007501\n",
       "2016-01-06 -0.002893 -0.019764  0.002333 -0.013198\n",
       "2016-01-07 -0.024436 -0.043121 -0.050287 -0.019859\n",
       "...              ...       ...       ...       ...\n",
       "2021-12-27  0.006716  0.022715  0.032112  0.004652\n",
       "2021-12-28 -0.008279 -0.005784  0.000116  0.001928\n",
       "2021-12-29 -0.000218  0.000502 -0.009519  0.000550\n",
       "2021-12-30 -0.003104 -0.006600  0.004132 -0.001376\n",
       "2021-12-31 -0.009266 -0.003542 -0.023535 -0.005338\n",
       "\n",
       "[1512 rows x 4 columns]"
      ]
     },
     "execution_count": 19,
     "metadata": {},
     "output_type": "execute_result"
    }
   ],
   "source": [
    "log_returns = np.log(stocks_data / stocks_data.shift(1)) # Same as 1 + stocks_data.pct_change()\n",
    "log_returns"
   ]
  },
  {
   "cell_type": "code",
   "execution_count": 20,
   "metadata": {},
   "outputs": [],
   "source": [
    "n = len(stocks_data.columns)"
   ]
  },
  {
   "cell_type": "code",
   "execution_count": 21,
   "metadata": {},
   "outputs": [],
   "source": [
    "def gen_weights(n):\n",
    "    weights = np.random.random(n)\n",
    "\n",
    "    return weights / np.sum(weights)"
   ]
  },
  {
   "cell_type": "code",
   "execution_count": 22,
   "metadata": {},
   "outputs": [],
   "source": [
    "def calculate_returns(weights, log_returns):\n",
    "    # Annual log Returns\n",
    "\n",
    "    return np.sum(log_returns.mean()*weights) * 252"
   ]
  },
  {
   "cell_type": "code",
   "execution_count": 23,
   "metadata": {},
   "outputs": [],
   "source": [
    "def calculate_volatility(weights, log_returns):\n",
    "    annualized_cov = np.dot(log_returns.cov()*252, weights)\n",
    "    vol = np.dot(weights.transpose(), annualized_cov)\n",
    "\n",
    "    return np.sqrt(vol)"
   ]
  },
  {
   "cell_type": "code",
   "execution_count": 24,
   "metadata": {},
   "outputs": [
    {
     "data": {
      "text/plain": [
       "0.24128961564319604"
      ]
     },
     "execution_count": 24,
     "metadata": {},
     "output_type": "execute_result"
    }
   ],
   "source": [
    "calculate_volatility(gen_weights(n), log_returns)"
   ]
  },
  {
   "cell_type": "code",
   "execution_count": 33,
   "metadata": {},
   "outputs": [],
   "source": [
    "mc_portfolio_returns = []\n",
    "mc_portfolio_vol = []\n",
    "mc_weights = []\n",
    "\n",
    "for sim in range(100000):\n",
    "\n",
    "    weights = gen_weights(n)\n",
    "    mc_weights.append(weights)\n",
    "\n",
    "    mc_portfolio_returns.append(calculate_returns(weights, log_returns))\n",
    "\n",
    "    mc_portfolio_vol.append(calculate_volatility(weights, log_returns))\n",
    "\n"
   ]
  },
  {
   "cell_type": "code",
   "execution_count": 34,
   "metadata": {},
   "outputs": [],
   "source": [
    "mc_sharpe_ratio = (np.array(mc_portfolio_returns) - 0 )/np.array(mc_portfolio_vol) # assuming rf =0"
   ]
  },
  {
   "cell_type": "code",
   "execution_count": 35,
   "metadata": {},
   "outputs": [
    {
     "data": {
      "image/png": "[encoded data removed]",
      "text/plain": [
       "<Figure size 720x360 with 2 Axes>"
      ]
     },
     "metadata": {
      "needs_background": "light"
     },
     "output_type": "display_data"
    }
   ],
   "source": [
    "plt.figure(figsize = (10,5))\n",
    "plt.scatter(mc_portfolio_vol, mc_portfolio_returns, c=mc_sharpe_ratio)\n",
    "plt.colorbar(label='Sharpe Ratio')\n",
    "plt.xlabel('Volatility')\n",
    "plt.ylabel('Returns')\n",
    "\n",
    "plt.show()\n"
   ]
  },
  {
   "cell_type": "code",
   "execution_count": 29,
   "metadata": {},
   "outputs": [
    {
     "data": {
      "text/plain": [
       "array([0.16347213, 0.80645206, 0.02601791, 0.00405789])"
      ]
     },
     "execution_count": 29,
     "metadata": {},
     "output_type": "execute_result"
    }
   ],
   "source": [
    "mc_weights[np.argmax(mc_sharpe_ratio)]\n"
   ]
  },
  {
   "cell_type": "markdown",
   "metadata": {},
   "source": [
    "['AAPL', 'ARKK', 'TSLA', 'AMZN', 'MSFT', 'GOOGL', 'JPM', 'NFLX']\n",
    "array([0.02920397, 0.02217007, 0.07986235, 0.40333344, 0.281858  ,\n",
    "       0.05538882, 0.04158916, 0.08659419])\n",
    "\n",
    "array([0.16056466, 0.0022723 , 0.11224832, 0.33140994, 0.16490515,\n",
    "       0.02462714, 0.02794456, 0.17602793])"
   ]
  },
  {
   "cell_type": "markdown",
   "metadata": {},
   "source": [
    "# ------------------------------"
   ]
  },
  {
   "cell_type": "code",
   "execution_count": null,
   "metadata": {},
   "outputs": [],
   "source": [
    "from scipy.optimize import minimize"
   ]
  },
  {
   "cell_type": "markdown",
   "metadata": {},
   "source": [
    "# Max SH"
   ]
  },
  {
   "cell_type": "code",
   "execution_count": null,
   "metadata": {},
   "outputs": [],
   "source": [
    "def function_to_minimize(weights):\n",
    "\n",
    "    # minimize a -1 * SR (that's how the math works here, but it is the same as maximizing SR)\n",
    "    return -1 * ((calculate_returns(weights, log_returns) - 0 )/calculate_volatility(weights, log_returns)) # assuming rf =0\n"
   ]
  },
  {
   "cell_type": "code",
   "execution_count": null,
   "metadata": {},
   "outputs": [],
   "source": [
    "bounds = tuple((0,1) for n in range(n))\n",
    "sum_constraint = ({'type': 'eq', 'fun': lambda weights: np.sum(weights)-1}) # Read the documentation for minimize for more details\n",
    "equal_weights = n * [1/n] #going to be our starting point then the function will look at either direction for minimum negative SG"
   ]
  },
  {
   "cell_type": "code",
   "execution_count": null,
   "metadata": {},
   "outputs": [],
   "source": [
    "results = minimize(fun=function_to_minimize,\n",
    "        x0=equal_weights,\n",
    "        bounds=bounds,\n",
    "        constraints=sum_constraint)"
   ]
  },
  {
   "cell_type": "code",
   "execution_count": null,
   "metadata": {},
   "outputs": [],
   "source": [
    "results"
   ]
  },
  {
   "cell_type": "code",
   "execution_count": null,
   "metadata": {},
   "outputs": [],
   "source": [
    "# weights for optimal portfolio using historical data SR\n",
    "results['x']\n",
    "p = 0\n",
    "for i in results['x']:\n",
    "    print('Put',(i*100).round(3), \"% in\", stocks_data.columns[p])\n",
    "    p += 1"
   ]
  },
  {
   "cell_type": "markdown",
   "metadata": {},
   "source": [
    "# Min Var for given return"
   ]
  },
  {
   "cell_type": "code",
   "execution_count": null,
   "metadata": {},
   "outputs": [],
   "source": [
    "required_return = 0.4"
   ]
  },
  {
   "cell_type": "code",
   "execution_count": null,
   "metadata": {},
   "outputs": [],
   "source": [
    "constraints = ({'type':'eq','fun': lambda weights: np.sum(weights)-1},\n",
    "               {'type':'eq','fun': lambda weights: calculate_returns(weights,log_returns) - required_return})"
   ]
  },
  {
   "cell_type": "code",
   "execution_count": null,
   "metadata": {},
   "outputs": [],
   "source": [
    "bounds = tuple((0,1) for n in range(n))\n",
    "equal_weights = n * [1/n] #going to be our starting point then the function will look at either direction for minimum negative SG"
   ]
  },
  {
   "cell_type": "code",
   "execution_count": null,
   "metadata": {},
   "outputs": [],
   "source": [
    "def calculate_vol(weights):\n",
    "    annualized_cov = np.dot(log_returns.cov()*252,weights)\n",
    "    vol = np.dot(weights.transpose(),annualized_cov)\n",
    "    return np.sqrt(vol)"
   ]
  },
  {
   "cell_type": "code",
   "execution_count": null,
   "metadata": {},
   "outputs": [],
   "source": [
    "result = minimize(fun=calculate_vol,x0=equal_weights,bounds=bounds,constraints=constraints)"
   ]
  },
  {
   "cell_type": "code",
   "execution_count": null,
   "metadata": {},
   "outputs": [],
   "source": [
    "result\n"
   ]
  },
  {
   "cell_type": "code",
   "execution_count": null,
   "metadata": {},
   "outputs": [],
   "source": [
    "min_var_weights = result['x']"
   ]
  },
  {
   "cell_type": "code",
   "execution_count": null,
   "metadata": {},
   "outputs": [],
   "source": [
    "min_var_weights"
   ]
  },
  {
   "cell_type": "code",
   "execution_count": null,
   "metadata": {},
   "outputs": [],
   "source": [
    "calculate_vol(min_var_weights)"
   ]
  },
  {
   "cell_type": "markdown",
   "metadata": {},
   "source": [
    "# Max return for given vol"
   ]
  },
  {
   "cell_type": "code",
   "execution_count": null,
   "metadata": {},
   "outputs": [],
   "source": [
    "required_vol = 0.4"
   ]
  },
  {
   "cell_type": "code",
   "execution_count": null,
   "metadata": {},
   "outputs": [],
   "source": [
    "constraints = ({'type':'eq','fun': lambda weights: np.sum(weights)-1},\n",
    "               {'type':'eq','fun': lambda weights: calculate_vol(weights) - required_vol})"
   ]
  },
  {
   "cell_type": "code",
   "execution_count": null,
   "metadata": {},
   "outputs": [],
   "source": [
    "bounds = tuple((0,1) for n in range(n))\n",
    "equal_weights = n * [1/n] #going to be our starting point then the function will look at either direction for minimum negative SG"
   ]
  },
  {
   "cell_type": "code",
   "execution_count": null,
   "metadata": {},
   "outputs": [],
   "source": [
    "def calculate_ret(weights):\n",
    "    # Annual log Returns\n",
    "\n",
    "    return -1 * np.sum(log_returns.mean()*weights) * 252"
   ]
  },
  {
   "cell_type": "code",
   "execution_count": null,
   "metadata": {},
   "outputs": [],
   "source": [
    "result = minimize(fun=calculate_ret,x0=equal_weights,bounds=bounds,constraints=constraints)"
   ]
  },
  {
   "cell_type": "code",
   "execution_count": null,
   "metadata": {},
   "outputs": [],
   "source": [
    "result"
   ]
  },
  {
   "cell_type": "code",
   "execution_count": null,
   "metadata": {},
   "outputs": [],
   "source": [
    "calculate_ret(result['x']) * -1"
   ]
  },
  {
   "cell_type": "markdown",
   "metadata": {},
   "source": []
  },
  {
   "cell_type": "code",
   "execution_count": null,
   "metadata": {},
   "outputs": [],
   "source": [
    "given_ret = 0.3\n",
    "given_vol = 0.4"
   ]
  },
  {
   "cell_type": "code",
   "execution_count": null,
   "metadata": {},
   "outputs": [],
   "source": [
    "constraints = ({'type':'eq','fun': lambda weights: np.sum(weights)-1},\n",
    "               {'type':'eq','fun': lambda weights: calculate_vol(weights) - given_vol},\n",
    "               {'type':'eq','fun': lambda weights: calculate_returns(weights,log_returns) - given_ret})"
   ]
  },
  {
   "cell_type": "code",
   "execution_count": null,
   "metadata": {},
   "outputs": [],
   "source": [
    "bounds = tuple((0,1) for n in range(n))\n",
    "equal_weights = n * [1/n] #going to be our starting point then the function will look at either direction for minimum negative SG"
   ]
  },
  {
   "cell_type": "code",
   "execution_count": null,
   "metadata": {},
   "outputs": [],
   "source": [
    "def function_to_minimize(weights):\n",
    "\n",
    "    # minimize a -1 * SR (that's how the math works here, but it is the same as maximizing SR)\n",
    "    return -1 * ((calculate_returns(weights, log_returns) - 0 )/calculate_volatility(weights, log_returns)) # assuming rf =0\n"
   ]
  },
  {
   "cell_type": "code",
   "execution_count": null,
   "metadata": {},
   "outputs": [],
   "source": [
    "results = minimize(fun=function_to_minimize,\n",
    "        x0=equal_weights,\n",
    "        bounds=bounds,\n",
    "        constraints=constraints)"
   ]
  },
  {
   "cell_type": "code",
   "execution_count": null,
   "metadata": {},
   "outputs": [],
   "source": [
    "results"
   ]
  },
  {
   "cell_type": "code",
   "execution_count": null,
   "metadata": {},
   "outputs": [],
   "source": []
  }
 ],
 "metadata": {
  "interpreter": {
   "hash": "7721351e5879682ba19781c9ae1e618cad7501e9e7e18d108f2dc9697e683748"
  },
  "kernelspec": {
   "display_name": "Python 3.9.7 64-bit ('base': conda)",
   "language": "python",
   "name": "python3"
  },
  "language_info": {
   "codemirror_mode": {
    "name": "ipython",
    "version": 3
   },
   "file_extension": ".py",
   "mimetype": "text/x-python",
   "name": "python",
   "nbconvert_exporter": "python",
   "pygments_lexer": "ipython3",
   "version": "3.9.7"
  },
  "orig_nbformat": 4
 },
 "nbformat": 4,
 "nbformat_minor": 2
}
