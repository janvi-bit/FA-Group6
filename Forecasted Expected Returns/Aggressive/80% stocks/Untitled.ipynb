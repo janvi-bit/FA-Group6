{
 "cells": [
  {
   "cell_type": "code",
   "execution_count": 1,
   "id": "7fb859f4",
   "metadata": {},
   "outputs": [],
   "source": [
    "import pandas as pd"
   ]
  },
  {
   "cell_type": "code",
   "execution_count": 2,
   "id": "74f433e7",
   "metadata": {},
   "outputs": [],
   "source": [
    "stocks = pd.read_csv('adjusted_sharpe05/stocks_80%.csv')"
   ]
  },
  {
   "cell_type": "code",
   "execution_count": 3,
   "id": "64fc64cf",
   "metadata": {},
   "outputs": [],
   "source": [
    "bonds = pd.read_csv('adjusted_sharpe05/bond_80%.csv')"
   ]
  },
  {
   "cell_type": "code",
   "execution_count": 9,
   "id": "c878f96d",
   "metadata": {},
   "outputs": [],
   "source": [
    "stock_list = []\n",
    "\n",
    "for s in stocks['0']:\n",
    "    stock_list.append(s)"
   ]
  },
  {
   "cell_type": "code",
   "execution_count": 10,
   "id": "75b2bcb4",
   "metadata": {},
   "outputs": [],
   "source": [
    "bond_list = []\n",
    "\n",
    "for b in bonds['0']:\n",
    "    bond_list.append(b)"
   ]
  },
  {
   "cell_type": "code",
   "execution_count": 11,
   "id": "0c3ab3b3",
   "metadata": {},
   "outputs": [
    {
     "name": "stdout",
     "output_type": "stream",
     "text": [
      "[[ 7.27703764e-03 -2.10931534e+01]\n",
      " [-2.10931534e+01  1.59754020e+05]]\n"
     ]
    }
   ],
   "source": [
    "# Python code to demonstrate the\n",
    "# use of numpy.cov\n",
    "import numpy as np\n",
    "\n",
    "# find out covariance with respect columns\n",
    "cov_mat = np.stack((bond_list, stock_list), axis = 0)\n",
    "\n",
    "print(np.cov(cov_mat))\n"
   ]
  },
  {
   "cell_type": "code",
   "execution_count": null,
   "id": "b50eb2b2",
   "metadata": {},
   "outputs": [],
   "source": []
  },
  {
   "cell_type": "code",
   "execution_count": null,
   "id": "d9155ab8",
   "metadata": {},
   "outputs": [],
   "source": []
  }
 ],
 "metadata": {
  "kernelspec": {
   "display_name": "Python 3 (ipykernel)",
   "language": "python",
   "name": "python3"
  },
  "language_info": {
   "codemirror_mode": {
    "name": "ipython",
    "version": 3
   },
   "file_extension": ".py",
   "mimetype": "text/x-python",
   "name": "python",
   "nbconvert_exporter": "python",
   "pygments_lexer": "ipython3",
   "version": "3.8.8"
  }
 },
 "nbformat": 4,
 "nbformat_minor": 5
}
