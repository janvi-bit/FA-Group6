{
 "cells": [
  {
   "cell_type": "code",
   "execution_count": 1,
   "id": "1fa33134",
   "metadata": {},
   "outputs": [],
   "source": [
    "# Provides ways to work with large multidimensional arrays\n",
    "import numpy as np \n",
    "# Allows for further data manipulation and analysis\n",
    "import pandas as pd\n",
    "from pandas_datareader import data # Reads stock data \n",
    "import matplotlib.pyplot as plt # Plotting\n",
    "import matplotlib.dates as mdates # Styling dates\n",
    "%matplotlib inline\n",
    "\n",
    "import datetime as dt # For defining dates\n",
    "# import mplfinance as mpf # Matplotlib finance\n",
    "\n",
    "import time\n",
    "\n",
    "# Used to get data from a directory\n",
    "import os\n",
    "from os import listdir\n",
    "from os.path import isfile, join\n",
    "\n",
    "#Statsmodels is a great library we can use to run regressions.\n",
    "import statsmodels.api as sm\n",
    "# Seaborn extends the capabilities of Matplotlib\n",
    "import seaborn as sns\n",
    "# Used for calculating regressions\n",
    "from statsmodels.tsa.ar_model import AutoReg, ar_select_order"
   ]
  },
  {
   "cell_type": "code",
   "execution_count": 2,
   "id": "9a276eb3",
   "metadata": {},
   "outputs": [],
   "source": [
    "#change the tickers here according to what's in the portfolio\n",
    "tickers = ['^FVX']\n",
    "\n",
    "start_date = '2017-01-01'\n",
    "end_date = '2022-01-01'\n",
    "\n",
    "panel_data = data.DataReader(tickers,'yahoo', start_date, end_date)"
   ]
  },
  {
   "cell_type": "code",
   "execution_count": 3,
   "id": "4f3d4af8",
   "metadata": {},
   "outputs": [
    {
     "name": "stdout",
     "output_type": "stream",
     "text": [
      "<class 'pandas.core.frame.DataFrame'>\n",
      "DatetimeIndex: 1259 entries, 2017-01-03 to 2021-12-31\n",
      "Data columns (total 1 columns):\n",
      " #   Column  Non-Null Count  Dtype  \n",
      "---  ------  --------------  -----  \n",
      " 0   ^FVX    1259 non-null   float64\n",
      "dtypes: float64(1)\n",
      "memory usage: 19.7 KB\n"
     ]
    }
   ],
   "source": [
    "#check that all stocks have the same amount of data otherwise change the date range\n",
    "\n",
    "adj_close = panel_data['Adj Close']\n",
    "adj_close.info()"
   ]
  },
  {
   "cell_type": "markdown",
   "id": "7319d3ec",
   "metadata": {},
   "source": [
    "## Function that saves dataframe to CSV"
   ]
  },
  {
   "cell_type": "code",
   "execution_count": 4,
   "id": "8b45faf4",
   "metadata": {},
   "outputs": [],
   "source": [
    "def save_dataframe_to_csv(kind, df, ticker):\n",
    "    df.to_csv(kind + ticker + '.csv')"
   ]
  },
  {
   "cell_type": "code",
   "execution_count": 5,
   "id": "54578537",
   "metadata": {},
   "outputs": [],
   "source": [
    "# for ticker in tickers:\n",
    "#     panel_data = data.DataReader(ticker,'yahoo', start_date, end_date)\n",
    "# #     close = panel_data['Close']\n",
    "#     adj_close = panel_data['Adj Close']\n",
    "#     save_dataframe_to_csv('adj_close', adj_close, ticker)"
   ]
  },
  {
   "cell_type": "markdown",
   "id": "ce23550c",
   "metadata": {},
   "source": [
    "## Function that returns dataframe from a CSV"
   ]
  },
  {
   "cell_type": "code",
   "execution_count": 6,
   "id": "b7813fb8",
   "metadata": {},
   "outputs": [],
   "source": [
    "def get_df_from_csv(kind, ticker):\n",
    "    try:\n",
    "        df = pd.read_csv(kind + ticker + '.csv', index_col='Date', \n",
    "                         parse_dates=True)\n",
    "    except FileNotFoundError:\n",
    "        pass\n",
    "        # print(\"File Doesn't Exist\")\n",
    "    else:\n",
    "        return df"
   ]
  },
  {
   "cell_type": "markdown",
   "id": "95bfa21c",
   "metadata": {},
   "source": [
    "## Add Daily Return to dataframe"
   ]
  },
  {
   "cell_type": "code",
   "execution_count": 7,
   "id": "b5a7fdd4",
   "metadata": {},
   "outputs": [],
   "source": [
    "def add_daily_return_to_df(kind, df, ticker):\n",
    "    df['daily_return'] = (df['Adj Close'] / df['Adj Close'].shift(1)) - 1\n",
    "    # Save data to a CSV file\n",
    "    save_dataframe_to_csv(kind, df, ticker)\n",
    "    return df"
   ]
  },
  {
   "cell_type": "code",
   "execution_count": 8,
   "id": "58358b7c",
   "metadata": {},
   "outputs": [],
   "source": [
    "for ticker in tickers:\n",
    "    df = get_df_from_csv('adj_close', ticker)\n",
    "    add_daily_return_to_df('adj_close', df, ticker)"
   ]
  },
  {
   "cell_type": "markdown",
   "id": "4b8949ca",
   "metadata": {},
   "source": [
    "## Merge multiple stocks in one dataframe by col name"
   ]
  },
  {
   "cell_type": "code",
   "execution_count": 9,
   "id": "f3ae17b3",
   "metadata": {},
   "outputs": [],
   "source": [
    "def merge_df_by_column_name(col_name, sdate, edate, *tickers):\n",
    "    # Will hold data for all dataframes with the same column name\n",
    "    mult_df = pd.DataFrame()\n",
    "    \n",
    "    for x in tickers:\n",
    "        df = get_df_from_csv('adj_close', x)\n",
    "        \n",
    "        # NEW Check if your dataframe has duplicate indexes\n",
    "        if not df.index.is_unique:\n",
    "            # Delete duplicates \n",
    "            df = df.loc[~df.index.duplicated(), :]\n",
    "        \n",
    "        mask = (df.index >= sdate) & (df.index <= edate)\n",
    "        mult_df[x] = df.loc[mask][col_name]\n",
    "        \n",
    "    return mult_df"
   ]
  },
  {
   "cell_type": "markdown",
   "id": "f81c3f92",
   "metadata": {},
   "source": [
    "## Get stock prices on date"
   ]
  },
  {
   "cell_type": "code",
   "execution_count": 10,
   "id": "bbff9b57",
   "metadata": {},
   "outputs": [],
   "source": [
    "def get_prices_on_date(stocks_df, date):\n",
    "    return stocks_df.loc[pd.DatetimeIndex([date])]['Adj Close'].item()"
   ]
  },
  {
   "cell_type": "markdown",
   "id": "f00c8443",
   "metadata": {},
   "source": [
    "## Returns the value of portfolio by date"
   ]
  },
  {
   "cell_type": "code",
   "execution_count": 11,
   "id": "56289d03",
   "metadata": {},
   "outputs": [],
   "source": [
    "def get_port_val_by_date(date, shares, tickers):\n",
    "    port_prices = merge_df_by_column_name('Adj Close',  date, date, *port_list)\n",
    "    # Convert from dataframe to Python list\n",
    "    port_prices = port_prices.values.tolist()\n",
    "    # Trick that converts a list of lists into a single list\n",
    "    port_prices = sum(port_prices, [])\n",
    "    \n",
    "    # Create a list of values by multiplying shares by price\n",
    "    value_list = []\n",
    "    for price, share in zip(port_prices, shares):\n",
    "        value_list.append(price * share)\n",
    "    \n",
    "    return sum(value_list)"
   ]
  },
  {
   "cell_type": "markdown",
   "id": "ab0bbdf5",
   "metadata": {},
   "source": [
    "## Find Daily Return for Whole Portfolio"
   ]
  },
  {
   "cell_type": "code",
   "execution_count": 12,
   "id": "bf49f6b9",
   "metadata": {},
   "outputs": [],
   "source": [
    "def get_port_daily_return(sdate, edate, shares, tickers):\n",
    "    # Merge all daily prices for all stocks into 1 dataframe\n",
    "    mult_df = merge_df_by_column_name('Adj Close',  sdate, \n",
    "                                  edate, *port_list)\n",
    "    \n",
    "    # Get the number of stocks in portfolio\n",
    "    num_cols = len(mult_df.columns)\n",
    "    \n",
    "    # Multiply each stock column by the number of shares\n",
    "    i = 0\n",
    "    while i < num_cols:\n",
    "        mult_df[tickers[i]] = mult_df[tickers[i]].apply(lambda x: x * shares[i])\n",
    "        i += 1\n",
    "        \n",
    "    # Create a new column with the sums of all stocks named Total\n",
    "    mult_df['Total'] = mult_df.iloc[:, 0:num_cols].sum(axis=1)\n",
    "    \n",
    "    # Add column for portfolio daily return\n",
    "    mult_df['daily_return'] = (mult_df['Total'] / mult_df['Total'].shift(1)) - 1\n",
    "    \n",
    "    return mult_df"
   ]
  },
  {
   "cell_type": "code",
   "execution_count": 13,
   "id": "0eed11dd",
   "metadata": {},
   "outputs": [
    {
     "data": {
      "text/html": [
       "<div>\n",
       "<style scoped>\n",
       "    .dataframe tbody tr th:only-of-type {\n",
       "        vertical-align: middle;\n",
       "    }\n",
       "\n",
       "    .dataframe tbody tr th {\n",
       "        vertical-align: top;\n",
       "    }\n",
       "\n",
       "    .dataframe thead th {\n",
       "        text-align: right;\n",
       "    }\n",
       "</style>\n",
       "<table border=\"1\" class=\"dataframe\">\n",
       "  <thead>\n",
       "    <tr style=\"text-align: right;\">\n",
       "      <th></th>\n",
       "      <th>^FVX</th>\n",
       "      <th>Total</th>\n",
       "      <th>daily_return</th>\n",
       "    </tr>\n",
       "    <tr>\n",
       "      <th>Date</th>\n",
       "      <th></th>\n",
       "      <th></th>\n",
       "      <th></th>\n",
       "    </tr>\n",
       "  </thead>\n",
       "  <tbody>\n",
       "    <tr>\n",
       "      <th>2017-01-03</th>\n",
       "      <td>0.3888</td>\n",
       "      <td>0.3888</td>\n",
       "      <td>NaN</td>\n",
       "    </tr>\n",
       "    <tr>\n",
       "      <th>2017-01-04</th>\n",
       "      <td>0.3894</td>\n",
       "      <td>0.3894</td>\n",
       "      <td>0.001543</td>\n",
       "    </tr>\n",
       "    <tr>\n",
       "      <th>2017-01-05</th>\n",
       "      <td>0.3726</td>\n",
       "      <td>0.3726</td>\n",
       "      <td>-0.043143</td>\n",
       "    </tr>\n",
       "    <tr>\n",
       "      <th>2017-01-06</th>\n",
       "      <td>0.3844</td>\n",
       "      <td>0.3844</td>\n",
       "      <td>0.031669</td>\n",
       "    </tr>\n",
       "    <tr>\n",
       "      <th>2017-01-09</th>\n",
       "      <td>0.3762</td>\n",
       "      <td>0.3762</td>\n",
       "      <td>-0.021332</td>\n",
       "    </tr>\n",
       "    <tr>\n",
       "      <th>...</th>\n",
       "      <td>...</td>\n",
       "      <td>...</td>\n",
       "      <td>...</td>\n",
       "    </tr>\n",
       "    <tr>\n",
       "      <th>2021-12-27</th>\n",
       "      <td>0.2504</td>\n",
       "      <td>0.2504</td>\n",
       "      <td>0.007241</td>\n",
       "    </tr>\n",
       "    <tr>\n",
       "      <th>2021-12-28</th>\n",
       "      <td>0.2490</td>\n",
       "      <td>0.2490</td>\n",
       "      <td>-0.005591</td>\n",
       "    </tr>\n",
       "    <tr>\n",
       "      <th>2021-12-29</th>\n",
       "      <td>0.2588</td>\n",
       "      <td>0.2588</td>\n",
       "      <td>0.039357</td>\n",
       "    </tr>\n",
       "    <tr>\n",
       "      <th>2021-12-30</th>\n",
       "      <td>0.2548</td>\n",
       "      <td>0.2548</td>\n",
       "      <td>-0.015456</td>\n",
       "    </tr>\n",
       "    <tr>\n",
       "      <th>2021-12-31</th>\n",
       "      <td>0.2526</td>\n",
       "      <td>0.2526</td>\n",
       "      <td>-0.008634</td>\n",
       "    </tr>\n",
       "  </tbody>\n",
       "</table>\n",
       "<p>1259 rows × 3 columns</p>\n",
       "</div>"
      ],
      "text/plain": [
       "              ^FVX   Total  daily_return\n",
       "Date                                    \n",
       "2017-01-03  0.3888  0.3888           NaN\n",
       "2017-01-04  0.3894  0.3894      0.001543\n",
       "2017-01-05  0.3726  0.3726     -0.043143\n",
       "2017-01-06  0.3844  0.3844      0.031669\n",
       "2017-01-09  0.3762  0.3762     -0.021332\n",
       "...            ...     ...           ...\n",
       "2021-12-27  0.2504  0.2504      0.007241\n",
       "2021-12-28  0.2490  0.2490     -0.005591\n",
       "2021-12-29  0.2588  0.2588      0.039357\n",
       "2021-12-30  0.2548  0.2548     -0.015456\n",
       "2021-12-31  0.2526  0.2526     -0.008634\n",
       "\n",
       "[1259 rows x 3 columns]"
      ]
     },
     "execution_count": 13,
     "metadata": {},
     "output_type": "execute_result"
    }
   ],
   "source": [
    "#change to the list of stocks we using\n",
    "port_list = ['^FVX']\n",
    "\n",
    "#add in the weightage of stocks\n",
    "port_shares = [0.2]\n",
    "\n",
    "# tot_port_df = get_port_daily_return('2020-01-02', '2020-12-31', \n",
    "#                                     port_shares, port_list)\n",
    "\n",
    "#change the dates according to what you put on top\n",
    "tot_port_df = get_port_daily_return('2017-01-01', '2022-01-01', port_shares, port_list)\n",
    "tot_port_df"
   ]
  },
  {
   "cell_type": "markdown",
   "id": "cccccca0",
   "metadata": {},
   "source": [
    "## Get old data for portfolio"
   ]
  },
  {
   "cell_type": "code",
   "execution_count": 14,
   "id": "5d9a6fe0",
   "metadata": {},
   "outputs": [
    {
     "data": {
      "text/html": [
       "<div>\n",
       "<style scoped>\n",
       "    .dataframe tbody tr th:only-of-type {\n",
       "        vertical-align: middle;\n",
       "    }\n",
       "\n",
       "    .dataframe tbody tr th {\n",
       "        vertical-align: top;\n",
       "    }\n",
       "\n",
       "    .dataframe thead th {\n",
       "        text-align: right;\n",
       "    }\n",
       "</style>\n",
       "<table border=\"1\" class=\"dataframe\">\n",
       "  <thead>\n",
       "    <tr style=\"text-align: right;\">\n",
       "      <th></th>\n",
       "      <th>^FVX</th>\n",
       "      <th>Total</th>\n",
       "      <th>daily_return</th>\n",
       "    </tr>\n",
       "    <tr>\n",
       "      <th>Date</th>\n",
       "      <th></th>\n",
       "      <th></th>\n",
       "      <th></th>\n",
       "    </tr>\n",
       "  </thead>\n",
       "  <tbody>\n",
       "    <tr>\n",
       "      <th>2017-01-03</th>\n",
       "      <td>0.3888</td>\n",
       "      <td>0.3888</td>\n",
       "      <td>NaN</td>\n",
       "    </tr>\n",
       "    <tr>\n",
       "      <th>2017-01-04</th>\n",
       "      <td>0.3894</td>\n",
       "      <td>0.3894</td>\n",
       "      <td>0.001543</td>\n",
       "    </tr>\n",
       "    <tr>\n",
       "      <th>2017-01-05</th>\n",
       "      <td>0.3726</td>\n",
       "      <td>0.3726</td>\n",
       "      <td>-0.043143</td>\n",
       "    </tr>\n",
       "    <tr>\n",
       "      <th>2017-01-06</th>\n",
       "      <td>0.3844</td>\n",
       "      <td>0.3844</td>\n",
       "      <td>0.031669</td>\n",
       "    </tr>\n",
       "    <tr>\n",
       "      <th>2017-01-09</th>\n",
       "      <td>0.3762</td>\n",
       "      <td>0.3762</td>\n",
       "      <td>-0.021332</td>\n",
       "    </tr>\n",
       "    <tr>\n",
       "      <th>...</th>\n",
       "      <td>...</td>\n",
       "      <td>...</td>\n",
       "      <td>...</td>\n",
       "    </tr>\n",
       "    <tr>\n",
       "      <th>2021-12-27</th>\n",
       "      <td>0.2504</td>\n",
       "      <td>0.2504</td>\n",
       "      <td>0.007241</td>\n",
       "    </tr>\n",
       "    <tr>\n",
       "      <th>2021-12-28</th>\n",
       "      <td>0.2490</td>\n",
       "      <td>0.2490</td>\n",
       "      <td>-0.005591</td>\n",
       "    </tr>\n",
       "    <tr>\n",
       "      <th>2021-12-29</th>\n",
       "      <td>0.2588</td>\n",
       "      <td>0.2588</td>\n",
       "      <td>0.039357</td>\n",
       "    </tr>\n",
       "    <tr>\n",
       "      <th>2021-12-30</th>\n",
       "      <td>0.2548</td>\n",
       "      <td>0.2548</td>\n",
       "      <td>-0.015456</td>\n",
       "    </tr>\n",
       "    <tr>\n",
       "      <th>2021-12-31</th>\n",
       "      <td>0.2526</td>\n",
       "      <td>0.2526</td>\n",
       "      <td>-0.008634</td>\n",
       "    </tr>\n",
       "  </tbody>\n",
       "</table>\n",
       "<p>1259 rows × 3 columns</p>\n",
       "</div>"
      ],
      "text/plain": [
       "              ^FVX   Total  daily_return\n",
       "Date                                    \n",
       "2017-01-03  0.3888  0.3888           NaN\n",
       "2017-01-04  0.3894  0.3894      0.001543\n",
       "2017-01-05  0.3726  0.3726     -0.043143\n",
       "2017-01-06  0.3844  0.3844      0.031669\n",
       "2017-01-09  0.3762  0.3762     -0.021332\n",
       "...            ...     ...           ...\n",
       "2021-12-27  0.2504  0.2504      0.007241\n",
       "2021-12-28  0.2490  0.2490     -0.005591\n",
       "2021-12-29  0.2588  0.2588      0.039357\n",
       "2021-12-30  0.2548  0.2548     -0.015456\n",
       "2021-12-31  0.2526  0.2526     -0.008634\n",
       "\n",
       "[1259 rows x 3 columns]"
      ]
     },
     "execution_count": 14,
     "metadata": {},
     "output_type": "execute_result"
    }
   ],
   "source": [
    "#change the dates according to what you put on top\n",
    "tot_port_df = get_port_daily_return('2017-01-01', '2022-01-01', \n",
    "                                    port_shares, port_list)\n",
    "tot_port_df"
   ]
  },
  {
   "cell_type": "markdown",
   "id": "a089ecc3",
   "metadata": {},
   "source": [
    "## Forecasting"
   ]
  },
  {
   "cell_type": "code",
   "execution_count": 15,
   "id": "0b6871ba",
   "metadata": {},
   "outputs": [
    {
     "data": {
      "text/plain": [
       "DatetimeIndex(['2017-01-03', '2017-01-04', '2017-01-05', '2017-01-06',\n",
       "               '2017-01-07', '2017-01-08', '2017-01-09', '2017-01-10',\n",
       "               '2017-01-11', '2017-01-12',\n",
       "               ...\n",
       "               '2021-12-22', '2021-12-23', '2021-12-24', '2021-12-25',\n",
       "               '2021-12-26', '2021-12-27', '2021-12-28', '2021-12-29',\n",
       "               '2021-12-30', '2021-12-31'],\n",
       "              dtype='datetime64[ns]', name='Date', length=1824, freq='D')"
      ]
     },
     "execution_count": 15,
     "metadata": {},
     "output_type": "execute_result"
    }
   ],
   "source": [
    "tot_port_df = tot_port_df.asfreq('d')\n",
    "tot_port_df.index"
   ]
  },
  {
   "cell_type": "code",
   "execution_count": 16,
   "id": "6277673e",
   "metadata": {},
   "outputs": [],
   "source": [
    "# Delete NaNs for nontrading days\n",
    "tot_port_df = tot_port_df.fillna(method='ffill')"
   ]
  },
  {
   "cell_type": "code",
   "execution_count": 17,
   "id": "9ce7f58f",
   "metadata": {},
   "outputs": [
    {
     "data": {
      "text/html": [
       "<div>\n",
       "<style scoped>\n",
       "    .dataframe tbody tr th:only-of-type {\n",
       "        vertical-align: middle;\n",
       "    }\n",
       "\n",
       "    .dataframe tbody tr th {\n",
       "        vertical-align: top;\n",
       "    }\n",
       "\n",
       "    .dataframe thead th {\n",
       "        text-align: right;\n",
       "    }\n",
       "</style>\n",
       "<table border=\"1\" class=\"dataframe\">\n",
       "  <thead>\n",
       "    <tr style=\"text-align: right;\">\n",
       "      <th></th>\n",
       "      <th>^FVX</th>\n",
       "      <th>Total</th>\n",
       "      <th>daily_return</th>\n",
       "    </tr>\n",
       "    <tr>\n",
       "      <th>Date</th>\n",
       "      <th></th>\n",
       "      <th></th>\n",
       "      <th></th>\n",
       "    </tr>\n",
       "  </thead>\n",
       "  <tbody>\n",
       "    <tr>\n",
       "      <th>2017-01-03</th>\n",
       "      <td>0.3888</td>\n",
       "      <td>0.3888</td>\n",
       "      <td>NaN</td>\n",
       "    </tr>\n",
       "    <tr>\n",
       "      <th>2017-01-04</th>\n",
       "      <td>0.3894</td>\n",
       "      <td>0.3894</td>\n",
       "      <td>0.001543</td>\n",
       "    </tr>\n",
       "    <tr>\n",
       "      <th>2017-01-05</th>\n",
       "      <td>0.3726</td>\n",
       "      <td>0.3726</td>\n",
       "      <td>-0.043143</td>\n",
       "    </tr>\n",
       "    <tr>\n",
       "      <th>2017-01-06</th>\n",
       "      <td>0.3844</td>\n",
       "      <td>0.3844</td>\n",
       "      <td>0.031669</td>\n",
       "    </tr>\n",
       "    <tr>\n",
       "      <th>2017-01-07</th>\n",
       "      <td>0.3844</td>\n",
       "      <td>0.3844</td>\n",
       "      <td>0.031669</td>\n",
       "    </tr>\n",
       "    <tr>\n",
       "      <th>...</th>\n",
       "      <td>...</td>\n",
       "      <td>...</td>\n",
       "      <td>...</td>\n",
       "    </tr>\n",
       "    <tr>\n",
       "      <th>2021-12-27</th>\n",
       "      <td>0.2504</td>\n",
       "      <td>0.2504</td>\n",
       "      <td>0.007241</td>\n",
       "    </tr>\n",
       "    <tr>\n",
       "      <th>2021-12-28</th>\n",
       "      <td>0.2490</td>\n",
       "      <td>0.2490</td>\n",
       "      <td>-0.005591</td>\n",
       "    </tr>\n",
       "    <tr>\n",
       "      <th>2021-12-29</th>\n",
       "      <td>0.2588</td>\n",
       "      <td>0.2588</td>\n",
       "      <td>0.039357</td>\n",
       "    </tr>\n",
       "    <tr>\n",
       "      <th>2021-12-30</th>\n",
       "      <td>0.2548</td>\n",
       "      <td>0.2548</td>\n",
       "      <td>-0.015456</td>\n",
       "    </tr>\n",
       "    <tr>\n",
       "      <th>2021-12-31</th>\n",
       "      <td>0.2526</td>\n",
       "      <td>0.2526</td>\n",
       "      <td>-0.008634</td>\n",
       "    </tr>\n",
       "  </tbody>\n",
       "</table>\n",
       "<p>1824 rows × 3 columns</p>\n",
       "</div>"
      ],
      "text/plain": [
       "              ^FVX   Total  daily_return\n",
       "Date                                    \n",
       "2017-01-03  0.3888  0.3888           NaN\n",
       "2017-01-04  0.3894  0.3894      0.001543\n",
       "2017-01-05  0.3726  0.3726     -0.043143\n",
       "2017-01-06  0.3844  0.3844      0.031669\n",
       "2017-01-07  0.3844  0.3844      0.031669\n",
       "...            ...     ...           ...\n",
       "2021-12-27  0.2504  0.2504      0.007241\n",
       "2021-12-28  0.2490  0.2490     -0.005591\n",
       "2021-12-29  0.2588  0.2588      0.039357\n",
       "2021-12-30  0.2548  0.2548     -0.015456\n",
       "2021-12-31  0.2526  0.2526     -0.008634\n",
       "\n",
       "[1824 rows x 3 columns]"
      ]
     },
     "execution_count": 17,
     "metadata": {},
     "output_type": "execute_result"
    }
   ],
   "source": [
    "tot_port_df"
   ]
  },
  {
   "cell_type": "code",
   "execution_count": 18,
   "id": "6926760f",
   "metadata": {},
   "outputs": [],
   "source": [
    "# Delete all unneeded columns - basically delete all except Total\n",
    "del_col = ['^FVX', \"daily_return\"]\n",
    "\n",
    "for x in del_col:\n",
    "    tot_port_df = tot_port_df.drop([x], axis=1)"
   ]
  },
  {
   "cell_type": "code",
   "execution_count": 19,
   "id": "4532b6e4",
   "metadata": {},
   "outputs": [
    {
     "data": {
      "text/html": [
       "<div>\n",
       "<style scoped>\n",
       "    .dataframe tbody tr th:only-of-type {\n",
       "        vertical-align: middle;\n",
       "    }\n",
       "\n",
       "    .dataframe tbody tr th {\n",
       "        vertical-align: top;\n",
       "    }\n",
       "\n",
       "    .dataframe thead th {\n",
       "        text-align: right;\n",
       "    }\n",
       "</style>\n",
       "<table border=\"1\" class=\"dataframe\">\n",
       "  <thead>\n",
       "    <tr style=\"text-align: right;\">\n",
       "      <th></th>\n",
       "      <th>Total</th>\n",
       "    </tr>\n",
       "    <tr>\n",
       "      <th>Date</th>\n",
       "      <th></th>\n",
       "    </tr>\n",
       "  </thead>\n",
       "  <tbody>\n",
       "    <tr>\n",
       "      <th>2017-01-03</th>\n",
       "      <td>0.3888</td>\n",
       "    </tr>\n",
       "    <tr>\n",
       "      <th>2017-01-04</th>\n",
       "      <td>0.3894</td>\n",
       "    </tr>\n",
       "    <tr>\n",
       "      <th>2017-01-05</th>\n",
       "      <td>0.3726</td>\n",
       "    </tr>\n",
       "    <tr>\n",
       "      <th>2017-01-06</th>\n",
       "      <td>0.3844</td>\n",
       "    </tr>\n",
       "    <tr>\n",
       "      <th>2017-01-07</th>\n",
       "      <td>0.3844</td>\n",
       "    </tr>\n",
       "    <tr>\n",
       "      <th>...</th>\n",
       "      <td>...</td>\n",
       "    </tr>\n",
       "    <tr>\n",
       "      <th>2021-12-27</th>\n",
       "      <td>0.2504</td>\n",
       "    </tr>\n",
       "    <tr>\n",
       "      <th>2021-12-28</th>\n",
       "      <td>0.2490</td>\n",
       "    </tr>\n",
       "    <tr>\n",
       "      <th>2021-12-29</th>\n",
       "      <td>0.2588</td>\n",
       "    </tr>\n",
       "    <tr>\n",
       "      <th>2021-12-30</th>\n",
       "      <td>0.2548</td>\n",
       "    </tr>\n",
       "    <tr>\n",
       "      <th>2021-12-31</th>\n",
       "      <td>0.2526</td>\n",
       "    </tr>\n",
       "  </tbody>\n",
       "</table>\n",
       "<p>1824 rows × 1 columns</p>\n",
       "</div>"
      ],
      "text/plain": [
       "             Total\n",
       "Date              \n",
       "2017-01-03  0.3888\n",
       "2017-01-04  0.3894\n",
       "2017-01-05  0.3726\n",
       "2017-01-06  0.3844\n",
       "2017-01-07  0.3844\n",
       "...            ...\n",
       "2021-12-27  0.2504\n",
       "2021-12-28  0.2490\n",
       "2021-12-29  0.2588\n",
       "2021-12-30  0.2548\n",
       "2021-12-31  0.2526\n",
       "\n",
       "[1824 rows x 1 columns]"
      ]
     },
     "execution_count": 19,
     "metadata": {},
     "output_type": "execute_result"
    }
   ],
   "source": [
    "tot_port_df"
   ]
  },
  {
   "cell_type": "code",
   "execution_count": 20,
   "id": "437a70a8",
   "metadata": {},
   "outputs": [
    {
     "name": "stderr",
     "output_type": "stream",
     "text": [
      "/opt/anaconda3/lib/python3.8/site-packages/statsmodels/tsa/ar_model.py:248: FutureWarning: The parameter names will change after 0.12 is released. Set old_names to False to use the new names now. Set old_names to True to use the old names. \n",
      "  warnings.warn(\n",
      "/opt/anaconda3/lib/python3.8/site-packages/statsmodels/tsa/ar_model.py:248: FutureWarning: The parameter names will change after 0.12 is released. Set old_names to False to use the new names now. Set old_names to True to use the old names. \n",
      "  warnings.warn(\n",
      "/opt/anaconda3/lib/python3.8/site-packages/statsmodels/tsa/ar_model.py:248: FutureWarning: The parameter names will change after 0.12 is released. Set old_names to False to use the new names now. Set old_names to True to use the old names. \n",
      "  warnings.warn(\n",
      "/opt/anaconda3/lib/python3.8/site-packages/statsmodels/tsa/ar_model.py:248: FutureWarning: The parameter names will change after 0.12 is released. Set old_names to False to use the new names now. Set old_names to True to use the old names. \n",
      "  warnings.warn(\n"
     ]
    },
    {
     "name": "stdout",
     "output_type": "stream",
     "text": [
      "Lags : [1]\n",
      "Observations : 1824\n"
     ]
    },
    {
     "data": {
      "image/png": "[encoded data removed]",
      "text/plain": [
       "<Figure size 1368x936 with 1 Axes>"
      ]
     },
     "metadata": {},
     "output_type": "display_data"
    }
   ],
   "source": [
    "# Set style for seaborn plot\n",
    "sns.set_style('darkgrid')\n",
    "# Add automatic datetime converters\n",
    "pd.plotting.register_matplotlib_converters()\n",
    "# Default figure size\n",
    "sns.mpl.rc('figure',figsize=(19, 13))\n",
    "\n",
    "# Set fig and ax\n",
    "fig, ax = plt.subplots()\n",
    "\n",
    "# Figure out optimum lags for this data set\n",
    "lags = ar_select_order(tot_port_df, maxlag=30)\n",
    "print(\"Lags :\", lags.ar_lags)\n",
    "\n",
    "# Create our model using whole data set\n",
    "model = AutoReg(tot_port_df['Total'], lags.ar_lags)\n",
    "model_fit = model.fit()\n",
    "\n",
    "# Define training and testing area\n",
    "print(\"Observations :\", len(tot_port_df)) # 1095 observations\n",
    "\n",
    "train_df = tot_port_df.iloc[0:1459] # First 80% \n",
    "test_df = tot_port_df.iloc[1459:] # Last 20%\n",
    "\n",
    "# Define training model for 459 days (Play with Number & Test)\n",
    "# and White's covariance estimator\n",
    "train_model = AutoReg(tot_port_df['Total'], 459).fit(cov_type=\"HC0\")\n",
    "\n",
    "# # Define start and end for prediction \n",
    "start = len(train_df)\n",
    "end = len(train_df) + len(test_df) - 1\n",
    "\n",
    "prediction = train_model.predict(start=start, end=end, dynamic=True)\n",
    "\n",
    "# Plot testing data with prediction\n",
    "ax = test_df.plot(ax=ax) # blue\n",
    "ax = prediction.plot(ax=ax) # orange\n",
    "\n",
    "# Predict 60 days into the future\n",
    "forecast = train_model.predict(start=end, end=end+1260, dynamic=True)\n",
    "ax = forecast.plot(ax=ax) # Green"
   ]
  },
  {
   "cell_type": "markdown",
   "id": "8bc39d00",
   "metadata": {},
   "source": [
    "## Calculate annualized returns for forecasted"
   ]
  },
  {
   "cell_type": "code",
   "execution_count": 21,
   "id": "3506e19e",
   "metadata": {},
   "outputs": [
    {
     "data": {
      "text/plain": [
       "2021-12-31    0.252629\n",
       "2022-01-01    0.247432\n",
       "2022-01-02    0.247721\n",
       "2022-01-03    0.251187\n",
       "2022-01-04    0.258706\n",
       "                ...   \n",
       "2025-06-09    0.203275\n",
       "2025-06-10    0.200959\n",
       "2025-06-11    0.199174\n",
       "2025-06-12    0.198430\n",
       "2025-06-13    0.199423\n",
       "Freq: D, Length: 1261, dtype: float64"
      ]
     },
     "execution_count": 21,
     "metadata": {},
     "output_type": "execute_result"
    }
   ],
   "source": [
    "forecast"
   ]
  },
  {
   "cell_type": "code",
   "execution_count": 22,
   "id": "4cf8c3ab",
   "metadata": {},
   "outputs": [],
   "source": [
    "forecast_df = pd.DataFrame(forecast)"
   ]
  },
  {
   "cell_type": "code",
   "execution_count": 23,
   "id": "ad6a2c71",
   "metadata": {},
   "outputs": [
    {
     "data": {
      "text/html": [
       "<div>\n",
       "<style scoped>\n",
       "    .dataframe tbody tr th:only-of-type {\n",
       "        vertical-align: middle;\n",
       "    }\n",
       "\n",
       "    .dataframe tbody tr th {\n",
       "        vertical-align: top;\n",
       "    }\n",
       "\n",
       "    .dataframe thead th {\n",
       "        text-align: right;\n",
       "    }\n",
       "</style>\n",
       "<table border=\"1\" class=\"dataframe\">\n",
       "  <thead>\n",
       "    <tr style=\"text-align: right;\">\n",
       "      <th></th>\n",
       "      <th>0</th>\n",
       "    </tr>\n",
       "  </thead>\n",
       "  <tbody>\n",
       "    <tr>\n",
       "      <th>2021-12-31</th>\n",
       "      <td>0.252629</td>\n",
       "    </tr>\n",
       "    <tr>\n",
       "      <th>2022-01-01</th>\n",
       "      <td>0.247432</td>\n",
       "    </tr>\n",
       "    <tr>\n",
       "      <th>2022-01-02</th>\n",
       "      <td>0.247721</td>\n",
       "    </tr>\n",
       "    <tr>\n",
       "      <th>2022-01-03</th>\n",
       "      <td>0.251187</td>\n",
       "    </tr>\n",
       "    <tr>\n",
       "      <th>2022-01-04</th>\n",
       "      <td>0.258706</td>\n",
       "    </tr>\n",
       "    <tr>\n",
       "      <th>...</th>\n",
       "      <td>...</td>\n",
       "    </tr>\n",
       "    <tr>\n",
       "      <th>2025-06-09</th>\n",
       "      <td>0.203275</td>\n",
       "    </tr>\n",
       "    <tr>\n",
       "      <th>2025-06-10</th>\n",
       "      <td>0.200959</td>\n",
       "    </tr>\n",
       "    <tr>\n",
       "      <th>2025-06-11</th>\n",
       "      <td>0.199174</td>\n",
       "    </tr>\n",
       "    <tr>\n",
       "      <th>2025-06-12</th>\n",
       "      <td>0.198430</td>\n",
       "    </tr>\n",
       "    <tr>\n",
       "      <th>2025-06-13</th>\n",
       "      <td>0.199423</td>\n",
       "    </tr>\n",
       "  </tbody>\n",
       "</table>\n",
       "<p>1261 rows × 1 columns</p>\n",
       "</div>"
      ],
      "text/plain": [
       "                   0\n",
       "2021-12-31  0.252629\n",
       "2022-01-01  0.247432\n",
       "2022-01-02  0.247721\n",
       "2022-01-03  0.251187\n",
       "2022-01-04  0.258706\n",
       "...              ...\n",
       "2025-06-09  0.203275\n",
       "2025-06-10  0.200959\n",
       "2025-06-11  0.199174\n",
       "2025-06-12  0.198430\n",
       "2025-06-13  0.199423\n",
       "\n",
       "[1261 rows x 1 columns]"
      ]
     },
     "execution_count": 23,
     "metadata": {},
     "output_type": "execute_result"
    }
   ],
   "source": [
    "forecast_df"
   ]
  },
  {
   "cell_type": "code",
   "execution_count": 27,
   "id": "3f7ff284",
   "metadata": {},
   "outputs": [],
   "source": [
    "bond_list = []\n",
    "\n",
    "for num in forecast_df[0]:\n",
    "    bond_list.append(num)"
   ]
  },
  {
   "cell_type": "code",
   "execution_count": 30,
   "id": "7a8039d2",
   "metadata": {},
   "outputs": [],
   "source": [
    "forecast_df.to_csv('bond_80%.csv')"
   ]
  },
  {
   "cell_type": "code",
   "execution_count": 24,
   "id": "746e6ca1",
   "metadata": {},
   "outputs": [],
   "source": [
    "return_series = (1 + forecast_df.pct_change()).cumprod() - 1"
   ]
  },
  {
   "cell_type": "code",
   "execution_count": 25,
   "id": "e9d96d22",
   "metadata": {
    "scrolled": true
   },
   "outputs": [
    {
     "data": {
      "text/html": [
       "<div>\n",
       "<style scoped>\n",
       "    .dataframe tbody tr th:only-of-type {\n",
       "        vertical-align: middle;\n",
       "    }\n",
       "\n",
       "    .dataframe tbody tr th {\n",
       "        vertical-align: top;\n",
       "    }\n",
       "\n",
       "    .dataframe thead th {\n",
       "        text-align: right;\n",
       "    }\n",
       "</style>\n",
       "<table border=\"1\" class=\"dataframe\">\n",
       "  <thead>\n",
       "    <tr style=\"text-align: right;\">\n",
       "      <th></th>\n",
       "      <th>0</th>\n",
       "    </tr>\n",
       "  </thead>\n",
       "  <tbody>\n",
       "    <tr>\n",
       "      <th>2021-12-31</th>\n",
       "      <td>NaN</td>\n",
       "    </tr>\n",
       "    <tr>\n",
       "      <th>2022-01-01</th>\n",
       "      <td>-0.020570</td>\n",
       "    </tr>\n",
       "    <tr>\n",
       "      <th>2022-01-02</th>\n",
       "      <td>-0.019424</td>\n",
       "    </tr>\n",
       "    <tr>\n",
       "      <th>2022-01-03</th>\n",
       "      <td>-0.005706</td>\n",
       "    </tr>\n",
       "    <tr>\n",
       "      <th>2022-01-04</th>\n",
       "      <td>0.024056</td>\n",
       "    </tr>\n",
       "    <tr>\n",
       "      <th>...</th>\n",
       "      <td>...</td>\n",
       "    </tr>\n",
       "    <tr>\n",
       "      <th>2025-06-09</th>\n",
       "      <td>-0.195360</td>\n",
       "    </tr>\n",
       "    <tr>\n",
       "      <th>2025-06-10</th>\n",
       "      <td>-0.204527</td>\n",
       "    </tr>\n",
       "    <tr>\n",
       "      <th>2025-06-11</th>\n",
       "      <td>-0.211595</td>\n",
       "    </tr>\n",
       "    <tr>\n",
       "      <th>2025-06-12</th>\n",
       "      <td>-0.214540</td>\n",
       "    </tr>\n",
       "    <tr>\n",
       "      <th>2025-06-13</th>\n",
       "      <td>-0.210607</td>\n",
       "    </tr>\n",
       "  </tbody>\n",
       "</table>\n",
       "<p>1261 rows × 1 columns</p>\n",
       "</div>"
      ],
      "text/plain": [
       "                   0\n",
       "2021-12-31       NaN\n",
       "2022-01-01 -0.020570\n",
       "2022-01-02 -0.019424\n",
       "2022-01-03 -0.005706\n",
       "2022-01-04  0.024056\n",
       "...              ...\n",
       "2025-06-09 -0.195360\n",
       "2025-06-10 -0.204527\n",
       "2025-06-11 -0.211595\n",
       "2025-06-12 -0.214540\n",
       "2025-06-13 -0.210607\n",
       "\n",
       "[1261 rows x 1 columns]"
      ]
     },
     "execution_count": 25,
     "metadata": {},
     "output_type": "execute_result"
    }
   ],
   "source": [
    "return_series"
   ]
  },
  {
   "cell_type": "code",
   "execution_count": 26,
   "id": "51a0bf04",
   "metadata": {},
   "outputs": [
    {
     "name": "stdout",
     "output_type": "stream",
     "text": [
      "                   0\n",
      "2025-06-13 -4.619702\n"
     ]
    }
   ],
   "source": [
    "#calculate annualized return\n",
    "total_return = return_series.tail(1)\n",
    "\n",
    "annualized_return = ((1 + total_return)**(1/5))-1\n",
    "\n",
    "print(annualized_return*100)"
   ]
  },
  {
   "cell_type": "code",
   "execution_count": null,
   "id": "6173b975",
   "metadata": {},
   "outputs": [],
   "source": []
  },
  {
   "cell_type": "code",
   "execution_count": null,
   "id": "2d29c828",
   "metadata": {},
   "outputs": [],
   "source": []
  }
 ],
 "metadata": {
  "kernelspec": {
   "display_name": "Python 3 (ipykernel)",
   "language": "python",
   "name": "python3"
  },
  "language_info": {
   "codemirror_mode": {
    "name": "ipython",
    "version": 3
   },
   "file_extension": ".py",
   "mimetype": "text/x-python",
   "name": "python",
   "nbconvert_exporter": "python",
   "pygments_lexer": "ipython3",
   "version": "3.8.8"
  }
 },
 "nbformat": 4,
 "nbformat_minor": 5
}
