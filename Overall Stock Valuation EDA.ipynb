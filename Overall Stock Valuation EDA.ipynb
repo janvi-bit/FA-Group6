{
 "cells": [
  {
   "cell_type": "markdown",
   "id": "2fc1cdbc",
   "metadata": {},
   "source": [
    "## Data Reading"
   ]
  },
  {
   "cell_type": "code",
   "execution_count": 112,
   "id": "f6792459",
   "metadata": {},
   "outputs": [],
   "source": [
    "import pandas as pd\n",
    "import numpy as np\n",
    "import plotly.express as px\n"
   ]
  },
  {
   "cell_type": "code",
   "execution_count": 113,
   "id": "274d5a57",
   "metadata": {},
   "outputs": [
    {
     "data": {
      "text/html": [
       "<div>\n",
       "<style scoped>\n",
       "    .dataframe tbody tr th:only-of-type {\n",
       "        vertical-align: middle;\n",
       "    }\n",
       "\n",
       "    .dataframe tbody tr th {\n",
       "        vertical-align: top;\n",
       "    }\n",
       "\n",
       "    .dataframe thead th {\n",
       "        text-align: right;\n",
       "    }\n",
       "</style>\n",
       "<table border=\"1\" class=\"dataframe\">\n",
       "  <thead>\n",
       "    <tr style=\"text-align: right;\">\n",
       "      <th></th>\n",
       "      <th>ticker</th>\n",
       "      <th>name</th>\n",
       "      <th>sector</th>\n",
       "      <th>Earnings_expectation</th>\n",
       "      <th>irv_status</th>\n",
       "      <th>capm_status</th>\n",
       "      <th>esg_status</th>\n",
       "      <th>current_price</th>\n",
       "      <th>annu_return_10y</th>\n",
       "      <th>market_cap</th>\n",
       "      <th>...</th>\n",
       "      <th>eps_ttm</th>\n",
       "      <th>growth_estimate_5y</th>\n",
       "      <th>pe_forward</th>\n",
       "      <th>pe_trailing</th>\n",
       "      <th>irv_FairValue</th>\n",
       "      <th>socialScore</th>\n",
       "      <th>governanceScore</th>\n",
       "      <th>environmentScore</th>\n",
       "      <th>ESG_risk</th>\n",
       "      <th>percentile</th>\n",
       "    </tr>\n",
       "  </thead>\n",
       "  <tbody>\n",
       "    <tr>\n",
       "      <th>0</th>\n",
       "      <td>A</td>\n",
       "      <td>Agilent Technologies, Inc.</td>\n",
       "      <td>Healthcare</td>\n",
       "      <td>Increase</td>\n",
       "      <td>Above Fair Price</td>\n",
       "      <td>OverValued</td>\n",
       "      <td>Sustainable</td>\n",
       "      <td>132.050003</td>\n",
       "      <td>16.852985</td>\n",
       "      <td>39.663B</td>\n",
       "      <td>...</td>\n",
       "      <td>3.94</td>\n",
       "      <td>0.1231</td>\n",
       "      <td>28.215815</td>\n",
       "      <td>33.515230</td>\n",
       "      <td>53.357284</td>\n",
       "      <td>8.65</td>\n",
       "      <td>6.34</td>\n",
       "      <td>0.34</td>\n",
       "      <td>15.33</td>\n",
       "      <td>10.48</td>\n",
       "    </tr>\n",
       "    <tr>\n",
       "      <th>1</th>\n",
       "      <td>AAP</td>\n",
       "      <td>Advance Auto Parts Inc.</td>\n",
       "      <td>Consumer Cyclical</td>\n",
       "      <td>Increase</td>\n",
       "      <td>Above Fair Price</td>\n",
       "      <td>UnderValued</td>\n",
       "      <td>Sustainable</td>\n",
       "      <td>218.800003</td>\n",
       "      <td>10.299689</td>\n",
       "      <td>13.368B</td>\n",
       "      <td>...</td>\n",
       "      <td>9.55</td>\n",
       "      <td>0.1525</td>\n",
       "      <td>14.235524</td>\n",
       "      <td>22.910995</td>\n",
       "      <td>111.559143</td>\n",
       "      <td>9.17</td>\n",
       "      <td>3.70</td>\n",
       "      <td>0.10</td>\n",
       "      <td>12.97</td>\n",
       "      <td>5.74</td>\n",
       "    </tr>\n",
       "    <tr>\n",
       "      <th>2</th>\n",
       "      <td>AAPL</td>\n",
       "      <td>Apple Inc.</td>\n",
       "      <td>Technology</td>\n",
       "      <td>Increase</td>\n",
       "      <td>Above Fair Price</td>\n",
       "      <td>OverValued</td>\n",
       "      <td>Sustainable</td>\n",
       "      <td>167.300003</td>\n",
       "      <td>26.658995</td>\n",
       "      <td>2.73T</td>\n",
       "      <td>...</td>\n",
       "      <td>6.01</td>\n",
       "      <td>0.1485</td>\n",
       "      <td>25.503050</td>\n",
       "      <td>27.813800</td>\n",
       "      <td>82.604411</td>\n",
       "      <td>6.86</td>\n",
       "      <td>8.76</td>\n",
       "      <td>0.65</td>\n",
       "      <td>16.27</td>\n",
       "      <td>12.87</td>\n",
       "    </tr>\n",
       "    <tr>\n",
       "      <th>3</th>\n",
       "      <td>ABBV</td>\n",
       "      <td>AbbVie Inc.</td>\n",
       "      <td>Healthcare</td>\n",
       "      <td>Increase</td>\n",
       "      <td>Above Fair Price</td>\n",
       "      <td>OverValued</td>\n",
       "      <td>Average</td>\n",
       "      <td>144.029999</td>\n",
       "      <td>19.632876</td>\n",
       "      <td>254.628B</td>\n",
       "      <td>...</td>\n",
       "      <td>6.45</td>\n",
       "      <td>0.0410</td>\n",
       "      <td>11.738386</td>\n",
       "      <td>22.330233</td>\n",
       "      <td>29.389959</td>\n",
       "      <td>16.92</td>\n",
       "      <td>9.98</td>\n",
       "      <td>1.12</td>\n",
       "      <td>28.01</td>\n",
       "      <td>53.78</td>\n",
       "    </tr>\n",
       "    <tr>\n",
       "      <th>4</th>\n",
       "      <td>ABC</td>\n",
       "      <td>AmerisourceBergen Corporation</td>\n",
       "      <td>Healthcare</td>\n",
       "      <td>Increase</td>\n",
       "      <td>Above Fair Price</td>\n",
       "      <td>OverValued</td>\n",
       "      <td>Sustainable</td>\n",
       "      <td>141.500000</td>\n",
       "      <td>16.451440</td>\n",
       "      <td>29.593B</td>\n",
       "      <td>...</td>\n",
       "      <td>7.71</td>\n",
       "      <td>0.1034</td>\n",
       "      <td>12.229905</td>\n",
       "      <td>18.348030</td>\n",
       "      <td>48.745000</td>\n",
       "      <td>6.35</td>\n",
       "      <td>5.50</td>\n",
       "      <td>0.84</td>\n",
       "      <td>12.69</td>\n",
       "      <td>5.25</td>\n",
       "    </tr>\n",
       "    <tr>\n",
       "      <th>...</th>\n",
       "      <td>...</td>\n",
       "      <td>...</td>\n",
       "      <td>...</td>\n",
       "      <td>...</td>\n",
       "      <td>...</td>\n",
       "      <td>...</td>\n",
       "      <td>...</td>\n",
       "      <td>...</td>\n",
       "      <td>...</td>\n",
       "      <td>...</td>\n",
       "      <td>...</td>\n",
       "      <td>...</td>\n",
       "      <td>...</td>\n",
       "      <td>...</td>\n",
       "      <td>...</td>\n",
       "      <td>...</td>\n",
       "      <td>...</td>\n",
       "      <td>...</td>\n",
       "      <td>...</td>\n",
       "      <td>...</td>\n",
       "      <td>...</td>\n",
       "    </tr>\n",
       "    <tr>\n",
       "      <th>396</th>\n",
       "      <td>XRAY</td>\n",
       "      <td>DENTSPLY SIRONA Inc.</td>\n",
       "      <td>Healthcare</td>\n",
       "      <td>Increase</td>\n",
       "      <td>Below Fair Price</td>\n",
       "      <td>UnderValued</td>\n",
       "      <td>Not Sustainable</td>\n",
       "      <td>55.090000</td>\n",
       "      <td>4.236675</td>\n",
       "      <td>12.043B</td>\n",
       "      <td>...</td>\n",
       "      <td>1.90</td>\n",
       "      <td>0.2497</td>\n",
       "      <td>17.269592</td>\n",
       "      <td>28.964249</td>\n",
       "      <td>58.151007</td>\n",
       "      <td>10.42</td>\n",
       "      <td>6.55</td>\n",
       "      <td>3.15</td>\n",
       "      <td>20.12</td>\n",
       "      <td>24.40</td>\n",
       "    </tr>\n",
       "    <tr>\n",
       "      <th>397</th>\n",
       "      <td>XYL</td>\n",
       "      <td>Xylem Inc.</td>\n",
       "      <td>Industrials</td>\n",
       "      <td>Increase</td>\n",
       "      <td>Above Fair Price</td>\n",
       "      <td>UnderValued</td>\n",
       "      <td>Sustainable</td>\n",
       "      <td>90.660004</td>\n",
       "      <td>14.126965</td>\n",
       "      <td>16.348B</td>\n",
       "      <td>...</td>\n",
       "      <td>2.55</td>\n",
       "      <td>0.1876</td>\n",
       "      <td>30.220001</td>\n",
       "      <td>35.566890</td>\n",
       "      <td>60.576924</td>\n",
       "      <td>7.58</td>\n",
       "      <td>5.08</td>\n",
       "      <td>3.30</td>\n",
       "      <td>15.95</td>\n",
       "      <td>12.05</td>\n",
       "    </tr>\n",
       "    <tr>\n",
       "      <th>398</th>\n",
       "      <td>YUM</td>\n",
       "      <td>Yum! Brands, Inc.</td>\n",
       "      <td>Consumer Cyclical</td>\n",
       "      <td>Decrease</td>\n",
       "      <td>Above Fair Price</td>\n",
       "      <td>UnderValued</td>\n",
       "      <td>Average</td>\n",
       "      <td>125.800003</td>\n",
       "      <td>12.452702</td>\n",
       "      <td>36.876B</td>\n",
       "      <td>...</td>\n",
       "      <td>5.18</td>\n",
       "      <td>0.1521</td>\n",
       "      <td>25.414143</td>\n",
       "      <td>24.295095</td>\n",
       "      <td>63.966029</td>\n",
       "      <td>13.08</td>\n",
       "      <td>4.70</td>\n",
       "      <td>3.90</td>\n",
       "      <td>21.68</td>\n",
       "      <td>29.73</td>\n",
       "    </tr>\n",
       "    <tr>\n",
       "      <th>399</th>\n",
       "      <td>ZBH</td>\n",
       "      <td>Zimmer Biomet Holdings, Inc.</td>\n",
       "      <td>Healthcare</td>\n",
       "      <td>Increase</td>\n",
       "      <td>Above Fair Price</td>\n",
       "      <td>UnderValued</td>\n",
       "      <td>Average</td>\n",
       "      <td>121.019997</td>\n",
       "      <td>7.981383</td>\n",
       "      <td>25.282B</td>\n",
       "      <td>...</td>\n",
       "      <td>3.91</td>\n",
       "      <td>0.0975</td>\n",
       "      <td>15.089774</td>\n",
       "      <td>30.919773</td>\n",
       "      <td>39.695681</td>\n",
       "      <td>13.62</td>\n",
       "      <td>9.93</td>\n",
       "      <td>4.53</td>\n",
       "      <td>28.08</td>\n",
       "      <td>54.02</td>\n",
       "    </tr>\n",
       "    <tr>\n",
       "      <th>400</th>\n",
       "      <td>ZTS</td>\n",
       "      <td>Zoetis Inc.</td>\n",
       "      <td>Healthcare</td>\n",
       "      <td>Increase</td>\n",
       "      <td>Above Fair Price</td>\n",
       "      <td>OverValued</td>\n",
       "      <td>Sustainable</td>\n",
       "      <td>191.320007</td>\n",
       "      <td>20.743477</td>\n",
       "      <td>90.518B</td>\n",
       "      <td>...</td>\n",
       "      <td>4.15</td>\n",
       "      <td>0.1357</td>\n",
       "      <td>36.863200</td>\n",
       "      <td>46.112316</td>\n",
       "      <td>85.492321</td>\n",
       "      <td>7.70</td>\n",
       "      <td>9.10</td>\n",
       "      <td>1.38</td>\n",
       "      <td>18.18</td>\n",
       "      <td>18.34</td>\n",
       "    </tr>\n",
       "  </tbody>\n",
       "</table>\n",
       "<p>401 rows × 22 columns</p>\n",
       "</div>"
      ],
      "text/plain": [
       "    ticker                           name             sector  \\\n",
       "0        A     Agilent Technologies, Inc.         Healthcare   \n",
       "1      AAP        Advance Auto Parts Inc.  Consumer Cyclical   \n",
       "2     AAPL                     Apple Inc.         Technology   \n",
       "3     ABBV                    AbbVie Inc.         Healthcare   \n",
       "4      ABC  AmerisourceBergen Corporation         Healthcare   \n",
       "..     ...                            ...                ...   \n",
       "396   XRAY           DENTSPLY SIRONA Inc.         Healthcare   \n",
       "397    XYL                     Xylem Inc.        Industrials   \n",
       "398    YUM              Yum! Brands, Inc.  Consumer Cyclical   \n",
       "399    ZBH   Zimmer Biomet Holdings, Inc.         Healthcare   \n",
       "400    ZTS                    Zoetis Inc.         Healthcare   \n",
       "\n",
       "    Earnings_expectation        irv_status  capm_status       esg_status  \\\n",
       "0               Increase  Above Fair Price   OverValued      Sustainable   \n",
       "1               Increase  Above Fair Price  UnderValued      Sustainable   \n",
       "2               Increase  Above Fair Price   OverValued      Sustainable   \n",
       "3               Increase  Above Fair Price   OverValued          Average   \n",
       "4               Increase  Above Fair Price   OverValued      Sustainable   \n",
       "..                   ...               ...          ...              ...   \n",
       "396             Increase  Below Fair Price  UnderValued  Not Sustainable   \n",
       "397             Increase  Above Fair Price  UnderValued      Sustainable   \n",
       "398             Decrease  Above Fair Price  UnderValued          Average   \n",
       "399             Increase  Above Fair Price  UnderValued          Average   \n",
       "400             Increase  Above Fair Price   OverValued      Sustainable   \n",
       "\n",
       "     current_price  annu_return_10y market_cap  ... eps_ttm  \\\n",
       "0       132.050003        16.852985    39.663B  ...    3.94   \n",
       "1       218.800003        10.299689    13.368B  ...    9.55   \n",
       "2       167.300003        26.658995      2.73T  ...    6.01   \n",
       "3       144.029999        19.632876   254.628B  ...    6.45   \n",
       "4       141.500000        16.451440    29.593B  ...    7.71   \n",
       "..             ...              ...        ...  ...     ...   \n",
       "396      55.090000         4.236675    12.043B  ...    1.90   \n",
       "397      90.660004        14.126965    16.348B  ...    2.55   \n",
       "398     125.800003        12.452702    36.876B  ...    5.18   \n",
       "399     121.019997         7.981383    25.282B  ...    3.91   \n",
       "400     191.320007        20.743477    90.518B  ...    4.15   \n",
       "\n",
       "     growth_estimate_5y  pe_forward  pe_trailing  irv_FairValue  socialScore  \\\n",
       "0                0.1231   28.215815    33.515230      53.357284         8.65   \n",
       "1                0.1525   14.235524    22.910995     111.559143         9.17   \n",
       "2                0.1485   25.503050    27.813800      82.604411         6.86   \n",
       "3                0.0410   11.738386    22.330233      29.389959        16.92   \n",
       "4                0.1034   12.229905    18.348030      48.745000         6.35   \n",
       "..                  ...         ...          ...            ...          ...   \n",
       "396              0.2497   17.269592    28.964249      58.151007        10.42   \n",
       "397              0.1876   30.220001    35.566890      60.576924         7.58   \n",
       "398              0.1521   25.414143    24.295095      63.966029        13.08   \n",
       "399              0.0975   15.089774    30.919773      39.695681        13.62   \n",
       "400              0.1357   36.863200    46.112316      85.492321         7.70   \n",
       "\n",
       "     governanceScore  environmentScore  ESG_risk  percentile  \n",
       "0               6.34              0.34     15.33       10.48  \n",
       "1               3.70              0.10     12.97        5.74  \n",
       "2               8.76              0.65     16.27       12.87  \n",
       "3               9.98              1.12     28.01       53.78  \n",
       "4               5.50              0.84     12.69        5.25  \n",
       "..               ...               ...       ...         ...  \n",
       "396             6.55              3.15     20.12       24.40  \n",
       "397             5.08              3.30     15.95       12.05  \n",
       "398             4.70              3.90     21.68       29.73  \n",
       "399             9.93              4.53     28.08       54.02  \n",
       "400             9.10              1.38     18.18       18.34  \n",
       "\n",
       "[401 rows x 22 columns]"
      ]
     },
     "execution_count": 113,
     "metadata": {},
     "output_type": "execute_result"
    }
   ],
   "source": [
    "df = pd.read_csv(\"sample_stock_valuation_2.csv\")\n",
    "df"
   ]
  },
  {
   "cell_type": "code",
   "execution_count": 114,
   "id": "e6587b9b",
   "metadata": {},
   "outputs": [
    {
     "name": "stdout",
     "output_type": "stream",
     "text": [
      "<class 'pandas.core.frame.DataFrame'>\n",
      "RangeIndex: 401 entries, 0 to 400\n",
      "Data columns (total 22 columns):\n",
      " #   Column                Non-Null Count  Dtype  \n",
      "---  ------                --------------  -----  \n",
      " 0   ticker                401 non-null    object \n",
      " 1   name                  401 non-null    object \n",
      " 2   sector                401 non-null    object \n",
      " 3   Earnings_expectation  401 non-null    object \n",
      " 4   irv_status            401 non-null    object \n",
      " 5   capm_status           401 non-null    object \n",
      " 6   esg_status            401 non-null    object \n",
      " 7   current_price         401 non-null    float64\n",
      " 8   annu_return_10y       401 non-null    float64\n",
      " 9   market_cap            401 non-null    object \n",
      " 10  marketcap_cat         401 non-null    object \n",
      " 11  beta                  398 non-null    float64\n",
      " 12  eps_ttm               401 non-null    float64\n",
      " 13  growth_estimate_5y    401 non-null    float64\n",
      " 14  pe_forward            401 non-null    float64\n",
      " 15  pe_trailing           401 non-null    float64\n",
      " 16  irv_FairValue         401 non-null    float64\n",
      " 17  socialScore           401 non-null    float64\n",
      " 18  governanceScore       401 non-null    float64\n",
      " 19  environmentScore      401 non-null    float64\n",
      " 20  ESG_risk              401 non-null    float64\n",
      " 21  percentile            401 non-null    float64\n",
      "dtypes: float64(13), object(9)\n",
      "memory usage: 69.0+ KB\n"
     ]
    }
   ],
   "source": [
    "df.info()"
   ]
  },
  {
   "cell_type": "code",
   "execution_count": 115,
   "id": "8254a1b4",
   "metadata": {},
   "outputs": [
    {
     "data": {
      "text/html": [
       "<div>\n",
       "<style scoped>\n",
       "    .dataframe tbody tr th:only-of-type {\n",
       "        vertical-align: middle;\n",
       "    }\n",
       "\n",
       "    .dataframe tbody tr th {\n",
       "        vertical-align: top;\n",
       "    }\n",
       "\n",
       "    .dataframe thead th {\n",
       "        text-align: right;\n",
       "    }\n",
       "</style>\n",
       "<table border=\"1\" class=\"dataframe\">\n",
       "  <thead>\n",
       "    <tr style=\"text-align: right;\">\n",
       "      <th></th>\n",
       "      <th>current_price</th>\n",
       "      <th>annu_return_10y</th>\n",
       "      <th>beta</th>\n",
       "      <th>eps_ttm</th>\n",
       "      <th>growth_estimate_5y</th>\n",
       "      <th>pe_forward</th>\n",
       "      <th>pe_trailing</th>\n",
       "      <th>irv_FairValue</th>\n",
       "      <th>socialScore</th>\n",
       "      <th>governanceScore</th>\n",
       "      <th>environmentScore</th>\n",
       "      <th>ESG_risk</th>\n",
       "      <th>percentile</th>\n",
       "    </tr>\n",
       "  </thead>\n",
       "  <tbody>\n",
       "    <tr>\n",
       "      <th>count</th>\n",
       "      <td>401.000000</td>\n",
       "      <td>401.000000</td>\n",
       "      <td>398.000000</td>\n",
       "      <td>401.000000</td>\n",
       "      <td>401.000000</td>\n",
       "      <td>401.000000</td>\n",
       "      <td>401.000000</td>\n",
       "      <td>4.010000e+02</td>\n",
       "      <td>401.000000</td>\n",
       "      <td>401.000000</td>\n",
       "      <td>401.000000</td>\n",
       "      <td>401.000000</td>\n",
       "      <td>401.000000</td>\n",
       "    </tr>\n",
       "    <tr>\n",
       "      <th>mean</th>\n",
       "      <td>201.730324</td>\n",
       "      <td>15.060017</td>\n",
       "      <td>1.056131</td>\n",
       "      <td>149.479277</td>\n",
       "      <td>0.174791</td>\n",
       "      <td>28.736519</td>\n",
       "      <td>35.338252</td>\n",
       "      <td>3.771276e+04</td>\n",
       "      <td>9.131546</td>\n",
       "      <td>6.921297</td>\n",
       "      <td>5.144214</td>\n",
       "      <td>21.196758</td>\n",
       "      <td>30.468454</td>\n",
       "    </tr>\n",
       "    <tr>\n",
       "      <th>std</th>\n",
       "      <td>376.864681</td>\n",
       "      <td>7.467696</td>\n",
       "      <td>0.441078</td>\n",
       "      <td>2809.589492</td>\n",
       "      <td>0.343388</td>\n",
       "      <td>132.111977</td>\n",
       "      <td>66.472254</td>\n",
       "      <td>5.361159e+05</td>\n",
       "      <td>3.849005</td>\n",
       "      <td>2.325899</td>\n",
       "      <td>5.095925</td>\n",
       "      <td>6.978766</td>\n",
       "      <td>22.300857</td>\n",
       "    </tr>\n",
       "    <tr>\n",
       "      <th>min</th>\n",
       "      <td>15.850000</td>\n",
       "      <td>-3.861916</td>\n",
       "      <td>-0.130000</td>\n",
       "      <td>0.130000</td>\n",
       "      <td>-3.830000</td>\n",
       "      <td>0.622115</td>\n",
       "      <td>0.005594</td>\n",
       "      <td>-7.226015e+04</td>\n",
       "      <td>1.270000</td>\n",
       "      <td>3.200000</td>\n",
       "      <td>0.010000</td>\n",
       "      <td>6.990000</td>\n",
       "      <td>1.200000</td>\n",
       "    </tr>\n",
       "    <tr>\n",
       "      <th>25%</th>\n",
       "      <td>68.529999</td>\n",
       "      <td>10.350369</td>\n",
       "      <td>0.790000</td>\n",
       "      <td>2.920000</td>\n",
       "      <td>0.078000</td>\n",
       "      <td>13.692307</td>\n",
       "      <td>15.891579</td>\n",
       "      <td>2.547062e+01</td>\n",
       "      <td>6.350000</td>\n",
       "      <td>5.280000</td>\n",
       "      <td>1.310000</td>\n",
       "      <td>15.520000</td>\n",
       "      <td>10.900000</td>\n",
       "    </tr>\n",
       "    <tr>\n",
       "      <th>50%</th>\n",
       "      <td>121.279999</td>\n",
       "      <td>14.787215</td>\n",
       "      <td>1.050000</td>\n",
       "      <td>5.190000</td>\n",
       "      <td>0.130000</td>\n",
       "      <td>18.204378</td>\n",
       "      <td>24.087034</td>\n",
       "      <td>5.659447e+01</td>\n",
       "      <td>8.970000</td>\n",
       "      <td>6.340000</td>\n",
       "      <td>3.170000</td>\n",
       "      <td>20.620000</td>\n",
       "      <td>26.140000</td>\n",
       "    </tr>\n",
       "    <tr>\n",
       "      <th>75%</th>\n",
       "      <td>209.360001</td>\n",
       "      <td>19.171638</td>\n",
       "      <td>1.280000</td>\n",
       "      <td>8.940000</td>\n",
       "      <td>0.193300</td>\n",
       "      <td>25.480150</td>\n",
       "      <td>34.659092</td>\n",
       "      <td>1.354579e+02</td>\n",
       "      <td>11.900000</td>\n",
       "      <td>7.980000</td>\n",
       "      <td>8.090000</td>\n",
       "      <td>25.840000</td>\n",
       "      <td>45.490000</td>\n",
       "    </tr>\n",
       "    <tr>\n",
       "      <th>max</th>\n",
       "      <td>4996.040039</td>\n",
       "      <td>61.961637</td>\n",
       "      <td>3.060000</td>\n",
       "      <td>56269.560000</td>\n",
       "      <td>2.726500</td>\n",
       "      <td>2647.000000</td>\n",
       "      <td>1074.357200</td>\n",
       "      <td>1.024208e+07</td>\n",
       "      <td>21.010000</td>\n",
       "      <td>15.510000</td>\n",
       "      <td>23.390000</td>\n",
       "      <td>46.680000</td>\n",
       "      <td>95.730000</td>\n",
       "    </tr>\n",
       "  </tbody>\n",
       "</table>\n",
       "</div>"
      ],
      "text/plain": [
       "       current_price  annu_return_10y        beta       eps_ttm  \\\n",
       "count     401.000000       401.000000  398.000000    401.000000   \n",
       "mean      201.730324        15.060017    1.056131    149.479277   \n",
       "std       376.864681         7.467696    0.441078   2809.589492   \n",
       "min        15.850000        -3.861916   -0.130000      0.130000   \n",
       "25%        68.529999        10.350369    0.790000      2.920000   \n",
       "50%       121.279999        14.787215    1.050000      5.190000   \n",
       "75%       209.360001        19.171638    1.280000      8.940000   \n",
       "max      4996.040039        61.961637    3.060000  56269.560000   \n",
       "\n",
       "       growth_estimate_5y   pe_forward  pe_trailing  irv_FairValue  \\\n",
       "count          401.000000   401.000000   401.000000   4.010000e+02   \n",
       "mean             0.174791    28.736519    35.338252   3.771276e+04   \n",
       "std              0.343388   132.111977    66.472254   5.361159e+05   \n",
       "min             -3.830000     0.622115     0.005594  -7.226015e+04   \n",
       "25%              0.078000    13.692307    15.891579   2.547062e+01   \n",
       "50%              0.130000    18.204378    24.087034   5.659447e+01   \n",
       "75%              0.193300    25.480150    34.659092   1.354579e+02   \n",
       "max              2.726500  2647.000000  1074.357200   1.024208e+07   \n",
       "\n",
       "       socialScore  governanceScore  environmentScore    ESG_risk  percentile  \n",
       "count   401.000000       401.000000        401.000000  401.000000  401.000000  \n",
       "mean      9.131546         6.921297          5.144214   21.196758   30.468454  \n",
       "std       3.849005         2.325899          5.095925    6.978766   22.300857  \n",
       "min       1.270000         3.200000          0.010000    6.990000    1.200000  \n",
       "25%       6.350000         5.280000          1.310000   15.520000   10.900000  \n",
       "50%       8.970000         6.340000          3.170000   20.620000   26.140000  \n",
       "75%      11.900000         7.980000          8.090000   25.840000   45.490000  \n",
       "max      21.010000        15.510000         23.390000   46.680000   95.730000  "
      ]
     },
     "execution_count": 115,
     "metadata": {},
     "output_type": "execute_result"
    }
   ],
   "source": [
    "df.describe()"
   ]
  },
  {
   "cell_type": "code",
   "execution_count": 116,
   "id": "e42c8dfb",
   "metadata": {},
   "outputs": [
    {
     "data": {
      "text/html": [
       "<div>\n",
       "<style scoped>\n",
       "    .dataframe tbody tr th:only-of-type {\n",
       "        vertical-align: middle;\n",
       "    }\n",
       "\n",
       "    .dataframe tbody tr th {\n",
       "        vertical-align: top;\n",
       "    }\n",
       "\n",
       "    .dataframe thead th {\n",
       "        text-align: right;\n",
       "    }\n",
       "</style>\n",
       "<table border=\"1\" class=\"dataframe\">\n",
       "  <thead>\n",
       "    <tr style=\"text-align: right;\">\n",
       "      <th></th>\n",
       "      <th>ticker</th>\n",
       "      <th>name</th>\n",
       "      <th>sector</th>\n",
       "      <th>Earnings_expectation</th>\n",
       "      <th>irv_status</th>\n",
       "      <th>capm_status</th>\n",
       "      <th>esg_status</th>\n",
       "      <th>current_price</th>\n",
       "      <th>annu_return_10y</th>\n",
       "      <th>market_cap</th>\n",
       "      <th>...</th>\n",
       "      <th>eps_ttm</th>\n",
       "      <th>growth_estimate_5y</th>\n",
       "      <th>pe_forward</th>\n",
       "      <th>pe_trailing</th>\n",
       "      <th>irv_FairValue</th>\n",
       "      <th>socialScore</th>\n",
       "      <th>governanceScore</th>\n",
       "      <th>environmentScore</th>\n",
       "      <th>ESG_risk</th>\n",
       "      <th>percentile</th>\n",
       "    </tr>\n",
       "  </thead>\n",
       "  <tbody>\n",
       "    <tr>\n",
       "      <th>21</th>\n",
       "      <td>ALL</td>\n",
       "      <td>Allstate Corporation (The)</td>\n",
       "      <td>Financial Services</td>\n",
       "      <td>Decrease</td>\n",
       "      <td>Above Fair Price</td>\n",
       "      <td>UnderValued</td>\n",
       "      <td>Not Sustainable</td>\n",
       "      <td>125.889999</td>\n",
       "      <td>17.229178</td>\n",
       "      <td>36.09B</td>\n",
       "      <td>...</td>\n",
       "      <td>10.83</td>\n",
       "      <td>-0.050</td>\n",
       "      <td>11.854049</td>\n",
       "      <td>11.624192</td>\n",
       "      <td>11.276988</td>\n",
       "      <td>7.70</td>\n",
       "      <td>11.39</td>\n",
       "      <td>1.74</td>\n",
       "      <td>20.84</td>\n",
       "      <td>26.90</td>\n",
       "    </tr>\n",
       "    <tr>\n",
       "      <th>42</th>\n",
       "      <td>AWK</td>\n",
       "      <td>American Water Works Company, I</td>\n",
       "      <td>Utilities</td>\n",
       "      <td>Increase</td>\n",
       "      <td>Above Fair Price</td>\n",
       "      <td>UnderValued</td>\n",
       "      <td>Average</td>\n",
       "      <td>148.259995</td>\n",
       "      <td>18.574594</td>\n",
       "      <td>26.915B</td>\n",
       "      <td>...</td>\n",
       "      <td>4.20</td>\n",
       "      <td>0.082</td>\n",
       "      <td>33.020046</td>\n",
       "      <td>35.316820</td>\n",
       "      <td>42.851465</td>\n",
       "      <td>9.08</td>\n",
       "      <td>5.27</td>\n",
       "      <td>13.10</td>\n",
       "      <td>27.45</td>\n",
       "      <td>51.63</td>\n",
       "    </tr>\n",
       "    <tr>\n",
       "      <th>382</th>\n",
       "      <td>WAB</td>\n",
       "      <td>Westinghouse Air Brake Technolo</td>\n",
       "      <td>Industrials</td>\n",
       "      <td>Increase</td>\n",
       "      <td>Above Fair Price</td>\n",
       "      <td>UnderValued</td>\n",
       "      <td>Not Sustainable</td>\n",
       "      <td>96.860001</td>\n",
       "      <td>11.072353</td>\n",
       "      <td>18.095B</td>\n",
       "      <td>...</td>\n",
       "      <td>2.41</td>\n",
       "      <td>0.073</td>\n",
       "      <td>19.889118</td>\n",
       "      <td>40.207558</td>\n",
       "      <td>25.966396</td>\n",
       "      <td>14.08</td>\n",
       "      <td>7.70</td>\n",
       "      <td>10.41</td>\n",
       "      <td>32.18</td>\n",
       "      <td>68.72</td>\n",
       "    </tr>\n",
       "  </tbody>\n",
       "</table>\n",
       "<p>3 rows × 22 columns</p>\n",
       "</div>"
      ],
      "text/plain": [
       "    ticker                             name              sector  \\\n",
       "21     ALL       Allstate Corporation (The)  Financial Services   \n",
       "42     AWK  American Water Works Company, I           Utilities   \n",
       "382    WAB  Westinghouse Air Brake Technolo         Industrials   \n",
       "\n",
       "    Earnings_expectation        irv_status  capm_status       esg_status  \\\n",
       "21              Decrease  Above Fair Price  UnderValued  Not Sustainable   \n",
       "42              Increase  Above Fair Price  UnderValued          Average   \n",
       "382             Increase  Above Fair Price  UnderValued  Not Sustainable   \n",
       "\n",
       "     current_price  annu_return_10y market_cap  ... eps_ttm  \\\n",
       "21      125.889999        17.229178     36.09B  ...   10.83   \n",
       "42      148.259995        18.574594    26.915B  ...    4.20   \n",
       "382      96.860001        11.072353    18.095B  ...    2.41   \n",
       "\n",
       "     growth_estimate_5y  pe_forward  pe_trailing  irv_FairValue  socialScore  \\\n",
       "21               -0.050   11.854049    11.624192      11.276988         7.70   \n",
       "42                0.082   33.020046    35.316820      42.851465         9.08   \n",
       "382               0.073   19.889118    40.207558      25.966396        14.08   \n",
       "\n",
       "     governanceScore  environmentScore  ESG_risk  percentile  \n",
       "21             11.39              1.74     20.84       26.90  \n",
       "42              5.27             13.10     27.45       51.63  \n",
       "382             7.70             10.41     32.18       68.72  \n",
       "\n",
       "[3 rows x 22 columns]"
      ]
     },
     "execution_count": 116,
     "metadata": {},
     "output_type": "execute_result"
    }
   ],
   "source": [
    "df[df[\"beta\"].isnull()]"
   ]
  },
  {
   "cell_type": "code",
   "execution_count": 117,
   "id": "10a5a86e",
   "metadata": {},
   "outputs": [],
   "source": [
    "df.dropna(inplace=True)"
   ]
  },
  {
   "cell_type": "markdown",
   "id": "0d0cfd2b",
   "metadata": {},
   "source": [
    "## Value Counts"
   ]
  },
  {
   "cell_type": "code",
   "execution_count": 38,
   "id": "013b4ae2",
   "metadata": {},
   "outputs": [
    {
     "data": {
      "text/plain": [
       "Financial Services        63\n",
       "Technology                62\n",
       "Industrials               54\n",
       "Healthcare                52\n",
       "Consumer Cyclical         46\n",
       "Consumer Defensive        32\n",
       "Real Estate               26\n",
       "Utilities                 19\n",
       "Basic Materials           16\n",
       "Communication Services    15\n",
       "Energy                    13\n",
       "Name: sector, dtype: int64"
      ]
     },
     "execution_count": 38,
     "metadata": {},
     "output_type": "execute_result"
    }
   ],
   "source": [
    "df[\"sector\"].value_counts()"
   ]
  },
  {
   "cell_type": "code",
   "execution_count": 39,
   "id": "786fdb3e",
   "metadata": {},
   "outputs": [
    {
     "data": {
      "text/plain": [
       "Large    398\n",
       "Name: marketcap_cat, dtype: int64"
      ]
     },
     "execution_count": 39,
     "metadata": {},
     "output_type": "execute_result"
    }
   ],
   "source": [
    "df[\"marketcap_cat\"].value_counts()"
   ]
  },
  {
   "cell_type": "code",
   "execution_count": 40,
   "id": "615a90d2",
   "metadata": {},
   "outputs": [
    {
     "data": {
      "text/plain": [
       "Above Fair Price    331\n",
       "Below Fair Price     67\n",
       "Name: irv_status, dtype: int64"
      ]
     },
     "execution_count": 40,
     "metadata": {},
     "output_type": "execute_result"
    }
   ],
   "source": [
    "df[\"irv_status\"].value_counts()"
   ]
  },
  {
   "cell_type": "code",
   "execution_count": 41,
   "id": "1dd9f0c5",
   "metadata": {},
   "outputs": [
    {
     "data": {
      "text/plain": [
       "OverValued     203\n",
       "UnderValued    195\n",
       "Name: capm_status, dtype: int64"
      ]
     },
     "execution_count": 41,
     "metadata": {},
     "output_type": "execute_result"
    }
   ],
   "source": [
    "df[\"capm_status\"].value_counts()"
   ]
  },
  {
   "cell_type": "code",
   "execution_count": 42,
   "id": "193d3f7b",
   "metadata": {},
   "outputs": [
    {
     "data": {
      "text/plain": [
       "capm_status  sector                \n",
       "OverValued   Healthcare                38\n",
       "             Technology                37\n",
       "             Financial Services        25\n",
       "             Industrials               25\n",
       "             Consumer Defensive        22\n",
       "             Utilities                 15\n",
       "             Consumer Cyclical         14\n",
       "             Real Estate               14\n",
       "             Communication Services     8\n",
       "             Basic Materials            4\n",
       "             Energy                     1\n",
       "UnderValued  Financial Services        38\n",
       "             Consumer Cyclical         32\n",
       "             Industrials               29\n",
       "             Technology                25\n",
       "             Healthcare                14\n",
       "             Basic Materials           12\n",
       "             Energy                    12\n",
       "             Real Estate               12\n",
       "             Consumer Defensive        10\n",
       "             Communication Services     7\n",
       "             Utilities                  4\n",
       "Name: sector, dtype: int64"
      ]
     },
     "execution_count": 42,
     "metadata": {},
     "output_type": "execute_result"
    }
   ],
   "source": [
    "df.groupby(\"capm_status\")[\"sector\"].value_counts()"
   ]
  },
  {
   "cell_type": "code",
   "execution_count": 43,
   "id": "03aff11e",
   "metadata": {},
   "outputs": [
    {
     "data": {
      "text/plain": [
       "Increase    312\n",
       "Decrease     86\n",
       "Name: Earnings_expectation, dtype: int64"
      ]
     },
     "execution_count": 43,
     "metadata": {},
     "output_type": "execute_result"
    }
   ],
   "source": [
    "df[\"Earnings_expectation\"].value_counts()"
   ]
  },
  {
   "cell_type": "code",
   "execution_count": 44,
   "id": "69ccb5a8",
   "metadata": {},
   "outputs": [
    {
     "data": {
      "text/plain": [
       "Sustainable        185\n",
       "Average            142\n",
       "Not Sustainable     71\n",
       "Name: esg_status, dtype: int64"
      ]
     },
     "execution_count": 44,
     "metadata": {},
     "output_type": "execute_result"
    }
   ],
   "source": [
    "df[\"esg_status\"].value_counts()"
   ]
  },
  {
   "cell_type": "markdown",
   "id": "06c75d74",
   "metadata": {},
   "source": [
    "## New DF Creation (Based on 2/3 Criteria Satisfied)"
   ]
  },
  {
   "cell_type": "code",
   "execution_count": 91,
   "id": "bd693b0c",
   "metadata": {},
   "outputs": [],
   "source": [
    "def check_criteria(each):\n",
    "    check = []\n",
    "    if each[\"capm_status\"] == \"UnderValued\":\n",
    "        check.append(True)\n",
    "    if each[\"Earnings_expectation\"] == \"Increase\":\n",
    "        check.append(True)\n",
    "    if each[\"irv_status\"] == \"Below Fair Price\":\n",
    "        check.append(True)\n",
    "    return check"
   ]
  },
  {
   "cell_type": "code",
   "execution_count": 92,
   "id": "47eaf9ef",
   "metadata": {},
   "outputs": [],
   "source": [
    "def check_number(criteria):\n",
    "    if (len(criteria) == 2) or (len(criteria)==3):\n",
    "        return True\n",
    "    else:\n",
    "        return False"
   ]
  },
  {
   "cell_type": "code",
   "execution_count": 103,
   "id": "72f06ea9",
   "metadata": {},
   "outputs": [],
   "source": [
    "rows = []\n",
    "for i in range(397):\n",
    "    each = df.iloc[i]\n",
    "    criteria = check_criteria(each)\n",
    "    result = check_number(criteria)\n",
    "    if result:\n",
    "        rows.append(i) "
   ]
  },
  {
   "cell_type": "code",
   "execution_count": 104,
   "id": "5584b5ea",
   "metadata": {},
   "outputs": [
    {
     "data": {
      "text/html": [
       "<div>\n",
       "<style scoped>\n",
       "    .dataframe tbody tr th:only-of-type {\n",
       "        vertical-align: middle;\n",
       "    }\n",
       "\n",
       "    .dataframe tbody tr th {\n",
       "        vertical-align: top;\n",
       "    }\n",
       "\n",
       "    .dataframe thead th {\n",
       "        text-align: right;\n",
       "    }\n",
       "</style>\n",
       "<table border=\"1\" class=\"dataframe\">\n",
       "  <thead>\n",
       "    <tr style=\"text-align: right;\">\n",
       "      <th></th>\n",
       "      <th>ticker</th>\n",
       "      <th>name</th>\n",
       "      <th>sector</th>\n",
       "      <th>Earnings_expectation</th>\n",
       "      <th>irv_status</th>\n",
       "      <th>capm_status</th>\n",
       "      <th>esg_status</th>\n",
       "      <th>current_price</th>\n",
       "      <th>annu_return_10y</th>\n",
       "      <th>market_cap</th>\n",
       "      <th>...</th>\n",
       "      <th>eps_ttm</th>\n",
       "      <th>growth_estimate_5y</th>\n",
       "      <th>pe_forward</th>\n",
       "      <th>pe_trailing</th>\n",
       "      <th>irv_FairValue</th>\n",
       "      <th>socialScore</th>\n",
       "      <th>governanceScore</th>\n",
       "      <th>environmentScore</th>\n",
       "      <th>ESG_risk</th>\n",
       "      <th>percentile</th>\n",
       "    </tr>\n",
       "  </thead>\n",
       "  <tbody>\n",
       "    <tr>\n",
       "      <th>1</th>\n",
       "      <td>AAP</td>\n",
       "      <td>Advance Auto Parts Inc.</td>\n",
       "      <td>Consumer Cyclical</td>\n",
       "      <td>Increase</td>\n",
       "      <td>Above Fair Price</td>\n",
       "      <td>UnderValued</td>\n",
       "      <td>Sustainable</td>\n",
       "      <td>218.800003</td>\n",
       "      <td>10.299689</td>\n",
       "      <td>13.368B</td>\n",
       "      <td>...</td>\n",
       "      <td>9.55</td>\n",
       "      <td>0.1525</td>\n",
       "      <td>14.235524</td>\n",
       "      <td>22.910995</td>\n",
       "      <td>111.559143</td>\n",
       "      <td>9.17</td>\n",
       "      <td>3.70</td>\n",
       "      <td>0.10</td>\n",
       "      <td>12.97</td>\n",
       "      <td>5.74</td>\n",
       "    </tr>\n",
       "    <tr>\n",
       "      <th>9</th>\n",
       "      <td>ADM</td>\n",
       "      <td>Archer-Daniels-Midland Company</td>\n",
       "      <td>Consumer Defensive</td>\n",
       "      <td>Increase</td>\n",
       "      <td>Above Fair Price</td>\n",
       "      <td>UnderValued</td>\n",
       "      <td>Not Sustainable</td>\n",
       "      <td>76.389999</td>\n",
       "      <td>12.345809</td>\n",
       "      <td>42.736B</td>\n",
       "      <td>...</td>\n",
       "      <td>4.63</td>\n",
       "      <td>0.1000</td>\n",
       "      <td>15.981171</td>\n",
       "      <td>16.498920</td>\n",
       "      <td>25.601188</td>\n",
       "      <td>13.16</td>\n",
       "      <td>5.04</td>\n",
       "      <td>18.23</td>\n",
       "      <td>36.42</td>\n",
       "      <td>81.21</td>\n",
       "    </tr>\n",
       "    <tr>\n",
       "      <th>11</th>\n",
       "      <td>ADSK</td>\n",
       "      <td>Autodesk, Inc.</td>\n",
       "      <td>Technology</td>\n",
       "      <td>Increase</td>\n",
       "      <td>Below Fair Price</td>\n",
       "      <td>UnderValued</td>\n",
       "      <td>Sustainable</td>\n",
       "      <td>216.839996</td>\n",
       "      <td>18.989885</td>\n",
       "      <td>47.699B</td>\n",
       "      <td>...</td>\n",
       "      <td>5.93</td>\n",
       "      <td>0.2883</td>\n",
       "      <td>31.748169</td>\n",
       "      <td>36.578945</td>\n",
       "      <td>301.389676</td>\n",
       "      <td>9.22</td>\n",
       "      <td>4.87</td>\n",
       "      <td>1.37</td>\n",
       "      <td>15.45</td>\n",
       "      <td>10.77</td>\n",
       "    </tr>\n",
       "    <tr>\n",
       "      <th>14</th>\n",
       "      <td>AES</td>\n",
       "      <td>The AES Corporation</td>\n",
       "      <td>Utilities</td>\n",
       "      <td>Increase</td>\n",
       "      <td>Above Fair Price</td>\n",
       "      <td>UnderValued</td>\n",
       "      <td>Not Sustainable</td>\n",
       "      <td>21.260000</td>\n",
       "      <td>7.567721</td>\n",
       "      <td>14.174B</td>\n",
       "      <td>...</td>\n",
       "      <td>0.78</td>\n",
       "      <td>0.0860</td>\n",
       "      <td>12.884849</td>\n",
       "      <td>27.396906</td>\n",
       "      <td>6.381959</td>\n",
       "      <td>8.31</td>\n",
       "      <td>5.95</td>\n",
       "      <td>20.79</td>\n",
       "      <td>35.05</td>\n",
       "      <td>77.35</td>\n",
       "    </tr>\n",
       "    <tr>\n",
       "      <th>16</th>\n",
       "      <td>AIG</td>\n",
       "      <td>American International Group, I</td>\n",
       "      <td>Financial Services</td>\n",
       "      <td>Decrease</td>\n",
       "      <td>Below Fair Price</td>\n",
       "      <td>UnderValued</td>\n",
       "      <td>Average</td>\n",
       "      <td>61.730000</td>\n",
       "      <td>10.547193</td>\n",
       "      <td>51.254B</td>\n",
       "      <td>...</td>\n",
       "      <td>6.38</td>\n",
       "      <td>0.3069</td>\n",
       "      <td>11.516790</td>\n",
       "      <td>9.680100</td>\n",
       "      <td>97.627279</td>\n",
       "      <td>10.81</td>\n",
       "      <td>14.71</td>\n",
       "      <td>1.87</td>\n",
       "      <td>27.39</td>\n",
       "      <td>51.29</td>\n",
       "    </tr>\n",
       "    <tr>\n",
       "      <th>...</th>\n",
       "      <td>...</td>\n",
       "      <td>...</td>\n",
       "      <td>...</td>\n",
       "      <td>...</td>\n",
       "      <td>...</td>\n",
       "      <td>...</td>\n",
       "      <td>...</td>\n",
       "      <td>...</td>\n",
       "      <td>...</td>\n",
       "      <td>...</td>\n",
       "      <td>...</td>\n",
       "      <td>...</td>\n",
       "      <td>...</td>\n",
       "      <td>...</td>\n",
       "      <td>...</td>\n",
       "      <td>...</td>\n",
       "      <td>...</td>\n",
       "      <td>...</td>\n",
       "      <td>...</td>\n",
       "      <td>...</td>\n",
       "      <td>...</td>\n",
       "    </tr>\n",
       "    <tr>\n",
       "      <th>388</th>\n",
       "      <td>WFC</td>\n",
       "      <td>Wells Fargo &amp; Company</td>\n",
       "      <td>Financial Services</td>\n",
       "      <td>Decrease</td>\n",
       "      <td>Below Fair Price</td>\n",
       "      <td>UnderValued</td>\n",
       "      <td>Not Sustainable</td>\n",
       "      <td>55.630001</td>\n",
       "      <td>9.161000</td>\n",
       "      <td>221.81B</td>\n",
       "      <td>...</td>\n",
       "      <td>4.19</td>\n",
       "      <td>1.1586</td>\n",
       "      <td>14.874331</td>\n",
       "      <td>13.270515</td>\n",
       "      <td>8041.569058</td>\n",
       "      <td>15.40</td>\n",
       "      <td>15.51</td>\n",
       "      <td>1.94</td>\n",
       "      <td>32.84</td>\n",
       "      <td>70.84</td>\n",
       "    </tr>\n",
       "    <tr>\n",
       "      <th>391</th>\n",
       "      <td>WMB</td>\n",
       "      <td>Williams Companies, Inc. (The)</td>\n",
       "      <td>Energy</td>\n",
       "      <td>Increase</td>\n",
       "      <td>Above Fair Price</td>\n",
       "      <td>UnderValued</td>\n",
       "      <td>Not Sustainable</td>\n",
       "      <td>29.620001</td>\n",
       "      <td>5.820337</td>\n",
       "      <td>35.989B</td>\n",
       "      <td>...</td>\n",
       "      <td>0.82</td>\n",
       "      <td>0.0200</td>\n",
       "      <td>23.140627</td>\n",
       "      <td>36.121952</td>\n",
       "      <td>5.031252</td>\n",
       "      <td>8.52</td>\n",
       "      <td>3.20</td>\n",
       "      <td>8.98</td>\n",
       "      <td>20.70</td>\n",
       "      <td>26.43</td>\n",
       "    </tr>\n",
       "    <tr>\n",
       "      <th>396</th>\n",
       "      <td>XRAY</td>\n",
       "      <td>DENTSPLY SIRONA Inc.</td>\n",
       "      <td>Healthcare</td>\n",
       "      <td>Increase</td>\n",
       "      <td>Below Fair Price</td>\n",
       "      <td>UnderValued</td>\n",
       "      <td>Not Sustainable</td>\n",
       "      <td>55.090000</td>\n",
       "      <td>4.236675</td>\n",
       "      <td>12.043B</td>\n",
       "      <td>...</td>\n",
       "      <td>1.90</td>\n",
       "      <td>0.2497</td>\n",
       "      <td>17.269592</td>\n",
       "      <td>28.964249</td>\n",
       "      <td>58.151007</td>\n",
       "      <td>10.42</td>\n",
       "      <td>6.55</td>\n",
       "      <td>3.15</td>\n",
       "      <td>20.12</td>\n",
       "      <td>24.40</td>\n",
       "    </tr>\n",
       "    <tr>\n",
       "      <th>397</th>\n",
       "      <td>XYL</td>\n",
       "      <td>Xylem Inc.</td>\n",
       "      <td>Industrials</td>\n",
       "      <td>Increase</td>\n",
       "      <td>Above Fair Price</td>\n",
       "      <td>UnderValued</td>\n",
       "      <td>Sustainable</td>\n",
       "      <td>90.660004</td>\n",
       "      <td>14.126965</td>\n",
       "      <td>16.348B</td>\n",
       "      <td>...</td>\n",
       "      <td>2.55</td>\n",
       "      <td>0.1876</td>\n",
       "      <td>30.220001</td>\n",
       "      <td>35.566890</td>\n",
       "      <td>60.576924</td>\n",
       "      <td>7.58</td>\n",
       "      <td>5.08</td>\n",
       "      <td>3.30</td>\n",
       "      <td>15.95</td>\n",
       "      <td>12.05</td>\n",
       "    </tr>\n",
       "    <tr>\n",
       "      <th>399</th>\n",
       "      <td>ZBH</td>\n",
       "      <td>Zimmer Biomet Holdings, Inc.</td>\n",
       "      <td>Healthcare</td>\n",
       "      <td>Increase</td>\n",
       "      <td>Above Fair Price</td>\n",
       "      <td>UnderValued</td>\n",
       "      <td>Average</td>\n",
       "      <td>121.019997</td>\n",
       "      <td>7.981383</td>\n",
       "      <td>25.282B</td>\n",
       "      <td>...</td>\n",
       "      <td>3.91</td>\n",
       "      <td>0.0975</td>\n",
       "      <td>15.089774</td>\n",
       "      <td>30.919773</td>\n",
       "      <td>39.695681</td>\n",
       "      <td>13.62</td>\n",
       "      <td>9.93</td>\n",
       "      <td>4.53</td>\n",
       "      <td>28.08</td>\n",
       "      <td>54.02</td>\n",
       "    </tr>\n",
       "  </tbody>\n",
       "</table>\n",
       "<p>168 rows × 22 columns</p>\n",
       "</div>"
      ],
      "text/plain": [
       "    ticker                             name              sector  \\\n",
       "1      AAP          Advance Auto Parts Inc.   Consumer Cyclical   \n",
       "9      ADM   Archer-Daniels-Midland Company  Consumer Defensive   \n",
       "11    ADSK                   Autodesk, Inc.          Technology   \n",
       "14     AES              The AES Corporation           Utilities   \n",
       "16     AIG  American International Group, I  Financial Services   \n",
       "..     ...                              ...                 ...   \n",
       "388    WFC            Wells Fargo & Company  Financial Services   \n",
       "391    WMB   Williams Companies, Inc. (The)              Energy   \n",
       "396   XRAY             DENTSPLY SIRONA Inc.          Healthcare   \n",
       "397    XYL                       Xylem Inc.         Industrials   \n",
       "399    ZBH     Zimmer Biomet Holdings, Inc.          Healthcare   \n",
       "\n",
       "    Earnings_expectation        irv_status  capm_status       esg_status  \\\n",
       "1               Increase  Above Fair Price  UnderValued      Sustainable   \n",
       "9               Increase  Above Fair Price  UnderValued  Not Sustainable   \n",
       "11              Increase  Below Fair Price  UnderValued      Sustainable   \n",
       "14              Increase  Above Fair Price  UnderValued  Not Sustainable   \n",
       "16              Decrease  Below Fair Price  UnderValued          Average   \n",
       "..                   ...               ...          ...              ...   \n",
       "388             Decrease  Below Fair Price  UnderValued  Not Sustainable   \n",
       "391             Increase  Above Fair Price  UnderValued  Not Sustainable   \n",
       "396             Increase  Below Fair Price  UnderValued  Not Sustainable   \n",
       "397             Increase  Above Fair Price  UnderValued      Sustainable   \n",
       "399             Increase  Above Fair Price  UnderValued          Average   \n",
       "\n",
       "     current_price  annu_return_10y market_cap  ... eps_ttm  \\\n",
       "1       218.800003        10.299689    13.368B  ...    9.55   \n",
       "9        76.389999        12.345809    42.736B  ...    4.63   \n",
       "11      216.839996        18.989885    47.699B  ...    5.93   \n",
       "14       21.260000         7.567721    14.174B  ...    0.78   \n",
       "16       61.730000        10.547193    51.254B  ...    6.38   \n",
       "..             ...              ...        ...  ...     ...   \n",
       "388      55.630001         9.161000    221.81B  ...    4.19   \n",
       "391      29.620001         5.820337    35.989B  ...    0.82   \n",
       "396      55.090000         4.236675    12.043B  ...    1.90   \n",
       "397      90.660004        14.126965    16.348B  ...    2.55   \n",
       "399     121.019997         7.981383    25.282B  ...    3.91   \n",
       "\n",
       "     growth_estimate_5y  pe_forward  pe_trailing  irv_FairValue  socialScore  \\\n",
       "1                0.1525   14.235524    22.910995     111.559143         9.17   \n",
       "9                0.1000   15.981171    16.498920      25.601188        13.16   \n",
       "11               0.2883   31.748169    36.578945     301.389676         9.22   \n",
       "14               0.0860   12.884849    27.396906       6.381959         8.31   \n",
       "16               0.3069   11.516790     9.680100      97.627279        10.81   \n",
       "..                  ...         ...          ...            ...          ...   \n",
       "388              1.1586   14.874331    13.270515    8041.569058        15.40   \n",
       "391              0.0200   23.140627    36.121952       5.031252         8.52   \n",
       "396              0.2497   17.269592    28.964249      58.151007        10.42   \n",
       "397              0.1876   30.220001    35.566890      60.576924         7.58   \n",
       "399              0.0975   15.089774    30.919773      39.695681        13.62   \n",
       "\n",
       "     governanceScore  environmentScore  ESG_risk  percentile  \n",
       "1               3.70              0.10     12.97        5.74  \n",
       "9               5.04             18.23     36.42       81.21  \n",
       "11              4.87              1.37     15.45       10.77  \n",
       "14              5.95             20.79     35.05       77.35  \n",
       "16             14.71              1.87     27.39       51.29  \n",
       "..               ...               ...       ...         ...  \n",
       "388            15.51              1.94     32.84       70.84  \n",
       "391             3.20              8.98     20.70       26.43  \n",
       "396             6.55              3.15     20.12       24.40  \n",
       "397             5.08              3.30     15.95       12.05  \n",
       "399             9.93              4.53     28.08       54.02  \n",
       "\n",
       "[168 rows x 22 columns]"
      ]
     },
     "execution_count": 104,
     "metadata": {},
     "output_type": "execute_result"
    }
   ],
   "source": [
    "new_df = df.iloc[rows]\n",
    "new_df"
   ]
  },
  {
   "cell_type": "code",
   "execution_count": 105,
   "id": "9e1ca14e",
   "metadata": {},
   "outputs": [
    {
     "name": "stdout",
     "output_type": "stream",
     "text": [
      "<class 'pandas.core.frame.DataFrame'>\n",
      "Int64Index: 168 entries, 1 to 399\n",
      "Data columns (total 22 columns):\n",
      " #   Column                Non-Null Count  Dtype  \n",
      "---  ------                --------------  -----  \n",
      " 0   ticker                168 non-null    object \n",
      " 1   name                  168 non-null    object \n",
      " 2   sector                168 non-null    object \n",
      " 3   Earnings_expectation  168 non-null    object \n",
      " 4   irv_status            168 non-null    object \n",
      " 5   capm_status           168 non-null    object \n",
      " 6   esg_status            168 non-null    object \n",
      " 7   current_price         168 non-null    float64\n",
      " 8   annu_return_10y       168 non-null    float64\n",
      " 9   market_cap            168 non-null    object \n",
      " 10  marketcap_cat         168 non-null    object \n",
      " 11  beta                  168 non-null    float64\n",
      " 12  eps_ttm               168 non-null    float64\n",
      " 13  growth_estimate_5y    168 non-null    float64\n",
      " 14  pe_forward            168 non-null    float64\n",
      " 15  pe_trailing           168 non-null    float64\n",
      " 16  irv_FairValue         168 non-null    float64\n",
      " 17  socialScore           168 non-null    float64\n",
      " 18  governanceScore       168 non-null    float64\n",
      " 19  environmentScore      168 non-null    float64\n",
      " 20  ESG_risk              168 non-null    float64\n",
      " 21  percentile            168 non-null    float64\n",
      "dtypes: float64(13), object(9)\n",
      "memory usage: 30.2+ KB\n"
     ]
    }
   ],
   "source": [
    "new_df.info()"
   ]
  },
  {
   "cell_type": "code",
   "execution_count": 106,
   "id": "bf2f2b6c",
   "metadata": {},
   "outputs": [
    {
     "data": {
      "text/html": [
       "<div>\n",
       "<style scoped>\n",
       "    .dataframe tbody tr th:only-of-type {\n",
       "        vertical-align: middle;\n",
       "    }\n",
       "\n",
       "    .dataframe tbody tr th {\n",
       "        vertical-align: top;\n",
       "    }\n",
       "\n",
       "    .dataframe thead th {\n",
       "        text-align: right;\n",
       "    }\n",
       "</style>\n",
       "<table border=\"1\" class=\"dataframe\">\n",
       "  <thead>\n",
       "    <tr style=\"text-align: right;\">\n",
       "      <th></th>\n",
       "      <th>current_price</th>\n",
       "      <th>annu_return_10y</th>\n",
       "      <th>beta</th>\n",
       "      <th>eps_ttm</th>\n",
       "      <th>growth_estimate_5y</th>\n",
       "      <th>pe_forward</th>\n",
       "      <th>pe_trailing</th>\n",
       "      <th>irv_FairValue</th>\n",
       "      <th>socialScore</th>\n",
       "      <th>governanceScore</th>\n",
       "      <th>environmentScore</th>\n",
       "      <th>ESG_risk</th>\n",
       "      <th>percentile</th>\n",
       "    </tr>\n",
       "  </thead>\n",
       "  <tbody>\n",
       "    <tr>\n",
       "      <th>count</th>\n",
       "      <td>168.000000</td>\n",
       "      <td>168.000000</td>\n",
       "      <td>168.000000</td>\n",
       "      <td>168.000000</td>\n",
       "      <td>168.000000</td>\n",
       "      <td>168.000000</td>\n",
       "      <td>168.000000</td>\n",
       "      <td>1.680000e+02</td>\n",
       "      <td>168.000000</td>\n",
       "      <td>168.000000</td>\n",
       "      <td>168.000000</td>\n",
       "      <td>168.000000</td>\n",
       "      <td>168.000000</td>\n",
       "    </tr>\n",
       "    <tr>\n",
       "      <th>mean</th>\n",
       "      <td>176.372023</td>\n",
       "      <td>12.488410</td>\n",
       "      <td>1.270833</td>\n",
       "      <td>6.390060</td>\n",
       "      <td>0.290784</td>\n",
       "      <td>18.840794</td>\n",
       "      <td>41.797369</td>\n",
       "      <td>9.031096e+04</td>\n",
       "      <td>9.325536</td>\n",
       "      <td>6.923988</td>\n",
       "      <td>6.047381</td>\n",
       "      <td>22.295893</td>\n",
       "      <td>33.870893</td>\n",
       "    </tr>\n",
       "    <tr>\n",
       "      <th>std</th>\n",
       "      <td>338.679754</td>\n",
       "      <td>8.409765</td>\n",
       "      <td>0.437645</td>\n",
       "      <td>6.434024</td>\n",
       "      <td>0.397319</td>\n",
       "      <td>13.724789</td>\n",
       "      <td>96.444688</td>\n",
       "      <td>8.268074e+05</td>\n",
       "      <td>3.671982</td>\n",
       "      <td>2.169876</td>\n",
       "      <td>5.902495</td>\n",
       "      <td>7.749856</td>\n",
       "      <td>24.931760</td>\n",
       "    </tr>\n",
       "    <tr>\n",
       "      <th>min</th>\n",
       "      <td>15.850000</td>\n",
       "      <td>-3.861916</td>\n",
       "      <td>-0.130000</td>\n",
       "      <td>0.130000</td>\n",
       "      <td>-0.234000</td>\n",
       "      <td>0.622115</td>\n",
       "      <td>3.852246</td>\n",
       "      <td>1.205624e+00</td>\n",
       "      <td>2.130000</td>\n",
       "      <td>3.200000</td>\n",
       "      <td>0.020000</td>\n",
       "      <td>6.990000</td>\n",
       "      <td>1.200000</td>\n",
       "    </tr>\n",
       "    <tr>\n",
       "      <th>25%</th>\n",
       "      <td>56.192501</td>\n",
       "      <td>8.144019</td>\n",
       "      <td>1.027500</td>\n",
       "      <td>2.545000</td>\n",
       "      <td>0.097325</td>\n",
       "      <td>11.480588</td>\n",
       "      <td>14.588197</td>\n",
       "      <td>2.578378e+01</td>\n",
       "      <td>6.665000</td>\n",
       "      <td>5.320000</td>\n",
       "      <td>1.462500</td>\n",
       "      <td>16.127500</td>\n",
       "      <td>12.467500</td>\n",
       "    </tr>\n",
       "    <tr>\n",
       "      <th>50%</th>\n",
       "      <td>96.700001</td>\n",
       "      <td>11.677002</td>\n",
       "      <td>1.240000</td>\n",
       "      <td>4.505000</td>\n",
       "      <td>0.180000</td>\n",
       "      <td>15.557845</td>\n",
       "      <td>22.270344</td>\n",
       "      <td>6.143999e+01</td>\n",
       "      <td>9.060000</td>\n",
       "      <td>6.570000</td>\n",
       "      <td>3.535000</td>\n",
       "      <td>20.880000</td>\n",
       "      <td>27.055000</td>\n",
       "    </tr>\n",
       "    <tr>\n",
       "      <th>75%</th>\n",
       "      <td>176.722500</td>\n",
       "      <td>15.582272</td>\n",
       "      <td>1.502500</td>\n",
       "      <td>7.840000</td>\n",
       "      <td>0.325550</td>\n",
       "      <td>20.390588</td>\n",
       "      <td>31.366788</td>\n",
       "      <td>2.679380e+02</td>\n",
       "      <td>11.847500</td>\n",
       "      <td>8.005000</td>\n",
       "      <td>9.282500</td>\n",
       "      <td>27.562500</td>\n",
       "      <td>51.972500</td>\n",
       "    </tr>\n",
       "    <tr>\n",
       "      <th>max</th>\n",
       "      <td>3052.030029</td>\n",
       "      <td>61.961637</td>\n",
       "      <td>3.060000</td>\n",
       "      <td>51.100000</td>\n",
       "      <td>2.726500</td>\n",
       "      <td>97.828766</td>\n",
       "      <td>1074.357200</td>\n",
       "      <td>1.024208e+07</td>\n",
       "      <td>21.010000</td>\n",
       "      <td>15.510000</td>\n",
       "      <td>23.390000</td>\n",
       "      <td>46.680000</td>\n",
       "      <td>95.730000</td>\n",
       "    </tr>\n",
       "  </tbody>\n",
       "</table>\n",
       "</div>"
      ],
      "text/plain": [
       "       current_price  annu_return_10y        beta     eps_ttm  \\\n",
       "count     168.000000       168.000000  168.000000  168.000000   \n",
       "mean      176.372023        12.488410    1.270833    6.390060   \n",
       "std       338.679754         8.409765    0.437645    6.434024   \n",
       "min        15.850000        -3.861916   -0.130000    0.130000   \n",
       "25%        56.192501         8.144019    1.027500    2.545000   \n",
       "50%        96.700001        11.677002    1.240000    4.505000   \n",
       "75%       176.722500        15.582272    1.502500    7.840000   \n",
       "max      3052.030029        61.961637    3.060000   51.100000   \n",
       "\n",
       "       growth_estimate_5y  pe_forward  pe_trailing  irv_FairValue  \\\n",
       "count          168.000000  168.000000   168.000000   1.680000e+02   \n",
       "mean             0.290784   18.840794    41.797369   9.031096e+04   \n",
       "std              0.397319   13.724789    96.444688   8.268074e+05   \n",
       "min             -0.234000    0.622115     3.852246   1.205624e+00   \n",
       "25%              0.097325   11.480588    14.588197   2.578378e+01   \n",
       "50%              0.180000   15.557845    22.270344   6.143999e+01   \n",
       "75%              0.325550   20.390588    31.366788   2.679380e+02   \n",
       "max              2.726500   97.828766  1074.357200   1.024208e+07   \n",
       "\n",
       "       socialScore  governanceScore  environmentScore    ESG_risk  percentile  \n",
       "count   168.000000       168.000000        168.000000  168.000000  168.000000  \n",
       "mean      9.325536         6.923988          6.047381   22.295893   33.870893  \n",
       "std       3.671982         2.169876          5.902495    7.749856   24.931760  \n",
       "min       2.130000         3.200000          0.020000    6.990000    1.200000  \n",
       "25%       6.665000         5.320000          1.462500   16.127500   12.467500  \n",
       "50%       9.060000         6.570000          3.535000   20.880000   27.055000  \n",
       "75%      11.847500         8.005000          9.282500   27.562500   51.972500  \n",
       "max      21.010000        15.510000         23.390000   46.680000   95.730000  "
      ]
     },
     "execution_count": 106,
     "metadata": {},
     "output_type": "execute_result"
    }
   ],
   "source": [
    "new_df.describe()"
   ]
  },
  {
   "cell_type": "code",
   "execution_count": 111,
   "id": "b13085c0",
   "metadata": {},
   "outputs": [
    {
     "data": {
      "text/plain": [
       "Consumer Cyclical         28\n",
       "Financial Services        28\n",
       "Industrials               28\n",
       "Technology                24\n",
       "Energy                    13\n",
       "Healthcare                11\n",
       "Basic Materials           11\n",
       "Consumer Defensive         9\n",
       "Communication Services     8\n",
       "Real Estate                5\n",
       "Utilities                  3\n",
       "Name: sector, dtype: int64"
      ]
     },
     "execution_count": 111,
     "metadata": {},
     "output_type": "execute_result"
    }
   ],
   "source": [
    "new_df[\"sector\"].value_counts()"
   ]
  },
  {
   "cell_type": "code",
   "execution_count": 108,
   "id": "4368d78c",
   "metadata": {},
   "outputs": [
    {
     "data": {
      "text/plain": [
       "Earnings_expectation  sector                \n",
       "Decrease              Financial Services         7\n",
       "                      Basic Materials            2\n",
       "                      Consumer Cyclical          1\n",
       "                      Energy                     1\n",
       "                      Technology                 1\n",
       "                      Utilities                  1\n",
       "Increase              Industrials               28\n",
       "                      Consumer Cyclical         27\n",
       "                      Technology                23\n",
       "                      Financial Services        21\n",
       "                      Energy                    12\n",
       "                      Healthcare                11\n",
       "                      Basic Materials            9\n",
       "                      Consumer Defensive         9\n",
       "                      Communication Services     8\n",
       "                      Real Estate                5\n",
       "                      Utilities                  2\n",
       "Name: sector, dtype: int64"
      ]
     },
     "execution_count": 108,
     "metadata": {},
     "output_type": "execute_result"
    }
   ],
   "source": [
    "new_df.groupby(\"Earnings_expectation\")[\"sector\"].value_counts()"
   ]
  },
  {
   "cell_type": "code",
   "execution_count": 109,
   "id": "fef4f796",
   "metadata": {},
   "outputs": [
    {
     "data": {
      "text/plain": [
       "irv_status        sector                \n",
       "Above Fair Price  Industrials               24\n",
       "                  Technology                17\n",
       "                  Financial Services        15\n",
       "                  Consumer Cyclical         12\n",
       "                  Consumer Defensive         8\n",
       "                  Healthcare                 8\n",
       "                  Energy                     6\n",
       "                  Basic Materials            5\n",
       "                  Communication Services     4\n",
       "                  Real Estate                3\n",
       "                  Utilities                  2\n",
       "Below Fair Price  Consumer Cyclical         16\n",
       "                  Financial Services        13\n",
       "                  Energy                     7\n",
       "                  Technology                 7\n",
       "                  Basic Materials            6\n",
       "                  Communication Services     4\n",
       "                  Industrials                4\n",
       "                  Healthcare                 3\n",
       "                  Real Estate                2\n",
       "                  Consumer Defensive         1\n",
       "                  Utilities                  1\n",
       "Name: sector, dtype: int64"
      ]
     },
     "execution_count": 109,
     "metadata": {},
     "output_type": "execute_result"
    }
   ],
   "source": [
    "new_df.groupby(\"irv_status\")[\"sector\"].value_counts()"
   ]
  },
  {
   "cell_type": "code",
   "execution_count": 110,
   "id": "28a04cd9",
   "metadata": {},
   "outputs": [
    {
     "data": {
      "text/plain": [
       "capm_status  sector                \n",
       "OverValued   Communication Services     3\n",
       "             Consumer Cyclical          3\n",
       "             Financial Services         2\n",
       "             Healthcare                 2\n",
       "             Real Estate                2\n",
       "             Technology                 2\n",
       "             Energy                     1\n",
       "             Industrials                1\n",
       "UnderValued  Industrials               27\n",
       "             Financial Services        26\n",
       "             Consumer Cyclical         25\n",
       "             Technology                22\n",
       "             Energy                    12\n",
       "             Basic Materials           11\n",
       "             Consumer Defensive         9\n",
       "             Healthcare                 9\n",
       "             Communication Services     5\n",
       "             Real Estate                3\n",
       "             Utilities                  3\n",
       "Name: sector, dtype: int64"
      ]
     },
     "execution_count": 110,
     "metadata": {},
     "output_type": "execute_result"
    }
   ],
   "source": [
    "new_df.groupby(\"capm_status\")[\"sector\"].value_counts()"
   ]
  },
  {
   "cell_type": "markdown",
   "id": "2b7fc178",
   "metadata": {},
   "source": [
    "## Histogram Visualizations"
   ]
  },
  {
   "cell_type": "code",
   "execution_count": 121,
   "id": "29e58e6a",
   "metadata": {},
   "outputs": [
    {
     "data": {
      "application/vnd.plotly.v1+json": {
       "config": {
        "plotlyServerURL": "https://plot.ly"
       },
       "data": [
        {
         "alignmentgroup": "True",
         "bingroup": "x",
         "hovertemplate": "Earnings_expectation=%{x}<br>count=%{y}<extra></extra>",
         "legendgroup": "",
         "marker": {
          "color": "#636efa",
          "pattern": {
           "shape": ""
          }
         },
         "name": "",
         "offsetgroup": "",
         "orientation": "v",
         "showlegend": false,
         "type": "histogram",
         "x": [
          "Increase",
          "Increase",
          "Increase",
          "Increase",
          "Decrease",
          "Increase",
          "Increase",
          "Increase",
          "Increase",
          "Increase",
          "Increase",
          "Increase",
          "Increase",
          "Decrease",
          "Increase",
          "Increase",
          "Increase",
          "Increase",
          "Increase",
          "Increase",
          "Increase",
          "Increase",
          "Increase",
          "Increase",
          "Decrease",
          "Increase",
          "Increase",
          "Increase",
          "Increase",
          "Increase",
          "Increase",
          "Increase",
          "Decrease",
          "Increase",
          "Increase",
          "Increase",
          "Increase",
          "Increase",
          "Increase",
          "Decrease",
          "Increase",
          "Increase",
          "Increase",
          "Increase",
          "Increase",
          "Increase",
          "Increase",
          "Increase",
          "Increase",
          "Increase",
          "Increase",
          "Increase",
          "Increase",
          "Increase",
          "Increase",
          "Increase",
          "Increase",
          "Increase",
          "Increase",
          "Decrease",
          "Increase",
          "Increase",
          "Increase",
          "Increase",
          "Increase",
          "Increase",
          "Increase",
          "Increase",
          "Increase",
          "Increase",
          "Increase",
          "Increase",
          "Increase",
          "Increase",
          "Increase",
          "Increase",
          "Increase",
          "Increase",
          "Increase",
          "Increase",
          "Increase",
          "Increase",
          "Increase",
          "Increase",
          "Increase",
          "Increase",
          "Increase",
          "Increase",
          "Increase",
          "Increase",
          "Increase",
          "Increase",
          "Decrease",
          "Increase",
          "Increase",
          "Increase",
          "Increase",
          "Increase",
          "Increase",
          "Decrease",
          "Increase",
          "Increase",
          "Increase",
          "Increase",
          "Decrease",
          "Increase",
          "Increase",
          "Increase",
          "Increase",
          "Increase",
          "Increase",
          "Increase",
          "Increase",
          "Increase",
          "Increase",
          "Increase",
          "Increase",
          "Increase",
          "Increase",
          "Increase",
          "Increase",
          "Increase",
          "Increase",
          "Increase",
          "Increase",
          "Increase",
          "Increase",
          "Increase",
          "Increase",
          "Increase",
          "Increase",
          "Increase",
          "Decrease",
          "Increase",
          "Increase",
          "Increase",
          "Increase",
          "Increase",
          "Increase",
          "Increase",
          "Increase",
          "Increase",
          "Increase",
          "Increase",
          "Decrease",
          "Increase",
          "Increase",
          "Increase",
          "Increase",
          "Increase",
          "Increase",
          "Increase",
          "Increase",
          "Increase",
          "Increase",
          "Increase",
          "Decrease",
          "Increase",
          "Increase",
          "Increase",
          "Increase",
          "Increase",
          "Increase",
          "Decrease",
          "Increase",
          "Increase",
          "Increase",
          "Increase"
         ],
         "xaxis": "x",
         "yaxis": "y"
        }
       ],
       "layout": {
        "barmode": "relative",
        "legend": {
         "tracegroupgap": 0
        },
        "margin": {
         "t": 60
        },
        "template": {
         "data": {
          "bar": [
           {
            "error_x": {
             "color": "#2a3f5f"
            },
            "error_y": {
             "color": "#2a3f5f"
            },
            "marker": {
             "line": {
              "color": "#E5ECF6",
              "width": 0.5
             },
             "pattern": {
              "fillmode": "overlay",
              "size": 10,
              "solidity": 0.2
             }
            },
            "type": "bar"
           }
          ],
          "barpolar": [
           {
            "marker": {
             "line": {
              "color": "#E5ECF6",
              "width": 0.5
             },
             "pattern": {
              "fillmode": "overlay",
              "size": 10,
              "solidity": 0.2
             }
            },
            "type": "barpolar"
           }
          ],
          "carpet": [
           {
            "aaxis": {
             "endlinecolor": "#2a3f5f",
             "gridcolor": "white",
             "linecolor": "white",
             "minorgridcolor": "white",
             "startlinecolor": "#2a3f5f"
            },
            "baxis": {
             "endlinecolor": "#2a3f5f",
             "gridcolor": "white",
             "linecolor": "white",
             "minorgridcolor": "white",
             "startlinecolor": "#2a3f5f"
            },
            "type": "carpet"
           }
          ],
          "choropleth": [
           {
            "colorbar": {
             "outlinewidth": 0,
             "ticks": ""
            },
            "type": "choropleth"
           }
          ],
          "contour": [
           {
            "colorbar": {
             "outlinewidth": 0,
             "ticks": ""
            },
            "colorscale": [
             [
              0,
              "#0d0887"
             ],
             [
              0.1111111111111111,
              "#46039f"
             ],
             [
              0.2222222222222222,
              "#7201a8"
             ],
             [
              0.3333333333333333,
              "#9c179e"
             ],
             [
              0.4444444444444444,
              "#bd3786"
             ],
             [
              0.5555555555555556,
              "#d8576b"
             ],
             [
              0.6666666666666666,
              "#ed7953"
             ],
             [
              0.7777777777777778,
              "#fb9f3a"
             ],
             [
              0.8888888888888888,
              "#fdca26"
             ],
             [
              1,
              "#f0f921"
             ]
            ],
            "type": "contour"
           }
          ],
          "contourcarpet": [
           {
            "colorbar": {
             "outlinewidth": 0,
             "ticks": ""
            },
            "type": "contourcarpet"
           }
          ],
          "heatmap": [
           {
            "colorbar": {
             "outlinewidth": 0,
             "ticks": ""
            },
            "colorscale": [
             [
              0,
              "#0d0887"
             ],
             [
              0.1111111111111111,
              "#46039f"
             ],
             [
              0.2222222222222222,
              "#7201a8"
             ],
             [
              0.3333333333333333,
              "#9c179e"
             ],
             [
              0.4444444444444444,
              "#bd3786"
             ],
             [
              0.5555555555555556,
              "#d8576b"
             ],
             [
              0.6666666666666666,
              "#ed7953"
             ],
             [
              0.7777777777777778,
              "#fb9f3a"
             ],
             [
              0.8888888888888888,
              "#fdca26"
             ],
             [
              1,
              "#f0f921"
             ]
            ],
            "type": "heatmap"
           }
          ],
          "heatmapgl": [
           {
            "colorbar": {
             "outlinewidth": 0,
             "ticks": ""
            },
            "colorscale": [
             [
              0,
              "#0d0887"
             ],
             [
              0.1111111111111111,
              "#46039f"
             ],
             [
              0.2222222222222222,
              "#7201a8"
             ],
             [
              0.3333333333333333,
              "#9c179e"
             ],
             [
              0.4444444444444444,
              "#bd3786"
             ],
             [
              0.5555555555555556,
              "#d8576b"
             ],
             [
              0.6666666666666666,
              "#ed7953"
             ],
             [
              0.7777777777777778,
              "#fb9f3a"
             ],
             [
              0.8888888888888888,
              "#fdca26"
             ],
             [
              1,
              "#f0f921"
             ]
            ],
            "type": "heatmapgl"
           }
          ],
          "histogram": [
           {
            "marker": {
             "pattern": {
              "fillmode": "overlay",
              "size": 10,
              "solidity": 0.2
             }
            },
            "type": "histogram"
           }
          ],
          "histogram2d": [
           {
            "colorbar": {
             "outlinewidth": 0,
             "ticks": ""
            },
            "colorscale": [
             [
              0,
              "#0d0887"
             ],
             [
              0.1111111111111111,
              "#46039f"
             ],
             [
              0.2222222222222222,
              "#7201a8"
             ],
             [
              0.3333333333333333,
              "#9c179e"
             ],
             [
              0.4444444444444444,
              "#bd3786"
             ],
             [
              0.5555555555555556,
              "#d8576b"
             ],
             [
              0.6666666666666666,
              "#ed7953"
             ],
             [
              0.7777777777777778,
              "#fb9f3a"
             ],
             [
              0.8888888888888888,
              "#fdca26"
             ],
             [
              1,
              "#f0f921"
             ]
            ],
            "type": "histogram2d"
           }
          ],
          "histogram2dcontour": [
           {
            "colorbar": {
             "outlinewidth": 0,
             "ticks": ""
            },
            "colorscale": [
             [
              0,
              "#0d0887"
             ],
             [
              0.1111111111111111,
              "#46039f"
             ],
             [
              0.2222222222222222,
              "#7201a8"
             ],
             [
              0.3333333333333333,
              "#9c179e"
             ],
             [
              0.4444444444444444,
              "#bd3786"
             ],
             [
              0.5555555555555556,
              "#d8576b"
             ],
             [
              0.6666666666666666,
              "#ed7953"
             ],
             [
              0.7777777777777778,
              "#fb9f3a"
             ],
             [
              0.8888888888888888,
              "#fdca26"
             ],
             [
              1,
              "#f0f921"
             ]
            ],
            "type": "histogram2dcontour"
           }
          ],
          "mesh3d": [
           {
            "colorbar": {
             "outlinewidth": 0,
             "ticks": ""
            },
            "type": "mesh3d"
           }
          ],
          "parcoords": [
           {
            "line": {
             "colorbar": {
              "outlinewidth": 0,
              "ticks": ""
             }
            },
            "type": "parcoords"
           }
          ],
          "pie": [
           {
            "automargin": true,
            "type": "pie"
           }
          ],
          "scatter": [
           {
            "marker": {
             "colorbar": {
              "outlinewidth": 0,
              "ticks": ""
             }
            },
            "type": "scatter"
           }
          ],
          "scatter3d": [
           {
            "line": {
             "colorbar": {
              "outlinewidth": 0,
              "ticks": ""
             }
            },
            "marker": {
             "colorbar": {
              "outlinewidth": 0,
              "ticks": ""
             }
            },
            "type": "scatter3d"
           }
          ],
          "scattercarpet": [
           {
            "marker": {
             "colorbar": {
              "outlinewidth": 0,
              "ticks": ""
             }
            },
            "type": "scattercarpet"
           }
          ],
          "scattergeo": [
           {
            "marker": {
             "colorbar": {
              "outlinewidth": 0,
              "ticks": ""
             }
            },
            "type": "scattergeo"
           }
          ],
          "scattergl": [
           {
            "marker": {
             "colorbar": {
              "outlinewidth": 0,
              "ticks": ""
             }
            },
            "type": "scattergl"
           }
          ],
          "scattermapbox": [
           {
            "marker": {
             "colorbar": {
              "outlinewidth": 0,
              "ticks": ""
             }
            },
            "type": "scattermapbox"
           }
          ],
          "scatterpolar": [
           {
            "marker": {
             "colorbar": {
              "outlinewidth": 0,
              "ticks": ""
             }
            },
            "type": "scatterpolar"
           }
          ],
          "scatterpolargl": [
           {
            "marker": {
             "colorbar": {
              "outlinewidth": 0,
              "ticks": ""
             }
            },
            "type": "scatterpolargl"
           }
          ],
          "scatterternary": [
           {
            "marker": {
             "colorbar": {
              "outlinewidth": 0,
              "ticks": ""
             }
            },
            "type": "scatterternary"
           }
          ],
          "surface": [
           {
            "colorbar": {
             "outlinewidth": 0,
             "ticks": ""
            },
            "colorscale": [
             [
              0,
              "#0d0887"
             ],
             [
              0.1111111111111111,
              "#46039f"
             ],
             [
              0.2222222222222222,
              "#7201a8"
             ],
             [
              0.3333333333333333,
              "#9c179e"
             ],
             [
              0.4444444444444444,
              "#bd3786"
             ],
             [
              0.5555555555555556,
              "#d8576b"
             ],
             [
              0.6666666666666666,
              "#ed7953"
             ],
             [
              0.7777777777777778,
              "#fb9f3a"
             ],
             [
              0.8888888888888888,
              "#fdca26"
             ],
             [
              1,
              "#f0f921"
             ]
            ],
            "type": "surface"
           }
          ],
          "table": [
           {
            "cells": {
             "fill": {
              "color": "#EBF0F8"
             },
             "line": {
              "color": "white"
             }
            },
            "header": {
             "fill": {
              "color": "#C8D4E3"
             },
             "line": {
              "color": "white"
             }
            },
            "type": "table"
           }
          ]
         },
         "layout": {
          "annotationdefaults": {
           "arrowcolor": "#2a3f5f",
           "arrowhead": 0,
           "arrowwidth": 1
          },
          "autotypenumbers": "strict",
          "coloraxis": {
           "colorbar": {
            "outlinewidth": 0,
            "ticks": ""
           }
          },
          "colorscale": {
           "diverging": [
            [
             0,
             "#8e0152"
            ],
            [
             0.1,
             "#c51b7d"
            ],
            [
             0.2,
             "#de77ae"
            ],
            [
             0.3,
             "#f1b6da"
            ],
            [
             0.4,
             "#fde0ef"
            ],
            [
             0.5,
             "#f7f7f7"
            ],
            [
             0.6,
             "#e6f5d0"
            ],
            [
             0.7,
             "#b8e186"
            ],
            [
             0.8,
             "#7fbc41"
            ],
            [
             0.9,
             "#4d9221"
            ],
            [
             1,
             "#276419"
            ]
           ],
           "sequential": [
            [
             0,
             "#0d0887"
            ],
            [
             0.1111111111111111,
             "#46039f"
            ],
            [
             0.2222222222222222,
             "#7201a8"
            ],
            [
             0.3333333333333333,
             "#9c179e"
            ],
            [
             0.4444444444444444,
             "#bd3786"
            ],
            [
             0.5555555555555556,
             "#d8576b"
            ],
            [
             0.6666666666666666,
             "#ed7953"
            ],
            [
             0.7777777777777778,
             "#fb9f3a"
            ],
            [
             0.8888888888888888,
             "#fdca26"
            ],
            [
             1,
             "#f0f921"
            ]
           ],
           "sequentialminus": [
            [
             0,
             "#0d0887"
            ],
            [
             0.1111111111111111,
             "#46039f"
            ],
            [
             0.2222222222222222,
             "#7201a8"
            ],
            [
             0.3333333333333333,
             "#9c179e"
            ],
            [
             0.4444444444444444,
             "#bd3786"
            ],
            [
             0.5555555555555556,
             "#d8576b"
            ],
            [
             0.6666666666666666,
             "#ed7953"
            ],
            [
             0.7777777777777778,
             "#fb9f3a"
            ],
            [
             0.8888888888888888,
             "#fdca26"
            ],
            [
             1,
             "#f0f921"
            ]
           ]
          },
          "colorway": [
           "#636efa",
           "#EF553B",
           "#00cc96",
           "#ab63fa",
           "#FFA15A",
           "#19d3f3",
           "#FF6692",
           "#B6E880",
           "#FF97FF",
           "#FECB52"
          ],
          "font": {
           "color": "#2a3f5f"
          },
          "geo": {
           "bgcolor": "white",
           "lakecolor": "white",
           "landcolor": "#E5ECF6",
           "showlakes": true,
           "showland": true,
           "subunitcolor": "white"
          },
          "hoverlabel": {
           "align": "left"
          },
          "hovermode": "closest",
          "mapbox": {
           "style": "light"
          },
          "paper_bgcolor": "white",
          "plot_bgcolor": "#E5ECF6",
          "polar": {
           "angularaxis": {
            "gridcolor": "white",
            "linecolor": "white",
            "ticks": ""
           },
           "bgcolor": "#E5ECF6",
           "radialaxis": {
            "gridcolor": "white",
            "linecolor": "white",
            "ticks": ""
           }
          },
          "scene": {
           "xaxis": {
            "backgroundcolor": "#E5ECF6",
            "gridcolor": "white",
            "gridwidth": 2,
            "linecolor": "white",
            "showbackground": true,
            "ticks": "",
            "zerolinecolor": "white"
           },
           "yaxis": {
            "backgroundcolor": "#E5ECF6",
            "gridcolor": "white",
            "gridwidth": 2,
            "linecolor": "white",
            "showbackground": true,
            "ticks": "",
            "zerolinecolor": "white"
           },
           "zaxis": {
            "backgroundcolor": "#E5ECF6",
            "gridcolor": "white",
            "gridwidth": 2,
            "linecolor": "white",
            "showbackground": true,
            "ticks": "",
            "zerolinecolor": "white"
           }
          },
          "shapedefaults": {
           "line": {
            "color": "#2a3f5f"
           }
          },
          "ternary": {
           "aaxis": {
            "gridcolor": "white",
            "linecolor": "white",
            "ticks": ""
           },
           "baxis": {
            "gridcolor": "white",
            "linecolor": "white",
            "ticks": ""
           },
           "bgcolor": "#E5ECF6",
           "caxis": {
            "gridcolor": "white",
            "linecolor": "white",
            "ticks": ""
           }
          },
          "title": {
           "x": 0.05
          },
          "xaxis": {
           "automargin": true,
           "gridcolor": "white",
           "linecolor": "white",
           "ticks": "",
           "title": {
            "standoff": 15
           },
           "zerolinecolor": "white",
           "zerolinewidth": 2
          },
          "yaxis": {
           "automargin": true,
           "gridcolor": "white",
           "linecolor": "white",
           "ticks": "",
           "title": {
            "standoff": 15
           },
           "zerolinecolor": "white",
           "zerolinewidth": 2
          }
         }
        },
        "xaxis": {
         "anchor": "y",
         "domain": [
          0,
          1
         ],
         "title": {
          "text": "Earnings_expectation"
         }
        },
        "yaxis": {
         "anchor": "x",
         "domain": [
          0,
          1
         ],
         "title": {
          "text": "count"
         }
        }
       }
      },
      "text/html": [
       "<div>                            <div id=\"b7428014-3719-4675-836f-24df3a944d9c\" class=\"plotly-graph-div\" style=\"height:525px; width:100%;\"></div>            <script type=\"text/javascript\">                require([\"plotly\"], function(Plotly) {                    window.PLOTLYENV=window.PLOTLYENV || {};                                    if (document.getElementById(\"b7428014-3719-4675-836f-24df3a944d9c\")) {                    Plotly.newPlot(                        \"b7428014-3719-4675-836f-24df3a944d9c\",                        [{\"alignmentgroup\":\"True\",\"bingroup\":\"x\",\"hovertemplate\":\"Earnings_expectation=%{x}<br>count=%{y}<extra></extra>\",\"legendgroup\":\"\",\"marker\":{\"color\":\"#636efa\",\"pattern\":{\"shape\":\"\"}},\"name\":\"\",\"offsetgroup\":\"\",\"orientation\":\"v\",\"showlegend\":false,\"x\":[\"Increase\",\"Increase\",\"Increase\",\"Increase\",\"Decrease\",\"Increase\",\"Increase\",\"Increase\",\"Increase\",\"Increase\",\"Increase\",\"Increase\",\"Increase\",\"Decrease\",\"Increase\",\"Increase\",\"Increase\",\"Increase\",\"Increase\",\"Increase\",\"Increase\",\"Increase\",\"Increase\",\"Increase\",\"Decrease\",\"Increase\",\"Increase\",\"Increase\",\"Increase\",\"Increase\",\"Increase\",\"Increase\",\"Decrease\",\"Increase\",\"Increase\",\"Increase\",\"Increase\",\"Increase\",\"Increase\",\"Decrease\",\"Increase\",\"Increase\",\"Increase\",\"Increase\",\"Increase\",\"Increase\",\"Increase\",\"Increase\",\"Increase\",\"Increase\",\"Increase\",\"Increase\",\"Increase\",\"Increase\",\"Increase\",\"Increase\",\"Increase\",\"Increase\",\"Increase\",\"Decrease\",\"Increase\",\"Increase\",\"Increase\",\"Increase\",\"Increase\",\"Increase\",\"Increase\",\"Increase\",\"Increase\",\"Increase\",\"Increase\",\"Increase\",\"Increase\",\"Increase\",\"Increase\",\"Increase\",\"Increase\",\"Increase\",\"Increase\",\"Increase\",\"Increase\",\"Increase\",\"Increase\",\"Increase\",\"Increase\",\"Increase\",\"Increase\",\"Increase\",\"Increase\",\"Increase\",\"Increase\",\"Increase\",\"Decrease\",\"Increase\",\"Increase\",\"Increase\",\"Increase\",\"Increase\",\"Increase\",\"Decrease\",\"Increase\",\"Increase\",\"Increase\",\"Increase\",\"Decrease\",\"Increase\",\"Increase\",\"Increase\",\"Increase\",\"Increase\",\"Increase\",\"Increase\",\"Increase\",\"Increase\",\"Increase\",\"Increase\",\"Increase\",\"Increase\",\"Increase\",\"Increase\",\"Increase\",\"Increase\",\"Increase\",\"Increase\",\"Increase\",\"Increase\",\"Increase\",\"Increase\",\"Increase\",\"Increase\",\"Increase\",\"Increase\",\"Decrease\",\"Increase\",\"Increase\",\"Increase\",\"Increase\",\"Increase\",\"Increase\",\"Increase\",\"Increase\",\"Increase\",\"Increase\",\"Increase\",\"Decrease\",\"Increase\",\"Increase\",\"Increase\",\"Increase\",\"Increase\",\"Increase\",\"Increase\",\"Increase\",\"Increase\",\"Increase\",\"Increase\",\"Decrease\",\"Increase\",\"Increase\",\"Increase\",\"Increase\",\"Increase\",\"Increase\",\"Decrease\",\"Increase\",\"Increase\",\"Increase\",\"Increase\"],\"xaxis\":\"x\",\"yaxis\":\"y\",\"type\":\"histogram\"}],                        {\"template\":{\"data\":{\"bar\":[{\"error_x\":{\"color\":\"#2a3f5f\"},\"error_y\":{\"color\":\"#2a3f5f\"},\"marker\":{\"line\":{\"color\":\"#E5ECF6\",\"width\":0.5},\"pattern\":{\"fillmode\":\"overlay\",\"size\":10,\"solidity\":0.2}},\"type\":\"bar\"}],\"barpolar\":[{\"marker\":{\"line\":{\"color\":\"#E5ECF6\",\"width\":0.5},\"pattern\":{\"fillmode\":\"overlay\",\"size\":10,\"solidity\":0.2}},\"type\":\"barpolar\"}],\"carpet\":[{\"aaxis\":{\"endlinecolor\":\"#2a3f5f\",\"gridcolor\":\"white\",\"linecolor\":\"white\",\"minorgridcolor\":\"white\",\"startlinecolor\":\"#2a3f5f\"},\"baxis\":{\"endlinecolor\":\"#2a3f5f\",\"gridcolor\":\"white\",\"linecolor\":\"white\",\"minorgridcolor\":\"white\",\"startlinecolor\":\"#2a3f5f\"},\"type\":\"carpet\"}],\"choropleth\":[{\"colorbar\":{\"outlinewidth\":0,\"ticks\":\"\"},\"type\":\"choropleth\"}],\"contour\":[{\"colorbar\":{\"outlinewidth\":0,\"ticks\":\"\"},\"colorscale\":[[0.0,\"#0d0887\"],[0.1111111111111111,\"#46039f\"],[0.2222222222222222,\"#7201a8\"],[0.3333333333333333,\"#9c179e\"],[0.4444444444444444,\"#bd3786\"],[0.5555555555555556,\"#d8576b\"],[0.6666666666666666,\"#ed7953\"],[0.7777777777777778,\"#fb9f3a\"],[0.8888888888888888,\"#fdca26\"],[1.0,\"#f0f921\"]],\"type\":\"contour\"}],\"contourcarpet\":[{\"colorbar\":{\"outlinewidth\":0,\"ticks\":\"\"},\"type\":\"contourcarpet\"}],\"heatmap\":[{\"colorbar\":{\"outlinewidth\":0,\"ticks\":\"\"},\"colorscale\":[[0.0,\"#0d0887\"],[0.1111111111111111,\"#46039f\"],[0.2222222222222222,\"#7201a8\"],[0.3333333333333333,\"#9c179e\"],[0.4444444444444444,\"#bd3786\"],[0.5555555555555556,\"#d8576b\"],[0.6666666666666666,\"#ed7953\"],[0.7777777777777778,\"#fb9f3a\"],[0.8888888888888888,\"#fdca26\"],[1.0,\"#f0f921\"]],\"type\":\"heatmap\"}],\"heatmapgl\":[{\"colorbar\":{\"outlinewidth\":0,\"ticks\":\"\"},\"colorscale\":[[0.0,\"#0d0887\"],[0.1111111111111111,\"#46039f\"],[0.2222222222222222,\"#7201a8\"],[0.3333333333333333,\"#9c179e\"],[0.4444444444444444,\"#bd3786\"],[0.5555555555555556,\"#d8576b\"],[0.6666666666666666,\"#ed7953\"],[0.7777777777777778,\"#fb9f3a\"],[0.8888888888888888,\"#fdca26\"],[1.0,\"#f0f921\"]],\"type\":\"heatmapgl\"}],\"histogram\":[{\"marker\":{\"pattern\":{\"fillmode\":\"overlay\",\"size\":10,\"solidity\":0.2}},\"type\":\"histogram\"}],\"histogram2d\":[{\"colorbar\":{\"outlinewidth\":0,\"ticks\":\"\"},\"colorscale\":[[0.0,\"#0d0887\"],[0.1111111111111111,\"#46039f\"],[0.2222222222222222,\"#7201a8\"],[0.3333333333333333,\"#9c179e\"],[0.4444444444444444,\"#bd3786\"],[0.5555555555555556,\"#d8576b\"],[0.6666666666666666,\"#ed7953\"],[0.7777777777777778,\"#fb9f3a\"],[0.8888888888888888,\"#fdca26\"],[1.0,\"#f0f921\"]],\"type\":\"histogram2d\"}],\"histogram2dcontour\":[{\"colorbar\":{\"outlinewidth\":0,\"ticks\":\"\"},\"colorscale\":[[0.0,\"#0d0887\"],[0.1111111111111111,\"#46039f\"],[0.2222222222222222,\"#7201a8\"],[0.3333333333333333,\"#9c179e\"],[0.4444444444444444,\"#bd3786\"],[0.5555555555555556,\"#d8576b\"],[0.6666666666666666,\"#ed7953\"],[0.7777777777777778,\"#fb9f3a\"],[0.8888888888888888,\"#fdca26\"],[1.0,\"#f0f921\"]],\"type\":\"histogram2dcontour\"}],\"mesh3d\":[{\"colorbar\":{\"outlinewidth\":0,\"ticks\":\"\"},\"type\":\"mesh3d\"}],\"parcoords\":[{\"line\":{\"colorbar\":{\"outlinewidth\":0,\"ticks\":\"\"}},\"type\":\"parcoords\"}],\"pie\":[{\"automargin\":true,\"type\":\"pie\"}],\"scatter\":[{\"marker\":{\"colorbar\":{\"outlinewidth\":0,\"ticks\":\"\"}},\"type\":\"scatter\"}],\"scatter3d\":[{\"line\":{\"colorbar\":{\"outlinewidth\":0,\"ticks\":\"\"}},\"marker\":{\"colorbar\":{\"outlinewidth\":0,\"ticks\":\"\"}},\"type\":\"scatter3d\"}],\"scattercarpet\":[{\"marker\":{\"colorbar\":{\"outlinewidth\":0,\"ticks\":\"\"}},\"type\":\"scattercarpet\"}],\"scattergeo\":[{\"marker\":{\"colorbar\":{\"outlinewidth\":0,\"ticks\":\"\"}},\"type\":\"scattergeo\"}],\"scattergl\":[{\"marker\":{\"colorbar\":{\"outlinewidth\":0,\"ticks\":\"\"}},\"type\":\"scattergl\"}],\"scattermapbox\":[{\"marker\":{\"colorbar\":{\"outlinewidth\":0,\"ticks\":\"\"}},\"type\":\"scattermapbox\"}],\"scatterpolar\":[{\"marker\":{\"colorbar\":{\"outlinewidth\":0,\"ticks\":\"\"}},\"type\":\"scatterpolar\"}],\"scatterpolargl\":[{\"marker\":{\"colorbar\":{\"outlinewidth\":0,\"ticks\":\"\"}},\"type\":\"scatterpolargl\"}],\"scatterternary\":[{\"marker\":{\"colorbar\":{\"outlinewidth\":0,\"ticks\":\"\"}},\"type\":\"scatterternary\"}],\"surface\":[{\"colorbar\":{\"outlinewidth\":0,\"ticks\":\"\"},\"colorscale\":[[0.0,\"#0d0887\"],[0.1111111111111111,\"#46039f\"],[0.2222222222222222,\"#7201a8\"],[0.3333333333333333,\"#9c179e\"],[0.4444444444444444,\"#bd3786\"],[0.5555555555555556,\"#d8576b\"],[0.6666666666666666,\"#ed7953\"],[0.7777777777777778,\"#fb9f3a\"],[0.8888888888888888,\"#fdca26\"],[1.0,\"#f0f921\"]],\"type\":\"surface\"}],\"table\":[{\"cells\":{\"fill\":{\"color\":\"#EBF0F8\"},\"line\":{\"color\":\"white\"}},\"header\":{\"fill\":{\"color\":\"#C8D4E3\"},\"line\":{\"color\":\"white\"}},\"type\":\"table\"}]},\"layout\":{\"annotationdefaults\":{\"arrowcolor\":\"#2a3f5f\",\"arrowhead\":0,\"arrowwidth\":1},\"autotypenumbers\":\"strict\",\"coloraxis\":{\"colorbar\":{\"outlinewidth\":0,\"ticks\":\"\"}},\"colorscale\":{\"diverging\":[[0,\"#8e0152\"],[0.1,\"#c51b7d\"],[0.2,\"#de77ae\"],[0.3,\"#f1b6da\"],[0.4,\"#fde0ef\"],[0.5,\"#f7f7f7\"],[0.6,\"#e6f5d0\"],[0.7,\"#b8e186\"],[0.8,\"#7fbc41\"],[0.9,\"#4d9221\"],[1,\"#276419\"]],\"sequential\":[[0.0,\"#0d0887\"],[0.1111111111111111,\"#46039f\"],[0.2222222222222222,\"#7201a8\"],[0.3333333333333333,\"#9c179e\"],[0.4444444444444444,\"#bd3786\"],[0.5555555555555556,\"#d8576b\"],[0.6666666666666666,\"#ed7953\"],[0.7777777777777778,\"#fb9f3a\"],[0.8888888888888888,\"#fdca26\"],[1.0,\"#f0f921\"]],\"sequentialminus\":[[0.0,\"#0d0887\"],[0.1111111111111111,\"#46039f\"],[0.2222222222222222,\"#7201a8\"],[0.3333333333333333,\"#9c179e\"],[0.4444444444444444,\"#bd3786\"],[0.5555555555555556,\"#d8576b\"],[0.6666666666666666,\"#ed7953\"],[0.7777777777777778,\"#fb9f3a\"],[0.8888888888888888,\"#fdca26\"],[1.0,\"#f0f921\"]]},\"colorway\":[\"#636efa\",\"#EF553B\",\"#00cc96\",\"#ab63fa\",\"#FFA15A\",\"#19d3f3\",\"#FF6692\",\"#B6E880\",\"#FF97FF\",\"#FECB52\"],\"font\":{\"color\":\"#2a3f5f\"},\"geo\":{\"bgcolor\":\"white\",\"lakecolor\":\"white\",\"landcolor\":\"#E5ECF6\",\"showlakes\":true,\"showland\":true,\"subunitcolor\":\"white\"},\"hoverlabel\":{\"align\":\"left\"},\"hovermode\":\"closest\",\"mapbox\":{\"style\":\"light\"},\"paper_bgcolor\":\"white\",\"plot_bgcolor\":\"#E5ECF6\",\"polar\":{\"angularaxis\":{\"gridcolor\":\"white\",\"linecolor\":\"white\",\"ticks\":\"\"},\"bgcolor\":\"#E5ECF6\",\"radialaxis\":{\"gridcolor\":\"white\",\"linecolor\":\"white\",\"ticks\":\"\"}},\"scene\":{\"xaxis\":{\"backgroundcolor\":\"#E5ECF6\",\"gridcolor\":\"white\",\"gridwidth\":2,\"linecolor\":\"white\",\"showbackground\":true,\"ticks\":\"\",\"zerolinecolor\":\"white\"},\"yaxis\":{\"backgroundcolor\":\"#E5ECF6\",\"gridcolor\":\"white\",\"gridwidth\":2,\"linecolor\":\"white\",\"showbackground\":true,\"ticks\":\"\",\"zerolinecolor\":\"white\"},\"zaxis\":{\"backgroundcolor\":\"#E5ECF6\",\"gridcolor\":\"white\",\"gridwidth\":2,\"linecolor\":\"white\",\"showbackground\":true,\"ticks\":\"\",\"zerolinecolor\":\"white\"}},\"shapedefaults\":{\"line\":{\"color\":\"#2a3f5f\"}},\"ternary\":{\"aaxis\":{\"gridcolor\":\"white\",\"linecolor\":\"white\",\"ticks\":\"\"},\"baxis\":{\"gridcolor\":\"white\",\"linecolor\":\"white\",\"ticks\":\"\"},\"bgcolor\":\"#E5ECF6\",\"caxis\":{\"gridcolor\":\"white\",\"linecolor\":\"white\",\"ticks\":\"\"}},\"title\":{\"x\":0.05},\"xaxis\":{\"automargin\":true,\"gridcolor\":\"white\",\"linecolor\":\"white\",\"ticks\":\"\",\"title\":{\"standoff\":15},\"zerolinecolor\":\"white\",\"zerolinewidth\":2},\"yaxis\":{\"automargin\":true,\"gridcolor\":\"white\",\"linecolor\":\"white\",\"ticks\":\"\",\"title\":{\"standoff\":15},\"zerolinecolor\":\"white\",\"zerolinewidth\":2}}},\"xaxis\":{\"anchor\":\"y\",\"domain\":[0.0,1.0],\"title\":{\"text\":\"Earnings_expectation\"}},\"yaxis\":{\"anchor\":\"x\",\"domain\":[0.0,1.0],\"title\":{\"text\":\"count\"}},\"legend\":{\"tracegroupgap\":0},\"margin\":{\"t\":60},\"barmode\":\"relative\"},                        {\"responsive\": true}                    ).then(function(){\n",
       "                            \n",
       "var gd = document.getElementById('b7428014-3719-4675-836f-24df3a944d9c');\n",
       "var x = new MutationObserver(function (mutations, observer) {{\n",
       "        var display = window.getComputedStyle(gd).display;\n",
       "        if (!display || display === 'none') {{\n",
       "            console.log([gd, 'removed!']);\n",
       "            Plotly.purge(gd);\n",
       "            observer.disconnect();\n",
       "        }}\n",
       "}});\n",
       "\n",
       "// Listen for the removal of the full notebook cells\n",
       "var notebookContainer = gd.closest('#notebook-container');\n",
       "if (notebookContainer) {{\n",
       "    x.observe(notebookContainer, {childList: true});\n",
       "}}\n",
       "\n",
       "// Listen for the clearing of the current output cell\n",
       "var outputEl = gd.closest('.output');\n",
       "if (outputEl) {{\n",
       "    x.observe(outputEl, {childList: true});\n",
       "}}\n",
       "\n",
       "                        })                };                });            </script>        </div>"
      ]
     },
     "metadata": {},
     "output_type": "display_data"
    }
   ],
   "source": [
    "fig = px.histogram(new_df, x=\"Earnings_expectation\")\n",
    "fig.show()\n"
   ]
  },
  {
   "cell_type": "code",
   "execution_count": 122,
   "id": "100229ca",
   "metadata": {},
   "outputs": [
    {
     "data": {
      "text/html": [
       "<div>\n",
       "<style scoped>\n",
       "    .dataframe tbody tr th:only-of-type {\n",
       "        vertical-align: middle;\n",
       "    }\n",
       "\n",
       "    .dataframe tbody tr th {\n",
       "        vertical-align: top;\n",
       "    }\n",
       "\n",
       "    .dataframe thead th {\n",
       "        text-align: right;\n",
       "    }\n",
       "</style>\n",
       "<table border=\"1\" class=\"dataframe\">\n",
       "  <thead>\n",
       "    <tr style=\"text-align: right;\">\n",
       "      <th></th>\n",
       "      <th>ticker</th>\n",
       "      <th>name</th>\n",
       "      <th>sector</th>\n",
       "      <th>Earnings_expectation</th>\n",
       "      <th>irv_status</th>\n",
       "      <th>capm_status</th>\n",
       "      <th>esg_status</th>\n",
       "      <th>current_price</th>\n",
       "      <th>annu_return_10y</th>\n",
       "      <th>market_cap</th>\n",
       "      <th>...</th>\n",
       "      <th>eps_ttm</th>\n",
       "      <th>growth_estimate_5y</th>\n",
       "      <th>pe_forward</th>\n",
       "      <th>pe_trailing</th>\n",
       "      <th>irv_FairValue</th>\n",
       "      <th>socialScore</th>\n",
       "      <th>governanceScore</th>\n",
       "      <th>environmentScore</th>\n",
       "      <th>ESG_risk</th>\n",
       "      <th>percentile</th>\n",
       "    </tr>\n",
       "  </thead>\n",
       "  <tbody>\n",
       "    <tr>\n",
       "      <th>1</th>\n",
       "      <td>AAP</td>\n",
       "      <td>Advance Auto Parts Inc.</td>\n",
       "      <td>Consumer Cyclical</td>\n",
       "      <td>Increase</td>\n",
       "      <td>Above Fair Price</td>\n",
       "      <td>UnderValued</td>\n",
       "      <td>Sustainable</td>\n",
       "      <td>218.800003</td>\n",
       "      <td>10.299689</td>\n",
       "      <td>13.368B</td>\n",
       "      <td>...</td>\n",
       "      <td>9.55</td>\n",
       "      <td>0.1525</td>\n",
       "      <td>14.235524</td>\n",
       "      <td>22.910995</td>\n",
       "      <td>111.559143</td>\n",
       "      <td>9.17</td>\n",
       "      <td>3.70</td>\n",
       "      <td>0.10</td>\n",
       "      <td>12.97</td>\n",
       "      <td>5.74</td>\n",
       "    </tr>\n",
       "    <tr>\n",
       "      <th>9</th>\n",
       "      <td>ADM</td>\n",
       "      <td>Archer-Daniels-Midland Company</td>\n",
       "      <td>Consumer Defensive</td>\n",
       "      <td>Increase</td>\n",
       "      <td>Above Fair Price</td>\n",
       "      <td>UnderValued</td>\n",
       "      <td>Not Sustainable</td>\n",
       "      <td>76.389999</td>\n",
       "      <td>12.345809</td>\n",
       "      <td>42.736B</td>\n",
       "      <td>...</td>\n",
       "      <td>4.63</td>\n",
       "      <td>0.1000</td>\n",
       "      <td>15.981171</td>\n",
       "      <td>16.498920</td>\n",
       "      <td>25.601188</td>\n",
       "      <td>13.16</td>\n",
       "      <td>5.04</td>\n",
       "      <td>18.23</td>\n",
       "      <td>36.42</td>\n",
       "      <td>81.21</td>\n",
       "    </tr>\n",
       "    <tr>\n",
       "      <th>11</th>\n",
       "      <td>ADSK</td>\n",
       "      <td>Autodesk, Inc.</td>\n",
       "      <td>Technology</td>\n",
       "      <td>Increase</td>\n",
       "      <td>Below Fair Price</td>\n",
       "      <td>UnderValued</td>\n",
       "      <td>Sustainable</td>\n",
       "      <td>216.839996</td>\n",
       "      <td>18.989885</td>\n",
       "      <td>47.699B</td>\n",
       "      <td>...</td>\n",
       "      <td>5.93</td>\n",
       "      <td>0.2883</td>\n",
       "      <td>31.748169</td>\n",
       "      <td>36.578945</td>\n",
       "      <td>301.389676</td>\n",
       "      <td>9.22</td>\n",
       "      <td>4.87</td>\n",
       "      <td>1.37</td>\n",
       "      <td>15.45</td>\n",
       "      <td>10.77</td>\n",
       "    </tr>\n",
       "    <tr>\n",
       "      <th>14</th>\n",
       "      <td>AES</td>\n",
       "      <td>The AES Corporation</td>\n",
       "      <td>Utilities</td>\n",
       "      <td>Increase</td>\n",
       "      <td>Above Fair Price</td>\n",
       "      <td>UnderValued</td>\n",
       "      <td>Not Sustainable</td>\n",
       "      <td>21.260000</td>\n",
       "      <td>7.567721</td>\n",
       "      <td>14.174B</td>\n",
       "      <td>...</td>\n",
       "      <td>0.78</td>\n",
       "      <td>0.0860</td>\n",
       "      <td>12.884849</td>\n",
       "      <td>27.396906</td>\n",
       "      <td>6.381959</td>\n",
       "      <td>8.31</td>\n",
       "      <td>5.95</td>\n",
       "      <td>20.79</td>\n",
       "      <td>35.05</td>\n",
       "      <td>77.35</td>\n",
       "    </tr>\n",
       "    <tr>\n",
       "      <th>16</th>\n",
       "      <td>AIG</td>\n",
       "      <td>American International Group, I</td>\n",
       "      <td>Financial Services</td>\n",
       "      <td>Decrease</td>\n",
       "      <td>Below Fair Price</td>\n",
       "      <td>UnderValued</td>\n",
       "      <td>Average</td>\n",
       "      <td>61.730000</td>\n",
       "      <td>10.547193</td>\n",
       "      <td>51.254B</td>\n",
       "      <td>...</td>\n",
       "      <td>6.38</td>\n",
       "      <td>0.3069</td>\n",
       "      <td>11.516790</td>\n",
       "      <td>9.680100</td>\n",
       "      <td>97.627279</td>\n",
       "      <td>10.81</td>\n",
       "      <td>14.71</td>\n",
       "      <td>1.87</td>\n",
       "      <td>27.39</td>\n",
       "      <td>51.29</td>\n",
       "    </tr>\n",
       "    <tr>\n",
       "      <th>...</th>\n",
       "      <td>...</td>\n",
       "      <td>...</td>\n",
       "      <td>...</td>\n",
       "      <td>...</td>\n",
       "      <td>...</td>\n",
       "      <td>...</td>\n",
       "      <td>...</td>\n",
       "      <td>...</td>\n",
       "      <td>...</td>\n",
       "      <td>...</td>\n",
       "      <td>...</td>\n",
       "      <td>...</td>\n",
       "      <td>...</td>\n",
       "      <td>...</td>\n",
       "      <td>...</td>\n",
       "      <td>...</td>\n",
       "      <td>...</td>\n",
       "      <td>...</td>\n",
       "      <td>...</td>\n",
       "      <td>...</td>\n",
       "      <td>...</td>\n",
       "    </tr>\n",
       "    <tr>\n",
       "      <th>388</th>\n",
       "      <td>WFC</td>\n",
       "      <td>Wells Fargo &amp; Company</td>\n",
       "      <td>Financial Services</td>\n",
       "      <td>Decrease</td>\n",
       "      <td>Below Fair Price</td>\n",
       "      <td>UnderValued</td>\n",
       "      <td>Not Sustainable</td>\n",
       "      <td>55.630001</td>\n",
       "      <td>9.161000</td>\n",
       "      <td>221.81B</td>\n",
       "      <td>...</td>\n",
       "      <td>4.19</td>\n",
       "      <td>1.1586</td>\n",
       "      <td>14.874331</td>\n",
       "      <td>13.270515</td>\n",
       "      <td>8041.569058</td>\n",
       "      <td>15.40</td>\n",
       "      <td>15.51</td>\n",
       "      <td>1.94</td>\n",
       "      <td>32.84</td>\n",
       "      <td>70.84</td>\n",
       "    </tr>\n",
       "    <tr>\n",
       "      <th>391</th>\n",
       "      <td>WMB</td>\n",
       "      <td>Williams Companies, Inc. (The)</td>\n",
       "      <td>Energy</td>\n",
       "      <td>Increase</td>\n",
       "      <td>Above Fair Price</td>\n",
       "      <td>UnderValued</td>\n",
       "      <td>Not Sustainable</td>\n",
       "      <td>29.620001</td>\n",
       "      <td>5.820337</td>\n",
       "      <td>35.989B</td>\n",
       "      <td>...</td>\n",
       "      <td>0.82</td>\n",
       "      <td>0.0200</td>\n",
       "      <td>23.140627</td>\n",
       "      <td>36.121952</td>\n",
       "      <td>5.031252</td>\n",
       "      <td>8.52</td>\n",
       "      <td>3.20</td>\n",
       "      <td>8.98</td>\n",
       "      <td>20.70</td>\n",
       "      <td>26.43</td>\n",
       "    </tr>\n",
       "    <tr>\n",
       "      <th>396</th>\n",
       "      <td>XRAY</td>\n",
       "      <td>DENTSPLY SIRONA Inc.</td>\n",
       "      <td>Healthcare</td>\n",
       "      <td>Increase</td>\n",
       "      <td>Below Fair Price</td>\n",
       "      <td>UnderValued</td>\n",
       "      <td>Not Sustainable</td>\n",
       "      <td>55.090000</td>\n",
       "      <td>4.236675</td>\n",
       "      <td>12.043B</td>\n",
       "      <td>...</td>\n",
       "      <td>1.90</td>\n",
       "      <td>0.2497</td>\n",
       "      <td>17.269592</td>\n",
       "      <td>28.964249</td>\n",
       "      <td>58.151007</td>\n",
       "      <td>10.42</td>\n",
       "      <td>6.55</td>\n",
       "      <td>3.15</td>\n",
       "      <td>20.12</td>\n",
       "      <td>24.40</td>\n",
       "    </tr>\n",
       "    <tr>\n",
       "      <th>397</th>\n",
       "      <td>XYL</td>\n",
       "      <td>Xylem Inc.</td>\n",
       "      <td>Industrials</td>\n",
       "      <td>Increase</td>\n",
       "      <td>Above Fair Price</td>\n",
       "      <td>UnderValued</td>\n",
       "      <td>Sustainable</td>\n",
       "      <td>90.660004</td>\n",
       "      <td>14.126965</td>\n",
       "      <td>16.348B</td>\n",
       "      <td>...</td>\n",
       "      <td>2.55</td>\n",
       "      <td>0.1876</td>\n",
       "      <td>30.220001</td>\n",
       "      <td>35.566890</td>\n",
       "      <td>60.576924</td>\n",
       "      <td>7.58</td>\n",
       "      <td>5.08</td>\n",
       "      <td>3.30</td>\n",
       "      <td>15.95</td>\n",
       "      <td>12.05</td>\n",
       "    </tr>\n",
       "    <tr>\n",
       "      <th>399</th>\n",
       "      <td>ZBH</td>\n",
       "      <td>Zimmer Biomet Holdings, Inc.</td>\n",
       "      <td>Healthcare</td>\n",
       "      <td>Increase</td>\n",
       "      <td>Above Fair Price</td>\n",
       "      <td>UnderValued</td>\n",
       "      <td>Average</td>\n",
       "      <td>121.019997</td>\n",
       "      <td>7.981383</td>\n",
       "      <td>25.282B</td>\n",
       "      <td>...</td>\n",
       "      <td>3.91</td>\n",
       "      <td>0.0975</td>\n",
       "      <td>15.089774</td>\n",
       "      <td>30.919773</td>\n",
       "      <td>39.695681</td>\n",
       "      <td>13.62</td>\n",
       "      <td>9.93</td>\n",
       "      <td>4.53</td>\n",
       "      <td>28.08</td>\n",
       "      <td>54.02</td>\n",
       "    </tr>\n",
       "  </tbody>\n",
       "</table>\n",
       "<p>168 rows × 22 columns</p>\n",
       "</div>"
      ],
      "text/plain": [
       "    ticker                             name              sector  \\\n",
       "1      AAP          Advance Auto Parts Inc.   Consumer Cyclical   \n",
       "9      ADM   Archer-Daniels-Midland Company  Consumer Defensive   \n",
       "11    ADSK                   Autodesk, Inc.          Technology   \n",
       "14     AES              The AES Corporation           Utilities   \n",
       "16     AIG  American International Group, I  Financial Services   \n",
       "..     ...                              ...                 ...   \n",
       "388    WFC            Wells Fargo & Company  Financial Services   \n",
       "391    WMB   Williams Companies, Inc. (The)              Energy   \n",
       "396   XRAY             DENTSPLY SIRONA Inc.          Healthcare   \n",
       "397    XYL                       Xylem Inc.         Industrials   \n",
       "399    ZBH     Zimmer Biomet Holdings, Inc.          Healthcare   \n",
       "\n",
       "    Earnings_expectation        irv_status  capm_status       esg_status  \\\n",
       "1               Increase  Above Fair Price  UnderValued      Sustainable   \n",
       "9               Increase  Above Fair Price  UnderValued  Not Sustainable   \n",
       "11              Increase  Below Fair Price  UnderValued      Sustainable   \n",
       "14              Increase  Above Fair Price  UnderValued  Not Sustainable   \n",
       "16              Decrease  Below Fair Price  UnderValued          Average   \n",
       "..                   ...               ...          ...              ...   \n",
       "388             Decrease  Below Fair Price  UnderValued  Not Sustainable   \n",
       "391             Increase  Above Fair Price  UnderValued  Not Sustainable   \n",
       "396             Increase  Below Fair Price  UnderValued  Not Sustainable   \n",
       "397             Increase  Above Fair Price  UnderValued      Sustainable   \n",
       "399             Increase  Above Fair Price  UnderValued          Average   \n",
       "\n",
       "     current_price  annu_return_10y market_cap  ... eps_ttm  \\\n",
       "1       218.800003        10.299689    13.368B  ...    9.55   \n",
       "9        76.389999        12.345809    42.736B  ...    4.63   \n",
       "11      216.839996        18.989885    47.699B  ...    5.93   \n",
       "14       21.260000         7.567721    14.174B  ...    0.78   \n",
       "16       61.730000        10.547193    51.254B  ...    6.38   \n",
       "..             ...              ...        ...  ...     ...   \n",
       "388      55.630001         9.161000    221.81B  ...    4.19   \n",
       "391      29.620001         5.820337    35.989B  ...    0.82   \n",
       "396      55.090000         4.236675    12.043B  ...    1.90   \n",
       "397      90.660004        14.126965    16.348B  ...    2.55   \n",
       "399     121.019997         7.981383    25.282B  ...    3.91   \n",
       "\n",
       "     growth_estimate_5y  pe_forward  pe_trailing  irv_FairValue  socialScore  \\\n",
       "1                0.1525   14.235524    22.910995     111.559143         9.17   \n",
       "9                0.1000   15.981171    16.498920      25.601188        13.16   \n",
       "11               0.2883   31.748169    36.578945     301.389676         9.22   \n",
       "14               0.0860   12.884849    27.396906       6.381959         8.31   \n",
       "16               0.3069   11.516790     9.680100      97.627279        10.81   \n",
       "..                  ...         ...          ...            ...          ...   \n",
       "388              1.1586   14.874331    13.270515    8041.569058        15.40   \n",
       "391              0.0200   23.140627    36.121952       5.031252         8.52   \n",
       "396              0.2497   17.269592    28.964249      58.151007        10.42   \n",
       "397              0.1876   30.220001    35.566890      60.576924         7.58   \n",
       "399              0.0975   15.089774    30.919773      39.695681        13.62   \n",
       "\n",
       "     governanceScore  environmentScore  ESG_risk  percentile  \n",
       "1               3.70              0.10     12.97        5.74  \n",
       "9               5.04             18.23     36.42       81.21  \n",
       "11              4.87              1.37     15.45       10.77  \n",
       "14              5.95             20.79     35.05       77.35  \n",
       "16             14.71              1.87     27.39       51.29  \n",
       "..               ...               ...       ...         ...  \n",
       "388            15.51              1.94     32.84       70.84  \n",
       "391             3.20              8.98     20.70       26.43  \n",
       "396             6.55              3.15     20.12       24.40  \n",
       "397             5.08              3.30     15.95       12.05  \n",
       "399             9.93              4.53     28.08       54.02  \n",
       "\n",
       "[168 rows x 22 columns]"
      ]
     },
     "execution_count": 122,
     "metadata": {},
     "output_type": "execute_result"
    }
   ],
   "source": [
    "new_df"
   ]
  },
  {
   "cell_type": "code",
   "execution_count": 126,
   "id": "6df7dad9",
   "metadata": {},
   "outputs": [
    {
     "data": {
      "application/vnd.plotly.v1+json": {
       "config": {
        "plotlyServerURL": "https://plot.ly"
       },
       "data": [
        {
         "alignmentgroup": "True",
         "bingroup": "x",
         "hovertemplate": "irv_status=%{x}<br>count=%{y}<extra></extra>",
         "legendgroup": "",
         "marker": {
          "color": "#636efa",
          "pattern": {
           "shape": ""
          }
         },
         "name": "",
         "offsetgroup": "",
         "orientation": "v",
         "showlegend": false,
         "type": "histogram",
         "x": [
          "Above Fair Price",
          "Above Fair Price",
          "Below Fair Price",
          "Above Fair Price",
          "Below Fair Price",
          "Below Fair Price",
          "Above Fair Price",
          "Above Fair Price",
          "Below Fair Price",
          "Below Fair Price",
          "Above Fair Price",
          "Below Fair Price",
          "Below Fair Price",
          "Below Fair Price",
          "Above Fair Price",
          "Above Fair Price",
          "Above Fair Price",
          "Below Fair Price",
          "Below Fair Price",
          "Above Fair Price",
          "Above Fair Price",
          "Above Fair Price",
          "Below Fair Price",
          "Above Fair Price",
          "Below Fair Price",
          "Above Fair Price",
          "Below Fair Price",
          "Above Fair Price",
          "Below Fair Price",
          "Above Fair Price",
          "Below Fair Price",
          "Above Fair Price",
          "Below Fair Price",
          "Above Fair Price",
          "Above Fair Price",
          "Below Fair Price",
          "Above Fair Price",
          "Above Fair Price",
          "Above Fair Price",
          "Below Fair Price",
          "Above Fair Price",
          "Below Fair Price",
          "Above Fair Price",
          "Below Fair Price",
          "Below Fair Price",
          "Above Fair Price",
          "Above Fair Price",
          "Below Fair Price",
          "Below Fair Price",
          "Below Fair Price",
          "Above Fair Price",
          "Above Fair Price",
          "Above Fair Price",
          "Below Fair Price",
          "Above Fair Price",
          "Above Fair Price",
          "Above Fair Price",
          "Above Fair Price",
          "Above Fair Price",
          "Below Fair Price",
          "Above Fair Price",
          "Above Fair Price",
          "Above Fair Price",
          "Above Fair Price",
          "Above Fair Price",
          "Below Fair Price",
          "Above Fair Price",
          "Above Fair Price",
          "Above Fair Price",
          "Above Fair Price",
          "Below Fair Price",
          "Above Fair Price",
          "Above Fair Price",
          "Above Fair Price",
          "Below Fair Price",
          "Above Fair Price",
          "Above Fair Price",
          "Below Fair Price",
          "Above Fair Price",
          "Above Fair Price",
          "Above Fair Price",
          "Above Fair Price",
          "Above Fair Price",
          "Above Fair Price",
          "Above Fair Price",
          "Above Fair Price",
          "Above Fair Price",
          "Above Fair Price",
          "Above Fair Price",
          "Above Fair Price",
          "Below Fair Price",
          "Below Fair Price",
          "Below Fair Price",
          "Below Fair Price",
          "Below Fair Price",
          "Above Fair Price",
          "Above Fair Price",
          "Above Fair Price",
          "Above Fair Price",
          "Below Fair Price",
          "Below Fair Price",
          "Below Fair Price",
          "Above Fair Price",
          "Below Fair Price",
          "Below Fair Price",
          "Above Fair Price",
          "Above Fair Price",
          "Above Fair Price",
          "Below Fair Price",
          "Below Fair Price",
          "Above Fair Price",
          "Above Fair Price",
          "Above Fair Price",
          "Above Fair Price",
          "Above Fair Price",
          "Below Fair Price",
          "Below Fair Price",
          "Above Fair Price",
          "Above Fair Price",
          "Above Fair Price",
          "Above Fair Price",
          "Above Fair Price",
          "Above Fair Price",
          "Above Fair Price",
          "Above Fair Price",
          "Above Fair Price",
          "Below Fair Price",
          "Above Fair Price",
          "Below Fair Price",
          "Above Fair Price",
          "Below Fair Price",
          "Above Fair Price",
          "Below Fair Price",
          "Below Fair Price",
          "Below Fair Price",
          "Above Fair Price",
          "Below Fair Price",
          "Below Fair Price",
          "Above Fair Price",
          "Above Fair Price",
          "Below Fair Price",
          "Above Fair Price",
          "Above Fair Price",
          "Above Fair Price",
          "Below Fair Price",
          "Below Fair Price",
          "Above Fair Price",
          "Below Fair Price",
          "Above Fair Price",
          "Below Fair Price",
          "Below Fair Price",
          "Above Fair Price",
          "Above Fair Price",
          "Above Fair Price",
          "Below Fair Price",
          "Above Fair Price",
          "Below Fair Price",
          "Below Fair Price",
          "Above Fair Price",
          "Above Fair Price",
          "Below Fair Price",
          "Above Fair Price",
          "Above Fair Price",
          "Below Fair Price",
          "Above Fair Price",
          "Below Fair Price",
          "Above Fair Price",
          "Above Fair Price"
         ],
         "xaxis": "x",
         "yaxis": "y"
        }
       ],
       "layout": {
        "barmode": "relative",
        "legend": {
         "tracegroupgap": 0
        },
        "margin": {
         "t": 60
        },
        "template": {
         "data": {
          "bar": [
           {
            "error_x": {
             "color": "#2a3f5f"
            },
            "error_y": {
             "color": "#2a3f5f"
            },
            "marker": {
             "line": {
              "color": "#E5ECF6",
              "width": 0.5
             },
             "pattern": {
              "fillmode": "overlay",
              "size": 10,
              "solidity": 0.2
             }
            },
            "type": "bar"
           }
          ],
          "barpolar": [
           {
            "marker": {
             "line": {
              "color": "#E5ECF6",
              "width": 0.5
             },
             "pattern": {
              "fillmode": "overlay",
              "size": 10,
              "solidity": 0.2
             }
            },
            "type": "barpolar"
           }
          ],
          "carpet": [
           {
            "aaxis": {
             "endlinecolor": "#2a3f5f",
             "gridcolor": "white",
             "linecolor": "white",
             "minorgridcolor": "white",
             "startlinecolor": "#2a3f5f"
            },
            "baxis": {
             "endlinecolor": "#2a3f5f",
             "gridcolor": "white",
             "linecolor": "white",
             "minorgridcolor": "white",
             "startlinecolor": "#2a3f5f"
            },
            "type": "carpet"
           }
          ],
          "choropleth": [
           {
            "colorbar": {
             "outlinewidth": 0,
             "ticks": ""
            },
            "type": "choropleth"
           }
          ],
          "contour": [
           {
            "colorbar": {
             "outlinewidth": 0,
             "ticks": ""
            },
            "colorscale": [
             [
              0,
              "#0d0887"
             ],
             [
              0.1111111111111111,
              "#46039f"
             ],
             [
              0.2222222222222222,
              "#7201a8"
             ],
             [
              0.3333333333333333,
              "#9c179e"
             ],
             [
              0.4444444444444444,
              "#bd3786"
             ],
             [
              0.5555555555555556,
              "#d8576b"
             ],
             [
              0.6666666666666666,
              "#ed7953"
             ],
             [
              0.7777777777777778,
              "#fb9f3a"
             ],
             [
              0.8888888888888888,
              "#fdca26"
             ],
             [
              1,
              "#f0f921"
             ]
            ],
            "type": "contour"
           }
          ],
          "contourcarpet": [
           {
            "colorbar": {
             "outlinewidth": 0,
             "ticks": ""
            },
            "type": "contourcarpet"
           }
          ],
          "heatmap": [
           {
            "colorbar": {
             "outlinewidth": 0,
             "ticks": ""
            },
            "colorscale": [
             [
              0,
              "#0d0887"
             ],
             [
              0.1111111111111111,
              "#46039f"
             ],
             [
              0.2222222222222222,
              "#7201a8"
             ],
             [
              0.3333333333333333,
              "#9c179e"
             ],
             [
              0.4444444444444444,
              "#bd3786"
             ],
             [
              0.5555555555555556,
              "#d8576b"
             ],
             [
              0.6666666666666666,
              "#ed7953"
             ],
             [
              0.7777777777777778,
              "#fb9f3a"
             ],
             [
              0.8888888888888888,
              "#fdca26"
             ],
             [
              1,
              "#f0f921"
             ]
            ],
            "type": "heatmap"
           }
          ],
          "heatmapgl": [
           {
            "colorbar": {
             "outlinewidth": 0,
             "ticks": ""
            },
            "colorscale": [
             [
              0,
              "#0d0887"
             ],
             [
              0.1111111111111111,
              "#46039f"
             ],
             [
              0.2222222222222222,
              "#7201a8"
             ],
             [
              0.3333333333333333,
              "#9c179e"
             ],
             [
              0.4444444444444444,
              "#bd3786"
             ],
             [
              0.5555555555555556,
              "#d8576b"
             ],
             [
              0.6666666666666666,
              "#ed7953"
             ],
             [
              0.7777777777777778,
              "#fb9f3a"
             ],
             [
              0.8888888888888888,
              "#fdca26"
             ],
             [
              1,
              "#f0f921"
             ]
            ],
            "type": "heatmapgl"
           }
          ],
          "histogram": [
           {
            "marker": {
             "pattern": {
              "fillmode": "overlay",
              "size": 10,
              "solidity": 0.2
             }
            },
            "type": "histogram"
           }
          ],
          "histogram2d": [
           {
            "colorbar": {
             "outlinewidth": 0,
             "ticks": ""
            },
            "colorscale": [
             [
              0,
              "#0d0887"
             ],
             [
              0.1111111111111111,
              "#46039f"
             ],
             [
              0.2222222222222222,
              "#7201a8"
             ],
             [
              0.3333333333333333,
              "#9c179e"
             ],
             [
              0.4444444444444444,
              "#bd3786"
             ],
             [
              0.5555555555555556,
              "#d8576b"
             ],
             [
              0.6666666666666666,
              "#ed7953"
             ],
             [
              0.7777777777777778,
              "#fb9f3a"
             ],
             [
              0.8888888888888888,
              "#fdca26"
             ],
             [
              1,
              "#f0f921"
             ]
            ],
            "type": "histogram2d"
           }
          ],
          "histogram2dcontour": [
           {
            "colorbar": {
             "outlinewidth": 0,
             "ticks": ""
            },
            "colorscale": [
             [
              0,
              "#0d0887"
             ],
             [
              0.1111111111111111,
              "#46039f"
             ],
             [
              0.2222222222222222,
              "#7201a8"
             ],
             [
              0.3333333333333333,
              "#9c179e"
             ],
             [
              0.4444444444444444,
              "#bd3786"
             ],
             [
              0.5555555555555556,
              "#d8576b"
             ],
             [
              0.6666666666666666,
              "#ed7953"
             ],
             [
              0.7777777777777778,
              "#fb9f3a"
             ],
             [
              0.8888888888888888,
              "#fdca26"
             ],
             [
              1,
              "#f0f921"
             ]
            ],
            "type": "histogram2dcontour"
           }
          ],
          "mesh3d": [
           {
            "colorbar": {
             "outlinewidth": 0,
             "ticks": ""
            },
            "type": "mesh3d"
           }
          ],
          "parcoords": [
           {
            "line": {
             "colorbar": {
              "outlinewidth": 0,
              "ticks": ""
             }
            },
            "type": "parcoords"
           }
          ],
          "pie": [
           {
            "automargin": true,
            "type": "pie"
           }
          ],
          "scatter": [
           {
            "marker": {
             "colorbar": {
              "outlinewidth": 0,
              "ticks": ""
             }
            },
            "type": "scatter"
           }
          ],
          "scatter3d": [
           {
            "line": {
             "colorbar": {
              "outlinewidth": 0,
              "ticks": ""
             }
            },
            "marker": {
             "colorbar": {
              "outlinewidth": 0,
              "ticks": ""
             }
            },
            "type": "scatter3d"
           }
          ],
          "scattercarpet": [
           {
            "marker": {
             "colorbar": {
              "outlinewidth": 0,
              "ticks": ""
             }
            },
            "type": "scattercarpet"
           }
          ],
          "scattergeo": [
           {
            "marker": {
             "colorbar": {
              "outlinewidth": 0,
              "ticks": ""
             }
            },
            "type": "scattergeo"
           }
          ],
          "scattergl": [
           {
            "marker": {
             "colorbar": {
              "outlinewidth": 0,
              "ticks": ""
             }
            },
            "type": "scattergl"
           }
          ],
          "scattermapbox": [
           {
            "marker": {
             "colorbar": {
              "outlinewidth": 0,
              "ticks": ""
             }
            },
            "type": "scattermapbox"
           }
          ],
          "scatterpolar": [
           {
            "marker": {
             "colorbar": {
              "outlinewidth": 0,
              "ticks": ""
             }
            },
            "type": "scatterpolar"
           }
          ],
          "scatterpolargl": [
           {
            "marker": {
             "colorbar": {
              "outlinewidth": 0,
              "ticks": ""
             }
            },
            "type": "scatterpolargl"
           }
          ],
          "scatterternary": [
           {
            "marker": {
             "colorbar": {
              "outlinewidth": 0,
              "ticks": ""
             }
            },
            "type": "scatterternary"
           }
          ],
          "surface": [
           {
            "colorbar": {
             "outlinewidth": 0,
             "ticks": ""
            },
            "colorscale": [
             [
              0,
              "#0d0887"
             ],
             [
              0.1111111111111111,
              "#46039f"
             ],
             [
              0.2222222222222222,
              "#7201a8"
             ],
             [
              0.3333333333333333,
              "#9c179e"
             ],
             [
              0.4444444444444444,
              "#bd3786"
             ],
             [
              0.5555555555555556,
              "#d8576b"
             ],
             [
              0.6666666666666666,
              "#ed7953"
             ],
             [
              0.7777777777777778,
              "#fb9f3a"
             ],
             [
              0.8888888888888888,
              "#fdca26"
             ],
             [
              1,
              "#f0f921"
             ]
            ],
            "type": "surface"
           }
          ],
          "table": [
           {
            "cells": {
             "fill": {
              "color": "#EBF0F8"
             },
             "line": {
              "color": "white"
             }
            },
            "header": {
             "fill": {
              "color": "#C8D4E3"
             },
             "line": {
              "color": "white"
             }
            },
            "type": "table"
           }
          ]
         },
         "layout": {
          "annotationdefaults": {
           "arrowcolor": "#2a3f5f",
           "arrowhead": 0,
           "arrowwidth": 1
          },
          "autotypenumbers": "strict",
          "coloraxis": {
           "colorbar": {
            "outlinewidth": 0,
            "ticks": ""
           }
          },
          "colorscale": {
           "diverging": [
            [
             0,
             "#8e0152"
            ],
            [
             0.1,
             "#c51b7d"
            ],
            [
             0.2,
             "#de77ae"
            ],
            [
             0.3,
             "#f1b6da"
            ],
            [
             0.4,
             "#fde0ef"
            ],
            [
             0.5,
             "#f7f7f7"
            ],
            [
             0.6,
             "#e6f5d0"
            ],
            [
             0.7,
             "#b8e186"
            ],
            [
             0.8,
             "#7fbc41"
            ],
            [
             0.9,
             "#4d9221"
            ],
            [
             1,
             "#276419"
            ]
           ],
           "sequential": [
            [
             0,
             "#0d0887"
            ],
            [
             0.1111111111111111,
             "#46039f"
            ],
            [
             0.2222222222222222,
             "#7201a8"
            ],
            [
             0.3333333333333333,
             "#9c179e"
            ],
            [
             0.4444444444444444,
             "#bd3786"
            ],
            [
             0.5555555555555556,
             "#d8576b"
            ],
            [
             0.6666666666666666,
             "#ed7953"
            ],
            [
             0.7777777777777778,
             "#fb9f3a"
            ],
            [
             0.8888888888888888,
             "#fdca26"
            ],
            [
             1,
             "#f0f921"
            ]
           ],
           "sequentialminus": [
            [
             0,
             "#0d0887"
            ],
            [
             0.1111111111111111,
             "#46039f"
            ],
            [
             0.2222222222222222,
             "#7201a8"
            ],
            [
             0.3333333333333333,
             "#9c179e"
            ],
            [
             0.4444444444444444,
             "#bd3786"
            ],
            [
             0.5555555555555556,
             "#d8576b"
            ],
            [
             0.6666666666666666,
             "#ed7953"
            ],
            [
             0.7777777777777778,
             "#fb9f3a"
            ],
            [
             0.8888888888888888,
             "#fdca26"
            ],
            [
             1,
             "#f0f921"
            ]
           ]
          },
          "colorway": [
           "#636efa",
           "#EF553B",
           "#00cc96",
           "#ab63fa",
           "#FFA15A",
           "#19d3f3",
           "#FF6692",
           "#B6E880",
           "#FF97FF",
           "#FECB52"
          ],
          "font": {
           "color": "#2a3f5f"
          },
          "geo": {
           "bgcolor": "white",
           "lakecolor": "white",
           "landcolor": "#E5ECF6",
           "showlakes": true,
           "showland": true,
           "subunitcolor": "white"
          },
          "hoverlabel": {
           "align": "left"
          },
          "hovermode": "closest",
          "mapbox": {
           "style": "light"
          },
          "paper_bgcolor": "white",
          "plot_bgcolor": "#E5ECF6",
          "polar": {
           "angularaxis": {
            "gridcolor": "white",
            "linecolor": "white",
            "ticks": ""
           },
           "bgcolor": "#E5ECF6",
           "radialaxis": {
            "gridcolor": "white",
            "linecolor": "white",
            "ticks": ""
           }
          },
          "scene": {
           "xaxis": {
            "backgroundcolor": "#E5ECF6",
            "gridcolor": "white",
            "gridwidth": 2,
            "linecolor": "white",
            "showbackground": true,
            "ticks": "",
            "zerolinecolor": "white"
           },
           "yaxis": {
            "backgroundcolor": "#E5ECF6",
            "gridcolor": "white",
            "gridwidth": 2,
            "linecolor": "white",
            "showbackground": true,
            "ticks": "",
            "zerolinecolor": "white"
           },
           "zaxis": {
            "backgroundcolor": "#E5ECF6",
            "gridcolor": "white",
            "gridwidth": 2,
            "linecolor": "white",
            "showbackground": true,
            "ticks": "",
            "zerolinecolor": "white"
           }
          },
          "shapedefaults": {
           "line": {
            "color": "#2a3f5f"
           }
          },
          "ternary": {
           "aaxis": {
            "gridcolor": "white",
            "linecolor": "white",
            "ticks": ""
           },
           "baxis": {
            "gridcolor": "white",
            "linecolor": "white",
            "ticks": ""
           },
           "bgcolor": "#E5ECF6",
           "caxis": {
            "gridcolor": "white",
            "linecolor": "white",
            "ticks": ""
           }
          },
          "title": {
           "x": 0.05
          },
          "xaxis": {
           "automargin": true,
           "gridcolor": "white",
           "linecolor": "white",
           "ticks": "",
           "title": {
            "standoff": 15
           },
           "zerolinecolor": "white",
           "zerolinewidth": 2
          },
          "yaxis": {
           "automargin": true,
           "gridcolor": "white",
           "linecolor": "white",
           "ticks": "",
           "title": {
            "standoff": 15
           },
           "zerolinecolor": "white",
           "zerolinewidth": 2
          }
         }
        },
        "xaxis": {
         "anchor": "y",
         "domain": [
          0,
          1
         ],
         "title": {
          "text": "irv_status"
         }
        },
        "yaxis": {
         "anchor": "x",
         "domain": [
          0,
          1
         ],
         "title": {
          "text": "count"
         }
        }
       }
      },
      "text/html": [
       "<div>                            <div id=\"2876e2a7-3518-4539-b452-3fc85a4b8382\" class=\"plotly-graph-div\" style=\"height:525px; width:100%;\"></div>            <script type=\"text/javascript\">                require([\"plotly\"], function(Plotly) {                    window.PLOTLYENV=window.PLOTLYENV || {};                                    if (document.getElementById(\"2876e2a7-3518-4539-b452-3fc85a4b8382\")) {                    Plotly.newPlot(                        \"2876e2a7-3518-4539-b452-3fc85a4b8382\",                        [{\"alignmentgroup\":\"True\",\"bingroup\":\"x\",\"hovertemplate\":\"irv_status=%{x}<br>count=%{y}<extra></extra>\",\"legendgroup\":\"\",\"marker\":{\"color\":\"#636efa\",\"pattern\":{\"shape\":\"\"}},\"name\":\"\",\"offsetgroup\":\"\",\"orientation\":\"v\",\"showlegend\":false,\"x\":[\"Above Fair Price\",\"Above Fair Price\",\"Below Fair Price\",\"Above Fair Price\",\"Below Fair Price\",\"Below Fair Price\",\"Above Fair Price\",\"Above Fair Price\",\"Below Fair Price\",\"Below Fair Price\",\"Above Fair Price\",\"Below Fair Price\",\"Below Fair Price\",\"Below Fair Price\",\"Above Fair Price\",\"Above Fair Price\",\"Above Fair Price\",\"Below Fair Price\",\"Below Fair Price\",\"Above Fair Price\",\"Above Fair Price\",\"Above Fair Price\",\"Below Fair Price\",\"Above Fair Price\",\"Below Fair Price\",\"Above Fair Price\",\"Below Fair Price\",\"Above Fair Price\",\"Below Fair Price\",\"Above Fair Price\",\"Below Fair Price\",\"Above Fair Price\",\"Below Fair Price\",\"Above Fair Price\",\"Above Fair Price\",\"Below Fair Price\",\"Above Fair Price\",\"Above Fair Price\",\"Above Fair Price\",\"Below Fair Price\",\"Above Fair Price\",\"Below Fair Price\",\"Above Fair Price\",\"Below Fair Price\",\"Below Fair Price\",\"Above Fair Price\",\"Above Fair Price\",\"Below Fair Price\",\"Below Fair Price\",\"Below Fair Price\",\"Above Fair Price\",\"Above Fair Price\",\"Above Fair Price\",\"Below Fair Price\",\"Above Fair Price\",\"Above Fair Price\",\"Above Fair Price\",\"Above Fair Price\",\"Above Fair Price\",\"Below Fair Price\",\"Above Fair Price\",\"Above Fair Price\",\"Above Fair Price\",\"Above Fair Price\",\"Above Fair Price\",\"Below Fair Price\",\"Above Fair Price\",\"Above Fair Price\",\"Above Fair Price\",\"Above Fair Price\",\"Below Fair Price\",\"Above Fair Price\",\"Above Fair Price\",\"Above Fair Price\",\"Below Fair Price\",\"Above Fair Price\",\"Above Fair Price\",\"Below Fair Price\",\"Above Fair Price\",\"Above Fair Price\",\"Above Fair Price\",\"Above Fair Price\",\"Above Fair Price\",\"Above Fair Price\",\"Above Fair Price\",\"Above Fair Price\",\"Above Fair Price\",\"Above Fair Price\",\"Above Fair Price\",\"Above Fair Price\",\"Below Fair Price\",\"Below Fair Price\",\"Below Fair Price\",\"Below Fair Price\",\"Below Fair Price\",\"Above Fair Price\",\"Above Fair Price\",\"Above Fair Price\",\"Above Fair Price\",\"Below Fair Price\",\"Below Fair Price\",\"Below Fair Price\",\"Above Fair Price\",\"Below Fair Price\",\"Below Fair Price\",\"Above Fair Price\",\"Above Fair Price\",\"Above Fair Price\",\"Below Fair Price\",\"Below Fair Price\",\"Above Fair Price\",\"Above Fair Price\",\"Above Fair Price\",\"Above Fair Price\",\"Above Fair Price\",\"Below Fair Price\",\"Below Fair Price\",\"Above Fair Price\",\"Above Fair Price\",\"Above Fair Price\",\"Above Fair Price\",\"Above Fair Price\",\"Above Fair Price\",\"Above Fair Price\",\"Above Fair Price\",\"Above Fair Price\",\"Below Fair Price\",\"Above Fair Price\",\"Below Fair Price\",\"Above Fair Price\",\"Below Fair Price\",\"Above Fair Price\",\"Below Fair Price\",\"Below Fair Price\",\"Below Fair Price\",\"Above Fair Price\",\"Below Fair Price\",\"Below Fair Price\",\"Above Fair Price\",\"Above Fair Price\",\"Below Fair Price\",\"Above Fair Price\",\"Above Fair Price\",\"Above Fair Price\",\"Below Fair Price\",\"Below Fair Price\",\"Above Fair Price\",\"Below Fair Price\",\"Above Fair Price\",\"Below Fair Price\",\"Below Fair Price\",\"Above Fair Price\",\"Above Fair Price\",\"Above Fair Price\",\"Below Fair Price\",\"Above Fair Price\",\"Below Fair Price\",\"Below Fair Price\",\"Above Fair Price\",\"Above Fair Price\",\"Below Fair Price\",\"Above Fair Price\",\"Above Fair Price\",\"Below Fair Price\",\"Above Fair Price\",\"Below Fair Price\",\"Above Fair Price\",\"Above Fair Price\"],\"xaxis\":\"x\",\"yaxis\":\"y\",\"type\":\"histogram\"}],                        {\"template\":{\"data\":{\"bar\":[{\"error_x\":{\"color\":\"#2a3f5f\"},\"error_y\":{\"color\":\"#2a3f5f\"},\"marker\":{\"line\":{\"color\":\"#E5ECF6\",\"width\":0.5},\"pattern\":{\"fillmode\":\"overlay\",\"size\":10,\"solidity\":0.2}},\"type\":\"bar\"}],\"barpolar\":[{\"marker\":{\"line\":{\"color\":\"#E5ECF6\",\"width\":0.5},\"pattern\":{\"fillmode\":\"overlay\",\"size\":10,\"solidity\":0.2}},\"type\":\"barpolar\"}],\"carpet\":[{\"aaxis\":{\"endlinecolor\":\"#2a3f5f\",\"gridcolor\":\"white\",\"linecolor\":\"white\",\"minorgridcolor\":\"white\",\"startlinecolor\":\"#2a3f5f\"},\"baxis\":{\"endlinecolor\":\"#2a3f5f\",\"gridcolor\":\"white\",\"linecolor\":\"white\",\"minorgridcolor\":\"white\",\"startlinecolor\":\"#2a3f5f\"},\"type\":\"carpet\"}],\"choropleth\":[{\"colorbar\":{\"outlinewidth\":0,\"ticks\":\"\"},\"type\":\"choropleth\"}],\"contour\":[{\"colorbar\":{\"outlinewidth\":0,\"ticks\":\"\"},\"colorscale\":[[0.0,\"#0d0887\"],[0.1111111111111111,\"#46039f\"],[0.2222222222222222,\"#7201a8\"],[0.3333333333333333,\"#9c179e\"],[0.4444444444444444,\"#bd3786\"],[0.5555555555555556,\"#d8576b\"],[0.6666666666666666,\"#ed7953\"],[0.7777777777777778,\"#fb9f3a\"],[0.8888888888888888,\"#fdca26\"],[1.0,\"#f0f921\"]],\"type\":\"contour\"}],\"contourcarpet\":[{\"colorbar\":{\"outlinewidth\":0,\"ticks\":\"\"},\"type\":\"contourcarpet\"}],\"heatmap\":[{\"colorbar\":{\"outlinewidth\":0,\"ticks\":\"\"},\"colorscale\":[[0.0,\"#0d0887\"],[0.1111111111111111,\"#46039f\"],[0.2222222222222222,\"#7201a8\"],[0.3333333333333333,\"#9c179e\"],[0.4444444444444444,\"#bd3786\"],[0.5555555555555556,\"#d8576b\"],[0.6666666666666666,\"#ed7953\"],[0.7777777777777778,\"#fb9f3a\"],[0.8888888888888888,\"#fdca26\"],[1.0,\"#f0f921\"]],\"type\":\"heatmap\"}],\"heatmapgl\":[{\"colorbar\":{\"outlinewidth\":0,\"ticks\":\"\"},\"colorscale\":[[0.0,\"#0d0887\"],[0.1111111111111111,\"#46039f\"],[0.2222222222222222,\"#7201a8\"],[0.3333333333333333,\"#9c179e\"],[0.4444444444444444,\"#bd3786\"],[0.5555555555555556,\"#d8576b\"],[0.6666666666666666,\"#ed7953\"],[0.7777777777777778,\"#fb9f3a\"],[0.8888888888888888,\"#fdca26\"],[1.0,\"#f0f921\"]],\"type\":\"heatmapgl\"}],\"histogram\":[{\"marker\":{\"pattern\":{\"fillmode\":\"overlay\",\"size\":10,\"solidity\":0.2}},\"type\":\"histogram\"}],\"histogram2d\":[{\"colorbar\":{\"outlinewidth\":0,\"ticks\":\"\"},\"colorscale\":[[0.0,\"#0d0887\"],[0.1111111111111111,\"#46039f\"],[0.2222222222222222,\"#7201a8\"],[0.3333333333333333,\"#9c179e\"],[0.4444444444444444,\"#bd3786\"],[0.5555555555555556,\"#d8576b\"],[0.6666666666666666,\"#ed7953\"],[0.7777777777777778,\"#fb9f3a\"],[0.8888888888888888,\"#fdca26\"],[1.0,\"#f0f921\"]],\"type\":\"histogram2d\"}],\"histogram2dcontour\":[{\"colorbar\":{\"outlinewidth\":0,\"ticks\":\"\"},\"colorscale\":[[0.0,\"#0d0887\"],[0.1111111111111111,\"#46039f\"],[0.2222222222222222,\"#7201a8\"],[0.3333333333333333,\"#9c179e\"],[0.4444444444444444,\"#bd3786\"],[0.5555555555555556,\"#d8576b\"],[0.6666666666666666,\"#ed7953\"],[0.7777777777777778,\"#fb9f3a\"],[0.8888888888888888,\"#fdca26\"],[1.0,\"#f0f921\"]],\"type\":\"histogram2dcontour\"}],\"mesh3d\":[{\"colorbar\":{\"outlinewidth\":0,\"ticks\":\"\"},\"type\":\"mesh3d\"}],\"parcoords\":[{\"line\":{\"colorbar\":{\"outlinewidth\":0,\"ticks\":\"\"}},\"type\":\"parcoords\"}],\"pie\":[{\"automargin\":true,\"type\":\"pie\"}],\"scatter\":[{\"marker\":{\"colorbar\":{\"outlinewidth\":0,\"ticks\":\"\"}},\"type\":\"scatter\"}],\"scatter3d\":[{\"line\":{\"colorbar\":{\"outlinewidth\":0,\"ticks\":\"\"}},\"marker\":{\"colorbar\":{\"outlinewidth\":0,\"ticks\":\"\"}},\"type\":\"scatter3d\"}],\"scattercarpet\":[{\"marker\":{\"colorbar\":{\"outlinewidth\":0,\"ticks\":\"\"}},\"type\":\"scattercarpet\"}],\"scattergeo\":[{\"marker\":{\"colorbar\":{\"outlinewidth\":0,\"ticks\":\"\"}},\"type\":\"scattergeo\"}],\"scattergl\":[{\"marker\":{\"colorbar\":{\"outlinewidth\":0,\"ticks\":\"\"}},\"type\":\"scattergl\"}],\"scattermapbox\":[{\"marker\":{\"colorbar\":{\"outlinewidth\":0,\"ticks\":\"\"}},\"type\":\"scattermapbox\"}],\"scatterpolar\":[{\"marker\":{\"colorbar\":{\"outlinewidth\":0,\"ticks\":\"\"}},\"type\":\"scatterpolar\"}],\"scatterpolargl\":[{\"marker\":{\"colorbar\":{\"outlinewidth\":0,\"ticks\":\"\"}},\"type\":\"scatterpolargl\"}],\"scatterternary\":[{\"marker\":{\"colorbar\":{\"outlinewidth\":0,\"ticks\":\"\"}},\"type\":\"scatterternary\"}],\"surface\":[{\"colorbar\":{\"outlinewidth\":0,\"ticks\":\"\"},\"colorscale\":[[0.0,\"#0d0887\"],[0.1111111111111111,\"#46039f\"],[0.2222222222222222,\"#7201a8\"],[0.3333333333333333,\"#9c179e\"],[0.4444444444444444,\"#bd3786\"],[0.5555555555555556,\"#d8576b\"],[0.6666666666666666,\"#ed7953\"],[0.7777777777777778,\"#fb9f3a\"],[0.8888888888888888,\"#fdca26\"],[1.0,\"#f0f921\"]],\"type\":\"surface\"}],\"table\":[{\"cells\":{\"fill\":{\"color\":\"#EBF0F8\"},\"line\":{\"color\":\"white\"}},\"header\":{\"fill\":{\"color\":\"#C8D4E3\"},\"line\":{\"color\":\"white\"}},\"type\":\"table\"}]},\"layout\":{\"annotationdefaults\":{\"arrowcolor\":\"#2a3f5f\",\"arrowhead\":0,\"arrowwidth\":1},\"autotypenumbers\":\"strict\",\"coloraxis\":{\"colorbar\":{\"outlinewidth\":0,\"ticks\":\"\"}},\"colorscale\":{\"diverging\":[[0,\"#8e0152\"],[0.1,\"#c51b7d\"],[0.2,\"#de77ae\"],[0.3,\"#f1b6da\"],[0.4,\"#fde0ef\"],[0.5,\"#f7f7f7\"],[0.6,\"#e6f5d0\"],[0.7,\"#b8e186\"],[0.8,\"#7fbc41\"],[0.9,\"#4d9221\"],[1,\"#276419\"]],\"sequential\":[[0.0,\"#0d0887\"],[0.1111111111111111,\"#46039f\"],[0.2222222222222222,\"#7201a8\"],[0.3333333333333333,\"#9c179e\"],[0.4444444444444444,\"#bd3786\"],[0.5555555555555556,\"#d8576b\"],[0.6666666666666666,\"#ed7953\"],[0.7777777777777778,\"#fb9f3a\"],[0.8888888888888888,\"#fdca26\"],[1.0,\"#f0f921\"]],\"sequentialminus\":[[0.0,\"#0d0887\"],[0.1111111111111111,\"#46039f\"],[0.2222222222222222,\"#7201a8\"],[0.3333333333333333,\"#9c179e\"],[0.4444444444444444,\"#bd3786\"],[0.5555555555555556,\"#d8576b\"],[0.6666666666666666,\"#ed7953\"],[0.7777777777777778,\"#fb9f3a\"],[0.8888888888888888,\"#fdca26\"],[1.0,\"#f0f921\"]]},\"colorway\":[\"#636efa\",\"#EF553B\",\"#00cc96\",\"#ab63fa\",\"#FFA15A\",\"#19d3f3\",\"#FF6692\",\"#B6E880\",\"#FF97FF\",\"#FECB52\"],\"font\":{\"color\":\"#2a3f5f\"},\"geo\":{\"bgcolor\":\"white\",\"lakecolor\":\"white\",\"landcolor\":\"#E5ECF6\",\"showlakes\":true,\"showland\":true,\"subunitcolor\":\"white\"},\"hoverlabel\":{\"align\":\"left\"},\"hovermode\":\"closest\",\"mapbox\":{\"style\":\"light\"},\"paper_bgcolor\":\"white\",\"plot_bgcolor\":\"#E5ECF6\",\"polar\":{\"angularaxis\":{\"gridcolor\":\"white\",\"linecolor\":\"white\",\"ticks\":\"\"},\"bgcolor\":\"#E5ECF6\",\"radialaxis\":{\"gridcolor\":\"white\",\"linecolor\":\"white\",\"ticks\":\"\"}},\"scene\":{\"xaxis\":{\"backgroundcolor\":\"#E5ECF6\",\"gridcolor\":\"white\",\"gridwidth\":2,\"linecolor\":\"white\",\"showbackground\":true,\"ticks\":\"\",\"zerolinecolor\":\"white\"},\"yaxis\":{\"backgroundcolor\":\"#E5ECF6\",\"gridcolor\":\"white\",\"gridwidth\":2,\"linecolor\":\"white\",\"showbackground\":true,\"ticks\":\"\",\"zerolinecolor\":\"white\"},\"zaxis\":{\"backgroundcolor\":\"#E5ECF6\",\"gridcolor\":\"white\",\"gridwidth\":2,\"linecolor\":\"white\",\"showbackground\":true,\"ticks\":\"\",\"zerolinecolor\":\"white\"}},\"shapedefaults\":{\"line\":{\"color\":\"#2a3f5f\"}},\"ternary\":{\"aaxis\":{\"gridcolor\":\"white\",\"linecolor\":\"white\",\"ticks\":\"\"},\"baxis\":{\"gridcolor\":\"white\",\"linecolor\":\"white\",\"ticks\":\"\"},\"bgcolor\":\"#E5ECF6\",\"caxis\":{\"gridcolor\":\"white\",\"linecolor\":\"white\",\"ticks\":\"\"}},\"title\":{\"x\":0.05},\"xaxis\":{\"automargin\":true,\"gridcolor\":\"white\",\"linecolor\":\"white\",\"ticks\":\"\",\"title\":{\"standoff\":15},\"zerolinecolor\":\"white\",\"zerolinewidth\":2},\"yaxis\":{\"automargin\":true,\"gridcolor\":\"white\",\"linecolor\":\"white\",\"ticks\":\"\",\"title\":{\"standoff\":15},\"zerolinecolor\":\"white\",\"zerolinewidth\":2}}},\"xaxis\":{\"anchor\":\"y\",\"domain\":[0.0,1.0],\"title\":{\"text\":\"irv_status\"}},\"yaxis\":{\"anchor\":\"x\",\"domain\":[0.0,1.0],\"title\":{\"text\":\"count\"}},\"legend\":{\"tracegroupgap\":0},\"margin\":{\"t\":60},\"barmode\":\"relative\"},                        {\"responsive\": true}                    ).then(function(){\n",
       "                            \n",
       "var gd = document.getElementById('2876e2a7-3518-4539-b452-3fc85a4b8382');\n",
       "var x = new MutationObserver(function (mutations, observer) {{\n",
       "        var display = window.getComputedStyle(gd).display;\n",
       "        if (!display || display === 'none') {{\n",
       "            console.log([gd, 'removed!']);\n",
       "            Plotly.purge(gd);\n",
       "            observer.disconnect();\n",
       "        }}\n",
       "}});\n",
       "\n",
       "// Listen for the removal of the full notebook cells\n",
       "var notebookContainer = gd.closest('#notebook-container');\n",
       "if (notebookContainer) {{\n",
       "    x.observe(notebookContainer, {childList: true});\n",
       "}}\n",
       "\n",
       "// Listen for the clearing of the current output cell\n",
       "var outputEl = gd.closest('.output');\n",
       "if (outputEl) {{\n",
       "    x.observe(outputEl, {childList: true});\n",
       "}}\n",
       "\n",
       "                        })                };                });            </script>        </div>"
      ]
     },
     "metadata": {},
     "output_type": "display_data"
    }
   ],
   "source": [
    "fig = px.histogram(new_df, x=\"irv_status\")\n",
    "fig.show()"
   ]
  },
  {
   "cell_type": "code",
   "execution_count": 125,
   "id": "9f2736fb",
   "metadata": {},
   "outputs": [
    {
     "data": {
      "application/vnd.plotly.v1+json": {
       "config": {
        "plotlyServerURL": "https://plot.ly"
       },
       "data": [
        {
         "alignmentgroup": "True",
         "bingroup": "x",
         "hovertemplate": "capm_status=%{x}<br>count=%{y}<extra></extra>",
         "legendgroup": "",
         "marker": {
          "color": "#636efa",
          "pattern": {
           "shape": ""
          }
         },
         "name": "",
         "offsetgroup": "",
         "orientation": "v",
         "showlegend": false,
         "type": "histogram",
         "x": [
          "UnderValued",
          "UnderValued",
          "UnderValued",
          "UnderValued",
          "UnderValued",
          "UnderValued",
          "UnderValued",
          "UnderValued",
          "UnderValued",
          "OverValued",
          "UnderValued",
          "UnderValued",
          "UnderValued",
          "UnderValued",
          "UnderValued",
          "UnderValued",
          "UnderValued",
          "UnderValued",
          "UnderValued",
          "UnderValued",
          "UnderValued",
          "UnderValued",
          "UnderValued",
          "UnderValued",
          "UnderValued",
          "UnderValued",
          "UnderValued",
          "UnderValued",
          "OverValued",
          "UnderValued",
          "UnderValued",
          "UnderValued",
          "UnderValued",
          "UnderValued",
          "UnderValued",
          "OverValued",
          "UnderValued",
          "UnderValued",
          "UnderValued",
          "UnderValued",
          "UnderValued",
          "UnderValued",
          "UnderValued",
          "UnderValued",
          "UnderValued",
          "UnderValued",
          "UnderValued",
          "UnderValued",
          "OverValued",
          "UnderValued",
          "UnderValued",
          "UnderValued",
          "UnderValued",
          "UnderValued",
          "UnderValued",
          "UnderValued",
          "UnderValued",
          "UnderValued",
          "UnderValued",
          "UnderValued",
          "UnderValued",
          "UnderValued",
          "UnderValued",
          "UnderValued",
          "UnderValued",
          "UnderValued",
          "UnderValued",
          "UnderValued",
          "UnderValued",
          "UnderValued",
          "UnderValued",
          "UnderValued",
          "UnderValued",
          "UnderValued",
          "OverValued",
          "UnderValued",
          "UnderValued",
          "UnderValued",
          "UnderValued",
          "UnderValued",
          "UnderValued",
          "UnderValued",
          "UnderValued",
          "UnderValued",
          "UnderValued",
          "UnderValued",
          "UnderValued",
          "UnderValued",
          "UnderValued",
          "UnderValued",
          "UnderValued",
          "UnderValued",
          "UnderValued",
          "OverValued",
          "UnderValued",
          "UnderValued",
          "UnderValued",
          "UnderValued",
          "UnderValued",
          "UnderValued",
          "UnderValued",
          "OverValued",
          "UnderValued",
          "OverValued",
          "UnderValued",
          "UnderValued",
          "UnderValued",
          "UnderValued",
          "UnderValued",
          "OverValued",
          "UnderValued",
          "UnderValued",
          "UnderValued",
          "UnderValued",
          "UnderValued",
          "UnderValued",
          "OverValued",
          "UnderValued",
          "UnderValued",
          "UnderValued",
          "UnderValued",
          "UnderValued",
          "UnderValued",
          "UnderValued",
          "UnderValued",
          "UnderValued",
          "UnderValued",
          "UnderValued",
          "UnderValued",
          "UnderValued",
          "OverValued",
          "UnderValued",
          "UnderValued",
          "UnderValued",
          "UnderValued",
          "UnderValued",
          "UnderValued",
          "OverValued",
          "UnderValued",
          "UnderValued",
          "UnderValued",
          "UnderValued",
          "UnderValued",
          "UnderValued",
          "UnderValued",
          "UnderValued",
          "UnderValued",
          "OverValued",
          "UnderValued",
          "OverValued",
          "OverValued",
          "UnderValued",
          "UnderValued",
          "UnderValued",
          "OverValued",
          "UnderValued",
          "UnderValued",
          "UnderValued",
          "UnderValued",
          "UnderValued",
          "UnderValued",
          "UnderValued",
          "UnderValued",
          "UnderValued",
          "UnderValued",
          "UnderValued",
          "UnderValued",
          "UnderValued"
         ],
         "xaxis": "x",
         "yaxis": "y"
        }
       ],
       "layout": {
        "barmode": "relative",
        "legend": {
         "tracegroupgap": 0
        },
        "margin": {
         "t": 60
        },
        "template": {
         "data": {
          "bar": [
           {
            "error_x": {
             "color": "#2a3f5f"
            },
            "error_y": {
             "color": "#2a3f5f"
            },
            "marker": {
             "line": {
              "color": "#E5ECF6",
              "width": 0.5
             },
             "pattern": {
              "fillmode": "overlay",
              "size": 10,
              "solidity": 0.2
             }
            },
            "type": "bar"
           }
          ],
          "barpolar": [
           {
            "marker": {
             "line": {
              "color": "#E5ECF6",
              "width": 0.5
             },
             "pattern": {
              "fillmode": "overlay",
              "size": 10,
              "solidity": 0.2
             }
            },
            "type": "barpolar"
           }
          ],
          "carpet": [
           {
            "aaxis": {
             "endlinecolor": "#2a3f5f",
             "gridcolor": "white",
             "linecolor": "white",
             "minorgridcolor": "white",
             "startlinecolor": "#2a3f5f"
            },
            "baxis": {
             "endlinecolor": "#2a3f5f",
             "gridcolor": "white",
             "linecolor": "white",
             "minorgridcolor": "white",
             "startlinecolor": "#2a3f5f"
            },
            "type": "carpet"
           }
          ],
          "choropleth": [
           {
            "colorbar": {
             "outlinewidth": 0,
             "ticks": ""
            },
            "type": "choropleth"
           }
          ],
          "contour": [
           {
            "colorbar": {
             "outlinewidth": 0,
             "ticks": ""
            },
            "colorscale": [
             [
              0,
              "#0d0887"
             ],
             [
              0.1111111111111111,
              "#46039f"
             ],
             [
              0.2222222222222222,
              "#7201a8"
             ],
             [
              0.3333333333333333,
              "#9c179e"
             ],
             [
              0.4444444444444444,
              "#bd3786"
             ],
             [
              0.5555555555555556,
              "#d8576b"
             ],
             [
              0.6666666666666666,
              "#ed7953"
             ],
             [
              0.7777777777777778,
              "#fb9f3a"
             ],
             [
              0.8888888888888888,
              "#fdca26"
             ],
             [
              1,
              "#f0f921"
             ]
            ],
            "type": "contour"
           }
          ],
          "contourcarpet": [
           {
            "colorbar": {
             "outlinewidth": 0,
             "ticks": ""
            },
            "type": "contourcarpet"
           }
          ],
          "heatmap": [
           {
            "colorbar": {
             "outlinewidth": 0,
             "ticks": ""
            },
            "colorscale": [
             [
              0,
              "#0d0887"
             ],
             [
              0.1111111111111111,
              "#46039f"
             ],
             [
              0.2222222222222222,
              "#7201a8"
             ],
             [
              0.3333333333333333,
              "#9c179e"
             ],
             [
              0.4444444444444444,
              "#bd3786"
             ],
             [
              0.5555555555555556,
              "#d8576b"
             ],
             [
              0.6666666666666666,
              "#ed7953"
             ],
             [
              0.7777777777777778,
              "#fb9f3a"
             ],
             [
              0.8888888888888888,
              "#fdca26"
             ],
             [
              1,
              "#f0f921"
             ]
            ],
            "type": "heatmap"
           }
          ],
          "heatmapgl": [
           {
            "colorbar": {
             "outlinewidth": 0,
             "ticks": ""
            },
            "colorscale": [
             [
              0,
              "#0d0887"
             ],
             [
              0.1111111111111111,
              "#46039f"
             ],
             [
              0.2222222222222222,
              "#7201a8"
             ],
             [
              0.3333333333333333,
              "#9c179e"
             ],
             [
              0.4444444444444444,
              "#bd3786"
             ],
             [
              0.5555555555555556,
              "#d8576b"
             ],
             [
              0.6666666666666666,
              "#ed7953"
             ],
             [
              0.7777777777777778,
              "#fb9f3a"
             ],
             [
              0.8888888888888888,
              "#fdca26"
             ],
             [
              1,
              "#f0f921"
             ]
            ],
            "type": "heatmapgl"
           }
          ],
          "histogram": [
           {
            "marker": {
             "pattern": {
              "fillmode": "overlay",
              "size": 10,
              "solidity": 0.2
             }
            },
            "type": "histogram"
           }
          ],
          "histogram2d": [
           {
            "colorbar": {
             "outlinewidth": 0,
             "ticks": ""
            },
            "colorscale": [
             [
              0,
              "#0d0887"
             ],
             [
              0.1111111111111111,
              "#46039f"
             ],
             [
              0.2222222222222222,
              "#7201a8"
             ],
             [
              0.3333333333333333,
              "#9c179e"
             ],
             [
              0.4444444444444444,
              "#bd3786"
             ],
             [
              0.5555555555555556,
              "#d8576b"
             ],
             [
              0.6666666666666666,
              "#ed7953"
             ],
             [
              0.7777777777777778,
              "#fb9f3a"
             ],
             [
              0.8888888888888888,
              "#fdca26"
             ],
             [
              1,
              "#f0f921"
             ]
            ],
            "type": "histogram2d"
           }
          ],
          "histogram2dcontour": [
           {
            "colorbar": {
             "outlinewidth": 0,
             "ticks": ""
            },
            "colorscale": [
             [
              0,
              "#0d0887"
             ],
             [
              0.1111111111111111,
              "#46039f"
             ],
             [
              0.2222222222222222,
              "#7201a8"
             ],
             [
              0.3333333333333333,
              "#9c179e"
             ],
             [
              0.4444444444444444,
              "#bd3786"
             ],
             [
              0.5555555555555556,
              "#d8576b"
             ],
             [
              0.6666666666666666,
              "#ed7953"
             ],
             [
              0.7777777777777778,
              "#fb9f3a"
             ],
             [
              0.8888888888888888,
              "#fdca26"
             ],
             [
              1,
              "#f0f921"
             ]
            ],
            "type": "histogram2dcontour"
           }
          ],
          "mesh3d": [
           {
            "colorbar": {
             "outlinewidth": 0,
             "ticks": ""
            },
            "type": "mesh3d"
           }
          ],
          "parcoords": [
           {
            "line": {
             "colorbar": {
              "outlinewidth": 0,
              "ticks": ""
             }
            },
            "type": "parcoords"
           }
          ],
          "pie": [
           {
            "automargin": true,
            "type": "pie"
           }
          ],
          "scatter": [
           {
            "marker": {
             "colorbar": {
              "outlinewidth": 0,
              "ticks": ""
             }
            },
            "type": "scatter"
           }
          ],
          "scatter3d": [
           {
            "line": {
             "colorbar": {
              "outlinewidth": 0,
              "ticks": ""
             }
            },
            "marker": {
             "colorbar": {
              "outlinewidth": 0,
              "ticks": ""
             }
            },
            "type": "scatter3d"
           }
          ],
          "scattercarpet": [
           {
            "marker": {
             "colorbar": {
              "outlinewidth": 0,
              "ticks": ""
             }
            },
            "type": "scattercarpet"
           }
          ],
          "scattergeo": [
           {
            "marker": {
             "colorbar": {
              "outlinewidth": 0,
              "ticks": ""
             }
            },
            "type": "scattergeo"
           }
          ],
          "scattergl": [
           {
            "marker": {
             "colorbar": {
              "outlinewidth": 0,
              "ticks": ""
             }
            },
            "type": "scattergl"
           }
          ],
          "scattermapbox": [
           {
            "marker": {
             "colorbar": {
              "outlinewidth": 0,
              "ticks": ""
             }
            },
            "type": "scattermapbox"
           }
          ],
          "scatterpolar": [
           {
            "marker": {
             "colorbar": {
              "outlinewidth": 0,
              "ticks": ""
             }
            },
            "type": "scatterpolar"
           }
          ],
          "scatterpolargl": [
           {
            "marker": {
             "colorbar": {
              "outlinewidth": 0,
              "ticks": ""
             }
            },
            "type": "scatterpolargl"
           }
          ],
          "scatterternary": [
           {
            "marker": {
             "colorbar": {
              "outlinewidth": 0,
              "ticks": ""
             }
            },
            "type": "scatterternary"
           }
          ],
          "surface": [
           {
            "colorbar": {
             "outlinewidth": 0,
             "ticks": ""
            },
            "colorscale": [
             [
              0,
              "#0d0887"
             ],
             [
              0.1111111111111111,
              "#46039f"
             ],
             [
              0.2222222222222222,
              "#7201a8"
             ],
             [
              0.3333333333333333,
              "#9c179e"
             ],
             [
              0.4444444444444444,
              "#bd3786"
             ],
             [
              0.5555555555555556,
              "#d8576b"
             ],
             [
              0.6666666666666666,
              "#ed7953"
             ],
             [
              0.7777777777777778,
              "#fb9f3a"
             ],
             [
              0.8888888888888888,
              "#fdca26"
             ],
             [
              1,
              "#f0f921"
             ]
            ],
            "type": "surface"
           }
          ],
          "table": [
           {
            "cells": {
             "fill": {
              "color": "#EBF0F8"
             },
             "line": {
              "color": "white"
             }
            },
            "header": {
             "fill": {
              "color": "#C8D4E3"
             },
             "line": {
              "color": "white"
             }
            },
            "type": "table"
           }
          ]
         },
         "layout": {
          "annotationdefaults": {
           "arrowcolor": "#2a3f5f",
           "arrowhead": 0,
           "arrowwidth": 1
          },
          "autotypenumbers": "strict",
          "coloraxis": {
           "colorbar": {
            "outlinewidth": 0,
            "ticks": ""
           }
          },
          "colorscale": {
           "diverging": [
            [
             0,
             "#8e0152"
            ],
            [
             0.1,
             "#c51b7d"
            ],
            [
             0.2,
             "#de77ae"
            ],
            [
             0.3,
             "#f1b6da"
            ],
            [
             0.4,
             "#fde0ef"
            ],
            [
             0.5,
             "#f7f7f7"
            ],
            [
             0.6,
             "#e6f5d0"
            ],
            [
             0.7,
             "#b8e186"
            ],
            [
             0.8,
             "#7fbc41"
            ],
            [
             0.9,
             "#4d9221"
            ],
            [
             1,
             "#276419"
            ]
           ],
           "sequential": [
            [
             0,
             "#0d0887"
            ],
            [
             0.1111111111111111,
             "#46039f"
            ],
            [
             0.2222222222222222,
             "#7201a8"
            ],
            [
             0.3333333333333333,
             "#9c179e"
            ],
            [
             0.4444444444444444,
             "#bd3786"
            ],
            [
             0.5555555555555556,
             "#d8576b"
            ],
            [
             0.6666666666666666,
             "#ed7953"
            ],
            [
             0.7777777777777778,
             "#fb9f3a"
            ],
            [
             0.8888888888888888,
             "#fdca26"
            ],
            [
             1,
             "#f0f921"
            ]
           ],
           "sequentialminus": [
            [
             0,
             "#0d0887"
            ],
            [
             0.1111111111111111,
             "#46039f"
            ],
            [
             0.2222222222222222,
             "#7201a8"
            ],
            [
             0.3333333333333333,
             "#9c179e"
            ],
            [
             0.4444444444444444,
             "#bd3786"
            ],
            [
             0.5555555555555556,
             "#d8576b"
            ],
            [
             0.6666666666666666,
             "#ed7953"
            ],
            [
             0.7777777777777778,
             "#fb9f3a"
            ],
            [
             0.8888888888888888,
             "#fdca26"
            ],
            [
             1,
             "#f0f921"
            ]
           ]
          },
          "colorway": [
           "#636efa",
           "#EF553B",
           "#00cc96",
           "#ab63fa",
           "#FFA15A",
           "#19d3f3",
           "#FF6692",
           "#B6E880",
           "#FF97FF",
           "#FECB52"
          ],
          "font": {
           "color": "#2a3f5f"
          },
          "geo": {
           "bgcolor": "white",
           "lakecolor": "white",
           "landcolor": "#E5ECF6",
           "showlakes": true,
           "showland": true,
           "subunitcolor": "white"
          },
          "hoverlabel": {
           "align": "left"
          },
          "hovermode": "closest",
          "mapbox": {
           "style": "light"
          },
          "paper_bgcolor": "white",
          "plot_bgcolor": "#E5ECF6",
          "polar": {
           "angularaxis": {
            "gridcolor": "white",
            "linecolor": "white",
            "ticks": ""
           },
           "bgcolor": "#E5ECF6",
           "radialaxis": {
            "gridcolor": "white",
            "linecolor": "white",
            "ticks": ""
           }
          },
          "scene": {
           "xaxis": {
            "backgroundcolor": "#E5ECF6",
            "gridcolor": "white",
            "gridwidth": 2,
            "linecolor": "white",
            "showbackground": true,
            "ticks": "",
            "zerolinecolor": "white"
           },
           "yaxis": {
            "backgroundcolor": "#E5ECF6",
            "gridcolor": "white",
            "gridwidth": 2,
            "linecolor": "white",
            "showbackground": true,
            "ticks": "",
            "zerolinecolor": "white"
           },
           "zaxis": {
            "backgroundcolor": "#E5ECF6",
            "gridcolor": "white",
            "gridwidth": 2,
            "linecolor": "white",
            "showbackground": true,
            "ticks": "",
            "zerolinecolor": "white"
           }
          },
          "shapedefaults": {
           "line": {
            "color": "#2a3f5f"
           }
          },
          "ternary": {
           "aaxis": {
            "gridcolor": "white",
            "linecolor": "white",
            "ticks": ""
           },
           "baxis": {
            "gridcolor": "white",
            "linecolor": "white",
            "ticks": ""
           },
           "bgcolor": "#E5ECF6",
           "caxis": {
            "gridcolor": "white",
            "linecolor": "white",
            "ticks": ""
           }
          },
          "title": {
           "x": 0.05
          },
          "xaxis": {
           "automargin": true,
           "gridcolor": "white",
           "linecolor": "white",
           "ticks": "",
           "title": {
            "standoff": 15
           },
           "zerolinecolor": "white",
           "zerolinewidth": 2
          },
          "yaxis": {
           "automargin": true,
           "gridcolor": "white",
           "linecolor": "white",
           "ticks": "",
           "title": {
            "standoff": 15
           },
           "zerolinecolor": "white",
           "zerolinewidth": 2
          }
         }
        },
        "xaxis": {
         "anchor": "y",
         "domain": [
          0,
          1
         ],
         "title": {
          "text": "capm_status"
         }
        },
        "yaxis": {
         "anchor": "x",
         "domain": [
          0,
          1
         ],
         "title": {
          "text": "count"
         }
        }
       }
      },
      "text/html": [
       "<div>                            <div id=\"e3934903-f538-4bc8-81b7-6f14da0966c9\" class=\"plotly-graph-div\" style=\"height:525px; width:100%;\"></div>            <script type=\"text/javascript\">                require([\"plotly\"], function(Plotly) {                    window.PLOTLYENV=window.PLOTLYENV || {};                                    if (document.getElementById(\"e3934903-f538-4bc8-81b7-6f14da0966c9\")) {                    Plotly.newPlot(                        \"e3934903-f538-4bc8-81b7-6f14da0966c9\",                        [{\"alignmentgroup\":\"True\",\"bingroup\":\"x\",\"hovertemplate\":\"capm_status=%{x}<br>count=%{y}<extra></extra>\",\"legendgroup\":\"\",\"marker\":{\"color\":\"#636efa\",\"pattern\":{\"shape\":\"\"}},\"name\":\"\",\"offsetgroup\":\"\",\"orientation\":\"v\",\"showlegend\":false,\"x\":[\"UnderValued\",\"UnderValued\",\"UnderValued\",\"UnderValued\",\"UnderValued\",\"UnderValued\",\"UnderValued\",\"UnderValued\",\"UnderValued\",\"OverValued\",\"UnderValued\",\"UnderValued\",\"UnderValued\",\"UnderValued\",\"UnderValued\",\"UnderValued\",\"UnderValued\",\"UnderValued\",\"UnderValued\",\"UnderValued\",\"UnderValued\",\"UnderValued\",\"UnderValued\",\"UnderValued\",\"UnderValued\",\"UnderValued\",\"UnderValued\",\"UnderValued\",\"OverValued\",\"UnderValued\",\"UnderValued\",\"UnderValued\",\"UnderValued\",\"UnderValued\",\"UnderValued\",\"OverValued\",\"UnderValued\",\"UnderValued\",\"UnderValued\",\"UnderValued\",\"UnderValued\",\"UnderValued\",\"UnderValued\",\"UnderValued\",\"UnderValued\",\"UnderValued\",\"UnderValued\",\"UnderValued\",\"OverValued\",\"UnderValued\",\"UnderValued\",\"UnderValued\",\"UnderValued\",\"UnderValued\",\"UnderValued\",\"UnderValued\",\"UnderValued\",\"UnderValued\",\"UnderValued\",\"UnderValued\",\"UnderValued\",\"UnderValued\",\"UnderValued\",\"UnderValued\",\"UnderValued\",\"UnderValued\",\"UnderValued\",\"UnderValued\",\"UnderValued\",\"UnderValued\",\"UnderValued\",\"UnderValued\",\"UnderValued\",\"UnderValued\",\"OverValued\",\"UnderValued\",\"UnderValued\",\"UnderValued\",\"UnderValued\",\"UnderValued\",\"UnderValued\",\"UnderValued\",\"UnderValued\",\"UnderValued\",\"UnderValued\",\"UnderValued\",\"UnderValued\",\"UnderValued\",\"UnderValued\",\"UnderValued\",\"UnderValued\",\"UnderValued\",\"UnderValued\",\"OverValued\",\"UnderValued\",\"UnderValued\",\"UnderValued\",\"UnderValued\",\"UnderValued\",\"UnderValued\",\"UnderValued\",\"OverValued\",\"UnderValued\",\"OverValued\",\"UnderValued\",\"UnderValued\",\"UnderValued\",\"UnderValued\",\"UnderValued\",\"OverValued\",\"UnderValued\",\"UnderValued\",\"UnderValued\",\"UnderValued\",\"UnderValued\",\"UnderValued\",\"OverValued\",\"UnderValued\",\"UnderValued\",\"UnderValued\",\"UnderValued\",\"UnderValued\",\"UnderValued\",\"UnderValued\",\"UnderValued\",\"UnderValued\",\"UnderValued\",\"UnderValued\",\"UnderValued\",\"UnderValued\",\"OverValued\",\"UnderValued\",\"UnderValued\",\"UnderValued\",\"UnderValued\",\"UnderValued\",\"UnderValued\",\"OverValued\",\"UnderValued\",\"UnderValued\",\"UnderValued\",\"UnderValued\",\"UnderValued\",\"UnderValued\",\"UnderValued\",\"UnderValued\",\"UnderValued\",\"OverValued\",\"UnderValued\",\"OverValued\",\"OverValued\",\"UnderValued\",\"UnderValued\",\"UnderValued\",\"OverValued\",\"UnderValued\",\"UnderValued\",\"UnderValued\",\"UnderValued\",\"UnderValued\",\"UnderValued\",\"UnderValued\",\"UnderValued\",\"UnderValued\",\"UnderValued\",\"UnderValued\",\"UnderValued\",\"UnderValued\"],\"xaxis\":\"x\",\"yaxis\":\"y\",\"type\":\"histogram\"}],                        {\"template\":{\"data\":{\"bar\":[{\"error_x\":{\"color\":\"#2a3f5f\"},\"error_y\":{\"color\":\"#2a3f5f\"},\"marker\":{\"line\":{\"color\":\"#E5ECF6\",\"width\":0.5},\"pattern\":{\"fillmode\":\"overlay\",\"size\":10,\"solidity\":0.2}},\"type\":\"bar\"}],\"barpolar\":[{\"marker\":{\"line\":{\"color\":\"#E5ECF6\",\"width\":0.5},\"pattern\":{\"fillmode\":\"overlay\",\"size\":10,\"solidity\":0.2}},\"type\":\"barpolar\"}],\"carpet\":[{\"aaxis\":{\"endlinecolor\":\"#2a3f5f\",\"gridcolor\":\"white\",\"linecolor\":\"white\",\"minorgridcolor\":\"white\",\"startlinecolor\":\"#2a3f5f\"},\"baxis\":{\"endlinecolor\":\"#2a3f5f\",\"gridcolor\":\"white\",\"linecolor\":\"white\",\"minorgridcolor\":\"white\",\"startlinecolor\":\"#2a3f5f\"},\"type\":\"carpet\"}],\"choropleth\":[{\"colorbar\":{\"outlinewidth\":0,\"ticks\":\"\"},\"type\":\"choropleth\"}],\"contour\":[{\"colorbar\":{\"outlinewidth\":0,\"ticks\":\"\"},\"colorscale\":[[0.0,\"#0d0887\"],[0.1111111111111111,\"#46039f\"],[0.2222222222222222,\"#7201a8\"],[0.3333333333333333,\"#9c179e\"],[0.4444444444444444,\"#bd3786\"],[0.5555555555555556,\"#d8576b\"],[0.6666666666666666,\"#ed7953\"],[0.7777777777777778,\"#fb9f3a\"],[0.8888888888888888,\"#fdca26\"],[1.0,\"#f0f921\"]],\"type\":\"contour\"}],\"contourcarpet\":[{\"colorbar\":{\"outlinewidth\":0,\"ticks\":\"\"},\"type\":\"contourcarpet\"}],\"heatmap\":[{\"colorbar\":{\"outlinewidth\":0,\"ticks\":\"\"},\"colorscale\":[[0.0,\"#0d0887\"],[0.1111111111111111,\"#46039f\"],[0.2222222222222222,\"#7201a8\"],[0.3333333333333333,\"#9c179e\"],[0.4444444444444444,\"#bd3786\"],[0.5555555555555556,\"#d8576b\"],[0.6666666666666666,\"#ed7953\"],[0.7777777777777778,\"#fb9f3a\"],[0.8888888888888888,\"#fdca26\"],[1.0,\"#f0f921\"]],\"type\":\"heatmap\"}],\"heatmapgl\":[{\"colorbar\":{\"outlinewidth\":0,\"ticks\":\"\"},\"colorscale\":[[0.0,\"#0d0887\"],[0.1111111111111111,\"#46039f\"],[0.2222222222222222,\"#7201a8\"],[0.3333333333333333,\"#9c179e\"],[0.4444444444444444,\"#bd3786\"],[0.5555555555555556,\"#d8576b\"],[0.6666666666666666,\"#ed7953\"],[0.7777777777777778,\"#fb9f3a\"],[0.8888888888888888,\"#fdca26\"],[1.0,\"#f0f921\"]],\"type\":\"heatmapgl\"}],\"histogram\":[{\"marker\":{\"pattern\":{\"fillmode\":\"overlay\",\"size\":10,\"solidity\":0.2}},\"type\":\"histogram\"}],\"histogram2d\":[{\"colorbar\":{\"outlinewidth\":0,\"ticks\":\"\"},\"colorscale\":[[0.0,\"#0d0887\"],[0.1111111111111111,\"#46039f\"],[0.2222222222222222,\"#7201a8\"],[0.3333333333333333,\"#9c179e\"],[0.4444444444444444,\"#bd3786\"],[0.5555555555555556,\"#d8576b\"],[0.6666666666666666,\"#ed7953\"],[0.7777777777777778,\"#fb9f3a\"],[0.8888888888888888,\"#fdca26\"],[1.0,\"#f0f921\"]],\"type\":\"histogram2d\"}],\"histogram2dcontour\":[{\"colorbar\":{\"outlinewidth\":0,\"ticks\":\"\"},\"colorscale\":[[0.0,\"#0d0887\"],[0.1111111111111111,\"#46039f\"],[0.2222222222222222,\"#7201a8\"],[0.3333333333333333,\"#9c179e\"],[0.4444444444444444,\"#bd3786\"],[0.5555555555555556,\"#d8576b\"],[0.6666666666666666,\"#ed7953\"],[0.7777777777777778,\"#fb9f3a\"],[0.8888888888888888,\"#fdca26\"],[1.0,\"#f0f921\"]],\"type\":\"histogram2dcontour\"}],\"mesh3d\":[{\"colorbar\":{\"outlinewidth\":0,\"ticks\":\"\"},\"type\":\"mesh3d\"}],\"parcoords\":[{\"line\":{\"colorbar\":{\"outlinewidth\":0,\"ticks\":\"\"}},\"type\":\"parcoords\"}],\"pie\":[{\"automargin\":true,\"type\":\"pie\"}],\"scatter\":[{\"marker\":{\"colorbar\":{\"outlinewidth\":0,\"ticks\":\"\"}},\"type\":\"scatter\"}],\"scatter3d\":[{\"line\":{\"colorbar\":{\"outlinewidth\":0,\"ticks\":\"\"}},\"marker\":{\"colorbar\":{\"outlinewidth\":0,\"ticks\":\"\"}},\"type\":\"scatter3d\"}],\"scattercarpet\":[{\"marker\":{\"colorbar\":{\"outlinewidth\":0,\"ticks\":\"\"}},\"type\":\"scattercarpet\"}],\"scattergeo\":[{\"marker\":{\"colorbar\":{\"outlinewidth\":0,\"ticks\":\"\"}},\"type\":\"scattergeo\"}],\"scattergl\":[{\"marker\":{\"colorbar\":{\"outlinewidth\":0,\"ticks\":\"\"}},\"type\":\"scattergl\"}],\"scattermapbox\":[{\"marker\":{\"colorbar\":{\"outlinewidth\":0,\"ticks\":\"\"}},\"type\":\"scattermapbox\"}],\"scatterpolar\":[{\"marker\":{\"colorbar\":{\"outlinewidth\":0,\"ticks\":\"\"}},\"type\":\"scatterpolar\"}],\"scatterpolargl\":[{\"marker\":{\"colorbar\":{\"outlinewidth\":0,\"ticks\":\"\"}},\"type\":\"scatterpolargl\"}],\"scatterternary\":[{\"marker\":{\"colorbar\":{\"outlinewidth\":0,\"ticks\":\"\"}},\"type\":\"scatterternary\"}],\"surface\":[{\"colorbar\":{\"outlinewidth\":0,\"ticks\":\"\"},\"colorscale\":[[0.0,\"#0d0887\"],[0.1111111111111111,\"#46039f\"],[0.2222222222222222,\"#7201a8\"],[0.3333333333333333,\"#9c179e\"],[0.4444444444444444,\"#bd3786\"],[0.5555555555555556,\"#d8576b\"],[0.6666666666666666,\"#ed7953\"],[0.7777777777777778,\"#fb9f3a\"],[0.8888888888888888,\"#fdca26\"],[1.0,\"#f0f921\"]],\"type\":\"surface\"}],\"table\":[{\"cells\":{\"fill\":{\"color\":\"#EBF0F8\"},\"line\":{\"color\":\"white\"}},\"header\":{\"fill\":{\"color\":\"#C8D4E3\"},\"line\":{\"color\":\"white\"}},\"type\":\"table\"}]},\"layout\":{\"annotationdefaults\":{\"arrowcolor\":\"#2a3f5f\",\"arrowhead\":0,\"arrowwidth\":1},\"autotypenumbers\":\"strict\",\"coloraxis\":{\"colorbar\":{\"outlinewidth\":0,\"ticks\":\"\"}},\"colorscale\":{\"diverging\":[[0,\"#8e0152\"],[0.1,\"#c51b7d\"],[0.2,\"#de77ae\"],[0.3,\"#f1b6da\"],[0.4,\"#fde0ef\"],[0.5,\"#f7f7f7\"],[0.6,\"#e6f5d0\"],[0.7,\"#b8e186\"],[0.8,\"#7fbc41\"],[0.9,\"#4d9221\"],[1,\"#276419\"]],\"sequential\":[[0.0,\"#0d0887\"],[0.1111111111111111,\"#46039f\"],[0.2222222222222222,\"#7201a8\"],[0.3333333333333333,\"#9c179e\"],[0.4444444444444444,\"#bd3786\"],[0.5555555555555556,\"#d8576b\"],[0.6666666666666666,\"#ed7953\"],[0.7777777777777778,\"#fb9f3a\"],[0.8888888888888888,\"#fdca26\"],[1.0,\"#f0f921\"]],\"sequentialminus\":[[0.0,\"#0d0887\"],[0.1111111111111111,\"#46039f\"],[0.2222222222222222,\"#7201a8\"],[0.3333333333333333,\"#9c179e\"],[0.4444444444444444,\"#bd3786\"],[0.5555555555555556,\"#d8576b\"],[0.6666666666666666,\"#ed7953\"],[0.7777777777777778,\"#fb9f3a\"],[0.8888888888888888,\"#fdca26\"],[1.0,\"#f0f921\"]]},\"colorway\":[\"#636efa\",\"#EF553B\",\"#00cc96\",\"#ab63fa\",\"#FFA15A\",\"#19d3f3\",\"#FF6692\",\"#B6E880\",\"#FF97FF\",\"#FECB52\"],\"font\":{\"color\":\"#2a3f5f\"},\"geo\":{\"bgcolor\":\"white\",\"lakecolor\":\"white\",\"landcolor\":\"#E5ECF6\",\"showlakes\":true,\"showland\":true,\"subunitcolor\":\"white\"},\"hoverlabel\":{\"align\":\"left\"},\"hovermode\":\"closest\",\"mapbox\":{\"style\":\"light\"},\"paper_bgcolor\":\"white\",\"plot_bgcolor\":\"#E5ECF6\",\"polar\":{\"angularaxis\":{\"gridcolor\":\"white\",\"linecolor\":\"white\",\"ticks\":\"\"},\"bgcolor\":\"#E5ECF6\",\"radialaxis\":{\"gridcolor\":\"white\",\"linecolor\":\"white\",\"ticks\":\"\"}},\"scene\":{\"xaxis\":{\"backgroundcolor\":\"#E5ECF6\",\"gridcolor\":\"white\",\"gridwidth\":2,\"linecolor\":\"white\",\"showbackground\":true,\"ticks\":\"\",\"zerolinecolor\":\"white\"},\"yaxis\":{\"backgroundcolor\":\"#E5ECF6\",\"gridcolor\":\"white\",\"gridwidth\":2,\"linecolor\":\"white\",\"showbackground\":true,\"ticks\":\"\",\"zerolinecolor\":\"white\"},\"zaxis\":{\"backgroundcolor\":\"#E5ECF6\",\"gridcolor\":\"white\",\"gridwidth\":2,\"linecolor\":\"white\",\"showbackground\":true,\"ticks\":\"\",\"zerolinecolor\":\"white\"}},\"shapedefaults\":{\"line\":{\"color\":\"#2a3f5f\"}},\"ternary\":{\"aaxis\":{\"gridcolor\":\"white\",\"linecolor\":\"white\",\"ticks\":\"\"},\"baxis\":{\"gridcolor\":\"white\",\"linecolor\":\"white\",\"ticks\":\"\"},\"bgcolor\":\"#E5ECF6\",\"caxis\":{\"gridcolor\":\"white\",\"linecolor\":\"white\",\"ticks\":\"\"}},\"title\":{\"x\":0.05},\"xaxis\":{\"automargin\":true,\"gridcolor\":\"white\",\"linecolor\":\"white\",\"ticks\":\"\",\"title\":{\"standoff\":15},\"zerolinecolor\":\"white\",\"zerolinewidth\":2},\"yaxis\":{\"automargin\":true,\"gridcolor\":\"white\",\"linecolor\":\"white\",\"ticks\":\"\",\"title\":{\"standoff\":15},\"zerolinecolor\":\"white\",\"zerolinewidth\":2}}},\"xaxis\":{\"anchor\":\"y\",\"domain\":[0.0,1.0],\"title\":{\"text\":\"capm_status\"}},\"yaxis\":{\"anchor\":\"x\",\"domain\":[0.0,1.0],\"title\":{\"text\":\"count\"}},\"legend\":{\"tracegroupgap\":0},\"margin\":{\"t\":60},\"barmode\":\"relative\"},                        {\"responsive\": true}                    ).then(function(){\n",
       "                            \n",
       "var gd = document.getElementById('e3934903-f538-4bc8-81b7-6f14da0966c9');\n",
       "var x = new MutationObserver(function (mutations, observer) {{\n",
       "        var display = window.getComputedStyle(gd).display;\n",
       "        if (!display || display === 'none') {{\n",
       "            console.log([gd, 'removed!']);\n",
       "            Plotly.purge(gd);\n",
       "            observer.disconnect();\n",
       "        }}\n",
       "}});\n",
       "\n",
       "// Listen for the removal of the full notebook cells\n",
       "var notebookContainer = gd.closest('#notebook-container');\n",
       "if (notebookContainer) {{\n",
       "    x.observe(notebookContainer, {childList: true});\n",
       "}}\n",
       "\n",
       "// Listen for the clearing of the current output cell\n",
       "var outputEl = gd.closest('.output');\n",
       "if (outputEl) {{\n",
       "    x.observe(outputEl, {childList: true});\n",
       "}}\n",
       "\n",
       "                        })                };                });            </script>        </div>"
      ]
     },
     "metadata": {},
     "output_type": "display_data"
    }
   ],
   "source": [
    "fig = px.histogram(new_df, x=\"capm_status\")\n",
    "fig.show()"
   ]
  },
  {
   "cell_type": "code",
   "execution_count": 127,
   "id": "b33498a5",
   "metadata": {},
   "outputs": [
    {
     "data": {
      "application/vnd.plotly.v1+json": {
       "config": {
        "plotlyServerURL": "https://plot.ly"
       },
       "data": [
        {
         "alignmentgroup": "True",
         "bingroup": "x",
         "hovertemplate": "annu_return_10y=%{x}<br>count=%{y}<extra></extra>",
         "legendgroup": "",
         "marker": {
          "color": "#636efa",
          "pattern": {
           "shape": ""
          }
         },
         "name": "",
         "offsetgroup": "",
         "orientation": "v",
         "showlegend": false,
         "type": "histogram",
         "x": [
          10.299689019525982,
          12.345808689613216,
          18.989884660819055,
          7.567721157627338,
          10.547192957892479,
          12.966975620678054,
          9.717982839052542,
          15.492514934350044,
          21.16181396076746,
          32.55305604409846,
          16.510530775253528,
          19.767052229627577,
          15.585879731944495,
          20.675400889767467,
          0.9092158006958728,
          6.134457416135919,
          12.193026424311435,
          16.164534256851184,
          2.0542318307199325,
          5.049549838194456,
          8.948881738669701,
          5.834790953178848,
          8.468934169125841,
          18.166834132846187,
          12.86621228665812,
          10.067671520231158,
          10.072027129650696,
          5.7288912580247375,
          25.27324034926128,
          7.91861555768989,
          14.787214967743445,
          8.678971443394799,
          14.189586222766051,
          8.276652555986376,
          14.14799462041878,
          7.004886255180143,
          9.929750425622943,
          11.265550834354322,
          6.414521879113089,
          17.662473451347836,
          20.961864667182127,
          15.059935992994287,
          2.736517392253557,
          -1.0157385225596505,
          14.06562656461816,
          11.10788546054251,
          9.290028318284847,
          8.43159524378505,
          20.27825999426176,
          7.67377690853217,
          9.987815285199076,
          18.353201986636254,
          17.720180461393475,
          1.9192805898051504,
          10.350368540834577,
          3.892298161826724,
          4.865289011469941,
          20.49240958120624,
          12.042421568800199,
          4.850348217415412,
          14.494451900153948,
          13.396293549001316,
          14.533579971207946,
          10.274878953657485,
          10.679468792916767,
          0.31045847803663484,
          13.737689887643633,
          13.629905730615466,
          5.309313415173111,
          15.264251994173447,
          13.636013103262234,
          14.686200315865893,
          11.102982537954741,
          0.040486840919440326,
          27.155563129004644,
          11.200963423581458,
          8.374131545719331,
          9.152054994136826,
          18.41490200735474,
          3.2554482201655244,
          10.60327720314933,
          14.896194333143086,
          14.385873002881501,
          5.570922401678712,
          5.797032994431238,
          -3.8371963200112713,
          -1.8156284744487383,
          13.433976083692567,
          9.690240739977305,
          15.584933390626388,
          11.7356398169294,
          13.089603055455212,
          16.024622598013273,
          25.715348516254746,
          19.016114685858867,
          20.03558789506144,
          10.793064222360439,
          8.332222195889694,
          -0.6053963416004171,
          17.018181556234513,
          20.564599141478766,
          37.02280978064567,
          14.727344408584342,
          36.588693093351544,
          10.02715250542836,
          17.328237496205222,
          9.932051131628716,
          12.996913350018316,
          14.08357037246397,
          51.714373562778405,
          6.158256060205503,
          4.360382745341762,
          11.555875086127898,
          11.61836484823382,
          9.61299188494782,
          10.879232020875731,
          13.229201234507592,
          13.765704160665805,
          14.868001273495768,
          20.25151853381746,
          8.177776325039309,
          15.63310759595089,
          10.231797781779207,
          14.330962930283706,
          15.215257123007708,
          2.115857634282725,
          8.30772674325495,
          10.937530443667253,
          13.351898928454675,
          6.584279715777707,
          15.4062067888195,
          8.060043401040451,
          17.61286222205305,
          17.39072542016946,
          -1.430082426718804,
          14.61827842621628,
          14.599657471425465,
          20.150537092647358,
          19.51422480169589,
          14.787851675606966,
          -3.86191585871819,
          15.581384506626804,
          11.32268785208861,
          10.165262156415933,
          8.02665312720896,
          14.254060791658318,
          3.5746828509405364,
          26.873618672709675,
          17.21378435397487,
          16.013347443761305,
          22.14896472653049,
          -3.2569458913286886,
          10.37939581953744,
          12.115743922026901,
          61.96163711823181,
          9.858786359589079,
          4.835080125565638,
          16.565288892627585,
          13.906448092407993,
          22.950610117390966,
          8.172010900711847,
          5.675531385018684,
          5.801380031072002,
          9.160999580331495,
          5.8203374567376445,
          4.23667540031607,
          14.12696458259144,
          7.981382510939227
         ],
         "xaxis": "x",
         "yaxis": "y"
        }
       ],
       "layout": {
        "barmode": "relative",
        "legend": {
         "tracegroupgap": 0
        },
        "margin": {
         "t": 60
        },
        "template": {
         "data": {
          "bar": [
           {
            "error_x": {
             "color": "#2a3f5f"
            },
            "error_y": {
             "color": "#2a3f5f"
            },
            "marker": {
             "line": {
              "color": "#E5ECF6",
              "width": 0.5
             },
             "pattern": {
              "fillmode": "overlay",
              "size": 10,
              "solidity": 0.2
             }
            },
            "type": "bar"
           }
          ],
          "barpolar": [
           {
            "marker": {
             "line": {
              "color": "#E5ECF6",
              "width": 0.5
             },
             "pattern": {
              "fillmode": "overlay",
              "size": 10,
              "solidity": 0.2
             }
            },
            "type": "barpolar"
           }
          ],
          "carpet": [
           {
            "aaxis": {
             "endlinecolor": "#2a3f5f",
             "gridcolor": "white",
             "linecolor": "white",
             "minorgridcolor": "white",
             "startlinecolor": "#2a3f5f"
            },
            "baxis": {
             "endlinecolor": "#2a3f5f",
             "gridcolor": "white",
             "linecolor": "white",
             "minorgridcolor": "white",
             "startlinecolor": "#2a3f5f"
            },
            "type": "carpet"
           }
          ],
          "choropleth": [
           {
            "colorbar": {
             "outlinewidth": 0,
             "ticks": ""
            },
            "type": "choropleth"
           }
          ],
          "contour": [
           {
            "colorbar": {
             "outlinewidth": 0,
             "ticks": ""
            },
            "colorscale": [
             [
              0,
              "#0d0887"
             ],
             [
              0.1111111111111111,
              "#46039f"
             ],
             [
              0.2222222222222222,
              "#7201a8"
             ],
             [
              0.3333333333333333,
              "#9c179e"
             ],
             [
              0.4444444444444444,
              "#bd3786"
             ],
             [
              0.5555555555555556,
              "#d8576b"
             ],
             [
              0.6666666666666666,
              "#ed7953"
             ],
             [
              0.7777777777777778,
              "#fb9f3a"
             ],
             [
              0.8888888888888888,
              "#fdca26"
             ],
             [
              1,
              "#f0f921"
             ]
            ],
            "type": "contour"
           }
          ],
          "contourcarpet": [
           {
            "colorbar": {
             "outlinewidth": 0,
             "ticks": ""
            },
            "type": "contourcarpet"
           }
          ],
          "heatmap": [
           {
            "colorbar": {
             "outlinewidth": 0,
             "ticks": ""
            },
            "colorscale": [
             [
              0,
              "#0d0887"
             ],
             [
              0.1111111111111111,
              "#46039f"
             ],
             [
              0.2222222222222222,
              "#7201a8"
             ],
             [
              0.3333333333333333,
              "#9c179e"
             ],
             [
              0.4444444444444444,
              "#bd3786"
             ],
             [
              0.5555555555555556,
              "#d8576b"
             ],
             [
              0.6666666666666666,
              "#ed7953"
             ],
             [
              0.7777777777777778,
              "#fb9f3a"
             ],
             [
              0.8888888888888888,
              "#fdca26"
             ],
             [
              1,
              "#f0f921"
             ]
            ],
            "type": "heatmap"
           }
          ],
          "heatmapgl": [
           {
            "colorbar": {
             "outlinewidth": 0,
             "ticks": ""
            },
            "colorscale": [
             [
              0,
              "#0d0887"
             ],
             [
              0.1111111111111111,
              "#46039f"
             ],
             [
              0.2222222222222222,
              "#7201a8"
             ],
             [
              0.3333333333333333,
              "#9c179e"
             ],
             [
              0.4444444444444444,
              "#bd3786"
             ],
             [
              0.5555555555555556,
              "#d8576b"
             ],
             [
              0.6666666666666666,
              "#ed7953"
             ],
             [
              0.7777777777777778,
              "#fb9f3a"
             ],
             [
              0.8888888888888888,
              "#fdca26"
             ],
             [
              1,
              "#f0f921"
             ]
            ],
            "type": "heatmapgl"
           }
          ],
          "histogram": [
           {
            "marker": {
             "pattern": {
              "fillmode": "overlay",
              "size": 10,
              "solidity": 0.2
             }
            },
            "type": "histogram"
           }
          ],
          "histogram2d": [
           {
            "colorbar": {
             "outlinewidth": 0,
             "ticks": ""
            },
            "colorscale": [
             [
              0,
              "#0d0887"
             ],
             [
              0.1111111111111111,
              "#46039f"
             ],
             [
              0.2222222222222222,
              "#7201a8"
             ],
             [
              0.3333333333333333,
              "#9c179e"
             ],
             [
              0.4444444444444444,
              "#bd3786"
             ],
             [
              0.5555555555555556,
              "#d8576b"
             ],
             [
              0.6666666666666666,
              "#ed7953"
             ],
             [
              0.7777777777777778,
              "#fb9f3a"
             ],
             [
              0.8888888888888888,
              "#fdca26"
             ],
             [
              1,
              "#f0f921"
             ]
            ],
            "type": "histogram2d"
           }
          ],
          "histogram2dcontour": [
           {
            "colorbar": {
             "outlinewidth": 0,
             "ticks": ""
            },
            "colorscale": [
             [
              0,
              "#0d0887"
             ],
             [
              0.1111111111111111,
              "#46039f"
             ],
             [
              0.2222222222222222,
              "#7201a8"
             ],
             [
              0.3333333333333333,
              "#9c179e"
             ],
             [
              0.4444444444444444,
              "#bd3786"
             ],
             [
              0.5555555555555556,
              "#d8576b"
             ],
             [
              0.6666666666666666,
              "#ed7953"
             ],
             [
              0.7777777777777778,
              "#fb9f3a"
             ],
             [
              0.8888888888888888,
              "#fdca26"
             ],
             [
              1,
              "#f0f921"
             ]
            ],
            "type": "histogram2dcontour"
           }
          ],
          "mesh3d": [
           {
            "colorbar": {
             "outlinewidth": 0,
             "ticks": ""
            },
            "type": "mesh3d"
           }
          ],
          "parcoords": [
           {
            "line": {
             "colorbar": {
              "outlinewidth": 0,
              "ticks": ""
             }
            },
            "type": "parcoords"
           }
          ],
          "pie": [
           {
            "automargin": true,
            "type": "pie"
           }
          ],
          "scatter": [
           {
            "marker": {
             "colorbar": {
              "outlinewidth": 0,
              "ticks": ""
             }
            },
            "type": "scatter"
           }
          ],
          "scatter3d": [
           {
            "line": {
             "colorbar": {
              "outlinewidth": 0,
              "ticks": ""
             }
            },
            "marker": {
             "colorbar": {
              "outlinewidth": 0,
              "ticks": ""
             }
            },
            "type": "scatter3d"
           }
          ],
          "scattercarpet": [
           {
            "marker": {
             "colorbar": {
              "outlinewidth": 0,
              "ticks": ""
             }
            },
            "type": "scattercarpet"
           }
          ],
          "scattergeo": [
           {
            "marker": {
             "colorbar": {
              "outlinewidth": 0,
              "ticks": ""
             }
            },
            "type": "scattergeo"
           }
          ],
          "scattergl": [
           {
            "marker": {
             "colorbar": {
              "outlinewidth": 0,
              "ticks": ""
             }
            },
            "type": "scattergl"
           }
          ],
          "scattermapbox": [
           {
            "marker": {
             "colorbar": {
              "outlinewidth": 0,
              "ticks": ""
             }
            },
            "type": "scattermapbox"
           }
          ],
          "scatterpolar": [
           {
            "marker": {
             "colorbar": {
              "outlinewidth": 0,
              "ticks": ""
             }
            },
            "type": "scatterpolar"
           }
          ],
          "scatterpolargl": [
           {
            "marker": {
             "colorbar": {
              "outlinewidth": 0,
              "ticks": ""
             }
            },
            "type": "scatterpolargl"
           }
          ],
          "scatterternary": [
           {
            "marker": {
             "colorbar": {
              "outlinewidth": 0,
              "ticks": ""
             }
            },
            "type": "scatterternary"
           }
          ],
          "surface": [
           {
            "colorbar": {
             "outlinewidth": 0,
             "ticks": ""
            },
            "colorscale": [
             [
              0,
              "#0d0887"
             ],
             [
              0.1111111111111111,
              "#46039f"
             ],
             [
              0.2222222222222222,
              "#7201a8"
             ],
             [
              0.3333333333333333,
              "#9c179e"
             ],
             [
              0.4444444444444444,
              "#bd3786"
             ],
             [
              0.5555555555555556,
              "#d8576b"
             ],
             [
              0.6666666666666666,
              "#ed7953"
             ],
             [
              0.7777777777777778,
              "#fb9f3a"
             ],
             [
              0.8888888888888888,
              "#fdca26"
             ],
             [
              1,
              "#f0f921"
             ]
            ],
            "type": "surface"
           }
          ],
          "table": [
           {
            "cells": {
             "fill": {
              "color": "#EBF0F8"
             },
             "line": {
              "color": "white"
             }
            },
            "header": {
             "fill": {
              "color": "#C8D4E3"
             },
             "line": {
              "color": "white"
             }
            },
            "type": "table"
           }
          ]
         },
         "layout": {
          "annotationdefaults": {
           "arrowcolor": "#2a3f5f",
           "arrowhead": 0,
           "arrowwidth": 1
          },
          "autotypenumbers": "strict",
          "coloraxis": {
           "colorbar": {
            "outlinewidth": 0,
            "ticks": ""
           }
          },
          "colorscale": {
           "diverging": [
            [
             0,
             "#8e0152"
            ],
            [
             0.1,
             "#c51b7d"
            ],
            [
             0.2,
             "#de77ae"
            ],
            [
             0.3,
             "#f1b6da"
            ],
            [
             0.4,
             "#fde0ef"
            ],
            [
             0.5,
             "#f7f7f7"
            ],
            [
             0.6,
             "#e6f5d0"
            ],
            [
             0.7,
             "#b8e186"
            ],
            [
             0.8,
             "#7fbc41"
            ],
            [
             0.9,
             "#4d9221"
            ],
            [
             1,
             "#276419"
            ]
           ],
           "sequential": [
            [
             0,
             "#0d0887"
            ],
            [
             0.1111111111111111,
             "#46039f"
            ],
            [
             0.2222222222222222,
             "#7201a8"
            ],
            [
             0.3333333333333333,
             "#9c179e"
            ],
            [
             0.4444444444444444,
             "#bd3786"
            ],
            [
             0.5555555555555556,
             "#d8576b"
            ],
            [
             0.6666666666666666,
             "#ed7953"
            ],
            [
             0.7777777777777778,
             "#fb9f3a"
            ],
            [
             0.8888888888888888,
             "#fdca26"
            ],
            [
             1,
             "#f0f921"
            ]
           ],
           "sequentialminus": [
            [
             0,
             "#0d0887"
            ],
            [
             0.1111111111111111,
             "#46039f"
            ],
            [
             0.2222222222222222,
             "#7201a8"
            ],
            [
             0.3333333333333333,
             "#9c179e"
            ],
            [
             0.4444444444444444,
             "#bd3786"
            ],
            [
             0.5555555555555556,
             "#d8576b"
            ],
            [
             0.6666666666666666,
             "#ed7953"
            ],
            [
             0.7777777777777778,
             "#fb9f3a"
            ],
            [
             0.8888888888888888,
             "#fdca26"
            ],
            [
             1,
             "#f0f921"
            ]
           ]
          },
          "colorway": [
           "#636efa",
           "#EF553B",
           "#00cc96",
           "#ab63fa",
           "#FFA15A",
           "#19d3f3",
           "#FF6692",
           "#B6E880",
           "#FF97FF",
           "#FECB52"
          ],
          "font": {
           "color": "#2a3f5f"
          },
          "geo": {
           "bgcolor": "white",
           "lakecolor": "white",
           "landcolor": "#E5ECF6",
           "showlakes": true,
           "showland": true,
           "subunitcolor": "white"
          },
          "hoverlabel": {
           "align": "left"
          },
          "hovermode": "closest",
          "mapbox": {
           "style": "light"
          },
          "paper_bgcolor": "white",
          "plot_bgcolor": "#E5ECF6",
          "polar": {
           "angularaxis": {
            "gridcolor": "white",
            "linecolor": "white",
            "ticks": ""
           },
           "bgcolor": "#E5ECF6",
           "radialaxis": {
            "gridcolor": "white",
            "linecolor": "white",
            "ticks": ""
           }
          },
          "scene": {
           "xaxis": {
            "backgroundcolor": "#E5ECF6",
            "gridcolor": "white",
            "gridwidth": 2,
            "linecolor": "white",
            "showbackground": true,
            "ticks": "",
            "zerolinecolor": "white"
           },
           "yaxis": {
            "backgroundcolor": "#E5ECF6",
            "gridcolor": "white",
            "gridwidth": 2,
            "linecolor": "white",
            "showbackground": true,
            "ticks": "",
            "zerolinecolor": "white"
           },
           "zaxis": {
            "backgroundcolor": "#E5ECF6",
            "gridcolor": "white",
            "gridwidth": 2,
            "linecolor": "white",
            "showbackground": true,
            "ticks": "",
            "zerolinecolor": "white"
           }
          },
          "shapedefaults": {
           "line": {
            "color": "#2a3f5f"
           }
          },
          "ternary": {
           "aaxis": {
            "gridcolor": "white",
            "linecolor": "white",
            "ticks": ""
           },
           "baxis": {
            "gridcolor": "white",
            "linecolor": "white",
            "ticks": ""
           },
           "bgcolor": "#E5ECF6",
           "caxis": {
            "gridcolor": "white",
            "linecolor": "white",
            "ticks": ""
           }
          },
          "title": {
           "x": 0.05
          },
          "xaxis": {
           "automargin": true,
           "gridcolor": "white",
           "linecolor": "white",
           "ticks": "",
           "title": {
            "standoff": 15
           },
           "zerolinecolor": "white",
           "zerolinewidth": 2
          },
          "yaxis": {
           "automargin": true,
           "gridcolor": "white",
           "linecolor": "white",
           "ticks": "",
           "title": {
            "standoff": 15
           },
           "zerolinecolor": "white",
           "zerolinewidth": 2
          }
         }
        },
        "xaxis": {
         "anchor": "y",
         "domain": [
          0,
          1
         ],
         "title": {
          "text": "annu_return_10y"
         }
        },
        "yaxis": {
         "anchor": "x",
         "domain": [
          0,
          1
         ],
         "title": {
          "text": "count"
         }
        }
       }
      },
      "text/html": [
       "<div>                            <div id=\"2447876a-d98f-4c13-a243-fdb26629799a\" class=\"plotly-graph-div\" style=\"height:525px; width:100%;\"></div>            <script type=\"text/javascript\">                require([\"plotly\"], function(Plotly) {                    window.PLOTLYENV=window.PLOTLYENV || {};                                    if (document.getElementById(\"2447876a-d98f-4c13-a243-fdb26629799a\")) {                    Plotly.newPlot(                        \"2447876a-d98f-4c13-a243-fdb26629799a\",                        [{\"alignmentgroup\":\"True\",\"bingroup\":\"x\",\"hovertemplate\":\"annu_return_10y=%{x}<br>count=%{y}<extra></extra>\",\"legendgroup\":\"\",\"marker\":{\"color\":\"#636efa\",\"pattern\":{\"shape\":\"\"}},\"name\":\"\",\"offsetgroup\":\"\",\"orientation\":\"v\",\"showlegend\":false,\"x\":[10.299689019525982,12.345808689613216,18.989884660819055,7.567721157627338,10.547192957892479,12.966975620678054,9.717982839052542,15.492514934350044,21.16181396076746,32.55305604409846,16.510530775253528,19.767052229627577,15.585879731944495,20.675400889767467,0.9092158006958728,6.134457416135919,12.193026424311435,16.164534256851184,2.0542318307199325,5.049549838194456,8.948881738669701,5.834790953178848,8.468934169125841,18.166834132846187,12.86621228665812,10.067671520231158,10.072027129650696,5.7288912580247375,25.27324034926128,7.91861555768989,14.787214967743445,8.678971443394799,14.189586222766051,8.276652555986376,14.14799462041878,7.004886255180143,9.929750425622943,11.265550834354322,6.414521879113089,17.662473451347836,20.961864667182127,15.059935992994287,2.736517392253557,-1.0157385225596505,14.06562656461816,11.10788546054251,9.290028318284847,8.43159524378505,20.27825999426176,7.67377690853217,9.987815285199076,18.353201986636254,17.720180461393475,1.9192805898051504,10.350368540834577,3.892298161826724,4.865289011469941,20.49240958120624,12.042421568800199,4.850348217415412,14.494451900153948,13.396293549001316,14.533579971207946,10.274878953657485,10.679468792916767,0.31045847803663484,13.737689887643633,13.629905730615466,5.309313415173111,15.264251994173447,13.636013103262234,14.686200315865893,11.102982537954741,0.040486840919440326,27.155563129004644,11.200963423581458,8.374131545719331,9.152054994136826,18.41490200735474,3.2554482201655244,10.60327720314933,14.896194333143086,14.385873002881501,5.570922401678712,5.797032994431238,-3.8371963200112713,-1.8156284744487383,13.433976083692567,9.690240739977305,15.584933390626388,11.7356398169294,13.089603055455212,16.024622598013273,25.715348516254746,19.016114685858867,20.03558789506144,10.793064222360439,8.332222195889694,-0.6053963416004171,17.018181556234513,20.564599141478766,37.02280978064567,14.727344408584342,36.588693093351544,10.02715250542836,17.328237496205222,9.932051131628716,12.996913350018316,14.08357037246397,51.714373562778405,6.158256060205503,4.360382745341762,11.555875086127898,11.61836484823382,9.61299188494782,10.879232020875731,13.229201234507592,13.765704160665805,14.868001273495768,20.25151853381746,8.177776325039309,15.63310759595089,10.231797781779207,14.330962930283706,15.215257123007708,2.115857634282725,8.30772674325495,10.937530443667253,13.351898928454675,6.584279715777707,15.4062067888195,8.060043401040451,17.61286222205305,17.39072542016946,-1.430082426718804,14.61827842621628,14.599657471425465,20.150537092647358,19.51422480169589,14.787851675606966,-3.86191585871819,15.581384506626804,11.32268785208861,10.165262156415933,8.02665312720896,14.254060791658318,3.5746828509405364,26.873618672709675,17.21378435397487,16.013347443761305,22.14896472653049,-3.2569458913286886,10.37939581953744,12.115743922026901,61.96163711823181,9.858786359589079,4.835080125565638,16.565288892627585,13.906448092407993,22.950610117390966,8.172010900711847,5.675531385018684,5.801380031072002,9.160999580331495,5.8203374567376445,4.23667540031607,14.12696458259144,7.981382510939227],\"xaxis\":\"x\",\"yaxis\":\"y\",\"type\":\"histogram\"}],                        {\"template\":{\"data\":{\"bar\":[{\"error_x\":{\"color\":\"#2a3f5f\"},\"error_y\":{\"color\":\"#2a3f5f\"},\"marker\":{\"line\":{\"color\":\"#E5ECF6\",\"width\":0.5},\"pattern\":{\"fillmode\":\"overlay\",\"size\":10,\"solidity\":0.2}},\"type\":\"bar\"}],\"barpolar\":[{\"marker\":{\"line\":{\"color\":\"#E5ECF6\",\"width\":0.5},\"pattern\":{\"fillmode\":\"overlay\",\"size\":10,\"solidity\":0.2}},\"type\":\"barpolar\"}],\"carpet\":[{\"aaxis\":{\"endlinecolor\":\"#2a3f5f\",\"gridcolor\":\"white\",\"linecolor\":\"white\",\"minorgridcolor\":\"white\",\"startlinecolor\":\"#2a3f5f\"},\"baxis\":{\"endlinecolor\":\"#2a3f5f\",\"gridcolor\":\"white\",\"linecolor\":\"white\",\"minorgridcolor\":\"white\",\"startlinecolor\":\"#2a3f5f\"},\"type\":\"carpet\"}],\"choropleth\":[{\"colorbar\":{\"outlinewidth\":0,\"ticks\":\"\"},\"type\":\"choropleth\"}],\"contour\":[{\"colorbar\":{\"outlinewidth\":0,\"ticks\":\"\"},\"colorscale\":[[0.0,\"#0d0887\"],[0.1111111111111111,\"#46039f\"],[0.2222222222222222,\"#7201a8\"],[0.3333333333333333,\"#9c179e\"],[0.4444444444444444,\"#bd3786\"],[0.5555555555555556,\"#d8576b\"],[0.6666666666666666,\"#ed7953\"],[0.7777777777777778,\"#fb9f3a\"],[0.8888888888888888,\"#fdca26\"],[1.0,\"#f0f921\"]],\"type\":\"contour\"}],\"contourcarpet\":[{\"colorbar\":{\"outlinewidth\":0,\"ticks\":\"\"},\"type\":\"contourcarpet\"}],\"heatmap\":[{\"colorbar\":{\"outlinewidth\":0,\"ticks\":\"\"},\"colorscale\":[[0.0,\"#0d0887\"],[0.1111111111111111,\"#46039f\"],[0.2222222222222222,\"#7201a8\"],[0.3333333333333333,\"#9c179e\"],[0.4444444444444444,\"#bd3786\"],[0.5555555555555556,\"#d8576b\"],[0.6666666666666666,\"#ed7953\"],[0.7777777777777778,\"#fb9f3a\"],[0.8888888888888888,\"#fdca26\"],[1.0,\"#f0f921\"]],\"type\":\"heatmap\"}],\"heatmapgl\":[{\"colorbar\":{\"outlinewidth\":0,\"ticks\":\"\"},\"colorscale\":[[0.0,\"#0d0887\"],[0.1111111111111111,\"#46039f\"],[0.2222222222222222,\"#7201a8\"],[0.3333333333333333,\"#9c179e\"],[0.4444444444444444,\"#bd3786\"],[0.5555555555555556,\"#d8576b\"],[0.6666666666666666,\"#ed7953\"],[0.7777777777777778,\"#fb9f3a\"],[0.8888888888888888,\"#fdca26\"],[1.0,\"#f0f921\"]],\"type\":\"heatmapgl\"}],\"histogram\":[{\"marker\":{\"pattern\":{\"fillmode\":\"overlay\",\"size\":10,\"solidity\":0.2}},\"type\":\"histogram\"}],\"histogram2d\":[{\"colorbar\":{\"outlinewidth\":0,\"ticks\":\"\"},\"colorscale\":[[0.0,\"#0d0887\"],[0.1111111111111111,\"#46039f\"],[0.2222222222222222,\"#7201a8\"],[0.3333333333333333,\"#9c179e\"],[0.4444444444444444,\"#bd3786\"],[0.5555555555555556,\"#d8576b\"],[0.6666666666666666,\"#ed7953\"],[0.7777777777777778,\"#fb9f3a\"],[0.8888888888888888,\"#fdca26\"],[1.0,\"#f0f921\"]],\"type\":\"histogram2d\"}],\"histogram2dcontour\":[{\"colorbar\":{\"outlinewidth\":0,\"ticks\":\"\"},\"colorscale\":[[0.0,\"#0d0887\"],[0.1111111111111111,\"#46039f\"],[0.2222222222222222,\"#7201a8\"],[0.3333333333333333,\"#9c179e\"],[0.4444444444444444,\"#bd3786\"],[0.5555555555555556,\"#d8576b\"],[0.6666666666666666,\"#ed7953\"],[0.7777777777777778,\"#fb9f3a\"],[0.8888888888888888,\"#fdca26\"],[1.0,\"#f0f921\"]],\"type\":\"histogram2dcontour\"}],\"mesh3d\":[{\"colorbar\":{\"outlinewidth\":0,\"ticks\":\"\"},\"type\":\"mesh3d\"}],\"parcoords\":[{\"line\":{\"colorbar\":{\"outlinewidth\":0,\"ticks\":\"\"}},\"type\":\"parcoords\"}],\"pie\":[{\"automargin\":true,\"type\":\"pie\"}],\"scatter\":[{\"marker\":{\"colorbar\":{\"outlinewidth\":0,\"ticks\":\"\"}},\"type\":\"scatter\"}],\"scatter3d\":[{\"line\":{\"colorbar\":{\"outlinewidth\":0,\"ticks\":\"\"}},\"marker\":{\"colorbar\":{\"outlinewidth\":0,\"ticks\":\"\"}},\"type\":\"scatter3d\"}],\"scattercarpet\":[{\"marker\":{\"colorbar\":{\"outlinewidth\":0,\"ticks\":\"\"}},\"type\":\"scattercarpet\"}],\"scattergeo\":[{\"marker\":{\"colorbar\":{\"outlinewidth\":0,\"ticks\":\"\"}},\"type\":\"scattergeo\"}],\"scattergl\":[{\"marker\":{\"colorbar\":{\"outlinewidth\":0,\"ticks\":\"\"}},\"type\":\"scattergl\"}],\"scattermapbox\":[{\"marker\":{\"colorbar\":{\"outlinewidth\":0,\"ticks\":\"\"}},\"type\":\"scattermapbox\"}],\"scatterpolar\":[{\"marker\":{\"colorbar\":{\"outlinewidth\":0,\"ticks\":\"\"}},\"type\":\"scatterpolar\"}],\"scatterpolargl\":[{\"marker\":{\"colorbar\":{\"outlinewidth\":0,\"ticks\":\"\"}},\"type\":\"scatterpolargl\"}],\"scatterternary\":[{\"marker\":{\"colorbar\":{\"outlinewidth\":0,\"ticks\":\"\"}},\"type\":\"scatterternary\"}],\"surface\":[{\"colorbar\":{\"outlinewidth\":0,\"ticks\":\"\"},\"colorscale\":[[0.0,\"#0d0887\"],[0.1111111111111111,\"#46039f\"],[0.2222222222222222,\"#7201a8\"],[0.3333333333333333,\"#9c179e\"],[0.4444444444444444,\"#bd3786\"],[0.5555555555555556,\"#d8576b\"],[0.6666666666666666,\"#ed7953\"],[0.7777777777777778,\"#fb9f3a\"],[0.8888888888888888,\"#fdca26\"],[1.0,\"#f0f921\"]],\"type\":\"surface\"}],\"table\":[{\"cells\":{\"fill\":{\"color\":\"#EBF0F8\"},\"line\":{\"color\":\"white\"}},\"header\":{\"fill\":{\"color\":\"#C8D4E3\"},\"line\":{\"color\":\"white\"}},\"type\":\"table\"}]},\"layout\":{\"annotationdefaults\":{\"arrowcolor\":\"#2a3f5f\",\"arrowhead\":0,\"arrowwidth\":1},\"autotypenumbers\":\"strict\",\"coloraxis\":{\"colorbar\":{\"outlinewidth\":0,\"ticks\":\"\"}},\"colorscale\":{\"diverging\":[[0,\"#8e0152\"],[0.1,\"#c51b7d\"],[0.2,\"#de77ae\"],[0.3,\"#f1b6da\"],[0.4,\"#fde0ef\"],[0.5,\"#f7f7f7\"],[0.6,\"#e6f5d0\"],[0.7,\"#b8e186\"],[0.8,\"#7fbc41\"],[0.9,\"#4d9221\"],[1,\"#276419\"]],\"sequential\":[[0.0,\"#0d0887\"],[0.1111111111111111,\"#46039f\"],[0.2222222222222222,\"#7201a8\"],[0.3333333333333333,\"#9c179e\"],[0.4444444444444444,\"#bd3786\"],[0.5555555555555556,\"#d8576b\"],[0.6666666666666666,\"#ed7953\"],[0.7777777777777778,\"#fb9f3a\"],[0.8888888888888888,\"#fdca26\"],[1.0,\"#f0f921\"]],\"sequentialminus\":[[0.0,\"#0d0887\"],[0.1111111111111111,\"#46039f\"],[0.2222222222222222,\"#7201a8\"],[0.3333333333333333,\"#9c179e\"],[0.4444444444444444,\"#bd3786\"],[0.5555555555555556,\"#d8576b\"],[0.6666666666666666,\"#ed7953\"],[0.7777777777777778,\"#fb9f3a\"],[0.8888888888888888,\"#fdca26\"],[1.0,\"#f0f921\"]]},\"colorway\":[\"#636efa\",\"#EF553B\",\"#00cc96\",\"#ab63fa\",\"#FFA15A\",\"#19d3f3\",\"#FF6692\",\"#B6E880\",\"#FF97FF\",\"#FECB52\"],\"font\":{\"color\":\"#2a3f5f\"},\"geo\":{\"bgcolor\":\"white\",\"lakecolor\":\"white\",\"landcolor\":\"#E5ECF6\",\"showlakes\":true,\"showland\":true,\"subunitcolor\":\"white\"},\"hoverlabel\":{\"align\":\"left\"},\"hovermode\":\"closest\",\"mapbox\":{\"style\":\"light\"},\"paper_bgcolor\":\"white\",\"plot_bgcolor\":\"#E5ECF6\",\"polar\":{\"angularaxis\":{\"gridcolor\":\"white\",\"linecolor\":\"white\",\"ticks\":\"\"},\"bgcolor\":\"#E5ECF6\",\"radialaxis\":{\"gridcolor\":\"white\",\"linecolor\":\"white\",\"ticks\":\"\"}},\"scene\":{\"xaxis\":{\"backgroundcolor\":\"#E5ECF6\",\"gridcolor\":\"white\",\"gridwidth\":2,\"linecolor\":\"white\",\"showbackground\":true,\"ticks\":\"\",\"zerolinecolor\":\"white\"},\"yaxis\":{\"backgroundcolor\":\"#E5ECF6\",\"gridcolor\":\"white\",\"gridwidth\":2,\"linecolor\":\"white\",\"showbackground\":true,\"ticks\":\"\",\"zerolinecolor\":\"white\"},\"zaxis\":{\"backgroundcolor\":\"#E5ECF6\",\"gridcolor\":\"white\",\"gridwidth\":2,\"linecolor\":\"white\",\"showbackground\":true,\"ticks\":\"\",\"zerolinecolor\":\"white\"}},\"shapedefaults\":{\"line\":{\"color\":\"#2a3f5f\"}},\"ternary\":{\"aaxis\":{\"gridcolor\":\"white\",\"linecolor\":\"white\",\"ticks\":\"\"},\"baxis\":{\"gridcolor\":\"white\",\"linecolor\":\"white\",\"ticks\":\"\"},\"bgcolor\":\"#E5ECF6\",\"caxis\":{\"gridcolor\":\"white\",\"linecolor\":\"white\",\"ticks\":\"\"}},\"title\":{\"x\":0.05},\"xaxis\":{\"automargin\":true,\"gridcolor\":\"white\",\"linecolor\":\"white\",\"ticks\":\"\",\"title\":{\"standoff\":15},\"zerolinecolor\":\"white\",\"zerolinewidth\":2},\"yaxis\":{\"automargin\":true,\"gridcolor\":\"white\",\"linecolor\":\"white\",\"ticks\":\"\",\"title\":{\"standoff\":15},\"zerolinecolor\":\"white\",\"zerolinewidth\":2}}},\"xaxis\":{\"anchor\":\"y\",\"domain\":[0.0,1.0],\"title\":{\"text\":\"annu_return_10y\"}},\"yaxis\":{\"anchor\":\"x\",\"domain\":[0.0,1.0],\"title\":{\"text\":\"count\"}},\"legend\":{\"tracegroupgap\":0},\"margin\":{\"t\":60},\"barmode\":\"relative\"},                        {\"responsive\": true}                    ).then(function(){\n",
       "                            \n",
       "var gd = document.getElementById('2447876a-d98f-4c13-a243-fdb26629799a');\n",
       "var x = new MutationObserver(function (mutations, observer) {{\n",
       "        var display = window.getComputedStyle(gd).display;\n",
       "        if (!display || display === 'none') {{\n",
       "            console.log([gd, 'removed!']);\n",
       "            Plotly.purge(gd);\n",
       "            observer.disconnect();\n",
       "        }}\n",
       "}});\n",
       "\n",
       "// Listen for the removal of the full notebook cells\n",
       "var notebookContainer = gd.closest('#notebook-container');\n",
       "if (notebookContainer) {{\n",
       "    x.observe(notebookContainer, {childList: true});\n",
       "}}\n",
       "\n",
       "// Listen for the clearing of the current output cell\n",
       "var outputEl = gd.closest('.output');\n",
       "if (outputEl) {{\n",
       "    x.observe(outputEl, {childList: true});\n",
       "}}\n",
       "\n",
       "                        })                };                });            </script>        </div>"
      ]
     },
     "metadata": {},
     "output_type": "display_data"
    }
   ],
   "source": [
    "fig = px.histogram(new_df, x=\"annu_return_10y\")\n",
    "fig.show()"
   ]
  },
  {
   "cell_type": "code",
   "execution_count": 128,
   "id": "1970e18c",
   "metadata": {},
   "outputs": [
    {
     "data": {
      "application/vnd.plotly.v1+json": {
       "config": {
        "plotlyServerURL": "https://plot.ly"
       },
       "data": [
        {
         "alignmentgroup": "True",
         "bingroup": "x",
         "hovertemplate": "ESG_risk=%{x}<br>count=%{y}<extra></extra>",
         "legendgroup": "",
         "marker": {
          "color": "#636efa",
          "pattern": {
           "shape": ""
          }
         },
         "name": "",
         "offsetgroup": "",
         "orientation": "v",
         "showlegend": false,
         "type": "histogram",
         "x": [
          12.97,
          36.42,
          15.45,
          35.05,
          27.39,
          29.4,
          23.59,
          25.95,
          22.63,
          30.03,
          13.16,
          13.49,
          20.34,
          27.27,
          19.51,
          20.62,
          22.79,
          21.65,
          13.44,
          13.57,
          32.92,
          12.17,
          34.28,
          6.99,
          30.53,
          21.84,
          32.64,
          19.83,
          26.38,
          22.12,
          24.32,
          19.36,
          23.22,
          34.87,
          11.83,
          46.68,
          17.47,
          22.86,
          43.22,
          20.91,
          22.55,
          14.4,
          17.36,
          34.41,
          16.19,
          24.81,
          30.94,
          36.25,
          14.71,
          29.57,
          26.4,
          32.44,
          24.9,
          34.5,
          20.45,
          34.08,
          19.23,
          17.85,
          38.66,
          34.87,
          34.88,
          20.85,
          19.42,
          12.53,
          14.6,
          24.32,
          10.44,
          20.34,
          31.78,
          16.38,
          19.95,
          29.12,
          13.48,
          14.77,
          20.74,
          22.82,
          24.6,
          11.92,
          19.24,
          20.28,
          25.36,
          14.32,
          13.64,
          16.88,
          26.78,
          34.47,
          18.55,
          11.97,
          22.48,
          24.53,
          12.87,
          16.91,
          24.89,
          17.23,
          22.08,
          30.79,
          14.74,
          34.88,
          36.87,
          28.78,
          22,
          16.75,
          15.23,
          15.73,
          31.75,
          22.83,
          16.58,
          24.39,
          36.58,
          12.77,
          15.87,
          13.25,
          24.08,
          14.47,
          23.64,
          28.21,
          24.6,
          17,
          29.2,
          21.06,
          22.87,
          22.64,
          29.4,
          24.51,
          19.62,
          15.52,
          36.08,
          16.39,
          18,
          32.3,
          18.27,
          10.97,
          19.51,
          9.39,
          13.57,
          19.68,
          16.14,
          14.52,
          28.14,
          20.03,
          24.33,
          30.54,
          21.34,
          26.11,
          18.7,
          12.14,
          22.17,
          38.98,
          16.09,
          14.84,
          23.41,
          14.28,
          12.83,
          16.74,
          28.54,
          34.36,
          16.25,
          16.07,
          20.16,
          18.26,
          12.73,
          18.38,
          12.02,
          32.84,
          20.7,
          20.12,
          15.95,
          28.08
         ],
         "xaxis": "x",
         "yaxis": "y"
        }
       ],
       "layout": {
        "barmode": "relative",
        "legend": {
         "tracegroupgap": 0
        },
        "margin": {
         "t": 60
        },
        "template": {
         "data": {
          "bar": [
           {
            "error_x": {
             "color": "#2a3f5f"
            },
            "error_y": {
             "color": "#2a3f5f"
            },
            "marker": {
             "line": {
              "color": "#E5ECF6",
              "width": 0.5
             },
             "pattern": {
              "fillmode": "overlay",
              "size": 10,
              "solidity": 0.2
             }
            },
            "type": "bar"
           }
          ],
          "barpolar": [
           {
            "marker": {
             "line": {
              "color": "#E5ECF6",
              "width": 0.5
             },
             "pattern": {
              "fillmode": "overlay",
              "size": 10,
              "solidity": 0.2
             }
            },
            "type": "barpolar"
           }
          ],
          "carpet": [
           {
            "aaxis": {
             "endlinecolor": "#2a3f5f",
             "gridcolor": "white",
             "linecolor": "white",
             "minorgridcolor": "white",
             "startlinecolor": "#2a3f5f"
            },
            "baxis": {
             "endlinecolor": "#2a3f5f",
             "gridcolor": "white",
             "linecolor": "white",
             "minorgridcolor": "white",
             "startlinecolor": "#2a3f5f"
            },
            "type": "carpet"
           }
          ],
          "choropleth": [
           {
            "colorbar": {
             "outlinewidth": 0,
             "ticks": ""
            },
            "type": "choropleth"
           }
          ],
          "contour": [
           {
            "colorbar": {
             "outlinewidth": 0,
             "ticks": ""
            },
            "colorscale": [
             [
              0,
              "#0d0887"
             ],
             [
              0.1111111111111111,
              "#46039f"
             ],
             [
              0.2222222222222222,
              "#7201a8"
             ],
             [
              0.3333333333333333,
              "#9c179e"
             ],
             [
              0.4444444444444444,
              "#bd3786"
             ],
             [
              0.5555555555555556,
              "#d8576b"
             ],
             [
              0.6666666666666666,
              "#ed7953"
             ],
             [
              0.7777777777777778,
              "#fb9f3a"
             ],
             [
              0.8888888888888888,
              "#fdca26"
             ],
             [
              1,
              "#f0f921"
             ]
            ],
            "type": "contour"
           }
          ],
          "contourcarpet": [
           {
            "colorbar": {
             "outlinewidth": 0,
             "ticks": ""
            },
            "type": "contourcarpet"
           }
          ],
          "heatmap": [
           {
            "colorbar": {
             "outlinewidth": 0,
             "ticks": ""
            },
            "colorscale": [
             [
              0,
              "#0d0887"
             ],
             [
              0.1111111111111111,
              "#46039f"
             ],
             [
              0.2222222222222222,
              "#7201a8"
             ],
             [
              0.3333333333333333,
              "#9c179e"
             ],
             [
              0.4444444444444444,
              "#bd3786"
             ],
             [
              0.5555555555555556,
              "#d8576b"
             ],
             [
              0.6666666666666666,
              "#ed7953"
             ],
             [
              0.7777777777777778,
              "#fb9f3a"
             ],
             [
              0.8888888888888888,
              "#fdca26"
             ],
             [
              1,
              "#f0f921"
             ]
            ],
            "type": "heatmap"
           }
          ],
          "heatmapgl": [
           {
            "colorbar": {
             "outlinewidth": 0,
             "ticks": ""
            },
            "colorscale": [
             [
              0,
              "#0d0887"
             ],
             [
              0.1111111111111111,
              "#46039f"
             ],
             [
              0.2222222222222222,
              "#7201a8"
             ],
             [
              0.3333333333333333,
              "#9c179e"
             ],
             [
              0.4444444444444444,
              "#bd3786"
             ],
             [
              0.5555555555555556,
              "#d8576b"
             ],
             [
              0.6666666666666666,
              "#ed7953"
             ],
             [
              0.7777777777777778,
              "#fb9f3a"
             ],
             [
              0.8888888888888888,
              "#fdca26"
             ],
             [
              1,
              "#f0f921"
             ]
            ],
            "type": "heatmapgl"
           }
          ],
          "histogram": [
           {
            "marker": {
             "pattern": {
              "fillmode": "overlay",
              "size": 10,
              "solidity": 0.2
             }
            },
            "type": "histogram"
           }
          ],
          "histogram2d": [
           {
            "colorbar": {
             "outlinewidth": 0,
             "ticks": ""
            },
            "colorscale": [
             [
              0,
              "#0d0887"
             ],
             [
              0.1111111111111111,
              "#46039f"
             ],
             [
              0.2222222222222222,
              "#7201a8"
             ],
             [
              0.3333333333333333,
              "#9c179e"
             ],
             [
              0.4444444444444444,
              "#bd3786"
             ],
             [
              0.5555555555555556,
              "#d8576b"
             ],
             [
              0.6666666666666666,
              "#ed7953"
             ],
             [
              0.7777777777777778,
              "#fb9f3a"
             ],
             [
              0.8888888888888888,
              "#fdca26"
             ],
             [
              1,
              "#f0f921"
             ]
            ],
            "type": "histogram2d"
           }
          ],
          "histogram2dcontour": [
           {
            "colorbar": {
             "outlinewidth": 0,
             "ticks": ""
            },
            "colorscale": [
             [
              0,
              "#0d0887"
             ],
             [
              0.1111111111111111,
              "#46039f"
             ],
             [
              0.2222222222222222,
              "#7201a8"
             ],
             [
              0.3333333333333333,
              "#9c179e"
             ],
             [
              0.4444444444444444,
              "#bd3786"
             ],
             [
              0.5555555555555556,
              "#d8576b"
             ],
             [
              0.6666666666666666,
              "#ed7953"
             ],
             [
              0.7777777777777778,
              "#fb9f3a"
             ],
             [
              0.8888888888888888,
              "#fdca26"
             ],
             [
              1,
              "#f0f921"
             ]
            ],
            "type": "histogram2dcontour"
           }
          ],
          "mesh3d": [
           {
            "colorbar": {
             "outlinewidth": 0,
             "ticks": ""
            },
            "type": "mesh3d"
           }
          ],
          "parcoords": [
           {
            "line": {
             "colorbar": {
              "outlinewidth": 0,
              "ticks": ""
             }
            },
            "type": "parcoords"
           }
          ],
          "pie": [
           {
            "automargin": true,
            "type": "pie"
           }
          ],
          "scatter": [
           {
            "marker": {
             "colorbar": {
              "outlinewidth": 0,
              "ticks": ""
             }
            },
            "type": "scatter"
           }
          ],
          "scatter3d": [
           {
            "line": {
             "colorbar": {
              "outlinewidth": 0,
              "ticks": ""
             }
            },
            "marker": {
             "colorbar": {
              "outlinewidth": 0,
              "ticks": ""
             }
            },
            "type": "scatter3d"
           }
          ],
          "scattercarpet": [
           {
            "marker": {
             "colorbar": {
              "outlinewidth": 0,
              "ticks": ""
             }
            },
            "type": "scattercarpet"
           }
          ],
          "scattergeo": [
           {
            "marker": {
             "colorbar": {
              "outlinewidth": 0,
              "ticks": ""
             }
            },
            "type": "scattergeo"
           }
          ],
          "scattergl": [
           {
            "marker": {
             "colorbar": {
              "outlinewidth": 0,
              "ticks": ""
             }
            },
            "type": "scattergl"
           }
          ],
          "scattermapbox": [
           {
            "marker": {
             "colorbar": {
              "outlinewidth": 0,
              "ticks": ""
             }
            },
            "type": "scattermapbox"
           }
          ],
          "scatterpolar": [
           {
            "marker": {
             "colorbar": {
              "outlinewidth": 0,
              "ticks": ""
             }
            },
            "type": "scatterpolar"
           }
          ],
          "scatterpolargl": [
           {
            "marker": {
             "colorbar": {
              "outlinewidth": 0,
              "ticks": ""
             }
            },
            "type": "scatterpolargl"
           }
          ],
          "scatterternary": [
           {
            "marker": {
             "colorbar": {
              "outlinewidth": 0,
              "ticks": ""
             }
            },
            "type": "scatterternary"
           }
          ],
          "surface": [
           {
            "colorbar": {
             "outlinewidth": 0,
             "ticks": ""
            },
            "colorscale": [
             [
              0,
              "#0d0887"
             ],
             [
              0.1111111111111111,
              "#46039f"
             ],
             [
              0.2222222222222222,
              "#7201a8"
             ],
             [
              0.3333333333333333,
              "#9c179e"
             ],
             [
              0.4444444444444444,
              "#bd3786"
             ],
             [
              0.5555555555555556,
              "#d8576b"
             ],
             [
              0.6666666666666666,
              "#ed7953"
             ],
             [
              0.7777777777777778,
              "#fb9f3a"
             ],
             [
              0.8888888888888888,
              "#fdca26"
             ],
             [
              1,
              "#f0f921"
             ]
            ],
            "type": "surface"
           }
          ],
          "table": [
           {
            "cells": {
             "fill": {
              "color": "#EBF0F8"
             },
             "line": {
              "color": "white"
             }
            },
            "header": {
             "fill": {
              "color": "#C8D4E3"
             },
             "line": {
              "color": "white"
             }
            },
            "type": "table"
           }
          ]
         },
         "layout": {
          "annotationdefaults": {
           "arrowcolor": "#2a3f5f",
           "arrowhead": 0,
           "arrowwidth": 1
          },
          "autotypenumbers": "strict",
          "coloraxis": {
           "colorbar": {
            "outlinewidth": 0,
            "ticks": ""
           }
          },
          "colorscale": {
           "diverging": [
            [
             0,
             "#8e0152"
            ],
            [
             0.1,
             "#c51b7d"
            ],
            [
             0.2,
             "#de77ae"
            ],
            [
             0.3,
             "#f1b6da"
            ],
            [
             0.4,
             "#fde0ef"
            ],
            [
             0.5,
             "#f7f7f7"
            ],
            [
             0.6,
             "#e6f5d0"
            ],
            [
             0.7,
             "#b8e186"
            ],
            [
             0.8,
             "#7fbc41"
            ],
            [
             0.9,
             "#4d9221"
            ],
            [
             1,
             "#276419"
            ]
           ],
           "sequential": [
            [
             0,
             "#0d0887"
            ],
            [
             0.1111111111111111,
             "#46039f"
            ],
            [
             0.2222222222222222,
             "#7201a8"
            ],
            [
             0.3333333333333333,
             "#9c179e"
            ],
            [
             0.4444444444444444,
             "#bd3786"
            ],
            [
             0.5555555555555556,
             "#d8576b"
            ],
            [
             0.6666666666666666,
             "#ed7953"
            ],
            [
             0.7777777777777778,
             "#fb9f3a"
            ],
            [
             0.8888888888888888,
             "#fdca26"
            ],
            [
             1,
             "#f0f921"
            ]
           ],
           "sequentialminus": [
            [
             0,
             "#0d0887"
            ],
            [
             0.1111111111111111,
             "#46039f"
            ],
            [
             0.2222222222222222,
             "#7201a8"
            ],
            [
             0.3333333333333333,
             "#9c179e"
            ],
            [
             0.4444444444444444,
             "#bd3786"
            ],
            [
             0.5555555555555556,
             "#d8576b"
            ],
            [
             0.6666666666666666,
             "#ed7953"
            ],
            [
             0.7777777777777778,
             "#fb9f3a"
            ],
            [
             0.8888888888888888,
             "#fdca26"
            ],
            [
             1,
             "#f0f921"
            ]
           ]
          },
          "colorway": [
           "#636efa",
           "#EF553B",
           "#00cc96",
           "#ab63fa",
           "#FFA15A",
           "#19d3f3",
           "#FF6692",
           "#B6E880",
           "#FF97FF",
           "#FECB52"
          ],
          "font": {
           "color": "#2a3f5f"
          },
          "geo": {
           "bgcolor": "white",
           "lakecolor": "white",
           "landcolor": "#E5ECF6",
           "showlakes": true,
           "showland": true,
           "subunitcolor": "white"
          },
          "hoverlabel": {
           "align": "left"
          },
          "hovermode": "closest",
          "mapbox": {
           "style": "light"
          },
          "paper_bgcolor": "white",
          "plot_bgcolor": "#E5ECF6",
          "polar": {
           "angularaxis": {
            "gridcolor": "white",
            "linecolor": "white",
            "ticks": ""
           },
           "bgcolor": "#E5ECF6",
           "radialaxis": {
            "gridcolor": "white",
            "linecolor": "white",
            "ticks": ""
           }
          },
          "scene": {
           "xaxis": {
            "backgroundcolor": "#E5ECF6",
            "gridcolor": "white",
            "gridwidth": 2,
            "linecolor": "white",
            "showbackground": true,
            "ticks": "",
            "zerolinecolor": "white"
           },
           "yaxis": {
            "backgroundcolor": "#E5ECF6",
            "gridcolor": "white",
            "gridwidth": 2,
            "linecolor": "white",
            "showbackground": true,
            "ticks": "",
            "zerolinecolor": "white"
           },
           "zaxis": {
            "backgroundcolor": "#E5ECF6",
            "gridcolor": "white",
            "gridwidth": 2,
            "linecolor": "white",
            "showbackground": true,
            "ticks": "",
            "zerolinecolor": "white"
           }
          },
          "shapedefaults": {
           "line": {
            "color": "#2a3f5f"
           }
          },
          "ternary": {
           "aaxis": {
            "gridcolor": "white",
            "linecolor": "white",
            "ticks": ""
           },
           "baxis": {
            "gridcolor": "white",
            "linecolor": "white",
            "ticks": ""
           },
           "bgcolor": "#E5ECF6",
           "caxis": {
            "gridcolor": "white",
            "linecolor": "white",
            "ticks": ""
           }
          },
          "title": {
           "x": 0.05
          },
          "xaxis": {
           "automargin": true,
           "gridcolor": "white",
           "linecolor": "white",
           "ticks": "",
           "title": {
            "standoff": 15
           },
           "zerolinecolor": "white",
           "zerolinewidth": 2
          },
          "yaxis": {
           "automargin": true,
           "gridcolor": "white",
           "linecolor": "white",
           "ticks": "",
           "title": {
            "standoff": 15
           },
           "zerolinecolor": "white",
           "zerolinewidth": 2
          }
         }
        },
        "xaxis": {
         "anchor": "y",
         "domain": [
          0,
          1
         ],
         "title": {
          "text": "ESG_risk"
         }
        },
        "yaxis": {
         "anchor": "x",
         "domain": [
          0,
          1
         ],
         "title": {
          "text": "count"
         }
        }
       }
      },
      "text/html": [
       "<div>                            <div id=\"ea15b39f-feac-4697-a013-510b4e3be21f\" class=\"plotly-graph-div\" style=\"height:525px; width:100%;\"></div>            <script type=\"text/javascript\">                require([\"plotly\"], function(Plotly) {                    window.PLOTLYENV=window.PLOTLYENV || {};                                    if (document.getElementById(\"ea15b39f-feac-4697-a013-510b4e3be21f\")) {                    Plotly.newPlot(                        \"ea15b39f-feac-4697-a013-510b4e3be21f\",                        [{\"alignmentgroup\":\"True\",\"bingroup\":\"x\",\"hovertemplate\":\"ESG_risk=%{x}<br>count=%{y}<extra></extra>\",\"legendgroup\":\"\",\"marker\":{\"color\":\"#636efa\",\"pattern\":{\"shape\":\"\"}},\"name\":\"\",\"offsetgroup\":\"\",\"orientation\":\"v\",\"showlegend\":false,\"x\":[12.97,36.42,15.45,35.05,27.39,29.4,23.59,25.95,22.63,30.03,13.16,13.49,20.34,27.27,19.51,20.62,22.79,21.65,13.44,13.57,32.92,12.17,34.28,6.99,30.53,21.84,32.64,19.83,26.38,22.12,24.32,19.36,23.22,34.87,11.83,46.68,17.47,22.86,43.22,20.91,22.55,14.4,17.36,34.41,16.19,24.81,30.94,36.25,14.71,29.57,26.4,32.44,24.9,34.5,20.45,34.08,19.23,17.85,38.66,34.87,34.88,20.85,19.42,12.53,14.6,24.32,10.44,20.34,31.78,16.38,19.95,29.12,13.48,14.77,20.74,22.82,24.6,11.92,19.24,20.28,25.36,14.32,13.64,16.88,26.78,34.47,18.55,11.97,22.48,24.53,12.87,16.91,24.89,17.23,22.08,30.79,14.74,34.88,36.87,28.78,22.0,16.75,15.23,15.73,31.75,22.83,16.58,24.39,36.58,12.77,15.87,13.25,24.08,14.47,23.64,28.21,24.6,17.0,29.2,21.06,22.87,22.64,29.4,24.51,19.62,15.52,36.08,16.39,18.0,32.3,18.27,10.97,19.51,9.39,13.57,19.68,16.14,14.52,28.14,20.03,24.33,30.54,21.34,26.11,18.7,12.14,22.17,38.98,16.09,14.84,23.41,14.28,12.83,16.74,28.54,34.36,16.25,16.07,20.16,18.26,12.73,18.38,12.02,32.84,20.7,20.12,15.95,28.08],\"xaxis\":\"x\",\"yaxis\":\"y\",\"type\":\"histogram\"}],                        {\"template\":{\"data\":{\"bar\":[{\"error_x\":{\"color\":\"#2a3f5f\"},\"error_y\":{\"color\":\"#2a3f5f\"},\"marker\":{\"line\":{\"color\":\"#E5ECF6\",\"width\":0.5},\"pattern\":{\"fillmode\":\"overlay\",\"size\":10,\"solidity\":0.2}},\"type\":\"bar\"}],\"barpolar\":[{\"marker\":{\"line\":{\"color\":\"#E5ECF6\",\"width\":0.5},\"pattern\":{\"fillmode\":\"overlay\",\"size\":10,\"solidity\":0.2}},\"type\":\"barpolar\"}],\"carpet\":[{\"aaxis\":{\"endlinecolor\":\"#2a3f5f\",\"gridcolor\":\"white\",\"linecolor\":\"white\",\"minorgridcolor\":\"white\",\"startlinecolor\":\"#2a3f5f\"},\"baxis\":{\"endlinecolor\":\"#2a3f5f\",\"gridcolor\":\"white\",\"linecolor\":\"white\",\"minorgridcolor\":\"white\",\"startlinecolor\":\"#2a3f5f\"},\"type\":\"carpet\"}],\"choropleth\":[{\"colorbar\":{\"outlinewidth\":0,\"ticks\":\"\"},\"type\":\"choropleth\"}],\"contour\":[{\"colorbar\":{\"outlinewidth\":0,\"ticks\":\"\"},\"colorscale\":[[0.0,\"#0d0887\"],[0.1111111111111111,\"#46039f\"],[0.2222222222222222,\"#7201a8\"],[0.3333333333333333,\"#9c179e\"],[0.4444444444444444,\"#bd3786\"],[0.5555555555555556,\"#d8576b\"],[0.6666666666666666,\"#ed7953\"],[0.7777777777777778,\"#fb9f3a\"],[0.8888888888888888,\"#fdca26\"],[1.0,\"#f0f921\"]],\"type\":\"contour\"}],\"contourcarpet\":[{\"colorbar\":{\"outlinewidth\":0,\"ticks\":\"\"},\"type\":\"contourcarpet\"}],\"heatmap\":[{\"colorbar\":{\"outlinewidth\":0,\"ticks\":\"\"},\"colorscale\":[[0.0,\"#0d0887\"],[0.1111111111111111,\"#46039f\"],[0.2222222222222222,\"#7201a8\"],[0.3333333333333333,\"#9c179e\"],[0.4444444444444444,\"#bd3786\"],[0.5555555555555556,\"#d8576b\"],[0.6666666666666666,\"#ed7953\"],[0.7777777777777778,\"#fb9f3a\"],[0.8888888888888888,\"#fdca26\"],[1.0,\"#f0f921\"]],\"type\":\"heatmap\"}],\"heatmapgl\":[{\"colorbar\":{\"outlinewidth\":0,\"ticks\":\"\"},\"colorscale\":[[0.0,\"#0d0887\"],[0.1111111111111111,\"#46039f\"],[0.2222222222222222,\"#7201a8\"],[0.3333333333333333,\"#9c179e\"],[0.4444444444444444,\"#bd3786\"],[0.5555555555555556,\"#d8576b\"],[0.6666666666666666,\"#ed7953\"],[0.7777777777777778,\"#fb9f3a\"],[0.8888888888888888,\"#fdca26\"],[1.0,\"#f0f921\"]],\"type\":\"heatmapgl\"}],\"histogram\":[{\"marker\":{\"pattern\":{\"fillmode\":\"overlay\",\"size\":10,\"solidity\":0.2}},\"type\":\"histogram\"}],\"histogram2d\":[{\"colorbar\":{\"outlinewidth\":0,\"ticks\":\"\"},\"colorscale\":[[0.0,\"#0d0887\"],[0.1111111111111111,\"#46039f\"],[0.2222222222222222,\"#7201a8\"],[0.3333333333333333,\"#9c179e\"],[0.4444444444444444,\"#bd3786\"],[0.5555555555555556,\"#d8576b\"],[0.6666666666666666,\"#ed7953\"],[0.7777777777777778,\"#fb9f3a\"],[0.8888888888888888,\"#fdca26\"],[1.0,\"#f0f921\"]],\"type\":\"histogram2d\"}],\"histogram2dcontour\":[{\"colorbar\":{\"outlinewidth\":0,\"ticks\":\"\"},\"colorscale\":[[0.0,\"#0d0887\"],[0.1111111111111111,\"#46039f\"],[0.2222222222222222,\"#7201a8\"],[0.3333333333333333,\"#9c179e\"],[0.4444444444444444,\"#bd3786\"],[0.5555555555555556,\"#d8576b\"],[0.6666666666666666,\"#ed7953\"],[0.7777777777777778,\"#fb9f3a\"],[0.8888888888888888,\"#fdca26\"],[1.0,\"#f0f921\"]],\"type\":\"histogram2dcontour\"}],\"mesh3d\":[{\"colorbar\":{\"outlinewidth\":0,\"ticks\":\"\"},\"type\":\"mesh3d\"}],\"parcoords\":[{\"line\":{\"colorbar\":{\"outlinewidth\":0,\"ticks\":\"\"}},\"type\":\"parcoords\"}],\"pie\":[{\"automargin\":true,\"type\":\"pie\"}],\"scatter\":[{\"marker\":{\"colorbar\":{\"outlinewidth\":0,\"ticks\":\"\"}},\"type\":\"scatter\"}],\"scatter3d\":[{\"line\":{\"colorbar\":{\"outlinewidth\":0,\"ticks\":\"\"}},\"marker\":{\"colorbar\":{\"outlinewidth\":0,\"ticks\":\"\"}},\"type\":\"scatter3d\"}],\"scattercarpet\":[{\"marker\":{\"colorbar\":{\"outlinewidth\":0,\"ticks\":\"\"}},\"type\":\"scattercarpet\"}],\"scattergeo\":[{\"marker\":{\"colorbar\":{\"outlinewidth\":0,\"ticks\":\"\"}},\"type\":\"scattergeo\"}],\"scattergl\":[{\"marker\":{\"colorbar\":{\"outlinewidth\":0,\"ticks\":\"\"}},\"type\":\"scattergl\"}],\"scattermapbox\":[{\"marker\":{\"colorbar\":{\"outlinewidth\":0,\"ticks\":\"\"}},\"type\":\"scattermapbox\"}],\"scatterpolar\":[{\"marker\":{\"colorbar\":{\"outlinewidth\":0,\"ticks\":\"\"}},\"type\":\"scatterpolar\"}],\"scatterpolargl\":[{\"marker\":{\"colorbar\":{\"outlinewidth\":0,\"ticks\":\"\"}},\"type\":\"scatterpolargl\"}],\"scatterternary\":[{\"marker\":{\"colorbar\":{\"outlinewidth\":0,\"ticks\":\"\"}},\"type\":\"scatterternary\"}],\"surface\":[{\"colorbar\":{\"outlinewidth\":0,\"ticks\":\"\"},\"colorscale\":[[0.0,\"#0d0887\"],[0.1111111111111111,\"#46039f\"],[0.2222222222222222,\"#7201a8\"],[0.3333333333333333,\"#9c179e\"],[0.4444444444444444,\"#bd3786\"],[0.5555555555555556,\"#d8576b\"],[0.6666666666666666,\"#ed7953\"],[0.7777777777777778,\"#fb9f3a\"],[0.8888888888888888,\"#fdca26\"],[1.0,\"#f0f921\"]],\"type\":\"surface\"}],\"table\":[{\"cells\":{\"fill\":{\"color\":\"#EBF0F8\"},\"line\":{\"color\":\"white\"}},\"header\":{\"fill\":{\"color\":\"#C8D4E3\"},\"line\":{\"color\":\"white\"}},\"type\":\"table\"}]},\"layout\":{\"annotationdefaults\":{\"arrowcolor\":\"#2a3f5f\",\"arrowhead\":0,\"arrowwidth\":1},\"autotypenumbers\":\"strict\",\"coloraxis\":{\"colorbar\":{\"outlinewidth\":0,\"ticks\":\"\"}},\"colorscale\":{\"diverging\":[[0,\"#8e0152\"],[0.1,\"#c51b7d\"],[0.2,\"#de77ae\"],[0.3,\"#f1b6da\"],[0.4,\"#fde0ef\"],[0.5,\"#f7f7f7\"],[0.6,\"#e6f5d0\"],[0.7,\"#b8e186\"],[0.8,\"#7fbc41\"],[0.9,\"#4d9221\"],[1,\"#276419\"]],\"sequential\":[[0.0,\"#0d0887\"],[0.1111111111111111,\"#46039f\"],[0.2222222222222222,\"#7201a8\"],[0.3333333333333333,\"#9c179e\"],[0.4444444444444444,\"#bd3786\"],[0.5555555555555556,\"#d8576b\"],[0.6666666666666666,\"#ed7953\"],[0.7777777777777778,\"#fb9f3a\"],[0.8888888888888888,\"#fdca26\"],[1.0,\"#f0f921\"]],\"sequentialminus\":[[0.0,\"#0d0887\"],[0.1111111111111111,\"#46039f\"],[0.2222222222222222,\"#7201a8\"],[0.3333333333333333,\"#9c179e\"],[0.4444444444444444,\"#bd3786\"],[0.5555555555555556,\"#d8576b\"],[0.6666666666666666,\"#ed7953\"],[0.7777777777777778,\"#fb9f3a\"],[0.8888888888888888,\"#fdca26\"],[1.0,\"#f0f921\"]]},\"colorway\":[\"#636efa\",\"#EF553B\",\"#00cc96\",\"#ab63fa\",\"#FFA15A\",\"#19d3f3\",\"#FF6692\",\"#B6E880\",\"#FF97FF\",\"#FECB52\"],\"font\":{\"color\":\"#2a3f5f\"},\"geo\":{\"bgcolor\":\"white\",\"lakecolor\":\"white\",\"landcolor\":\"#E5ECF6\",\"showlakes\":true,\"showland\":true,\"subunitcolor\":\"white\"},\"hoverlabel\":{\"align\":\"left\"},\"hovermode\":\"closest\",\"mapbox\":{\"style\":\"light\"},\"paper_bgcolor\":\"white\",\"plot_bgcolor\":\"#E5ECF6\",\"polar\":{\"angularaxis\":{\"gridcolor\":\"white\",\"linecolor\":\"white\",\"ticks\":\"\"},\"bgcolor\":\"#E5ECF6\",\"radialaxis\":{\"gridcolor\":\"white\",\"linecolor\":\"white\",\"ticks\":\"\"}},\"scene\":{\"xaxis\":{\"backgroundcolor\":\"#E5ECF6\",\"gridcolor\":\"white\",\"gridwidth\":2,\"linecolor\":\"white\",\"showbackground\":true,\"ticks\":\"\",\"zerolinecolor\":\"white\"},\"yaxis\":{\"backgroundcolor\":\"#E5ECF6\",\"gridcolor\":\"white\",\"gridwidth\":2,\"linecolor\":\"white\",\"showbackground\":true,\"ticks\":\"\",\"zerolinecolor\":\"white\"},\"zaxis\":{\"backgroundcolor\":\"#E5ECF6\",\"gridcolor\":\"white\",\"gridwidth\":2,\"linecolor\":\"white\",\"showbackground\":true,\"ticks\":\"\",\"zerolinecolor\":\"white\"}},\"shapedefaults\":{\"line\":{\"color\":\"#2a3f5f\"}},\"ternary\":{\"aaxis\":{\"gridcolor\":\"white\",\"linecolor\":\"white\",\"ticks\":\"\"},\"baxis\":{\"gridcolor\":\"white\",\"linecolor\":\"white\",\"ticks\":\"\"},\"bgcolor\":\"#E5ECF6\",\"caxis\":{\"gridcolor\":\"white\",\"linecolor\":\"white\",\"ticks\":\"\"}},\"title\":{\"x\":0.05},\"xaxis\":{\"automargin\":true,\"gridcolor\":\"white\",\"linecolor\":\"white\",\"ticks\":\"\",\"title\":{\"standoff\":15},\"zerolinecolor\":\"white\",\"zerolinewidth\":2},\"yaxis\":{\"automargin\":true,\"gridcolor\":\"white\",\"linecolor\":\"white\",\"ticks\":\"\",\"title\":{\"standoff\":15},\"zerolinecolor\":\"white\",\"zerolinewidth\":2}}},\"xaxis\":{\"anchor\":\"y\",\"domain\":[0.0,1.0],\"title\":{\"text\":\"ESG_risk\"}},\"yaxis\":{\"anchor\":\"x\",\"domain\":[0.0,1.0],\"title\":{\"text\":\"count\"}},\"legend\":{\"tracegroupgap\":0},\"margin\":{\"t\":60},\"barmode\":\"relative\"},                        {\"responsive\": true}                    ).then(function(){\n",
       "                            \n",
       "var gd = document.getElementById('ea15b39f-feac-4697-a013-510b4e3be21f');\n",
       "var x = new MutationObserver(function (mutations, observer) {{\n",
       "        var display = window.getComputedStyle(gd).display;\n",
       "        if (!display || display === 'none') {{\n",
       "            console.log([gd, 'removed!']);\n",
       "            Plotly.purge(gd);\n",
       "            observer.disconnect();\n",
       "        }}\n",
       "}});\n",
       "\n",
       "// Listen for the removal of the full notebook cells\n",
       "var notebookContainer = gd.closest('#notebook-container');\n",
       "if (notebookContainer) {{\n",
       "    x.observe(notebookContainer, {childList: true});\n",
       "}}\n",
       "\n",
       "// Listen for the clearing of the current output cell\n",
       "var outputEl = gd.closest('.output');\n",
       "if (outputEl) {{\n",
       "    x.observe(outputEl, {childList: true});\n",
       "}}\n",
       "\n",
       "                        })                };                });            </script>        </div>"
      ]
     },
     "metadata": {},
     "output_type": "display_data"
    }
   ],
   "source": [
    "fig = px.histogram(new_df, x=\"ESG_risk\")\n",
    "fig.show()"
   ]
  },
  {
   "cell_type": "markdown",
   "id": "a4da629b",
   "metadata": {},
   "source": [
    "## "
   ]
  }
 ],
 "metadata": {
  "kernelspec": {
   "display_name": "Python 3",
   "language": "python",
   "name": "python3"
  },
  "language_info": {
   "codemirror_mode": {
    "name": "ipython",
    "version": 3
   },
   "file_extension": ".py",
   "mimetype": "text/x-python",
   "name": "python",
   "nbconvert_exporter": "python",
   "pygments_lexer": "ipython3",
   "version": "3.8.2"
  },
  "toc": {
   "base_numbering": 1,
   "nav_menu": {},
   "number_sections": true,
   "sideBar": true,
   "skip_h1_title": false,
   "title_cell": "Table of Contents",
   "title_sidebar": "Contents",
   "toc_cell": false,
   "toc_position": {},
   "toc_section_display": true,
   "toc_window_display": false
  }
 },
 "nbformat": 4,
 "nbformat_minor": 5
}
