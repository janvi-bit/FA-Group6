{
 "cells": [
  {
   "cell_type": "markdown",
   "id": "2fc1cdbc",
   "metadata": {},
   "source": [
    "## Data Reading"
   ]
  },
  {
   "cell_type": "code",
   "execution_count": 1,
   "id": "f6792459",
   "metadata": {},
   "outputs": [],
   "source": [
    "import pandas as pd\n",
    "import numpy as np\n",
    "import plotly.express as px\n"
   ]
  },
  {
   "cell_type": "code",
   "execution_count": 4,
   "id": "274d5a57",
   "metadata": {},
   "outputs": [
    {
     "data": {
      "text/html": [
       "<div>\n",
       "<style scoped>\n",
       "    .dataframe tbody tr th:only-of-type {\n",
       "        vertical-align: middle;\n",
       "    }\n",
       "\n",
       "    .dataframe tbody tr th {\n",
       "        vertical-align: top;\n",
       "    }\n",
       "\n",
       "    .dataframe thead th {\n",
       "        text-align: right;\n",
       "    }\n",
       "</style>\n",
       "<table border=\"1\" class=\"dataframe\">\n",
       "  <thead>\n",
       "    <tr style=\"text-align: right;\">\n",
       "      <th></th>\n",
       "      <th>ticker</th>\n",
       "      <th>name</th>\n",
       "      <th>sector</th>\n",
       "      <th>Earnings_expectation</th>\n",
       "      <th>irv_status</th>\n",
       "      <th>capm_status</th>\n",
       "      <th>esg_status</th>\n",
       "      <th>current_price</th>\n",
       "      <th>annu_return_10y</th>\n",
       "      <th>market_cap</th>\n",
       "      <th>marketcap_cat</th>\n",
       "      <th>beta</th>\n",
       "      <th>eps_ttm</th>\n",
       "      <th>growth_estimate_5y</th>\n",
       "      <th>pe_forward</th>\n",
       "      <th>pe_trailing</th>\n",
       "      <th>irv_FairValue</th>\n",
       "      <th>ESG_risk</th>\n",
       "      <th>capm_expected_return</th>\n",
       "    </tr>\n",
       "  </thead>\n",
       "  <tbody>\n",
       "    <tr>\n",
       "      <th>0</th>\n",
       "      <td>AAP</td>\n",
       "      <td>Advance Auto Parts Inc.</td>\n",
       "      <td>Consumer Cyclical</td>\n",
       "      <td>Increase</td>\n",
       "      <td>Above Fair Price</td>\n",
       "      <td>UnderValued</td>\n",
       "      <td>Sustainable</td>\n",
       "      <td>214.1500</td>\n",
       "      <td>0.103398</td>\n",
       "      <td>1.308405e+10</td>\n",
       "      <td>Large</td>\n",
       "      <td>1.25</td>\n",
       "      <td>9.550</td>\n",
       "      <td>0.1525</td>\n",
       "      <td>13.932986</td>\n",
       "      <td>22.424082</td>\n",
       "      <td>109.188247</td>\n",
       "      <td>12.97</td>\n",
       "      <td>0.171149</td>\n",
       "    </tr>\n",
       "    <tr>\n",
       "      <th>1</th>\n",
       "      <td>ABT</td>\n",
       "      <td>Abbott Laboratories</td>\n",
       "      <td>Healthcare</td>\n",
       "      <td>Increase</td>\n",
       "      <td>Above Fair Price</td>\n",
       "      <td>OverValued</td>\n",
       "      <td>Average</td>\n",
       "      <td>118.2900</td>\n",
       "      <td>0.181179</td>\n",
       "      <td>2.091710e+11</td>\n",
       "      <td>Large</td>\n",
       "      <td>0.74</td>\n",
       "      <td>3.940</td>\n",
       "      <td>0.1318</td>\n",
       "      <td>22.924420</td>\n",
       "      <td>30.022842</td>\n",
       "      <td>51.234756</td>\n",
       "      <td>25.96</td>\n",
       "      <td>0.109154</td>\n",
       "    </tr>\n",
       "    <tr>\n",
       "      <th>2</th>\n",
       "      <td>ACN</td>\n",
       "      <td>Accenture plc</td>\n",
       "      <td>Technology</td>\n",
       "      <td>Increase</td>\n",
       "      <td>Above Fair Price</td>\n",
       "      <td>OverValued</td>\n",
       "      <td>Sustainable</td>\n",
       "      <td>323.9050</td>\n",
       "      <td>0.208836</td>\n",
       "      <td>2.047083e+11</td>\n",
       "      <td>Large</td>\n",
       "      <td>1.21</td>\n",
       "      <td>9.613</td>\n",
       "      <td>0.1135</td>\n",
       "      <td>31.025385</td>\n",
       "      <td>33.694477</td>\n",
       "      <td>121.148794</td>\n",
       "      <td>9.45</td>\n",
       "      <td>0.166287</td>\n",
       "    </tr>\n",
       "    <tr>\n",
       "      <th>3</th>\n",
       "      <td>ADM</td>\n",
       "      <td>Archer-Daniels-Midland Company</td>\n",
       "      <td>Consumer Defensive</td>\n",
       "      <td>Increase</td>\n",
       "      <td>Above Fair Price</td>\n",
       "      <td>OverValued</td>\n",
       "      <td>Not Sustainable</td>\n",
       "      <td>76.9850</td>\n",
       "      <td>0.122815</td>\n",
       "      <td>4.327843e+10</td>\n",
       "      <td>Large</td>\n",
       "      <td>0.81</td>\n",
       "      <td>4.790</td>\n",
       "      <td>0.0660</td>\n",
       "      <td>14.804809</td>\n",
       "      <td>16.072025</td>\n",
       "      <td>19.449588</td>\n",
       "      <td>36.42</td>\n",
       "      <td>0.117663</td>\n",
       "    </tr>\n",
       "    <tr>\n",
       "      <th>4</th>\n",
       "      <td>ADP</td>\n",
       "      <td>Automatic Data Processing, Inc.</td>\n",
       "      <td>Industrials</td>\n",
       "      <td>Increase</td>\n",
       "      <td>Above Fair Price</td>\n",
       "      <td>OverValued</td>\n",
       "      <td>Sustainable</td>\n",
       "      <td>201.0100</td>\n",
       "      <td>0.182708</td>\n",
       "      <td>8.443324e+10</td>\n",
       "      <td>Large</td>\n",
       "      <td>0.83</td>\n",
       "      <td>6.460</td>\n",
       "      <td>0.1371</td>\n",
       "      <td>26.483530</td>\n",
       "      <td>31.116098</td>\n",
       "      <td>90.801919</td>\n",
       "      <td>14.18</td>\n",
       "      <td>0.120094</td>\n",
       "    </tr>\n",
       "    <tr>\n",
       "      <th>...</th>\n",
       "      <td>...</td>\n",
       "      <td>...</td>\n",
       "      <td>...</td>\n",
       "      <td>...</td>\n",
       "      <td>...</td>\n",
       "      <td>...</td>\n",
       "      <td>...</td>\n",
       "      <td>...</td>\n",
       "      <td>...</td>\n",
       "      <td>...</td>\n",
       "      <td>...</td>\n",
       "      <td>...</td>\n",
       "      <td>...</td>\n",
       "      <td>...</td>\n",
       "      <td>...</td>\n",
       "      <td>...</td>\n",
       "      <td>...</td>\n",
       "      <td>...</td>\n",
       "      <td>...</td>\n",
       "    </tr>\n",
       "    <tr>\n",
       "      <th>933</th>\n",
       "      <td>XRX</td>\n",
       "      <td>Xerox Holdings Corporation</td>\n",
       "      <td>Technology</td>\n",
       "      <td>Increase</td>\n",
       "      <td>Above Fair Price</td>\n",
       "      <td>UnderValued</td>\n",
       "      <td>No Data</td>\n",
       "      <td>20.6059</td>\n",
       "      <td>0.029031</td>\n",
       "      <td>3.678401e+09</td>\n",
       "      <td>Small</td>\n",
       "      <td>1.75</td>\n",
       "      <td>1.459</td>\n",
       "      <td>-0.1600</td>\n",
       "      <td>10.302950</td>\n",
       "      <td>14.123303</td>\n",
       "      <td>0.609810</td>\n",
       "      <td>999.00</td>\n",
       "      <td>0.231929</td>\n",
       "    </tr>\n",
       "    <tr>\n",
       "      <th>934</th>\n",
       "      <td>ZD</td>\n",
       "      <td>Ziff Davis, Inc.</td>\n",
       "      <td>Communication Services</td>\n",
       "      <td>Increase</td>\n",
       "      <td>Above Fair Price</td>\n",
       "      <td>OverValued</td>\n",
       "      <td>No Data</td>\n",
       "      <td>102.4800</td>\n",
       "      <td>0.145864</td>\n",
       "      <td>4.941668e+09</td>\n",
       "      <td>Small</td>\n",
       "      <td>1.01</td>\n",
       "      <td>4.120</td>\n",
       "      <td>0.1140</td>\n",
       "      <td>14.193907</td>\n",
       "      <td>24.873789</td>\n",
       "      <td>38.485339</td>\n",
       "      <td>999.00</td>\n",
       "      <td>0.141975</td>\n",
       "    </tr>\n",
       "    <tr>\n",
       "      <th>935</th>\n",
       "      <td>ZUMZ</td>\n",
       "      <td>Zumiez Inc.</td>\n",
       "      <td>Consumer Cyclical</td>\n",
       "      <td>Decrease</td>\n",
       "      <td>Above Fair Price</td>\n",
       "      <td>UnderValued</td>\n",
       "      <td>No Data</td>\n",
       "      <td>42.6600</td>\n",
       "      <td>0.035214</td>\n",
       "      <td>9.777245e+08</td>\n",
       "      <td>Small</td>\n",
       "      <td>1.68</td>\n",
       "      <td>4.870</td>\n",
       "      <td>0.1500</td>\n",
       "      <td>9.233767</td>\n",
       "      <td>8.759754</td>\n",
       "      <td>21.330001</td>\n",
       "      <td>999.00</td>\n",
       "      <td>0.223419</td>\n",
       "    </tr>\n",
       "    <tr>\n",
       "      <th>936</th>\n",
       "      <td>ESNT</td>\n",
       "      <td>Essent Group Ltd.</td>\n",
       "      <td>Financial Services</td>\n",
       "      <td>Increase</td>\n",
       "      <td>Above Fair Price</td>\n",
       "      <td>UnderValued</td>\n",
       "      <td>No Data</td>\n",
       "      <td>44.4800</td>\n",
       "      <td>0.082041</td>\n",
       "      <td>4.912015e+09</td>\n",
       "      <td>Small</td>\n",
       "      <td>1.33</td>\n",
       "      <td>5.569</td>\n",
       "      <td>0.1555</td>\n",
       "      <td>7.339934</td>\n",
       "      <td>7.987071</td>\n",
       "      <td>23.215807</td>\n",
       "      <td>999.00</td>\n",
       "      <td>0.180874</td>\n",
       "    </tr>\n",
       "    <tr>\n",
       "      <th>937</th>\n",
       "      <td>SAFE</td>\n",
       "      <td>Safehold Inc.</td>\n",
       "      <td>Real Estate</td>\n",
       "      <td>Increase</td>\n",
       "      <td>Below Fair Price</td>\n",
       "      <td>OverValued</td>\n",
       "      <td>No Data</td>\n",
       "      <td>60.4700</td>\n",
       "      <td>0.133037</td>\n",
       "      <td>3.420177e+09</td>\n",
       "      <td>Small</td>\n",
       "      <td>-0.29</td>\n",
       "      <td>1.261</td>\n",
       "      <td>0.3690</td>\n",
       "      <td>34.752872</td>\n",
       "      <td>47.954006</td>\n",
       "      <td>145.164511</td>\n",
       "      <td>999.00</td>\n",
       "      <td>-0.016052</td>\n",
       "    </tr>\n",
       "  </tbody>\n",
       "</table>\n",
       "<p>938 rows × 19 columns</p>\n",
       "</div>"
      ],
      "text/plain": [
       "    ticker                             name                  sector  \\\n",
       "0      AAP          Advance Auto Parts Inc.       Consumer Cyclical   \n",
       "1      ABT              Abbott Laboratories              Healthcare   \n",
       "2      ACN                    Accenture plc              Technology   \n",
       "3      ADM   Archer-Daniels-Midland Company      Consumer Defensive   \n",
       "4      ADP  Automatic Data Processing, Inc.             Industrials   \n",
       "..     ...                              ...                     ...   \n",
       "933    XRX       Xerox Holdings Corporation              Technology   \n",
       "934     ZD                 Ziff Davis, Inc.  Communication Services   \n",
       "935   ZUMZ                      Zumiez Inc.       Consumer Cyclical   \n",
       "936   ESNT                Essent Group Ltd.      Financial Services   \n",
       "937   SAFE                    Safehold Inc.             Real Estate   \n",
       "\n",
       "    Earnings_expectation        irv_status  capm_status       esg_status  \\\n",
       "0               Increase  Above Fair Price  UnderValued      Sustainable   \n",
       "1               Increase  Above Fair Price   OverValued          Average   \n",
       "2               Increase  Above Fair Price   OverValued      Sustainable   \n",
       "3               Increase  Above Fair Price   OverValued  Not Sustainable   \n",
       "4               Increase  Above Fair Price   OverValued      Sustainable   \n",
       "..                   ...               ...          ...              ...   \n",
       "933             Increase  Above Fair Price  UnderValued          No Data   \n",
       "934             Increase  Above Fair Price   OverValued          No Data   \n",
       "935             Decrease  Above Fair Price  UnderValued          No Data   \n",
       "936             Increase  Above Fair Price  UnderValued          No Data   \n",
       "937             Increase  Below Fair Price   OverValued          No Data   \n",
       "\n",
       "     current_price  annu_return_10y    market_cap marketcap_cat  beta  \\\n",
       "0         214.1500         0.103398  1.308405e+10         Large  1.25   \n",
       "1         118.2900         0.181179  2.091710e+11         Large  0.74   \n",
       "2         323.9050         0.208836  2.047083e+11         Large  1.21   \n",
       "3          76.9850         0.122815  4.327843e+10         Large  0.81   \n",
       "4         201.0100         0.182708  8.443324e+10         Large  0.83   \n",
       "..             ...              ...           ...           ...   ...   \n",
       "933        20.6059         0.029031  3.678401e+09         Small  1.75   \n",
       "934       102.4800         0.145864  4.941668e+09         Small  1.01   \n",
       "935        42.6600         0.035214  9.777245e+08         Small  1.68   \n",
       "936        44.4800         0.082041  4.912015e+09         Small  1.33   \n",
       "937        60.4700         0.133037  3.420177e+09         Small -0.29   \n",
       "\n",
       "     eps_ttm  growth_estimate_5y  pe_forward  pe_trailing  irv_FairValue  \\\n",
       "0      9.550              0.1525   13.932986    22.424082     109.188247   \n",
       "1      3.940              0.1318   22.924420    30.022842      51.234756   \n",
       "2      9.613              0.1135   31.025385    33.694477     121.148794   \n",
       "3      4.790              0.0660   14.804809    16.072025      19.449588   \n",
       "4      6.460              0.1371   26.483530    31.116098      90.801919   \n",
       "..       ...                 ...         ...          ...            ...   \n",
       "933    1.459             -0.1600   10.302950    14.123303       0.609810   \n",
       "934    4.120              0.1140   14.193907    24.873789      38.485339   \n",
       "935    4.870              0.1500    9.233767     8.759754      21.330001   \n",
       "936    5.569              0.1555    7.339934     7.987071      23.215807   \n",
       "937    1.261              0.3690   34.752872    47.954006     145.164511   \n",
       "\n",
       "     ESG_risk  capm_expected_return  \n",
       "0       12.97              0.171149  \n",
       "1       25.96              0.109154  \n",
       "2        9.45              0.166287  \n",
       "3       36.42              0.117663  \n",
       "4       14.18              0.120094  \n",
       "..        ...                   ...  \n",
       "933    999.00              0.231929  \n",
       "934    999.00              0.141975  \n",
       "935    999.00              0.223419  \n",
       "936    999.00              0.180874  \n",
       "937    999.00             -0.016052  \n",
       "\n",
       "[938 rows x 19 columns]"
      ]
     },
     "execution_count": 4,
     "metadata": {},
     "output_type": "execute_result"
    }
   ],
   "source": [
    "df = pd.read_csv(\"data_collection_cleaning/Final_stock_data.csv\")\n",
    "df"
   ]
  },
  {
   "cell_type": "code",
   "execution_count": 5,
   "id": "e6587b9b",
   "metadata": {},
   "outputs": [
    {
     "name": "stdout",
     "output_type": "stream",
     "text": [
      "<class 'pandas.core.frame.DataFrame'>\n",
      "Int64Index: 938 entries, 0 to 937\n",
      "Data columns (total 19 columns):\n",
      " #   Column                Non-Null Count  Dtype  \n",
      "---  ------                --------------  -----  \n",
      " 0   ticker                938 non-null    object \n",
      " 1   name                  938 non-null    object \n",
      " 2   sector                938 non-null    object \n",
      " 3   Earnings_expectation  938 non-null    object \n",
      " 4   irv_status            938 non-null    object \n",
      " 5   capm_status           938 non-null    object \n",
      " 6   esg_status            938 non-null    object \n",
      " 7   current_price         938 non-null    float64\n",
      " 8   annu_return_10y       938 non-null    float64\n",
      " 9   market_cap            938 non-null    float64\n",
      " 10  marketcap_cat         938 non-null    object \n",
      " 11  beta                  938 non-null    float64\n",
      " 12  eps_ttm               938 non-null    float64\n",
      " 13  growth_estimate_5y    938 non-null    float64\n",
      " 14  pe_forward            938 non-null    float64\n",
      " 15  pe_trailing           938 non-null    float64\n",
      " 16  irv_FairValue         938 non-null    float64\n",
      " 17  ESG_risk              938 non-null    float64\n",
      " 18  capm_expected_return  938 non-null    float64\n",
      "dtypes: float64(11), object(8)\n",
      "memory usage: 146.6+ KB\n"
     ]
    }
   ],
   "source": [
    "df.info()"
   ]
  },
  {
   "cell_type": "code",
   "execution_count": 6,
   "id": "8254a1b4",
   "metadata": {},
   "outputs": [
    {
     "data": {
      "text/html": [
       "<div>\n",
       "<style scoped>\n",
       "    .dataframe tbody tr th:only-of-type {\n",
       "        vertical-align: middle;\n",
       "    }\n",
       "\n",
       "    .dataframe tbody tr th {\n",
       "        vertical-align: top;\n",
       "    }\n",
       "\n",
       "    .dataframe thead th {\n",
       "        text-align: right;\n",
       "    }\n",
       "</style>\n",
       "<table border=\"1\" class=\"dataframe\">\n",
       "  <thead>\n",
       "    <tr style=\"text-align: right;\">\n",
       "      <th></th>\n",
       "      <th>current_price</th>\n",
       "      <th>annu_return_10y</th>\n",
       "      <th>market_cap</th>\n",
       "      <th>beta</th>\n",
       "      <th>eps_ttm</th>\n",
       "      <th>growth_estimate_5y</th>\n",
       "      <th>pe_forward</th>\n",
       "      <th>pe_trailing</th>\n",
       "      <th>irv_FairValue</th>\n",
       "      <th>ESG_risk</th>\n",
       "      <th>capm_expected_return</th>\n",
       "    </tr>\n",
       "  </thead>\n",
       "  <tbody>\n",
       "    <tr>\n",
       "      <th>count</th>\n",
       "      <td>938.000000</td>\n",
       "      <td>938.000000</td>\n",
       "      <td>9.380000e+02</td>\n",
       "      <td>938.000000</td>\n",
       "      <td>938.000000</td>\n",
       "      <td>938.000000</td>\n",
       "      <td>938.000000</td>\n",
       "      <td>938.000000</td>\n",
       "      <td>9.380000e+02</td>\n",
       "      <td>938.000000</td>\n",
       "      <td>938.000000</td>\n",
       "    </tr>\n",
       "    <tr>\n",
       "      <th>mean</th>\n",
       "      <td>79.072367</td>\n",
       "      <td>inf</td>\n",
       "      <td>1.938516e+10</td>\n",
       "      <td>1.168156</td>\n",
       "      <td>4.018276</td>\n",
       "      <td>0.167493</td>\n",
       "      <td>18.874178</td>\n",
       "      <td>91.703329</td>\n",
       "      <td>5.774147e+05</td>\n",
       "      <td>755.062708</td>\n",
       "      <td>0.161200</td>\n",
       "    </tr>\n",
       "    <tr>\n",
       "      <th>std</th>\n",
       "      <td>132.132075</td>\n",
       "      <td>NaN</td>\n",
       "      <td>7.620088e+10</td>\n",
       "      <td>0.590885</td>\n",
       "      <td>6.286009</td>\n",
       "      <td>0.389664</td>\n",
       "      <td>82.296145</td>\n",
       "      <td>818.248004</td>\n",
       "      <td>1.730990e+07</td>\n",
       "      <td>423.353604</td>\n",
       "      <td>0.071827</td>\n",
       "    </tr>\n",
       "    <tr>\n",
       "      <th>min</th>\n",
       "      <td>0.447400</td>\n",
       "      <td>-0.560788</td>\n",
       "      <td>1.974824e+07</td>\n",
       "      <td>-1.290000</td>\n",
       "      <td>0.002000</td>\n",
       "      <td>-3.830000</td>\n",
       "      <td>-2109.000000</td>\n",
       "      <td>0.736825</td>\n",
       "      <td>-7.122617e+04</td>\n",
       "      <td>6.990000</td>\n",
       "      <td>-0.137611</td>\n",
       "    </tr>\n",
       "    <tr>\n",
       "      <th>25%</th>\n",
       "      <td>19.585000</td>\n",
       "      <td>0.051635</td>\n",
       "      <td>7.042659e+08</td>\n",
       "      <td>0.790000</td>\n",
       "      <td>1.029250</td>\n",
       "      <td>0.070000</td>\n",
       "      <td>10.638881</td>\n",
       "      <td>11.090861</td>\n",
       "      <td>6.201100e+00</td>\n",
       "      <td>999.000000</td>\n",
       "      <td>0.115232</td>\n",
       "    </tr>\n",
       "    <tr>\n",
       "      <th>50%</th>\n",
       "      <td>43.640000</td>\n",
       "      <td>0.116207</td>\n",
       "      <td>2.462041e+09</td>\n",
       "      <td>1.105000</td>\n",
       "      <td>2.463500</td>\n",
       "      <td>0.120000</td>\n",
       "      <td>15.194779</td>\n",
       "      <td>19.469477</td>\n",
       "      <td>1.660701e+01</td>\n",
       "      <td>999.000000</td>\n",
       "      <td>0.153523</td>\n",
       "    </tr>\n",
       "    <tr>\n",
       "      <th>75%</th>\n",
       "      <td>90.332500</td>\n",
       "      <td>0.170961</td>\n",
       "      <td>1.252274e+10</td>\n",
       "      <td>1.470000</td>\n",
       "      <td>4.727000</td>\n",
       "      <td>0.196450</td>\n",
       "      <td>22.470191</td>\n",
       "      <td>34.751528</td>\n",
       "      <td>5.365586e+01</td>\n",
       "      <td>999.000000</td>\n",
       "      <td>0.197892</td>\n",
       "    </tr>\n",
       "    <tr>\n",
       "      <th>max</th>\n",
       "      <td>2595.390000</td>\n",
       "      <td>inf</td>\n",
       "      <td>1.722620e+12</td>\n",
       "      <td>4.280000</td>\n",
       "      <td>103.805000</td>\n",
       "      <td>5.900000</td>\n",
       "      <td>721.000000</td>\n",
       "      <td>15467.499000</td>\n",
       "      <td>5.301372e+08</td>\n",
       "      <td>999.000000</td>\n",
       "      <td>0.539473</td>\n",
       "    </tr>\n",
       "  </tbody>\n",
       "</table>\n",
       "</div>"
      ],
      "text/plain": [
       "       current_price  annu_return_10y    market_cap        beta     eps_ttm  \\\n",
       "count     938.000000       938.000000  9.380000e+02  938.000000  938.000000   \n",
       "mean       79.072367              inf  1.938516e+10    1.168156    4.018276   \n",
       "std       132.132075              NaN  7.620088e+10    0.590885    6.286009   \n",
       "min         0.447400        -0.560788  1.974824e+07   -1.290000    0.002000   \n",
       "25%        19.585000         0.051635  7.042659e+08    0.790000    1.029250   \n",
       "50%        43.640000         0.116207  2.462041e+09    1.105000    2.463500   \n",
       "75%        90.332500         0.170961  1.252274e+10    1.470000    4.727000   \n",
       "max      2595.390000              inf  1.722620e+12    4.280000  103.805000   \n",
       "\n",
       "       growth_estimate_5y   pe_forward   pe_trailing  irv_FairValue  \\\n",
       "count          938.000000   938.000000    938.000000   9.380000e+02   \n",
       "mean             0.167493    18.874178     91.703329   5.774147e+05   \n",
       "std              0.389664    82.296145    818.248004   1.730990e+07   \n",
       "min             -3.830000 -2109.000000      0.736825  -7.122617e+04   \n",
       "25%              0.070000    10.638881     11.090861   6.201100e+00   \n",
       "50%              0.120000    15.194779     19.469477   1.660701e+01   \n",
       "75%              0.196450    22.470191     34.751528   5.365586e+01   \n",
       "max              5.900000   721.000000  15467.499000   5.301372e+08   \n",
       "\n",
       "         ESG_risk  capm_expected_return  \n",
       "count  938.000000            938.000000  \n",
       "mean   755.062708              0.161200  \n",
       "std    423.353604              0.071827  \n",
       "min      6.990000             -0.137611  \n",
       "25%    999.000000              0.115232  \n",
       "50%    999.000000              0.153523  \n",
       "75%    999.000000              0.197892  \n",
       "max    999.000000              0.539473  "
      ]
     },
     "execution_count": 6,
     "metadata": {},
     "output_type": "execute_result"
    }
   ],
   "source": [
    "df.describe()"
   ]
  },
  {
   "cell_type": "code",
   "execution_count": 7,
   "id": "e42c8dfb",
   "metadata": {},
   "outputs": [
    {
     "data": {
      "text/html": [
       "<div>\n",
       "<style scoped>\n",
       "    .dataframe tbody tr th:only-of-type {\n",
       "        vertical-align: middle;\n",
       "    }\n",
       "\n",
       "    .dataframe tbody tr th {\n",
       "        vertical-align: top;\n",
       "    }\n",
       "\n",
       "    .dataframe thead th {\n",
       "        text-align: right;\n",
       "    }\n",
       "</style>\n",
       "<table border=\"1\" class=\"dataframe\">\n",
       "  <thead>\n",
       "    <tr style=\"text-align: right;\">\n",
       "      <th></th>\n",
       "      <th>ticker</th>\n",
       "      <th>name</th>\n",
       "      <th>sector</th>\n",
       "      <th>Earnings_expectation</th>\n",
       "      <th>irv_status</th>\n",
       "      <th>capm_status</th>\n",
       "      <th>esg_status</th>\n",
       "      <th>current_price</th>\n",
       "      <th>annu_return_10y</th>\n",
       "      <th>market_cap</th>\n",
       "      <th>marketcap_cat</th>\n",
       "      <th>beta</th>\n",
       "      <th>eps_ttm</th>\n",
       "      <th>growth_estimate_5y</th>\n",
       "      <th>pe_forward</th>\n",
       "      <th>pe_trailing</th>\n",
       "      <th>irv_FairValue</th>\n",
       "      <th>ESG_risk</th>\n",
       "      <th>capm_expected_return</th>\n",
       "    </tr>\n",
       "  </thead>\n",
       "  <tbody>\n",
       "  </tbody>\n",
       "</table>\n",
       "</div>"
      ],
      "text/plain": [
       "Empty DataFrame\n",
       "Columns: [ticker, name, sector, Earnings_expectation, irv_status, capm_status, esg_status, current_price, annu_return_10y, market_cap, marketcap_cat, beta, eps_ttm, growth_estimate_5y, pe_forward, pe_trailing, irv_FairValue, ESG_risk, capm_expected_return]\n",
       "Index: []"
      ]
     },
     "execution_count": 7,
     "metadata": {},
     "output_type": "execute_result"
    }
   ],
   "source": [
    "df[df[\"beta\"].isnull()]"
   ]
  },
  {
   "cell_type": "code",
   "execution_count": 8,
   "id": "10a5a86e",
   "metadata": {},
   "outputs": [],
   "source": [
    "df.dropna(inplace=True)"
   ]
  },
  {
   "cell_type": "markdown",
   "id": "0d0cfd2b",
   "metadata": {},
   "source": [
    "## Value Counts"
   ]
  },
  {
   "cell_type": "code",
   "execution_count": 9,
   "id": "013b4ae2",
   "metadata": {},
   "outputs": [
    {
     "data": {
      "text/plain": [
       "Financial Services        225\n",
       "Technology                155\n",
       "Industrials               131\n",
       "Consumer Cyclical         122\n",
       "Healthcare                113\n",
       "Consumer Defensive         51\n",
       "Communication Services     45\n",
       "Real Estate                36\n",
       "Basic Materials            25\n",
       "Energy                     19\n",
       "Utilities                  16\n",
       "Name: sector, dtype: int64"
      ]
     },
     "execution_count": 9,
     "metadata": {},
     "output_type": "execute_result"
    }
   ],
   "source": [
    "df[\"sector\"].value_counts()"
   ]
  },
  {
   "cell_type": "code",
   "execution_count": 10,
   "id": "786fdb3e",
   "metadata": {},
   "outputs": [
    {
     "data": {
      "text/plain": [
       "Small    677\n",
       "Large    261\n",
       "Name: marketcap_cat, dtype: int64"
      ]
     },
     "execution_count": 10,
     "metadata": {},
     "output_type": "execute_result"
    }
   ],
   "source": [
    "df[\"marketcap_cat\"].value_counts()"
   ]
  },
  {
   "cell_type": "code",
   "execution_count": 11,
   "id": "615a90d2",
   "metadata": {},
   "outputs": [
    {
     "data": {
      "text/plain": [
       "Above Fair Price    778\n",
       "Below Fair Price    160\n",
       "Name: irv_status, dtype: int64"
      ]
     },
     "execution_count": 11,
     "metadata": {},
     "output_type": "execute_result"
    }
   ],
   "source": [
    "df[\"irv_status\"].value_counts()"
   ]
  },
  {
   "cell_type": "code",
   "execution_count": 12,
   "id": "1dd9f0c5",
   "metadata": {},
   "outputs": [
    {
     "data": {
      "text/plain": [
       "UnderValued    613\n",
       "OverValued     325\n",
       "Name: capm_status, dtype: int64"
      ]
     },
     "execution_count": 12,
     "metadata": {},
     "output_type": "execute_result"
    }
   ],
   "source": [
    "df[\"capm_status\"].value_counts()"
   ]
  },
  {
   "cell_type": "code",
   "execution_count": 13,
   "id": "193d3f7b",
   "metadata": {},
   "outputs": [
    {
     "data": {
      "text/plain": [
       "capm_status  sector                \n",
       "OverValued   Financial Services         72\n",
       "             Technology                 64\n",
       "             Healthcare                 56\n",
       "             Industrials                33\n",
       "             Consumer Defensive         29\n",
       "             Consumer Cyclical          23\n",
       "             Real Estate                17\n",
       "             Utilities                  14\n",
       "             Communication Services     11\n",
       "             Basic Materials             5\n",
       "             Energy                      1\n",
       "UnderValued  Financial Services        153\n",
       "             Consumer Cyclical          99\n",
       "             Industrials                98\n",
       "             Technology                 91\n",
       "             Healthcare                 57\n",
       "             Communication Services     34\n",
       "             Consumer Defensive         22\n",
       "             Basic Materials            20\n",
       "             Real Estate                19\n",
       "             Energy                     18\n",
       "             Utilities                   2\n",
       "Name: sector, dtype: int64"
      ]
     },
     "execution_count": 13,
     "metadata": {},
     "output_type": "execute_result"
    }
   ],
   "source": [
    "df.groupby(\"capm_status\")[\"sector\"].value_counts()"
   ]
  },
  {
   "cell_type": "code",
   "execution_count": 14,
   "id": "03aff11e",
   "metadata": {},
   "outputs": [
    {
     "data": {
      "text/plain": [
       "Increase    639\n",
       "Decrease    299\n",
       "Name: Earnings_expectation, dtype: int64"
      ]
     },
     "execution_count": 14,
     "metadata": {},
     "output_type": "execute_result"
    }
   ],
   "source": [
    "df[\"Earnings_expectation\"].value_counts()"
   ]
  },
  {
   "cell_type": "code",
   "execution_count": 15,
   "id": "69ccb5a8",
   "metadata": {},
   "outputs": [
    {
     "data": {
      "text/plain": [
       "No Data            704\n",
       "Sustainable        111\n",
       "Average             84\n",
       "Not Sustainable     39\n",
       "Name: esg_status, dtype: int64"
      ]
     },
     "execution_count": 15,
     "metadata": {},
     "output_type": "execute_result"
    }
   ],
   "source": [
    "df[\"esg_status\"].value_counts()"
   ]
  },
  {
   "cell_type": "markdown",
   "id": "06c75d74",
   "metadata": {},
   "source": [
    "## New DF Creation (Based on 2/3 Criteria Satisfied)"
   ]
  },
  {
   "cell_type": "code",
   "execution_count": 16,
   "id": "bd693b0c",
   "metadata": {},
   "outputs": [],
   "source": [
    "def check_criteria(each):\n",
    "    check = []\n",
    "    if each[\"capm_status\"] == \"UnderValued\":\n",
    "        check.append(True)\n",
    "    if each[\"Earnings_expectation\"] == \"Increase\":\n",
    "        check.append(True)\n",
    "    if each[\"irv_status\"] == \"Below Fair Price\":\n",
    "        check.append(True)\n",
    "    return check"
   ]
  },
  {
   "cell_type": "code",
   "execution_count": 17,
   "id": "47eaf9ef",
   "metadata": {},
   "outputs": [],
   "source": [
    "def check_number(criteria):\n",
    "    if (len(criteria) == 2) or (len(criteria)==3):\n",
    "        return True\n",
    "    else:\n",
    "        return False"
   ]
  },
  {
   "cell_type": "code",
   "execution_count": 18,
   "id": "72f06ea9",
   "metadata": {},
   "outputs": [],
   "source": [
    "rows = []\n",
    "for i in range(397):\n",
    "    each = df.iloc[i]\n",
    "    criteria = check_criteria(each)\n",
    "    result = check_number(criteria)\n",
    "    if result:\n",
    "        rows.append(i) "
   ]
  },
  {
   "cell_type": "code",
   "execution_count": 19,
   "id": "5584b5ea",
   "metadata": {},
   "outputs": [
    {
     "data": {
      "text/html": [
       "<div>\n",
       "<style scoped>\n",
       "    .dataframe tbody tr th:only-of-type {\n",
       "        vertical-align: middle;\n",
       "    }\n",
       "\n",
       "    .dataframe tbody tr th {\n",
       "        vertical-align: top;\n",
       "    }\n",
       "\n",
       "    .dataframe thead th {\n",
       "        text-align: right;\n",
       "    }\n",
       "</style>\n",
       "<table border=\"1\" class=\"dataframe\">\n",
       "  <thead>\n",
       "    <tr style=\"text-align: right;\">\n",
       "      <th></th>\n",
       "      <th>ticker</th>\n",
       "      <th>name</th>\n",
       "      <th>sector</th>\n",
       "      <th>Earnings_expectation</th>\n",
       "      <th>irv_status</th>\n",
       "      <th>capm_status</th>\n",
       "      <th>esg_status</th>\n",
       "      <th>current_price</th>\n",
       "      <th>annu_return_10y</th>\n",
       "      <th>market_cap</th>\n",
       "      <th>marketcap_cat</th>\n",
       "      <th>beta</th>\n",
       "      <th>eps_ttm</th>\n",
       "      <th>growth_estimate_5y</th>\n",
       "      <th>pe_forward</th>\n",
       "      <th>pe_trailing</th>\n",
       "      <th>irv_FairValue</th>\n",
       "      <th>ESG_risk</th>\n",
       "      <th>capm_expected_return</th>\n",
       "    </tr>\n",
       "  </thead>\n",
       "  <tbody>\n",
       "    <tr>\n",
       "      <th>0</th>\n",
       "      <td>AAP</td>\n",
       "      <td>Advance Auto Parts Inc.</td>\n",
       "      <td>Consumer Cyclical</td>\n",
       "      <td>Increase</td>\n",
       "      <td>Above Fair Price</td>\n",
       "      <td>UnderValued</td>\n",
       "      <td>Sustainable</td>\n",
       "      <td>214.1500</td>\n",
       "      <td>0.103398</td>\n",
       "      <td>1.308405e+10</td>\n",
       "      <td>Large</td>\n",
       "      <td>1.25</td>\n",
       "      <td>9.550</td>\n",
       "      <td>0.1525</td>\n",
       "      <td>13.932986</td>\n",
       "      <td>22.424082</td>\n",
       "      <td>109.188247</td>\n",
       "      <td>12.97</td>\n",
       "      <td>0.171149</td>\n",
       "    </tr>\n",
       "    <tr>\n",
       "      <th>5</th>\n",
       "      <td>ADSK</td>\n",
       "      <td>Autodesk, Inc.</td>\n",
       "      <td>Technology</td>\n",
       "      <td>Increase</td>\n",
       "      <td>Below Fair Price</td>\n",
       "      <td>UnderValued</td>\n",
       "      <td>Sustainable</td>\n",
       "      <td>217.3800</td>\n",
       "      <td>0.190997</td>\n",
       "      <td>4.781773e+10</td>\n",
       "      <td>Large</td>\n",
       "      <td>1.43</td>\n",
       "      <td>5.928</td>\n",
       "      <td>0.2883</td>\n",
       "      <td>31.967648</td>\n",
       "      <td>36.670040</td>\n",
       "      <td>302.038344</td>\n",
       "      <td>15.45</td>\n",
       "      <td>0.193030</td>\n",
       "    </tr>\n",
       "    <tr>\n",
       "      <th>11</th>\n",
       "      <td>ALK</td>\n",
       "      <td>Alaska Air Group, Inc.</td>\n",
       "      <td>Industrials</td>\n",
       "      <td>Increase</td>\n",
       "      <td>Above Fair Price</td>\n",
       "      <td>UnderValued</td>\n",
       "      <td>No Data</td>\n",
       "      <td>58.9750</td>\n",
       "      <td>0.141697</td>\n",
       "      <td>7.425660e+09</td>\n",
       "      <td>Small</td>\n",
       "      <td>1.55</td>\n",
       "      <td>3.770</td>\n",
       "      <td>-0.2340</td>\n",
       "      <td>9.073076</td>\n",
       "      <td>15.643236</td>\n",
       "      <td>0.761055</td>\n",
       "      <td>999.00</td>\n",
       "      <td>0.207617</td>\n",
       "    </tr>\n",
       "    <tr>\n",
       "      <th>12</th>\n",
       "      <td>ALLE</td>\n",
       "      <td>Allegion plc</td>\n",
       "      <td>Industrials</td>\n",
       "      <td>Increase</td>\n",
       "      <td>Above Fair Price</td>\n",
       "      <td>UnderValued</td>\n",
       "      <td>Average</td>\n",
       "      <td>114.1447</td>\n",
       "      <td>0.097180</td>\n",
       "      <td>1.023831e+10</td>\n",
       "      <td>Large</td>\n",
       "      <td>1.14</td>\n",
       "      <td>5.086</td>\n",
       "      <td>0.0777</td>\n",
       "      <td>19.955368</td>\n",
       "      <td>22.442923</td>\n",
       "      <td>31.814578</td>\n",
       "      <td>23.59</td>\n",
       "      <td>0.157777</td>\n",
       "    </tr>\n",
       "    <tr>\n",
       "      <th>14</th>\n",
       "      <td>AMD</td>\n",
       "      <td>Advanced Micro Devices, Inc.</td>\n",
       "      <td>Technology</td>\n",
       "      <td>Increase</td>\n",
       "      <td>Below Fair Price</td>\n",
       "      <td>OverValued</td>\n",
       "      <td>No Data</td>\n",
       "      <td>117.1100</td>\n",
       "      <td>0.319034</td>\n",
       "      <td>1.414232e+11</td>\n",
       "      <td>Large</td>\n",
       "      <td>1.95</td>\n",
       "      <td>3.242</td>\n",
       "      <td>0.3532</td>\n",
       "      <td>35.062874</td>\n",
       "      <td>36.122765</td>\n",
       "      <td>253.245268</td>\n",
       "      <td>999.00</td>\n",
       "      <td>0.256240</td>\n",
       "    </tr>\n",
       "    <tr>\n",
       "      <th>...</th>\n",
       "      <td>...</td>\n",
       "      <td>...</td>\n",
       "      <td>...</td>\n",
       "      <td>...</td>\n",
       "      <td>...</td>\n",
       "      <td>...</td>\n",
       "      <td>...</td>\n",
       "      <td>...</td>\n",
       "      <td>...</td>\n",
       "      <td>...</td>\n",
       "      <td>...</td>\n",
       "      <td>...</td>\n",
       "      <td>...</td>\n",
       "      <td>...</td>\n",
       "      <td>...</td>\n",
       "      <td>...</td>\n",
       "      <td>...</td>\n",
       "      <td>...</td>\n",
       "      <td>...</td>\n",
       "    </tr>\n",
       "    <tr>\n",
       "      <th>387</th>\n",
       "      <td>DSKE</td>\n",
       "      <td>Daseke, Inc.</td>\n",
       "      <td>Industrials</td>\n",
       "      <td>Increase</td>\n",
       "      <td>Below Fair Price</td>\n",
       "      <td>UnderValued</td>\n",
       "      <td>No Data</td>\n",
       "      <td>11.2500</td>\n",
       "      <td>0.015987</td>\n",
       "      <td>7.030046e+08</td>\n",
       "      <td>Small</td>\n",
       "      <td>2.12</td>\n",
       "      <td>0.789</td>\n",
       "      <td>0.2500</td>\n",
       "      <td>11.968085</td>\n",
       "      <td>14.258555</td>\n",
       "      <td>11.913300</td>\n",
       "      <td>999.00</td>\n",
       "      <td>0.276905</td>\n",
       "    </tr>\n",
       "    <tr>\n",
       "      <th>388</th>\n",
       "      <td>DTEA</td>\n",
       "      <td>DAVIDsTEA Inc.</td>\n",
       "      <td>Consumer Defensive</td>\n",
       "      <td>Increase</td>\n",
       "      <td>Above Fair Price</td>\n",
       "      <td>UnderValued</td>\n",
       "      <td>No Data</td>\n",
       "      <td>3.0500</td>\n",
       "      <td>-0.195930</td>\n",
       "      <td>8.039800e+07</td>\n",
       "      <td>Small</td>\n",
       "      <td>3.31</td>\n",
       "      <td>1.431</td>\n",
       "      <td>-1.3172</td>\n",
       "      <td>-101.666664</td>\n",
       "      <td>2.131377</td>\n",
       "      <td>-0.000014</td>\n",
       "      <td>999.00</td>\n",
       "      <td>0.421561</td>\n",
       "    </tr>\n",
       "    <tr>\n",
       "      <th>390</th>\n",
       "      <td>DXPE</td>\n",
       "      <td>DXP Enterprises, Inc.</td>\n",
       "      <td>Industrials</td>\n",
       "      <td>Increase</td>\n",
       "      <td>Above Fair Price</td>\n",
       "      <td>UnderValued</td>\n",
       "      <td>No Data</td>\n",
       "      <td>27.9300</td>\n",
       "      <td>-0.030268</td>\n",
       "      <td>5.237043e+08</td>\n",
       "      <td>Small</td>\n",
       "      <td>2.26</td>\n",
       "      <td>0.641</td>\n",
       "      <td>0.2000</td>\n",
       "      <td>25.162163</td>\n",
       "      <td>43.572544</td>\n",
       "      <td>20.482907</td>\n",
       "      <td>999.00</td>\n",
       "      <td>0.293924</td>\n",
       "    </tr>\n",
       "    <tr>\n",
       "      <th>392</th>\n",
       "      <td>EBIX</td>\n",
       "      <td>Ebix, Inc.</td>\n",
       "      <td>Technology</td>\n",
       "      <td>Increase</td>\n",
       "      <td>Above Fair Price</td>\n",
       "      <td>UnderValued</td>\n",
       "      <td>No Data</td>\n",
       "      <td>31.0600</td>\n",
       "      <td>0.034444</td>\n",
       "      <td>9.611020e+08</td>\n",
       "      <td>Small</td>\n",
       "      <td>2.72</td>\n",
       "      <td>2.360</td>\n",
       "      <td>0.1000</td>\n",
       "      <td>9.383686</td>\n",
       "      <td>13.161017</td>\n",
       "      <td>10.409385</td>\n",
       "      <td>999.00</td>\n",
       "      <td>0.349841</td>\n",
       "    </tr>\n",
       "    <tr>\n",
       "      <th>395</th>\n",
       "      <td>EDAP</td>\n",
       "      <td>EDAP TMS S.A.</td>\n",
       "      <td>Healthcare</td>\n",
       "      <td>Increase</td>\n",
       "      <td>Above Fair Price</td>\n",
       "      <td>UnderValued</td>\n",
       "      <td>No Data</td>\n",
       "      <td>7.2100</td>\n",
       "      <td>0.128625</td>\n",
       "      <td>2.404254e+08</td>\n",
       "      <td>Small</td>\n",
       "      <td>1.54</td>\n",
       "      <td>0.004</td>\n",
       "      <td>0.0300</td>\n",
       "      <td>721.000000</td>\n",
       "      <td>1802.499900</td>\n",
       "      <td>1.337087</td>\n",
       "      <td>999.00</td>\n",
       "      <td>0.206401</td>\n",
       "    </tr>\n",
       "  </tbody>\n",
       "</table>\n",
       "<p>198 rows × 19 columns</p>\n",
       "</div>"
      ],
      "text/plain": [
       "    ticker                          name              sector  \\\n",
       "0      AAP       Advance Auto Parts Inc.   Consumer Cyclical   \n",
       "5     ADSK                Autodesk, Inc.          Technology   \n",
       "11     ALK        Alaska Air Group, Inc.         Industrials   \n",
       "12    ALLE                  Allegion plc         Industrials   \n",
       "14     AMD  Advanced Micro Devices, Inc.          Technology   \n",
       "..     ...                           ...                 ...   \n",
       "387   DSKE                  Daseke, Inc.         Industrials   \n",
       "388   DTEA                DAVIDsTEA Inc.  Consumer Defensive   \n",
       "390   DXPE         DXP Enterprises, Inc.         Industrials   \n",
       "392   EBIX                    Ebix, Inc.          Technology   \n",
       "395   EDAP                 EDAP TMS S.A.          Healthcare   \n",
       "\n",
       "    Earnings_expectation        irv_status  capm_status   esg_status  \\\n",
       "0               Increase  Above Fair Price  UnderValued  Sustainable   \n",
       "5               Increase  Below Fair Price  UnderValued  Sustainable   \n",
       "11              Increase  Above Fair Price  UnderValued      No Data   \n",
       "12              Increase  Above Fair Price  UnderValued      Average   \n",
       "14              Increase  Below Fair Price   OverValued      No Data   \n",
       "..                   ...               ...          ...          ...   \n",
       "387             Increase  Below Fair Price  UnderValued      No Data   \n",
       "388             Increase  Above Fair Price  UnderValued      No Data   \n",
       "390             Increase  Above Fair Price  UnderValued      No Data   \n",
       "392             Increase  Above Fair Price  UnderValued      No Data   \n",
       "395             Increase  Above Fair Price  UnderValued      No Data   \n",
       "\n",
       "     current_price  annu_return_10y    market_cap marketcap_cat  beta  \\\n",
       "0         214.1500         0.103398  1.308405e+10         Large  1.25   \n",
       "5         217.3800         0.190997  4.781773e+10         Large  1.43   \n",
       "11         58.9750         0.141697  7.425660e+09         Small  1.55   \n",
       "12        114.1447         0.097180  1.023831e+10         Large  1.14   \n",
       "14        117.1100         0.319034  1.414232e+11         Large  1.95   \n",
       "..             ...              ...           ...           ...   ...   \n",
       "387        11.2500         0.015987  7.030046e+08         Small  2.12   \n",
       "388         3.0500        -0.195930  8.039800e+07         Small  3.31   \n",
       "390        27.9300        -0.030268  5.237043e+08         Small  2.26   \n",
       "392        31.0600         0.034444  9.611020e+08         Small  2.72   \n",
       "395         7.2100         0.128625  2.404254e+08         Small  1.54   \n",
       "\n",
       "     eps_ttm  growth_estimate_5y  pe_forward  pe_trailing  irv_FairValue  \\\n",
       "0      9.550              0.1525   13.932986    22.424082     109.188247   \n",
       "5      5.928              0.2883   31.967648    36.670040     302.038344   \n",
       "11     3.770             -0.2340    9.073076    15.643236       0.761055   \n",
       "12     5.086              0.0777   19.955368    22.442923      31.814578   \n",
       "14     3.242              0.3532   35.062874    36.122765     253.245268   \n",
       "..       ...                 ...         ...          ...            ...   \n",
       "387    0.789              0.2500   11.968085    14.258555      11.913300   \n",
       "388    1.431             -1.3172 -101.666664     2.131377      -0.000014   \n",
       "390    0.641              0.2000   25.162163    43.572544      20.482907   \n",
       "392    2.360              0.1000    9.383686    13.161017      10.409385   \n",
       "395    0.004              0.0300  721.000000  1802.499900       1.337087   \n",
       "\n",
       "     ESG_risk  capm_expected_return  \n",
       "0       12.97              0.171149  \n",
       "5       15.45              0.193030  \n",
       "11     999.00              0.207617  \n",
       "12      23.59              0.157777  \n",
       "14     999.00              0.256240  \n",
       "..        ...                   ...  \n",
       "387    999.00              0.276905  \n",
       "388    999.00              0.421561  \n",
       "390    999.00              0.293924  \n",
       "392    999.00              0.349841  \n",
       "395    999.00              0.206401  \n",
       "\n",
       "[198 rows x 19 columns]"
      ]
     },
     "execution_count": 19,
     "metadata": {},
     "output_type": "execute_result"
    }
   ],
   "source": [
    "new_df = df.iloc[rows]\n",
    "new_df"
   ]
  },
  {
   "cell_type": "code",
   "execution_count": 20,
   "id": "9e1ca14e",
   "metadata": {},
   "outputs": [
    {
     "name": "stdout",
     "output_type": "stream",
     "text": [
      "<class 'pandas.core.frame.DataFrame'>\n",
      "Int64Index: 198 entries, 0 to 395\n",
      "Data columns (total 19 columns):\n",
      " #   Column                Non-Null Count  Dtype  \n",
      "---  ------                --------------  -----  \n",
      " 0   ticker                198 non-null    object \n",
      " 1   name                  198 non-null    object \n",
      " 2   sector                198 non-null    object \n",
      " 3   Earnings_expectation  198 non-null    object \n",
      " 4   irv_status            198 non-null    object \n",
      " 5   capm_status           198 non-null    object \n",
      " 6   esg_status            198 non-null    object \n",
      " 7   current_price         198 non-null    float64\n",
      " 8   annu_return_10y       198 non-null    float64\n",
      " 9   market_cap            198 non-null    float64\n",
      " 10  marketcap_cat         198 non-null    object \n",
      " 11  beta                  198 non-null    float64\n",
      " 12  eps_ttm               198 non-null    float64\n",
      " 13  growth_estimate_5y    198 non-null    float64\n",
      " 14  pe_forward            198 non-null    float64\n",
      " 15  pe_trailing           198 non-null    float64\n",
      " 16  irv_FairValue         198 non-null    float64\n",
      " 17  ESG_risk              198 non-null    float64\n",
      " 18  capm_expected_return  198 non-null    float64\n",
      "dtypes: float64(11), object(8)\n",
      "memory usage: 30.9+ KB\n"
     ]
    }
   ],
   "source": [
    "new_df.info()"
   ]
  },
  {
   "cell_type": "code",
   "execution_count": 21,
   "id": "bf2f2b6c",
   "metadata": {},
   "outputs": [
    {
     "data": {
      "text/html": [
       "<div>\n",
       "<style scoped>\n",
       "    .dataframe tbody tr th:only-of-type {\n",
       "        vertical-align: middle;\n",
       "    }\n",
       "\n",
       "    .dataframe tbody tr th {\n",
       "        vertical-align: top;\n",
       "    }\n",
       "\n",
       "    .dataframe thead th {\n",
       "        text-align: right;\n",
       "    }\n",
       "</style>\n",
       "<table border=\"1\" class=\"dataframe\">\n",
       "  <thead>\n",
       "    <tr style=\"text-align: right;\">\n",
       "      <th></th>\n",
       "      <th>current_price</th>\n",
       "      <th>annu_return_10y</th>\n",
       "      <th>market_cap</th>\n",
       "      <th>beta</th>\n",
       "      <th>eps_ttm</th>\n",
       "      <th>growth_estimate_5y</th>\n",
       "      <th>pe_forward</th>\n",
       "      <th>pe_trailing</th>\n",
       "      <th>irv_FairValue</th>\n",
       "      <th>ESG_risk</th>\n",
       "      <th>capm_expected_return</th>\n",
       "    </tr>\n",
       "  </thead>\n",
       "  <tbody>\n",
       "    <tr>\n",
       "      <th>count</th>\n",
       "      <td>198.000000</td>\n",
       "      <td>198.000000</td>\n",
       "      <td>1.980000e+02</td>\n",
       "      <td>198.000000</td>\n",
       "      <td>198.000000</td>\n",
       "      <td>198.000000</td>\n",
       "      <td>198.000000</td>\n",
       "      <td>198.000000</td>\n",
       "      <td>1.980000e+02</td>\n",
       "      <td>198.000000</td>\n",
       "      <td>198.000000</td>\n",
       "    </tr>\n",
       "    <tr>\n",
       "      <th>mean</th>\n",
       "      <td>93.153240</td>\n",
       "      <td>0.097307</td>\n",
       "      <td>2.856620e+10</td>\n",
       "      <td>1.340606</td>\n",
       "      <td>4.230859</td>\n",
       "      <td>0.261431</td>\n",
       "      <td>22.019273</td>\n",
       "      <td>70.486036</td>\n",
       "      <td>4.574862e+04</td>\n",
       "      <td>554.706162</td>\n",
       "      <td>0.182163</td>\n",
       "    </tr>\n",
       "    <tr>\n",
       "      <th>std</th>\n",
       "      <td>115.885449</td>\n",
       "      <td>0.119517</td>\n",
       "      <td>6.982460e+10</td>\n",
       "      <td>0.573552</td>\n",
       "      <td>4.902955</td>\n",
       "      <td>0.494371</td>\n",
       "      <td>54.679623</td>\n",
       "      <td>234.342127</td>\n",
       "      <td>3.172831e+05</td>\n",
       "      <td>487.958833</td>\n",
       "      <td>0.069721</td>\n",
       "    </tr>\n",
       "    <tr>\n",
       "      <th>min</th>\n",
       "      <td>0.586400</td>\n",
       "      <td>-0.560788</td>\n",
       "      <td>1.974824e+07</td>\n",
       "      <td>0.150000</td>\n",
       "      <td>0.004000</td>\n",
       "      <td>-2.004000</td>\n",
       "      <td>-101.666664</td>\n",
       "      <td>1.162325</td>\n",
       "      <td>-8.200419e+00</td>\n",
       "      <td>6.990000</td>\n",
       "      <td>0.037434</td>\n",
       "    </tr>\n",
       "    <tr>\n",
       "      <th>25%</th>\n",
       "      <td>22.235000</td>\n",
       "      <td>0.040484</td>\n",
       "      <td>8.565970e+08</td>\n",
       "      <td>0.995000</td>\n",
       "      <td>0.780000</td>\n",
       "      <td>0.100000</td>\n",
       "      <td>9.860965</td>\n",
       "      <td>14.053509</td>\n",
       "      <td>9.044869e+00</td>\n",
       "      <td>20.820000</td>\n",
       "      <td>0.140151</td>\n",
       "    </tr>\n",
       "    <tr>\n",
       "      <th>50%</th>\n",
       "      <td>55.285000</td>\n",
       "      <td>0.102519</td>\n",
       "      <td>1.085490e+10</td>\n",
       "      <td>1.260000</td>\n",
       "      <td>2.626500</td>\n",
       "      <td>0.165350</td>\n",
       "      <td>15.128035</td>\n",
       "      <td>22.078455</td>\n",
       "      <td>3.298105e+01</td>\n",
       "      <td>999.000000</td>\n",
       "      <td>0.172365</td>\n",
       "    </tr>\n",
       "    <tr>\n",
       "      <th>75%</th>\n",
       "      <td>124.327500</td>\n",
       "      <td>0.148181</td>\n",
       "      <td>3.196989e+10</td>\n",
       "      <td>1.607500</td>\n",
       "      <td>5.859500</td>\n",
       "      <td>0.287475</td>\n",
       "      <td>20.468023</td>\n",
       "      <td>38.605662</td>\n",
       "      <td>1.280398e+02</td>\n",
       "      <td>999.000000</td>\n",
       "      <td>0.214606</td>\n",
       "    </tr>\n",
       "    <tr>\n",
       "      <th>max</th>\n",
       "      <td>806.050000</td>\n",
       "      <td>0.717423</td>\n",
       "      <td>8.094838e+11</td>\n",
       "      <td>3.500000</td>\n",
       "      <td>26.739000</td>\n",
       "      <td>3.481000</td>\n",
       "      <td>721.000000</td>\n",
       "      <td>2399.027800</td>\n",
       "      <td>3.021507e+06</td>\n",
       "      <td>999.000000</td>\n",
       "      <td>0.444657</td>\n",
       "    </tr>\n",
       "  </tbody>\n",
       "</table>\n",
       "</div>"
      ],
      "text/plain": [
       "       current_price  annu_return_10y    market_cap        beta     eps_ttm  \\\n",
       "count     198.000000       198.000000  1.980000e+02  198.000000  198.000000   \n",
       "mean       93.153240         0.097307  2.856620e+10    1.340606    4.230859   \n",
       "std       115.885449         0.119517  6.982460e+10    0.573552    4.902955   \n",
       "min         0.586400        -0.560788  1.974824e+07    0.150000    0.004000   \n",
       "25%        22.235000         0.040484  8.565970e+08    0.995000    0.780000   \n",
       "50%        55.285000         0.102519  1.085490e+10    1.260000    2.626500   \n",
       "75%       124.327500         0.148181  3.196989e+10    1.607500    5.859500   \n",
       "max       806.050000         0.717423  8.094838e+11    3.500000   26.739000   \n",
       "\n",
       "       growth_estimate_5y  pe_forward  pe_trailing  irv_FairValue    ESG_risk  \\\n",
       "count          198.000000  198.000000   198.000000   1.980000e+02  198.000000   \n",
       "mean             0.261431   22.019273    70.486036   4.574862e+04  554.706162   \n",
       "std              0.494371   54.679623   234.342127   3.172831e+05  487.958833   \n",
       "min             -2.004000 -101.666664     1.162325  -8.200419e+00    6.990000   \n",
       "25%              0.100000    9.860965    14.053509   9.044869e+00   20.820000   \n",
       "50%              0.165350   15.128035    22.078455   3.298105e+01  999.000000   \n",
       "75%              0.287475   20.468023    38.605662   1.280398e+02  999.000000   \n",
       "max              3.481000  721.000000  2399.027800   3.021507e+06  999.000000   \n",
       "\n",
       "       capm_expected_return  \n",
       "count            198.000000  \n",
       "mean               0.182163  \n",
       "std                0.069721  \n",
       "min                0.037434  \n",
       "25%                0.140151  \n",
       "50%                0.172365  \n",
       "75%                0.214606  \n",
       "max                0.444657  "
      ]
     },
     "execution_count": 21,
     "metadata": {},
     "output_type": "execute_result"
    }
   ],
   "source": [
    "new_df.describe()"
   ]
  },
  {
   "cell_type": "code",
   "execution_count": 22,
   "id": "b13085c0",
   "metadata": {},
   "outputs": [
    {
     "data": {
      "text/plain": [
       "Technology                39\n",
       "Industrials               38\n",
       "Consumer Cyclical         36\n",
       "Financial Services        25\n",
       "Healthcare                21\n",
       "Energy                     9\n",
       "Consumer Defensive         8\n",
       "Basic Materials            8\n",
       "Communication Services     8\n",
       "Real Estate                5\n",
       "Utilities                  1\n",
       "Name: sector, dtype: int64"
      ]
     },
     "execution_count": 22,
     "metadata": {},
     "output_type": "execute_result"
    }
   ],
   "source": [
    "new_df[\"sector\"].value_counts()"
   ]
  },
  {
   "cell_type": "code",
   "execution_count": 23,
   "id": "4368d78c",
   "metadata": {},
   "outputs": [
    {
     "data": {
      "text/plain": [
       "Earnings_expectation  sector                \n",
       "Decrease              Consumer Cyclical          4\n",
       "                      Financial Services         4\n",
       "                      Basic Materials            2\n",
       "                      Healthcare                 2\n",
       "                      Energy                     1\n",
       "                      Technology                 1\n",
       "Increase              Industrials               38\n",
       "                      Technology                38\n",
       "                      Consumer Cyclical         32\n",
       "                      Financial Services        21\n",
       "                      Healthcare                19\n",
       "                      Communication Services     8\n",
       "                      Consumer Defensive         8\n",
       "                      Energy                     8\n",
       "                      Basic Materials            6\n",
       "                      Real Estate                5\n",
       "                      Utilities                  1\n",
       "Name: sector, dtype: int64"
      ]
     },
     "execution_count": 23,
     "metadata": {},
     "output_type": "execute_result"
    }
   ],
   "source": [
    "new_df.groupby(\"Earnings_expectation\")[\"sector\"].value_counts()"
   ]
  },
  {
   "cell_type": "code",
   "execution_count": 24,
   "id": "fef4f796",
   "metadata": {},
   "outputs": [
    {
     "data": {
      "text/plain": [
       "irv_status        sector                \n",
       "Above Fair Price  Industrials               27\n",
       "                  Technology                27\n",
       "                  Financial Services        19\n",
       "                  Consumer Cyclical         17\n",
       "                  Healthcare                13\n",
       "                  Communication Services     6\n",
       "                  Energy                     6\n",
       "                  Consumer Defensive         5\n",
       "                  Real Estate                3\n",
       "                  Basic Materials            2\n",
       "                  Utilities                  1\n",
       "Below Fair Price  Consumer Cyclical         19\n",
       "                  Technology                12\n",
       "                  Industrials               11\n",
       "                  Healthcare                 8\n",
       "                  Basic Materials            6\n",
       "                  Financial Services         6\n",
       "                  Consumer Defensive         3\n",
       "                  Energy                     3\n",
       "                  Communication Services     2\n",
       "                  Real Estate                2\n",
       "Name: sector, dtype: int64"
      ]
     },
     "execution_count": 24,
     "metadata": {},
     "output_type": "execute_result"
    }
   ],
   "source": [
    "new_df.groupby(\"irv_status\")[\"sector\"].value_counts()"
   ]
  },
  {
   "cell_type": "code",
   "execution_count": 25,
   "id": "28a04cd9",
   "metadata": {},
   "outputs": [
    {
     "data": {
      "text/plain": [
       "capm_status  sector                \n",
       "OverValued   Consumer Cyclical          5\n",
       "             Technology                 5\n",
       "             Industrials                3\n",
       "             Communication Services     2\n",
       "             Consumer Defensive         2\n",
       "             Healthcare                 2\n",
       "             Real Estate                2\n",
       "             Basic Materials            1\n",
       "UnderValued  Industrials               35\n",
       "             Technology                34\n",
       "             Consumer Cyclical         31\n",
       "             Financial Services        25\n",
       "             Healthcare                19\n",
       "             Energy                     9\n",
       "             Basic Materials            7\n",
       "             Communication Services     6\n",
       "             Consumer Defensive         6\n",
       "             Real Estate                3\n",
       "             Utilities                  1\n",
       "Name: sector, dtype: int64"
      ]
     },
     "execution_count": 25,
     "metadata": {},
     "output_type": "execute_result"
    }
   ],
   "source": [
    "new_df.groupby(\"capm_status\")[\"sector\"].value_counts()"
   ]
  },
  {
   "cell_type": "markdown",
   "id": "2b7fc178",
   "metadata": {},
   "source": [
    "## Histogram Visualizations"
   ]
  },
  {
   "cell_type": "code",
   "execution_count": 26,
   "id": "29e58e6a",
   "metadata": {},
   "outputs": [
    {
     "data": {
      "application/vnd.plotly.v1+json": {
       "config": {
        "plotlyServerURL": "https://plot.ly"
       },
       "data": [
        {
         "alignmentgroup": "True",
         "bingroup": "x",
         "hovertemplate": "Earnings_expectation=%{x}<br>count=%{y}<extra></extra>",
         "legendgroup": "",
         "marker": {
          "color": "#636efa",
          "pattern": {
           "shape": ""
          }
         },
         "name": "",
         "offsetgroup": "",
         "orientation": "v",
         "showlegend": false,
         "type": "histogram",
         "x": [
          "Increase",
          "Increase",
          "Increase",
          "Increase",
          "Increase",
          "Increase",
          "Increase",
          "Increase",
          "Increase",
          "Increase",
          "Increase",
          "Increase",
          "Increase",
          "Increase",
          "Increase",
          "Increase",
          "Increase",
          "Decrease",
          "Increase",
          "Increase",
          "Increase",
          "Decrease",
          "Increase",
          "Increase",
          "Increase",
          "Increase",
          "Increase",
          "Increase",
          "Increase",
          "Increase",
          "Increase",
          "Increase",
          "Increase",
          "Increase",
          "Increase",
          "Increase",
          "Increase",
          "Increase",
          "Increase",
          "Increase",
          "Increase",
          "Increase",
          "Increase",
          "Increase",
          "Increase",
          "Increase",
          "Increase",
          "Increase",
          "Increase",
          "Increase",
          "Increase",
          "Increase",
          "Increase",
          "Increase",
          "Increase",
          "Increase",
          "Increase",
          "Decrease",
          "Increase",
          "Increase",
          "Increase",
          "Decrease",
          "Increase",
          "Increase",
          "Increase",
          "Increase",
          "Increase",
          "Increase",
          "Increase",
          "Increase",
          "Decrease",
          "Increase",
          "Increase",
          "Increase",
          "Increase",
          "Increase",
          "Increase",
          "Increase",
          "Increase",
          "Increase",
          "Increase",
          "Increase",
          "Increase",
          "Increase",
          "Increase",
          "Increase",
          "Decrease",
          "Increase",
          "Increase",
          "Increase",
          "Increase",
          "Decrease",
          "Increase",
          "Increase",
          "Increase",
          "Increase",
          "Decrease",
          "Increase",
          "Increase",
          "Increase",
          "Increase",
          "Increase",
          "Increase",
          "Increase",
          "Increase",
          "Increase",
          "Increase",
          "Increase",
          "Increase",
          "Increase",
          "Increase",
          "Increase",
          "Increase",
          "Increase",
          "Increase",
          "Increase",
          "Decrease",
          "Increase",
          "Increase",
          "Increase",
          "Increase",
          "Increase",
          "Increase",
          "Increase",
          "Increase",
          "Increase",
          "Increase",
          "Increase",
          "Increase",
          "Increase",
          "Increase",
          "Increase",
          "Increase",
          "Increase",
          "Increase",
          "Increase",
          "Increase",
          "Increase",
          "Increase",
          "Increase",
          "Increase",
          "Increase",
          "Increase",
          "Increase",
          "Increase",
          "Increase",
          "Decrease",
          "Increase",
          "Increase",
          "Increase",
          "Increase",
          "Increase",
          "Decrease",
          "Increase",
          "Increase",
          "Increase",
          "Increase",
          "Increase",
          "Increase",
          "Increase",
          "Increase",
          "Increase",
          "Increase",
          "Increase",
          "Decrease",
          "Increase",
          "Increase",
          "Increase",
          "Increase",
          "Increase",
          "Increase",
          "Increase",
          "Increase",
          "Increase",
          "Increase",
          "Increase",
          "Increase",
          "Decrease",
          "Increase",
          "Increase",
          "Increase",
          "Increase",
          "Increase",
          "Increase",
          "Increase",
          "Increase",
          "Increase",
          "Increase",
          "Increase",
          "Increase",
          "Increase",
          "Decrease",
          "Increase",
          "Increase",
          "Increase",
          "Increase",
          "Increase",
          "Increase"
         ],
         "xaxis": "x",
         "yaxis": "y"
        }
       ],
       "layout": {
        "barmode": "relative",
        "legend": {
         "tracegroupgap": 0
        },
        "margin": {
         "t": 60
        },
        "template": {
         "data": {
          "bar": [
           {
            "error_x": {
             "color": "#2a3f5f"
            },
            "error_y": {
             "color": "#2a3f5f"
            },
            "marker": {
             "line": {
              "color": "#E5ECF6",
              "width": 0.5
             },
             "pattern": {
              "fillmode": "overlay",
              "size": 10,
              "solidity": 0.2
             }
            },
            "type": "bar"
           }
          ],
          "barpolar": [
           {
            "marker": {
             "line": {
              "color": "#E5ECF6",
              "width": 0.5
             },
             "pattern": {
              "fillmode": "overlay",
              "size": 10,
              "solidity": 0.2
             }
            },
            "type": "barpolar"
           }
          ],
          "carpet": [
           {
            "aaxis": {
             "endlinecolor": "#2a3f5f",
             "gridcolor": "white",
             "linecolor": "white",
             "minorgridcolor": "white",
             "startlinecolor": "#2a3f5f"
            },
            "baxis": {
             "endlinecolor": "#2a3f5f",
             "gridcolor": "white",
             "linecolor": "white",
             "minorgridcolor": "white",
             "startlinecolor": "#2a3f5f"
            },
            "type": "carpet"
           }
          ],
          "choropleth": [
           {
            "colorbar": {
             "outlinewidth": 0,
             "ticks": ""
            },
            "type": "choropleth"
           }
          ],
          "contour": [
           {
            "colorbar": {
             "outlinewidth": 0,
             "ticks": ""
            },
            "colorscale": [
             [
              0,
              "#0d0887"
             ],
             [
              0.1111111111111111,
              "#46039f"
             ],
             [
              0.2222222222222222,
              "#7201a8"
             ],
             [
              0.3333333333333333,
              "#9c179e"
             ],
             [
              0.4444444444444444,
              "#bd3786"
             ],
             [
              0.5555555555555556,
              "#d8576b"
             ],
             [
              0.6666666666666666,
              "#ed7953"
             ],
             [
              0.7777777777777778,
              "#fb9f3a"
             ],
             [
              0.8888888888888888,
              "#fdca26"
             ],
             [
              1,
              "#f0f921"
             ]
            ],
            "type": "contour"
           }
          ],
          "contourcarpet": [
           {
            "colorbar": {
             "outlinewidth": 0,
             "ticks": ""
            },
            "type": "contourcarpet"
           }
          ],
          "heatmap": [
           {
            "colorbar": {
             "outlinewidth": 0,
             "ticks": ""
            },
            "colorscale": [
             [
              0,
              "#0d0887"
             ],
             [
              0.1111111111111111,
              "#46039f"
             ],
             [
              0.2222222222222222,
              "#7201a8"
             ],
             [
              0.3333333333333333,
              "#9c179e"
             ],
             [
              0.4444444444444444,
              "#bd3786"
             ],
             [
              0.5555555555555556,
              "#d8576b"
             ],
             [
              0.6666666666666666,
              "#ed7953"
             ],
             [
              0.7777777777777778,
              "#fb9f3a"
             ],
             [
              0.8888888888888888,
              "#fdca26"
             ],
             [
              1,
              "#f0f921"
             ]
            ],
            "type": "heatmap"
           }
          ],
          "heatmapgl": [
           {
            "colorbar": {
             "outlinewidth": 0,
             "ticks": ""
            },
            "colorscale": [
             [
              0,
              "#0d0887"
             ],
             [
              0.1111111111111111,
              "#46039f"
             ],
             [
              0.2222222222222222,
              "#7201a8"
             ],
             [
              0.3333333333333333,
              "#9c179e"
             ],
             [
              0.4444444444444444,
              "#bd3786"
             ],
             [
              0.5555555555555556,
              "#d8576b"
             ],
             [
              0.6666666666666666,
              "#ed7953"
             ],
             [
              0.7777777777777778,
              "#fb9f3a"
             ],
             [
              0.8888888888888888,
              "#fdca26"
             ],
             [
              1,
              "#f0f921"
             ]
            ],
            "type": "heatmapgl"
           }
          ],
          "histogram": [
           {
            "marker": {
             "pattern": {
              "fillmode": "overlay",
              "size": 10,
              "solidity": 0.2
             }
            },
            "type": "histogram"
           }
          ],
          "histogram2d": [
           {
            "colorbar": {
             "outlinewidth": 0,
             "ticks": ""
            },
            "colorscale": [
             [
              0,
              "#0d0887"
             ],
             [
              0.1111111111111111,
              "#46039f"
             ],
             [
              0.2222222222222222,
              "#7201a8"
             ],
             [
              0.3333333333333333,
              "#9c179e"
             ],
             [
              0.4444444444444444,
              "#bd3786"
             ],
             [
              0.5555555555555556,
              "#d8576b"
             ],
             [
              0.6666666666666666,
              "#ed7953"
             ],
             [
              0.7777777777777778,
              "#fb9f3a"
             ],
             [
              0.8888888888888888,
              "#fdca26"
             ],
             [
              1,
              "#f0f921"
             ]
            ],
            "type": "histogram2d"
           }
          ],
          "histogram2dcontour": [
           {
            "colorbar": {
             "outlinewidth": 0,
             "ticks": ""
            },
            "colorscale": [
             [
              0,
              "#0d0887"
             ],
             [
              0.1111111111111111,
              "#46039f"
             ],
             [
              0.2222222222222222,
              "#7201a8"
             ],
             [
              0.3333333333333333,
              "#9c179e"
             ],
             [
              0.4444444444444444,
              "#bd3786"
             ],
             [
              0.5555555555555556,
              "#d8576b"
             ],
             [
              0.6666666666666666,
              "#ed7953"
             ],
             [
              0.7777777777777778,
              "#fb9f3a"
             ],
             [
              0.8888888888888888,
              "#fdca26"
             ],
             [
              1,
              "#f0f921"
             ]
            ],
            "type": "histogram2dcontour"
           }
          ],
          "mesh3d": [
           {
            "colorbar": {
             "outlinewidth": 0,
             "ticks": ""
            },
            "type": "mesh3d"
           }
          ],
          "parcoords": [
           {
            "line": {
             "colorbar": {
              "outlinewidth": 0,
              "ticks": ""
             }
            },
            "type": "parcoords"
           }
          ],
          "pie": [
           {
            "automargin": true,
            "type": "pie"
           }
          ],
          "scatter": [
           {
            "marker": {
             "colorbar": {
              "outlinewidth": 0,
              "ticks": ""
             }
            },
            "type": "scatter"
           }
          ],
          "scatter3d": [
           {
            "line": {
             "colorbar": {
              "outlinewidth": 0,
              "ticks": ""
             }
            },
            "marker": {
             "colorbar": {
              "outlinewidth": 0,
              "ticks": ""
             }
            },
            "type": "scatter3d"
           }
          ],
          "scattercarpet": [
           {
            "marker": {
             "colorbar": {
              "outlinewidth": 0,
              "ticks": ""
             }
            },
            "type": "scattercarpet"
           }
          ],
          "scattergeo": [
           {
            "marker": {
             "colorbar": {
              "outlinewidth": 0,
              "ticks": ""
             }
            },
            "type": "scattergeo"
           }
          ],
          "scattergl": [
           {
            "marker": {
             "colorbar": {
              "outlinewidth": 0,
              "ticks": ""
             }
            },
            "type": "scattergl"
           }
          ],
          "scattermapbox": [
           {
            "marker": {
             "colorbar": {
              "outlinewidth": 0,
              "ticks": ""
             }
            },
            "type": "scattermapbox"
           }
          ],
          "scatterpolar": [
           {
            "marker": {
             "colorbar": {
              "outlinewidth": 0,
              "ticks": ""
             }
            },
            "type": "scatterpolar"
           }
          ],
          "scatterpolargl": [
           {
            "marker": {
             "colorbar": {
              "outlinewidth": 0,
              "ticks": ""
             }
            },
            "type": "scatterpolargl"
           }
          ],
          "scatterternary": [
           {
            "marker": {
             "colorbar": {
              "outlinewidth": 0,
              "ticks": ""
             }
            },
            "type": "scatterternary"
           }
          ],
          "surface": [
           {
            "colorbar": {
             "outlinewidth": 0,
             "ticks": ""
            },
            "colorscale": [
             [
              0,
              "#0d0887"
             ],
             [
              0.1111111111111111,
              "#46039f"
             ],
             [
              0.2222222222222222,
              "#7201a8"
             ],
             [
              0.3333333333333333,
              "#9c179e"
             ],
             [
              0.4444444444444444,
              "#bd3786"
             ],
             [
              0.5555555555555556,
              "#d8576b"
             ],
             [
              0.6666666666666666,
              "#ed7953"
             ],
             [
              0.7777777777777778,
              "#fb9f3a"
             ],
             [
              0.8888888888888888,
              "#fdca26"
             ],
             [
              1,
              "#f0f921"
             ]
            ],
            "type": "surface"
           }
          ],
          "table": [
           {
            "cells": {
             "fill": {
              "color": "#EBF0F8"
             },
             "line": {
              "color": "white"
             }
            },
            "header": {
             "fill": {
              "color": "#C8D4E3"
             },
             "line": {
              "color": "white"
             }
            },
            "type": "table"
           }
          ]
         },
         "layout": {
          "annotationdefaults": {
           "arrowcolor": "#2a3f5f",
           "arrowhead": 0,
           "arrowwidth": 1
          },
          "autotypenumbers": "strict",
          "coloraxis": {
           "colorbar": {
            "outlinewidth": 0,
            "ticks": ""
           }
          },
          "colorscale": {
           "diverging": [
            [
             0,
             "#8e0152"
            ],
            [
             0.1,
             "#c51b7d"
            ],
            [
             0.2,
             "#de77ae"
            ],
            [
             0.3,
             "#f1b6da"
            ],
            [
             0.4,
             "#fde0ef"
            ],
            [
             0.5,
             "#f7f7f7"
            ],
            [
             0.6,
             "#e6f5d0"
            ],
            [
             0.7,
             "#b8e186"
            ],
            [
             0.8,
             "#7fbc41"
            ],
            [
             0.9,
             "#4d9221"
            ],
            [
             1,
             "#276419"
            ]
           ],
           "sequential": [
            [
             0,
             "#0d0887"
            ],
            [
             0.1111111111111111,
             "#46039f"
            ],
            [
             0.2222222222222222,
             "#7201a8"
            ],
            [
             0.3333333333333333,
             "#9c179e"
            ],
            [
             0.4444444444444444,
             "#bd3786"
            ],
            [
             0.5555555555555556,
             "#d8576b"
            ],
            [
             0.6666666666666666,
             "#ed7953"
            ],
            [
             0.7777777777777778,
             "#fb9f3a"
            ],
            [
             0.8888888888888888,
             "#fdca26"
            ],
            [
             1,
             "#f0f921"
            ]
           ],
           "sequentialminus": [
            [
             0,
             "#0d0887"
            ],
            [
             0.1111111111111111,
             "#46039f"
            ],
            [
             0.2222222222222222,
             "#7201a8"
            ],
            [
             0.3333333333333333,
             "#9c179e"
            ],
            [
             0.4444444444444444,
             "#bd3786"
            ],
            [
             0.5555555555555556,
             "#d8576b"
            ],
            [
             0.6666666666666666,
             "#ed7953"
            ],
            [
             0.7777777777777778,
             "#fb9f3a"
            ],
            [
             0.8888888888888888,
             "#fdca26"
            ],
            [
             1,
             "#f0f921"
            ]
           ]
          },
          "colorway": [
           "#636efa",
           "#EF553B",
           "#00cc96",
           "#ab63fa",
           "#FFA15A",
           "#19d3f3",
           "#FF6692",
           "#B6E880",
           "#FF97FF",
           "#FECB52"
          ],
          "font": {
           "color": "#2a3f5f"
          },
          "geo": {
           "bgcolor": "white",
           "lakecolor": "white",
           "landcolor": "#E5ECF6",
           "showlakes": true,
           "showland": true,
           "subunitcolor": "white"
          },
          "hoverlabel": {
           "align": "left"
          },
          "hovermode": "closest",
          "mapbox": {
           "style": "light"
          },
          "paper_bgcolor": "white",
          "plot_bgcolor": "#E5ECF6",
          "polar": {
           "angularaxis": {
            "gridcolor": "white",
            "linecolor": "white",
            "ticks": ""
           },
           "bgcolor": "#E5ECF6",
           "radialaxis": {
            "gridcolor": "white",
            "linecolor": "white",
            "ticks": ""
           }
          },
          "scene": {
           "xaxis": {
            "backgroundcolor": "#E5ECF6",
            "gridcolor": "white",
            "gridwidth": 2,
            "linecolor": "white",
            "showbackground": true,
            "ticks": "",
            "zerolinecolor": "white"
           },
           "yaxis": {
            "backgroundcolor": "#E5ECF6",
            "gridcolor": "white",
            "gridwidth": 2,
            "linecolor": "white",
            "showbackground": true,
            "ticks": "",
            "zerolinecolor": "white"
           },
           "zaxis": {
            "backgroundcolor": "#E5ECF6",
            "gridcolor": "white",
            "gridwidth": 2,
            "linecolor": "white",
            "showbackground": true,
            "ticks": "",
            "zerolinecolor": "white"
           }
          },
          "shapedefaults": {
           "line": {
            "color": "#2a3f5f"
           }
          },
          "ternary": {
           "aaxis": {
            "gridcolor": "white",
            "linecolor": "white",
            "ticks": ""
           },
           "baxis": {
            "gridcolor": "white",
            "linecolor": "white",
            "ticks": ""
           },
           "bgcolor": "#E5ECF6",
           "caxis": {
            "gridcolor": "white",
            "linecolor": "white",
            "ticks": ""
           }
          },
          "title": {
           "x": 0.05
          },
          "xaxis": {
           "automargin": true,
           "gridcolor": "white",
           "linecolor": "white",
           "ticks": "",
           "title": {
            "standoff": 15
           },
           "zerolinecolor": "white",
           "zerolinewidth": 2
          },
          "yaxis": {
           "automargin": true,
           "gridcolor": "white",
           "linecolor": "white",
           "ticks": "",
           "title": {
            "standoff": 15
           },
           "zerolinecolor": "white",
           "zerolinewidth": 2
          }
         }
        },
        "xaxis": {
         "anchor": "y",
         "domain": [
          0,
          1
         ],
         "title": {
          "text": "Earnings_expectation"
         }
        },
        "yaxis": {
         "anchor": "x",
         "domain": [
          0,
          1
         ],
         "title": {
          "text": "count"
         }
        }
       }
      }
     },
     "metadata": {},
     "output_type": "display_data"
    }
   ],
   "source": [
    "fig = px.histogram(new_df, x=\"Earnings_expectation\")\n",
    "fig.show()\n"
   ]
  },
  {
   "cell_type": "code",
   "execution_count": 27,
   "id": "100229ca",
   "metadata": {},
   "outputs": [
    {
     "data": {
      "text/html": [
       "<div>\n",
       "<style scoped>\n",
       "    .dataframe tbody tr th:only-of-type {\n",
       "        vertical-align: middle;\n",
       "    }\n",
       "\n",
       "    .dataframe tbody tr th {\n",
       "        vertical-align: top;\n",
       "    }\n",
       "\n",
       "    .dataframe thead th {\n",
       "        text-align: right;\n",
       "    }\n",
       "</style>\n",
       "<table border=\"1\" class=\"dataframe\">\n",
       "  <thead>\n",
       "    <tr style=\"text-align: right;\">\n",
       "      <th></th>\n",
       "      <th>ticker</th>\n",
       "      <th>name</th>\n",
       "      <th>sector</th>\n",
       "      <th>Earnings_expectation</th>\n",
       "      <th>irv_status</th>\n",
       "      <th>capm_status</th>\n",
       "      <th>esg_status</th>\n",
       "      <th>current_price</th>\n",
       "      <th>annu_return_10y</th>\n",
       "      <th>market_cap</th>\n",
       "      <th>marketcap_cat</th>\n",
       "      <th>beta</th>\n",
       "      <th>eps_ttm</th>\n",
       "      <th>growth_estimate_5y</th>\n",
       "      <th>pe_forward</th>\n",
       "      <th>pe_trailing</th>\n",
       "      <th>irv_FairValue</th>\n",
       "      <th>ESG_risk</th>\n",
       "      <th>capm_expected_return</th>\n",
       "    </tr>\n",
       "  </thead>\n",
       "  <tbody>\n",
       "    <tr>\n",
       "      <th>0</th>\n",
       "      <td>AAP</td>\n",
       "      <td>Advance Auto Parts Inc.</td>\n",
       "      <td>Consumer Cyclical</td>\n",
       "      <td>Increase</td>\n",
       "      <td>Above Fair Price</td>\n",
       "      <td>UnderValued</td>\n",
       "      <td>Sustainable</td>\n",
       "      <td>214.1500</td>\n",
       "      <td>0.103398</td>\n",
       "      <td>1.308405e+10</td>\n",
       "      <td>Large</td>\n",
       "      <td>1.25</td>\n",
       "      <td>9.550</td>\n",
       "      <td>0.1525</td>\n",
       "      <td>13.932986</td>\n",
       "      <td>22.424082</td>\n",
       "      <td>109.188247</td>\n",
       "      <td>12.97</td>\n",
       "      <td>0.171149</td>\n",
       "    </tr>\n",
       "    <tr>\n",
       "      <th>5</th>\n",
       "      <td>ADSK</td>\n",
       "      <td>Autodesk, Inc.</td>\n",
       "      <td>Technology</td>\n",
       "      <td>Increase</td>\n",
       "      <td>Below Fair Price</td>\n",
       "      <td>UnderValued</td>\n",
       "      <td>Sustainable</td>\n",
       "      <td>217.3800</td>\n",
       "      <td>0.190997</td>\n",
       "      <td>4.781773e+10</td>\n",
       "      <td>Large</td>\n",
       "      <td>1.43</td>\n",
       "      <td>5.928</td>\n",
       "      <td>0.2883</td>\n",
       "      <td>31.967648</td>\n",
       "      <td>36.670040</td>\n",
       "      <td>302.038344</td>\n",
       "      <td>15.45</td>\n",
       "      <td>0.193030</td>\n",
       "    </tr>\n",
       "    <tr>\n",
       "      <th>11</th>\n",
       "      <td>ALK</td>\n",
       "      <td>Alaska Air Group, Inc.</td>\n",
       "      <td>Industrials</td>\n",
       "      <td>Increase</td>\n",
       "      <td>Above Fair Price</td>\n",
       "      <td>UnderValued</td>\n",
       "      <td>No Data</td>\n",
       "      <td>58.9750</td>\n",
       "      <td>0.141697</td>\n",
       "      <td>7.425660e+09</td>\n",
       "      <td>Small</td>\n",
       "      <td>1.55</td>\n",
       "      <td>3.770</td>\n",
       "      <td>-0.2340</td>\n",
       "      <td>9.073076</td>\n",
       "      <td>15.643236</td>\n",
       "      <td>0.761055</td>\n",
       "      <td>999.00</td>\n",
       "      <td>0.207617</td>\n",
       "    </tr>\n",
       "    <tr>\n",
       "      <th>12</th>\n",
       "      <td>ALLE</td>\n",
       "      <td>Allegion plc</td>\n",
       "      <td>Industrials</td>\n",
       "      <td>Increase</td>\n",
       "      <td>Above Fair Price</td>\n",
       "      <td>UnderValued</td>\n",
       "      <td>Average</td>\n",
       "      <td>114.1447</td>\n",
       "      <td>0.097180</td>\n",
       "      <td>1.023831e+10</td>\n",
       "      <td>Large</td>\n",
       "      <td>1.14</td>\n",
       "      <td>5.086</td>\n",
       "      <td>0.0777</td>\n",
       "      <td>19.955368</td>\n",
       "      <td>22.442923</td>\n",
       "      <td>31.814578</td>\n",
       "      <td>23.59</td>\n",
       "      <td>0.157777</td>\n",
       "    </tr>\n",
       "    <tr>\n",
       "      <th>14</th>\n",
       "      <td>AMD</td>\n",
       "      <td>Advanced Micro Devices, Inc.</td>\n",
       "      <td>Technology</td>\n",
       "      <td>Increase</td>\n",
       "      <td>Below Fair Price</td>\n",
       "      <td>OverValued</td>\n",
       "      <td>No Data</td>\n",
       "      <td>117.1100</td>\n",
       "      <td>0.319034</td>\n",
       "      <td>1.414232e+11</td>\n",
       "      <td>Large</td>\n",
       "      <td>1.95</td>\n",
       "      <td>3.242</td>\n",
       "      <td>0.3532</td>\n",
       "      <td>35.062874</td>\n",
       "      <td>36.122765</td>\n",
       "      <td>253.245268</td>\n",
       "      <td>999.00</td>\n",
       "      <td>0.256240</td>\n",
       "    </tr>\n",
       "    <tr>\n",
       "      <th>...</th>\n",
       "      <td>...</td>\n",
       "      <td>...</td>\n",
       "      <td>...</td>\n",
       "      <td>...</td>\n",
       "      <td>...</td>\n",
       "      <td>...</td>\n",
       "      <td>...</td>\n",
       "      <td>...</td>\n",
       "      <td>...</td>\n",
       "      <td>...</td>\n",
       "      <td>...</td>\n",
       "      <td>...</td>\n",
       "      <td>...</td>\n",
       "      <td>...</td>\n",
       "      <td>...</td>\n",
       "      <td>...</td>\n",
       "      <td>...</td>\n",
       "      <td>...</td>\n",
       "      <td>...</td>\n",
       "    </tr>\n",
       "    <tr>\n",
       "      <th>387</th>\n",
       "      <td>DSKE</td>\n",
       "      <td>Daseke, Inc.</td>\n",
       "      <td>Industrials</td>\n",
       "      <td>Increase</td>\n",
       "      <td>Below Fair Price</td>\n",
       "      <td>UnderValued</td>\n",
       "      <td>No Data</td>\n",
       "      <td>11.2500</td>\n",
       "      <td>0.015987</td>\n",
       "      <td>7.030046e+08</td>\n",
       "      <td>Small</td>\n",
       "      <td>2.12</td>\n",
       "      <td>0.789</td>\n",
       "      <td>0.2500</td>\n",
       "      <td>11.968085</td>\n",
       "      <td>14.258555</td>\n",
       "      <td>11.913300</td>\n",
       "      <td>999.00</td>\n",
       "      <td>0.276905</td>\n",
       "    </tr>\n",
       "    <tr>\n",
       "      <th>388</th>\n",
       "      <td>DTEA</td>\n",
       "      <td>DAVIDsTEA Inc.</td>\n",
       "      <td>Consumer Defensive</td>\n",
       "      <td>Increase</td>\n",
       "      <td>Above Fair Price</td>\n",
       "      <td>UnderValued</td>\n",
       "      <td>No Data</td>\n",
       "      <td>3.0500</td>\n",
       "      <td>-0.195930</td>\n",
       "      <td>8.039800e+07</td>\n",
       "      <td>Small</td>\n",
       "      <td>3.31</td>\n",
       "      <td>1.431</td>\n",
       "      <td>-1.3172</td>\n",
       "      <td>-101.666664</td>\n",
       "      <td>2.131377</td>\n",
       "      <td>-0.000014</td>\n",
       "      <td>999.00</td>\n",
       "      <td>0.421561</td>\n",
       "    </tr>\n",
       "    <tr>\n",
       "      <th>390</th>\n",
       "      <td>DXPE</td>\n",
       "      <td>DXP Enterprises, Inc.</td>\n",
       "      <td>Industrials</td>\n",
       "      <td>Increase</td>\n",
       "      <td>Above Fair Price</td>\n",
       "      <td>UnderValued</td>\n",
       "      <td>No Data</td>\n",
       "      <td>27.9300</td>\n",
       "      <td>-0.030268</td>\n",
       "      <td>5.237043e+08</td>\n",
       "      <td>Small</td>\n",
       "      <td>2.26</td>\n",
       "      <td>0.641</td>\n",
       "      <td>0.2000</td>\n",
       "      <td>25.162163</td>\n",
       "      <td>43.572544</td>\n",
       "      <td>20.482907</td>\n",
       "      <td>999.00</td>\n",
       "      <td>0.293924</td>\n",
       "    </tr>\n",
       "    <tr>\n",
       "      <th>392</th>\n",
       "      <td>EBIX</td>\n",
       "      <td>Ebix, Inc.</td>\n",
       "      <td>Technology</td>\n",
       "      <td>Increase</td>\n",
       "      <td>Above Fair Price</td>\n",
       "      <td>UnderValued</td>\n",
       "      <td>No Data</td>\n",
       "      <td>31.0600</td>\n",
       "      <td>0.034444</td>\n",
       "      <td>9.611020e+08</td>\n",
       "      <td>Small</td>\n",
       "      <td>2.72</td>\n",
       "      <td>2.360</td>\n",
       "      <td>0.1000</td>\n",
       "      <td>9.383686</td>\n",
       "      <td>13.161017</td>\n",
       "      <td>10.409385</td>\n",
       "      <td>999.00</td>\n",
       "      <td>0.349841</td>\n",
       "    </tr>\n",
       "    <tr>\n",
       "      <th>395</th>\n",
       "      <td>EDAP</td>\n",
       "      <td>EDAP TMS S.A.</td>\n",
       "      <td>Healthcare</td>\n",
       "      <td>Increase</td>\n",
       "      <td>Above Fair Price</td>\n",
       "      <td>UnderValued</td>\n",
       "      <td>No Data</td>\n",
       "      <td>7.2100</td>\n",
       "      <td>0.128625</td>\n",
       "      <td>2.404254e+08</td>\n",
       "      <td>Small</td>\n",
       "      <td>1.54</td>\n",
       "      <td>0.004</td>\n",
       "      <td>0.0300</td>\n",
       "      <td>721.000000</td>\n",
       "      <td>1802.499900</td>\n",
       "      <td>1.337087</td>\n",
       "      <td>999.00</td>\n",
       "      <td>0.206401</td>\n",
       "    </tr>\n",
       "  </tbody>\n",
       "</table>\n",
       "<p>198 rows × 19 columns</p>\n",
       "</div>"
      ],
      "text/plain": [
       "    ticker                          name              sector  \\\n",
       "0      AAP       Advance Auto Parts Inc.   Consumer Cyclical   \n",
       "5     ADSK                Autodesk, Inc.          Technology   \n",
       "11     ALK        Alaska Air Group, Inc.         Industrials   \n",
       "12    ALLE                  Allegion plc         Industrials   \n",
       "14     AMD  Advanced Micro Devices, Inc.          Technology   \n",
       "..     ...                           ...                 ...   \n",
       "387   DSKE                  Daseke, Inc.         Industrials   \n",
       "388   DTEA                DAVIDsTEA Inc.  Consumer Defensive   \n",
       "390   DXPE         DXP Enterprises, Inc.         Industrials   \n",
       "392   EBIX                    Ebix, Inc.          Technology   \n",
       "395   EDAP                 EDAP TMS S.A.          Healthcare   \n",
       "\n",
       "    Earnings_expectation        irv_status  capm_status   esg_status  \\\n",
       "0               Increase  Above Fair Price  UnderValued  Sustainable   \n",
       "5               Increase  Below Fair Price  UnderValued  Sustainable   \n",
       "11              Increase  Above Fair Price  UnderValued      No Data   \n",
       "12              Increase  Above Fair Price  UnderValued      Average   \n",
       "14              Increase  Below Fair Price   OverValued      No Data   \n",
       "..                   ...               ...          ...          ...   \n",
       "387             Increase  Below Fair Price  UnderValued      No Data   \n",
       "388             Increase  Above Fair Price  UnderValued      No Data   \n",
       "390             Increase  Above Fair Price  UnderValued      No Data   \n",
       "392             Increase  Above Fair Price  UnderValued      No Data   \n",
       "395             Increase  Above Fair Price  UnderValued      No Data   \n",
       "\n",
       "     current_price  annu_return_10y    market_cap marketcap_cat  beta  \\\n",
       "0         214.1500         0.103398  1.308405e+10         Large  1.25   \n",
       "5         217.3800         0.190997  4.781773e+10         Large  1.43   \n",
       "11         58.9750         0.141697  7.425660e+09         Small  1.55   \n",
       "12        114.1447         0.097180  1.023831e+10         Large  1.14   \n",
       "14        117.1100         0.319034  1.414232e+11         Large  1.95   \n",
       "..             ...              ...           ...           ...   ...   \n",
       "387        11.2500         0.015987  7.030046e+08         Small  2.12   \n",
       "388         3.0500        -0.195930  8.039800e+07         Small  3.31   \n",
       "390        27.9300        -0.030268  5.237043e+08         Small  2.26   \n",
       "392        31.0600         0.034444  9.611020e+08         Small  2.72   \n",
       "395         7.2100         0.128625  2.404254e+08         Small  1.54   \n",
       "\n",
       "     eps_ttm  growth_estimate_5y  pe_forward  pe_trailing  irv_FairValue  \\\n",
       "0      9.550              0.1525   13.932986    22.424082     109.188247   \n",
       "5      5.928              0.2883   31.967648    36.670040     302.038344   \n",
       "11     3.770             -0.2340    9.073076    15.643236       0.761055   \n",
       "12     5.086              0.0777   19.955368    22.442923      31.814578   \n",
       "14     3.242              0.3532   35.062874    36.122765     253.245268   \n",
       "..       ...                 ...         ...          ...            ...   \n",
       "387    0.789              0.2500   11.968085    14.258555      11.913300   \n",
       "388    1.431             -1.3172 -101.666664     2.131377      -0.000014   \n",
       "390    0.641              0.2000   25.162163    43.572544      20.482907   \n",
       "392    2.360              0.1000    9.383686    13.161017      10.409385   \n",
       "395    0.004              0.0300  721.000000  1802.499900       1.337087   \n",
       "\n",
       "     ESG_risk  capm_expected_return  \n",
       "0       12.97              0.171149  \n",
       "5       15.45              0.193030  \n",
       "11     999.00              0.207617  \n",
       "12      23.59              0.157777  \n",
       "14     999.00              0.256240  \n",
       "..        ...                   ...  \n",
       "387    999.00              0.276905  \n",
       "388    999.00              0.421561  \n",
       "390    999.00              0.293924  \n",
       "392    999.00              0.349841  \n",
       "395    999.00              0.206401  \n",
       "\n",
       "[198 rows x 19 columns]"
      ]
     },
     "execution_count": 27,
     "metadata": {},
     "output_type": "execute_result"
    }
   ],
   "source": [
    "new_df"
   ]
  },
  {
   "cell_type": "code",
   "execution_count": 28,
   "id": "6df7dad9",
   "metadata": {},
   "outputs": [
    {
     "data": {
      "application/vnd.plotly.v1+json": {
       "config": {
        "plotlyServerURL": "https://plot.ly"
       },
       "data": [
        {
         "alignmentgroup": "True",
         "bingroup": "x",
         "hovertemplate": "irv_status=%{x}<br>count=%{y}<extra></extra>",
         "legendgroup": "",
         "marker": {
          "color": "#636efa",
          "pattern": {
           "shape": ""
          }
         },
         "name": "",
         "offsetgroup": "",
         "orientation": "v",
         "showlegend": false,
         "type": "histogram",
         "x": [
          "Above Fair Price",
          "Below Fair Price",
          "Above Fair Price",
          "Above Fair Price",
          "Below Fair Price",
          "Above Fair Price",
          "Above Fair Price",
          "Below Fair Price",
          "Below Fair Price",
          "Above Fair Price",
          "Above Fair Price",
          "Above Fair Price",
          "Below Fair Price",
          "Above Fair Price",
          "Above Fair Price",
          "Below Fair Price",
          "Above Fair Price",
          "Below Fair Price",
          "Above Fair Price",
          "Above Fair Price",
          "Above Fair Price",
          "Below Fair Price",
          "Above Fair Price",
          "Above Fair Price",
          "Above Fair Price",
          "Below Fair Price",
          "Above Fair Price",
          "Above Fair Price",
          "Above Fair Price",
          "Below Fair Price",
          "Above Fair Price",
          "Below Fair Price",
          "Below Fair Price",
          "Above Fair Price",
          "Below Fair Price",
          "Below Fair Price",
          "Above Fair Price",
          "Above Fair Price",
          "Above Fair Price",
          "Above Fair Price",
          "Above Fair Price",
          "Above Fair Price",
          "Below Fair Price",
          "Below Fair Price",
          "Below Fair Price",
          "Above Fair Price",
          "Below Fair Price",
          "Above Fair Price",
          "Above Fair Price",
          "Above Fair Price",
          "Above Fair Price",
          "Above Fair Price",
          "Above Fair Price",
          "Above Fair Price",
          "Below Fair Price",
          "Below Fair Price",
          "Below Fair Price",
          "Below Fair Price",
          "Below Fair Price",
          "Above Fair Price",
          "Above Fair Price",
          "Below Fair Price",
          "Above Fair Price",
          "Above Fair Price",
          "Above Fair Price",
          "Below Fair Price",
          "Below Fair Price",
          "Above Fair Price",
          "Above Fair Price",
          "Above Fair Price",
          "Below Fair Price",
          "Above Fair Price",
          "Below Fair Price",
          "Above Fair Price",
          "Above Fair Price",
          "Above Fair Price",
          "Above Fair Price",
          "Below Fair Price",
          "Below Fair Price",
          "Above Fair Price",
          "Above Fair Price",
          "Below Fair Price",
          "Above Fair Price",
          "Below Fair Price",
          "Above Fair Price",
          "Above Fair Price",
          "Below Fair Price",
          "Below Fair Price",
          "Above Fair Price",
          "Above Fair Price",
          "Below Fair Price",
          "Below Fair Price",
          "Above Fair Price",
          "Below Fair Price",
          "Above Fair Price",
          "Above Fair Price",
          "Below Fair Price",
          "Above Fair Price",
          "Below Fair Price",
          "Above Fair Price",
          "Below Fair Price",
          "Above Fair Price",
          "Below Fair Price",
          "Above Fair Price",
          "Below Fair Price",
          "Above Fair Price",
          "Above Fair Price",
          "Above Fair Price",
          "Above Fair Price",
          "Below Fair Price",
          "Below Fair Price",
          "Above Fair Price",
          "Below Fair Price",
          "Above Fair Price",
          "Below Fair Price",
          "Above Fair Price",
          "Below Fair Price",
          "Below Fair Price",
          "Above Fair Price",
          "Above Fair Price",
          "Above Fair Price",
          "Above Fair Price",
          "Above Fair Price",
          "Below Fair Price",
          "Below Fair Price",
          "Above Fair Price",
          "Above Fair Price",
          "Above Fair Price",
          "Below Fair Price",
          "Above Fair Price",
          "Above Fair Price",
          "Below Fair Price",
          "Above Fair Price",
          "Above Fair Price",
          "Above Fair Price",
          "Above Fair Price",
          "Below Fair Price",
          "Above Fair Price",
          "Above Fair Price",
          "Above Fair Price",
          "Below Fair Price",
          "Above Fair Price",
          "Above Fair Price",
          "Below Fair Price",
          "Below Fair Price",
          "Below Fair Price",
          "Below Fair Price",
          "Above Fair Price",
          "Above Fair Price",
          "Below Fair Price",
          "Above Fair Price",
          "Above Fair Price",
          "Below Fair Price",
          "Above Fair Price",
          "Below Fair Price",
          "Above Fair Price",
          "Above Fair Price",
          "Above Fair Price",
          "Below Fair Price",
          "Above Fair Price",
          "Below Fair Price",
          "Above Fair Price",
          "Above Fair Price",
          "Above Fair Price",
          "Below Fair Price",
          "Above Fair Price",
          "Below Fair Price",
          "Above Fair Price",
          "Above Fair Price",
          "Above Fair Price",
          "Above Fair Price",
          "Above Fair Price",
          "Above Fair Price",
          "Above Fair Price",
          "Above Fair Price",
          "Above Fair Price",
          "Above Fair Price",
          "Below Fair Price",
          "Above Fair Price",
          "Below Fair Price",
          "Above Fair Price",
          "Below Fair Price",
          "Above Fair Price",
          "Above Fair Price",
          "Above Fair Price",
          "Below Fair Price",
          "Above Fair Price",
          "Above Fair Price",
          "Above Fair Price",
          "Above Fair Price",
          "Above Fair Price",
          "Below Fair Price",
          "Below Fair Price",
          "Below Fair Price",
          "Above Fair Price",
          "Above Fair Price",
          "Above Fair Price",
          "Above Fair Price"
         ],
         "xaxis": "x",
         "yaxis": "y"
        }
       ],
       "layout": {
        "barmode": "relative",
        "legend": {
         "tracegroupgap": 0
        },
        "margin": {
         "t": 60
        },
        "template": {
         "data": {
          "bar": [
           {
            "error_x": {
             "color": "#2a3f5f"
            },
            "error_y": {
             "color": "#2a3f5f"
            },
            "marker": {
             "line": {
              "color": "#E5ECF6",
              "width": 0.5
             },
             "pattern": {
              "fillmode": "overlay",
              "size": 10,
              "solidity": 0.2
             }
            },
            "type": "bar"
           }
          ],
          "barpolar": [
           {
            "marker": {
             "line": {
              "color": "#E5ECF6",
              "width": 0.5
             },
             "pattern": {
              "fillmode": "overlay",
              "size": 10,
              "solidity": 0.2
             }
            },
            "type": "barpolar"
           }
          ],
          "carpet": [
           {
            "aaxis": {
             "endlinecolor": "#2a3f5f",
             "gridcolor": "white",
             "linecolor": "white",
             "minorgridcolor": "white",
             "startlinecolor": "#2a3f5f"
            },
            "baxis": {
             "endlinecolor": "#2a3f5f",
             "gridcolor": "white",
             "linecolor": "white",
             "minorgridcolor": "white",
             "startlinecolor": "#2a3f5f"
            },
            "type": "carpet"
           }
          ],
          "choropleth": [
           {
            "colorbar": {
             "outlinewidth": 0,
             "ticks": ""
            },
            "type": "choropleth"
           }
          ],
          "contour": [
           {
            "colorbar": {
             "outlinewidth": 0,
             "ticks": ""
            },
            "colorscale": [
             [
              0,
              "#0d0887"
             ],
             [
              0.1111111111111111,
              "#46039f"
             ],
             [
              0.2222222222222222,
              "#7201a8"
             ],
             [
              0.3333333333333333,
              "#9c179e"
             ],
             [
              0.4444444444444444,
              "#bd3786"
             ],
             [
              0.5555555555555556,
              "#d8576b"
             ],
             [
              0.6666666666666666,
              "#ed7953"
             ],
             [
              0.7777777777777778,
              "#fb9f3a"
             ],
             [
              0.8888888888888888,
              "#fdca26"
             ],
             [
              1,
              "#f0f921"
             ]
            ],
            "type": "contour"
           }
          ],
          "contourcarpet": [
           {
            "colorbar": {
             "outlinewidth": 0,
             "ticks": ""
            },
            "type": "contourcarpet"
           }
          ],
          "heatmap": [
           {
            "colorbar": {
             "outlinewidth": 0,
             "ticks": ""
            },
            "colorscale": [
             [
              0,
              "#0d0887"
             ],
             [
              0.1111111111111111,
              "#46039f"
             ],
             [
              0.2222222222222222,
              "#7201a8"
             ],
             [
              0.3333333333333333,
              "#9c179e"
             ],
             [
              0.4444444444444444,
              "#bd3786"
             ],
             [
              0.5555555555555556,
              "#d8576b"
             ],
             [
              0.6666666666666666,
              "#ed7953"
             ],
             [
              0.7777777777777778,
              "#fb9f3a"
             ],
             [
              0.8888888888888888,
              "#fdca26"
             ],
             [
              1,
              "#f0f921"
             ]
            ],
            "type": "heatmap"
           }
          ],
          "heatmapgl": [
           {
            "colorbar": {
             "outlinewidth": 0,
             "ticks": ""
            },
            "colorscale": [
             [
              0,
              "#0d0887"
             ],
             [
              0.1111111111111111,
              "#46039f"
             ],
             [
              0.2222222222222222,
              "#7201a8"
             ],
             [
              0.3333333333333333,
              "#9c179e"
             ],
             [
              0.4444444444444444,
              "#bd3786"
             ],
             [
              0.5555555555555556,
              "#d8576b"
             ],
             [
              0.6666666666666666,
              "#ed7953"
             ],
             [
              0.7777777777777778,
              "#fb9f3a"
             ],
             [
              0.8888888888888888,
              "#fdca26"
             ],
             [
              1,
              "#f0f921"
             ]
            ],
            "type": "heatmapgl"
           }
          ],
          "histogram": [
           {
            "marker": {
             "pattern": {
              "fillmode": "overlay",
              "size": 10,
              "solidity": 0.2
             }
            },
            "type": "histogram"
           }
          ],
          "histogram2d": [
           {
            "colorbar": {
             "outlinewidth": 0,
             "ticks": ""
            },
            "colorscale": [
             [
              0,
              "#0d0887"
             ],
             [
              0.1111111111111111,
              "#46039f"
             ],
             [
              0.2222222222222222,
              "#7201a8"
             ],
             [
              0.3333333333333333,
              "#9c179e"
             ],
             [
              0.4444444444444444,
              "#bd3786"
             ],
             [
              0.5555555555555556,
              "#d8576b"
             ],
             [
              0.6666666666666666,
              "#ed7953"
             ],
             [
              0.7777777777777778,
              "#fb9f3a"
             ],
             [
              0.8888888888888888,
              "#fdca26"
             ],
             [
              1,
              "#f0f921"
             ]
            ],
            "type": "histogram2d"
           }
          ],
          "histogram2dcontour": [
           {
            "colorbar": {
             "outlinewidth": 0,
             "ticks": ""
            },
            "colorscale": [
             [
              0,
              "#0d0887"
             ],
             [
              0.1111111111111111,
              "#46039f"
             ],
             [
              0.2222222222222222,
              "#7201a8"
             ],
             [
              0.3333333333333333,
              "#9c179e"
             ],
             [
              0.4444444444444444,
              "#bd3786"
             ],
             [
              0.5555555555555556,
              "#d8576b"
             ],
             [
              0.6666666666666666,
              "#ed7953"
             ],
             [
              0.7777777777777778,
              "#fb9f3a"
             ],
             [
              0.8888888888888888,
              "#fdca26"
             ],
             [
              1,
              "#f0f921"
             ]
            ],
            "type": "histogram2dcontour"
           }
          ],
          "mesh3d": [
           {
            "colorbar": {
             "outlinewidth": 0,
             "ticks": ""
            },
            "type": "mesh3d"
           }
          ],
          "parcoords": [
           {
            "line": {
             "colorbar": {
              "outlinewidth": 0,
              "ticks": ""
             }
            },
            "type": "parcoords"
           }
          ],
          "pie": [
           {
            "automargin": true,
            "type": "pie"
           }
          ],
          "scatter": [
           {
            "marker": {
             "colorbar": {
              "outlinewidth": 0,
              "ticks": ""
             }
            },
            "type": "scatter"
           }
          ],
          "scatter3d": [
           {
            "line": {
             "colorbar": {
              "outlinewidth": 0,
              "ticks": ""
             }
            },
            "marker": {
             "colorbar": {
              "outlinewidth": 0,
              "ticks": ""
             }
            },
            "type": "scatter3d"
           }
          ],
          "scattercarpet": [
           {
            "marker": {
             "colorbar": {
              "outlinewidth": 0,
              "ticks": ""
             }
            },
            "type": "scattercarpet"
           }
          ],
          "scattergeo": [
           {
            "marker": {
             "colorbar": {
              "outlinewidth": 0,
              "ticks": ""
             }
            },
            "type": "scattergeo"
           }
          ],
          "scattergl": [
           {
            "marker": {
             "colorbar": {
              "outlinewidth": 0,
              "ticks": ""
             }
            },
            "type": "scattergl"
           }
          ],
          "scattermapbox": [
           {
            "marker": {
             "colorbar": {
              "outlinewidth": 0,
              "ticks": ""
             }
            },
            "type": "scattermapbox"
           }
          ],
          "scatterpolar": [
           {
            "marker": {
             "colorbar": {
              "outlinewidth": 0,
              "ticks": ""
             }
            },
            "type": "scatterpolar"
           }
          ],
          "scatterpolargl": [
           {
            "marker": {
             "colorbar": {
              "outlinewidth": 0,
              "ticks": ""
             }
            },
            "type": "scatterpolargl"
           }
          ],
          "scatterternary": [
           {
            "marker": {
             "colorbar": {
              "outlinewidth": 0,
              "ticks": ""
             }
            },
            "type": "scatterternary"
           }
          ],
          "surface": [
           {
            "colorbar": {
             "outlinewidth": 0,
             "ticks": ""
            },
            "colorscale": [
             [
              0,
              "#0d0887"
             ],
             [
              0.1111111111111111,
              "#46039f"
             ],
             [
              0.2222222222222222,
              "#7201a8"
             ],
             [
              0.3333333333333333,
              "#9c179e"
             ],
             [
              0.4444444444444444,
              "#bd3786"
             ],
             [
              0.5555555555555556,
              "#d8576b"
             ],
             [
              0.6666666666666666,
              "#ed7953"
             ],
             [
              0.7777777777777778,
              "#fb9f3a"
             ],
             [
              0.8888888888888888,
              "#fdca26"
             ],
             [
              1,
              "#f0f921"
             ]
            ],
            "type": "surface"
           }
          ],
          "table": [
           {
            "cells": {
             "fill": {
              "color": "#EBF0F8"
             },
             "line": {
              "color": "white"
             }
            },
            "header": {
             "fill": {
              "color": "#C8D4E3"
             },
             "line": {
              "color": "white"
             }
            },
            "type": "table"
           }
          ]
         },
         "layout": {
          "annotationdefaults": {
           "arrowcolor": "#2a3f5f",
           "arrowhead": 0,
           "arrowwidth": 1
          },
          "autotypenumbers": "strict",
          "coloraxis": {
           "colorbar": {
            "outlinewidth": 0,
            "ticks": ""
           }
          },
          "colorscale": {
           "diverging": [
            [
             0,
             "#8e0152"
            ],
            [
             0.1,
             "#c51b7d"
            ],
            [
             0.2,
             "#de77ae"
            ],
            [
             0.3,
             "#f1b6da"
            ],
            [
             0.4,
             "#fde0ef"
            ],
            [
             0.5,
             "#f7f7f7"
            ],
            [
             0.6,
             "#e6f5d0"
            ],
            [
             0.7,
             "#b8e186"
            ],
            [
             0.8,
             "#7fbc41"
            ],
            [
             0.9,
             "#4d9221"
            ],
            [
             1,
             "#276419"
            ]
           ],
           "sequential": [
            [
             0,
             "#0d0887"
            ],
            [
             0.1111111111111111,
             "#46039f"
            ],
            [
             0.2222222222222222,
             "#7201a8"
            ],
            [
             0.3333333333333333,
             "#9c179e"
            ],
            [
             0.4444444444444444,
             "#bd3786"
            ],
            [
             0.5555555555555556,
             "#d8576b"
            ],
            [
             0.6666666666666666,
             "#ed7953"
            ],
            [
             0.7777777777777778,
             "#fb9f3a"
            ],
            [
             0.8888888888888888,
             "#fdca26"
            ],
            [
             1,
             "#f0f921"
            ]
           ],
           "sequentialminus": [
            [
             0,
             "#0d0887"
            ],
            [
             0.1111111111111111,
             "#46039f"
            ],
            [
             0.2222222222222222,
             "#7201a8"
            ],
            [
             0.3333333333333333,
             "#9c179e"
            ],
            [
             0.4444444444444444,
             "#bd3786"
            ],
            [
             0.5555555555555556,
             "#d8576b"
            ],
            [
             0.6666666666666666,
             "#ed7953"
            ],
            [
             0.7777777777777778,
             "#fb9f3a"
            ],
            [
             0.8888888888888888,
             "#fdca26"
            ],
            [
             1,
             "#f0f921"
            ]
           ]
          },
          "colorway": [
           "#636efa",
           "#EF553B",
           "#00cc96",
           "#ab63fa",
           "#FFA15A",
           "#19d3f3",
           "#FF6692",
           "#B6E880",
           "#FF97FF",
           "#FECB52"
          ],
          "font": {
           "color": "#2a3f5f"
          },
          "geo": {
           "bgcolor": "white",
           "lakecolor": "white",
           "landcolor": "#E5ECF6",
           "showlakes": true,
           "showland": true,
           "subunitcolor": "white"
          },
          "hoverlabel": {
           "align": "left"
          },
          "hovermode": "closest",
          "mapbox": {
           "style": "light"
          },
          "paper_bgcolor": "white",
          "plot_bgcolor": "#E5ECF6",
          "polar": {
           "angularaxis": {
            "gridcolor": "white",
            "linecolor": "white",
            "ticks": ""
           },
           "bgcolor": "#E5ECF6",
           "radialaxis": {
            "gridcolor": "white",
            "linecolor": "white",
            "ticks": ""
           }
          },
          "scene": {
           "xaxis": {
            "backgroundcolor": "#E5ECF6",
            "gridcolor": "white",
            "gridwidth": 2,
            "linecolor": "white",
            "showbackground": true,
            "ticks": "",
            "zerolinecolor": "white"
           },
           "yaxis": {
            "backgroundcolor": "#E5ECF6",
            "gridcolor": "white",
            "gridwidth": 2,
            "linecolor": "white",
            "showbackground": true,
            "ticks": "",
            "zerolinecolor": "white"
           },
           "zaxis": {
            "backgroundcolor": "#E5ECF6",
            "gridcolor": "white",
            "gridwidth": 2,
            "linecolor": "white",
            "showbackground": true,
            "ticks": "",
            "zerolinecolor": "white"
           }
          },
          "shapedefaults": {
           "line": {
            "color": "#2a3f5f"
           }
          },
          "ternary": {
           "aaxis": {
            "gridcolor": "white",
            "linecolor": "white",
            "ticks": ""
           },
           "baxis": {
            "gridcolor": "white",
            "linecolor": "white",
            "ticks": ""
           },
           "bgcolor": "#E5ECF6",
           "caxis": {
            "gridcolor": "white",
            "linecolor": "white",
            "ticks": ""
           }
          },
          "title": {
           "x": 0.05
          },
          "xaxis": {
           "automargin": true,
           "gridcolor": "white",
           "linecolor": "white",
           "ticks": "",
           "title": {
            "standoff": 15
           },
           "zerolinecolor": "white",
           "zerolinewidth": 2
          },
          "yaxis": {
           "automargin": true,
           "gridcolor": "white",
           "linecolor": "white",
           "ticks": "",
           "title": {
            "standoff": 15
           },
           "zerolinecolor": "white",
           "zerolinewidth": 2
          }
         }
        },
        "xaxis": {
         "anchor": "y",
         "domain": [
          0,
          1
         ],
         "title": {
          "text": "irv_status"
         }
        },
        "yaxis": {
         "anchor": "x",
         "domain": [
          0,
          1
         ],
         "title": {
          "text": "count"
         }
        }
       }
      }
     },
     "metadata": {},
     "output_type": "display_data"
    }
   ],
   "source": [
    "fig = px.histogram(new_df, x=\"irv_status\")\n",
    "fig.show()"
   ]
  },
  {
   "cell_type": "code",
   "execution_count": 29,
   "id": "9f2736fb",
   "metadata": {},
   "outputs": [
    {
     "data": {
      "application/vnd.plotly.v1+json": {
       "config": {
        "plotlyServerURL": "https://plot.ly"
       },
       "data": [
        {
         "alignmentgroup": "True",
         "bingroup": "x",
         "hovertemplate": "capm_status=%{x}<br>count=%{y}<extra></extra>",
         "legendgroup": "",
         "marker": {
          "color": "#636efa",
          "pattern": {
           "shape": ""
          }
         },
         "name": "",
         "offsetgroup": "",
         "orientation": "v",
         "showlegend": false,
         "type": "histogram",
         "x": [
          "UnderValued",
          "UnderValued",
          "UnderValued",
          "UnderValued",
          "OverValued",
          "UnderValued",
          "UnderValued",
          "UnderValued",
          "UnderValued",
          "UnderValued",
          "UnderValued",
          "UnderValued",
          "UnderValued",
          "UnderValued",
          "UnderValued",
          "UnderValued",
          "UnderValued",
          "UnderValued",
          "UnderValued",
          "UnderValued",
          "UnderValued",
          "UnderValued",
          "UnderValued",
          "UnderValued",
          "UnderValued",
          "UnderValued",
          "UnderValued",
          "UnderValued",
          "UnderValued",
          "OverValued",
          "UnderValued",
          "OverValued",
          "OverValued",
          "UnderValued",
          "UnderValued",
          "UnderValued",
          "UnderValued",
          "UnderValued",
          "UnderValued",
          "UnderValued",
          "UnderValued",
          "UnderValued",
          "UnderValued",
          "UnderValued",
          "OverValued",
          "UnderValued",
          "UnderValued",
          "UnderValued",
          "UnderValued",
          "UnderValued",
          "UnderValued",
          "UnderValued",
          "UnderValued",
          "UnderValued",
          "UnderValued",
          "OverValued",
          "UnderValued",
          "UnderValued",
          "UnderValued",
          "UnderValued",
          "UnderValued",
          "UnderValued",
          "UnderValued",
          "UnderValued",
          "UnderValued",
          "UnderValued",
          "OverValued",
          "UnderValued",
          "UnderValued",
          "UnderValued",
          "UnderValued",
          "UnderValued",
          "OverValued",
          "UnderValued",
          "UnderValued",
          "UnderValued",
          "UnderValued",
          "UnderValued",
          "UnderValued",
          "UnderValued",
          "UnderValued",
          "UnderValued",
          "UnderValued",
          "OverValued",
          "UnderValued",
          "UnderValued",
          "UnderValued",
          "UnderValued",
          "UnderValued",
          "UnderValued",
          "OverValued",
          "UnderValued",
          "UnderValued",
          "UnderValued",
          "UnderValued",
          "UnderValued",
          "UnderValued",
          "UnderValued",
          "UnderValued",
          "UnderValued",
          "UnderValued",
          "UnderValued",
          "UnderValued",
          "UnderValued",
          "UnderValued",
          "UnderValued",
          "UnderValued",
          "UnderValued",
          "UnderValued",
          "UnderValued",
          "UnderValued",
          "UnderValued",
          "OverValued",
          "UnderValued",
          "UnderValued",
          "UnderValued",
          "UnderValued",
          "OverValued",
          "UnderValued",
          "UnderValued",
          "UnderValued",
          "UnderValued",
          "UnderValued",
          "OverValued",
          "UnderValued",
          "UnderValued",
          "UnderValued",
          "UnderValued",
          "UnderValued",
          "UnderValued",
          "UnderValued",
          "OverValued",
          "UnderValued",
          "UnderValued",
          "UnderValued",
          "UnderValued",
          "UnderValued",
          "UnderValued",
          "UnderValued",
          "UnderValued",
          "OverValued",
          "UnderValued",
          "UnderValued",
          "UnderValued",
          "OverValued",
          "OverValued",
          "UnderValued",
          "UnderValued",
          "UnderValued",
          "OverValued",
          "UnderValued",
          "UnderValued",
          "UnderValued",
          "UnderValued",
          "OverValued",
          "UnderValued",
          "UnderValued",
          "UnderValued",
          "UnderValued",
          "UnderValued",
          "UnderValued",
          "UnderValued",
          "UnderValued",
          "UnderValued",
          "UnderValued",
          "UnderValued",
          "OverValued",
          "UnderValued",
          "UnderValued",
          "UnderValued",
          "UnderValued",
          "UnderValued",
          "UnderValued",
          "UnderValued",
          "UnderValued",
          "UnderValued",
          "UnderValued",
          "UnderValued",
          "UnderValued",
          "UnderValued",
          "UnderValued",
          "OverValued",
          "UnderValued",
          "UnderValued",
          "UnderValued",
          "UnderValued",
          "UnderValued",
          "UnderValued",
          "UnderValued",
          "UnderValued",
          "UnderValued",
          "UnderValued",
          "OverValued",
          "UnderValued",
          "UnderValued",
          "UnderValued",
          "UnderValued",
          "UnderValued"
         ],
         "xaxis": "x",
         "yaxis": "y"
        }
       ],
       "layout": {
        "barmode": "relative",
        "legend": {
         "tracegroupgap": 0
        },
        "margin": {
         "t": 60
        },
        "template": {
         "data": {
          "bar": [
           {
            "error_x": {
             "color": "#2a3f5f"
            },
            "error_y": {
             "color": "#2a3f5f"
            },
            "marker": {
             "line": {
              "color": "#E5ECF6",
              "width": 0.5
             },
             "pattern": {
              "fillmode": "overlay",
              "size": 10,
              "solidity": 0.2
             }
            },
            "type": "bar"
           }
          ],
          "barpolar": [
           {
            "marker": {
             "line": {
              "color": "#E5ECF6",
              "width": 0.5
             },
             "pattern": {
              "fillmode": "overlay",
              "size": 10,
              "solidity": 0.2
             }
            },
            "type": "barpolar"
           }
          ],
          "carpet": [
           {
            "aaxis": {
             "endlinecolor": "#2a3f5f",
             "gridcolor": "white",
             "linecolor": "white",
             "minorgridcolor": "white",
             "startlinecolor": "#2a3f5f"
            },
            "baxis": {
             "endlinecolor": "#2a3f5f",
             "gridcolor": "white",
             "linecolor": "white",
             "minorgridcolor": "white",
             "startlinecolor": "#2a3f5f"
            },
            "type": "carpet"
           }
          ],
          "choropleth": [
           {
            "colorbar": {
             "outlinewidth": 0,
             "ticks": ""
            },
            "type": "choropleth"
           }
          ],
          "contour": [
           {
            "colorbar": {
             "outlinewidth": 0,
             "ticks": ""
            },
            "colorscale": [
             [
              0,
              "#0d0887"
             ],
             [
              0.1111111111111111,
              "#46039f"
             ],
             [
              0.2222222222222222,
              "#7201a8"
             ],
             [
              0.3333333333333333,
              "#9c179e"
             ],
             [
              0.4444444444444444,
              "#bd3786"
             ],
             [
              0.5555555555555556,
              "#d8576b"
             ],
             [
              0.6666666666666666,
              "#ed7953"
             ],
             [
              0.7777777777777778,
              "#fb9f3a"
             ],
             [
              0.8888888888888888,
              "#fdca26"
             ],
             [
              1,
              "#f0f921"
             ]
            ],
            "type": "contour"
           }
          ],
          "contourcarpet": [
           {
            "colorbar": {
             "outlinewidth": 0,
             "ticks": ""
            },
            "type": "contourcarpet"
           }
          ],
          "heatmap": [
           {
            "colorbar": {
             "outlinewidth": 0,
             "ticks": ""
            },
            "colorscale": [
             [
              0,
              "#0d0887"
             ],
             [
              0.1111111111111111,
              "#46039f"
             ],
             [
              0.2222222222222222,
              "#7201a8"
             ],
             [
              0.3333333333333333,
              "#9c179e"
             ],
             [
              0.4444444444444444,
              "#bd3786"
             ],
             [
              0.5555555555555556,
              "#d8576b"
             ],
             [
              0.6666666666666666,
              "#ed7953"
             ],
             [
              0.7777777777777778,
              "#fb9f3a"
             ],
             [
              0.8888888888888888,
              "#fdca26"
             ],
             [
              1,
              "#f0f921"
             ]
            ],
            "type": "heatmap"
           }
          ],
          "heatmapgl": [
           {
            "colorbar": {
             "outlinewidth": 0,
             "ticks": ""
            },
            "colorscale": [
             [
              0,
              "#0d0887"
             ],
             [
              0.1111111111111111,
              "#46039f"
             ],
             [
              0.2222222222222222,
              "#7201a8"
             ],
             [
              0.3333333333333333,
              "#9c179e"
             ],
             [
              0.4444444444444444,
              "#bd3786"
             ],
             [
              0.5555555555555556,
              "#d8576b"
             ],
             [
              0.6666666666666666,
              "#ed7953"
             ],
             [
              0.7777777777777778,
              "#fb9f3a"
             ],
             [
              0.8888888888888888,
              "#fdca26"
             ],
             [
              1,
              "#f0f921"
             ]
            ],
            "type": "heatmapgl"
           }
          ],
          "histogram": [
           {
            "marker": {
             "pattern": {
              "fillmode": "overlay",
              "size": 10,
              "solidity": 0.2
             }
            },
            "type": "histogram"
           }
          ],
          "histogram2d": [
           {
            "colorbar": {
             "outlinewidth": 0,
             "ticks": ""
            },
            "colorscale": [
             [
              0,
              "#0d0887"
             ],
             [
              0.1111111111111111,
              "#46039f"
             ],
             [
              0.2222222222222222,
              "#7201a8"
             ],
             [
              0.3333333333333333,
              "#9c179e"
             ],
             [
              0.4444444444444444,
              "#bd3786"
             ],
             [
              0.5555555555555556,
              "#d8576b"
             ],
             [
              0.6666666666666666,
              "#ed7953"
             ],
             [
              0.7777777777777778,
              "#fb9f3a"
             ],
             [
              0.8888888888888888,
              "#fdca26"
             ],
             [
              1,
              "#f0f921"
             ]
            ],
            "type": "histogram2d"
           }
          ],
          "histogram2dcontour": [
           {
            "colorbar": {
             "outlinewidth": 0,
             "ticks": ""
            },
            "colorscale": [
             [
              0,
              "#0d0887"
             ],
             [
              0.1111111111111111,
              "#46039f"
             ],
             [
              0.2222222222222222,
              "#7201a8"
             ],
             [
              0.3333333333333333,
              "#9c179e"
             ],
             [
              0.4444444444444444,
              "#bd3786"
             ],
             [
              0.5555555555555556,
              "#d8576b"
             ],
             [
              0.6666666666666666,
              "#ed7953"
             ],
             [
              0.7777777777777778,
              "#fb9f3a"
             ],
             [
              0.8888888888888888,
              "#fdca26"
             ],
             [
              1,
              "#f0f921"
             ]
            ],
            "type": "histogram2dcontour"
           }
          ],
          "mesh3d": [
           {
            "colorbar": {
             "outlinewidth": 0,
             "ticks": ""
            },
            "type": "mesh3d"
           }
          ],
          "parcoords": [
           {
            "line": {
             "colorbar": {
              "outlinewidth": 0,
              "ticks": ""
             }
            },
            "type": "parcoords"
           }
          ],
          "pie": [
           {
            "automargin": true,
            "type": "pie"
           }
          ],
          "scatter": [
           {
            "marker": {
             "colorbar": {
              "outlinewidth": 0,
              "ticks": ""
             }
            },
            "type": "scatter"
           }
          ],
          "scatter3d": [
           {
            "line": {
             "colorbar": {
              "outlinewidth": 0,
              "ticks": ""
             }
            },
            "marker": {
             "colorbar": {
              "outlinewidth": 0,
              "ticks": ""
             }
            },
            "type": "scatter3d"
           }
          ],
          "scattercarpet": [
           {
            "marker": {
             "colorbar": {
              "outlinewidth": 0,
              "ticks": ""
             }
            },
            "type": "scattercarpet"
           }
          ],
          "scattergeo": [
           {
            "marker": {
             "colorbar": {
              "outlinewidth": 0,
              "ticks": ""
             }
            },
            "type": "scattergeo"
           }
          ],
          "scattergl": [
           {
            "marker": {
             "colorbar": {
              "outlinewidth": 0,
              "ticks": ""
             }
            },
            "type": "scattergl"
           }
          ],
          "scattermapbox": [
           {
            "marker": {
             "colorbar": {
              "outlinewidth": 0,
              "ticks": ""
             }
            },
            "type": "scattermapbox"
           }
          ],
          "scatterpolar": [
           {
            "marker": {
             "colorbar": {
              "outlinewidth": 0,
              "ticks": ""
             }
            },
            "type": "scatterpolar"
           }
          ],
          "scatterpolargl": [
           {
            "marker": {
             "colorbar": {
              "outlinewidth": 0,
              "ticks": ""
             }
            },
            "type": "scatterpolargl"
           }
          ],
          "scatterternary": [
           {
            "marker": {
             "colorbar": {
              "outlinewidth": 0,
              "ticks": ""
             }
            },
            "type": "scatterternary"
           }
          ],
          "surface": [
           {
            "colorbar": {
             "outlinewidth": 0,
             "ticks": ""
            },
            "colorscale": [
             [
              0,
              "#0d0887"
             ],
             [
              0.1111111111111111,
              "#46039f"
             ],
             [
              0.2222222222222222,
              "#7201a8"
             ],
             [
              0.3333333333333333,
              "#9c179e"
             ],
             [
              0.4444444444444444,
              "#bd3786"
             ],
             [
              0.5555555555555556,
              "#d8576b"
             ],
             [
              0.6666666666666666,
              "#ed7953"
             ],
             [
              0.7777777777777778,
              "#fb9f3a"
             ],
             [
              0.8888888888888888,
              "#fdca26"
             ],
             [
              1,
              "#f0f921"
             ]
            ],
            "type": "surface"
           }
          ],
          "table": [
           {
            "cells": {
             "fill": {
              "color": "#EBF0F8"
             },
             "line": {
              "color": "white"
             }
            },
            "header": {
             "fill": {
              "color": "#C8D4E3"
             },
             "line": {
              "color": "white"
             }
            },
            "type": "table"
           }
          ]
         },
         "layout": {
          "annotationdefaults": {
           "arrowcolor": "#2a3f5f",
           "arrowhead": 0,
           "arrowwidth": 1
          },
          "autotypenumbers": "strict",
          "coloraxis": {
           "colorbar": {
            "outlinewidth": 0,
            "ticks": ""
           }
          },
          "colorscale": {
           "diverging": [
            [
             0,
             "#8e0152"
            ],
            [
             0.1,
             "#c51b7d"
            ],
            [
             0.2,
             "#de77ae"
            ],
            [
             0.3,
             "#f1b6da"
            ],
            [
             0.4,
             "#fde0ef"
            ],
            [
             0.5,
             "#f7f7f7"
            ],
            [
             0.6,
             "#e6f5d0"
            ],
            [
             0.7,
             "#b8e186"
            ],
            [
             0.8,
             "#7fbc41"
            ],
            [
             0.9,
             "#4d9221"
            ],
            [
             1,
             "#276419"
            ]
           ],
           "sequential": [
            [
             0,
             "#0d0887"
            ],
            [
             0.1111111111111111,
             "#46039f"
            ],
            [
             0.2222222222222222,
             "#7201a8"
            ],
            [
             0.3333333333333333,
             "#9c179e"
            ],
            [
             0.4444444444444444,
             "#bd3786"
            ],
            [
             0.5555555555555556,
             "#d8576b"
            ],
            [
             0.6666666666666666,
             "#ed7953"
            ],
            [
             0.7777777777777778,
             "#fb9f3a"
            ],
            [
             0.8888888888888888,
             "#fdca26"
            ],
            [
             1,
             "#f0f921"
            ]
           ],
           "sequentialminus": [
            [
             0,
             "#0d0887"
            ],
            [
             0.1111111111111111,
             "#46039f"
            ],
            [
             0.2222222222222222,
             "#7201a8"
            ],
            [
             0.3333333333333333,
             "#9c179e"
            ],
            [
             0.4444444444444444,
             "#bd3786"
            ],
            [
             0.5555555555555556,
             "#d8576b"
            ],
            [
             0.6666666666666666,
             "#ed7953"
            ],
            [
             0.7777777777777778,
             "#fb9f3a"
            ],
            [
             0.8888888888888888,
             "#fdca26"
            ],
            [
             1,
             "#f0f921"
            ]
           ]
          },
          "colorway": [
           "#636efa",
           "#EF553B",
           "#00cc96",
           "#ab63fa",
           "#FFA15A",
           "#19d3f3",
           "#FF6692",
           "#B6E880",
           "#FF97FF",
           "#FECB52"
          ],
          "font": {
           "color": "#2a3f5f"
          },
          "geo": {
           "bgcolor": "white",
           "lakecolor": "white",
           "landcolor": "#E5ECF6",
           "showlakes": true,
           "showland": true,
           "subunitcolor": "white"
          },
          "hoverlabel": {
           "align": "left"
          },
          "hovermode": "closest",
          "mapbox": {
           "style": "light"
          },
          "paper_bgcolor": "white",
          "plot_bgcolor": "#E5ECF6",
          "polar": {
           "angularaxis": {
            "gridcolor": "white",
            "linecolor": "white",
            "ticks": ""
           },
           "bgcolor": "#E5ECF6",
           "radialaxis": {
            "gridcolor": "white",
            "linecolor": "white",
            "ticks": ""
           }
          },
          "scene": {
           "xaxis": {
            "backgroundcolor": "#E5ECF6",
            "gridcolor": "white",
            "gridwidth": 2,
            "linecolor": "white",
            "showbackground": true,
            "ticks": "",
            "zerolinecolor": "white"
           },
           "yaxis": {
            "backgroundcolor": "#E5ECF6",
            "gridcolor": "white",
            "gridwidth": 2,
            "linecolor": "white",
            "showbackground": true,
            "ticks": "",
            "zerolinecolor": "white"
           },
           "zaxis": {
            "backgroundcolor": "#E5ECF6",
            "gridcolor": "white",
            "gridwidth": 2,
            "linecolor": "white",
            "showbackground": true,
            "ticks": "",
            "zerolinecolor": "white"
           }
          },
          "shapedefaults": {
           "line": {
            "color": "#2a3f5f"
           }
          },
          "ternary": {
           "aaxis": {
            "gridcolor": "white",
            "linecolor": "white",
            "ticks": ""
           },
           "baxis": {
            "gridcolor": "white",
            "linecolor": "white",
            "ticks": ""
           },
           "bgcolor": "#E5ECF6",
           "caxis": {
            "gridcolor": "white",
            "linecolor": "white",
            "ticks": ""
           }
          },
          "title": {
           "x": 0.05
          },
          "xaxis": {
           "automargin": true,
           "gridcolor": "white",
           "linecolor": "white",
           "ticks": "",
           "title": {
            "standoff": 15
           },
           "zerolinecolor": "white",
           "zerolinewidth": 2
          },
          "yaxis": {
           "automargin": true,
           "gridcolor": "white",
           "linecolor": "white",
           "ticks": "",
           "title": {
            "standoff": 15
           },
           "zerolinecolor": "white",
           "zerolinewidth": 2
          }
         }
        },
        "xaxis": {
         "anchor": "y",
         "domain": [
          0,
          1
         ],
         "title": {
          "text": "capm_status"
         }
        },
        "yaxis": {
         "anchor": "x",
         "domain": [
          0,
          1
         ],
         "title": {
          "text": "count"
         }
        }
       }
      }
     },
     "metadata": {},
     "output_type": "display_data"
    }
   ],
   "source": [
    "fig = px.histogram(new_df, x=\"capm_status\")\n",
    "fig.show()"
   ]
  },
  {
   "cell_type": "code",
   "execution_count": 30,
   "id": "b33498a5",
   "metadata": {},
   "outputs": [
    {
     "data": {
      "application/vnd.plotly.v1+json": {
       "config": {
        "plotlyServerURL": "https://plot.ly"
       },
       "data": [
        {
         "alignmentgroup": "True",
         "bingroup": "x",
         "hovertemplate": "annu_return_10y=%{x}<br>count=%{y}<extra></extra>",
         "legendgroup": "",
         "marker": {
          "color": "#636efa",
          "pattern": {
           "shape": ""
          }
         },
         "name": "",
         "offsetgroup": "",
         "orientation": "v",
         "showlegend": false,
         "type": "histogram",
         "x": [
          0.10339811046923,
          0.1909972055534983,
          0.1416971807364471,
          0.0971798283905254,
          0.3190335859160902,
          0.1555683159733367,
          0.1632923130667727,
          0.1973225917904342,
          0.1559901131221321,
          0.0099475795512395,
          0.060576880933121,
          0.1235633309928103,
          -0.0015224034491927,
          0.0521152926569024,
          0.0906515721941614,
          0.0842141713736195,
          0.1828078828087709,
          0.1334707248134681,
          0.0552390426398146,
          0.078620327000878,
          0.0860946008782228,
          0.1401971758806155,
          0.0808561275088817,
          0.1718035335453003,
          0.0985981027300706,
          0.0618904501478869,
          0.0649476270629207,
          0.2046218235894776,
          0.027716406388246,
          0.2233185736868945,
          0.1881711355811717,
          0.408648851251653,
          0.1989202102803438,
          0.0920090957258779,
          0.0741291633472234,
          0.0189448325592931,
          0.1001744301602545,
          0.1478916102306549,
          0.1463355903351557,
          0.1037173682166246,
          0.1062721479898664,
          0.1364855370588302,
          0.1344915909581223,
          0.0631642977500477,
          0.27228967237564,
          0.1117413704383867,
          0.0929417530569183,
          0.1830655705625421,
          0.1232993133200039,
          0.0300917899875601,
          0.1019264299772033,
          0.1438477849059087,
          0.0561869166441801,
          -0.0351456713289297,
          0.1527788515053423,
          0.2039613823546302,
          0.133149740096079,
          0.1603404664625103,
          0.1883162631375408,
          0.1095010643659904,
          0.0831901301540671,
          0.1684502495643836,
          0.1452306364005053,
          0.0953120146855885,
          0.1291335338567207,
          0.142525608164252,
          0.31024307766249,
          0.1122324461166952,
          0.1154127908329325,
          0.0994408274059144,
          0.177398454718509,
          0.134754665540689,
          0.1966748262446991,
          0.1612103898598125,
          0.1409603334645248,
          0.1490535964869588,
          0.0198147940005464,
          0.0774526181839407,
          0.1307693260874896,
          0.0631313637359067,
          0.1473889233387575,
          0.1441061643664432,
          0.0847585685743708,
          0.2042531142449553,
          0.196788219459836,
          0.1541655065697553,
          0.0789154685892512,
          0.1434563483166153,
          0.1104990340593254,
          0.1207240989668463,
          0.6095863456987747,
          0.0462632308259196,
          0.2219838569928927,
          0.0808896202857267,
          0.0564272179199007,
          0.0551503505520685,
          0.0922465930594276,
          0.0009992846353514,
          0.0441381361596584,
          0.1404035770882632,
          -0.0321861259467545,
          -0.0411011370852977,
          -0.0075397432151029,
          0.0975034903589078,
          0.1482773048846093,
          -0.0153133004361936,
          0.1337806696166696,
          0.126923358563145,
          0.1653965267550214,
          0.2786574103885908,
          0.1736524112200526,
          -0.0229288797647332,
          0.3419632815808529,
          0.0363671197506771,
          0.0399036368785605,
          0.0091973602097734,
          0.0240700850553468,
          0.2341875383602807,
          0.0978247667088238,
          0.0271608474683358,
          0.0362299068227542,
          0.1557594258792372,
          -0.0698142502097901,
          0.1525565857171666,
          0.0917097979843979,
          0.0823759780243618,
          0.0764830051856884,
          0.0142185851082521,
          -0.5607883942355807,
          0.0811359893688952,
          0.0882903568440922,
          0.0936544772468728,
          0.042223223526143,
          0.159606749802551,
          0.1106739522208748,
          0.0325807432830185,
          -0.1262234351970297,
          0.0095306824921881,
          -0.0629624119774314,
          0.0530701749253763,
          0.2789478520674229,
          0.0162842094281103,
          0.0642864334832293,
          0.1313559864208648,
          0.1285037958667072,
          0.1735707646152246,
          0.1327873403627386,
          0.1463025673351257,
          -0.0127108446081424,
          0.7174227141329933,
          0.0537513962708919,
          -0.2768801751101938,
          0.1390043558347886,
          0.208323369828237,
          0.285760266162862,
          0.0861426922917514,
          0.0694377598855917,
          -0.0583025115913628,
          0.1048097351865591,
          -0.1467971574237841,
          0.1031124634151925,
          -0.0182181053248609,
          -0.1447271026916018,
          0.1387106642694884,
          0.112995938946905,
          0.0607703724926089,
          0.1545805216286706,
          -0.0322207322411127,
          -0.0429052297670878,
          0.037475726118229,
          0.1472636149196591,
          -0.0111069710787888,
          0.1214086554886442,
          -0.0130765945361462,
          0.0168417892407253,
          0.0822355641356304,
          -0.0433237626426772,
          -0.0723688554759665,
          0.1338216037017932,
          0.1507205111690341,
          0.1357053055702237,
          0.1914049927937882,
          -0.0493019787706027,
          0.1965117118568458,
          0.0125894960421077,
          0.1593176906267837,
          -0.0354658294598692,
          0.1405090840923801,
          0.0500712287270412,
          -0.1489932178446819,
          0.1312289241856039,
          0.0025349912636314,
          0.2403157767600227,
          0.0159869443698168,
          -0.1959304665095702,
          -0.0302682869684226,
          0.0344444662683463,
          0.1286250331405072
         ],
         "xaxis": "x",
         "yaxis": "y"
        }
       ],
       "layout": {
        "barmode": "relative",
        "legend": {
         "tracegroupgap": 0
        },
        "margin": {
         "t": 60
        },
        "template": {
         "data": {
          "bar": [
           {
            "error_x": {
             "color": "#2a3f5f"
            },
            "error_y": {
             "color": "#2a3f5f"
            },
            "marker": {
             "line": {
              "color": "#E5ECF6",
              "width": 0.5
             },
             "pattern": {
              "fillmode": "overlay",
              "size": 10,
              "solidity": 0.2
             }
            },
            "type": "bar"
           }
          ],
          "barpolar": [
           {
            "marker": {
             "line": {
              "color": "#E5ECF6",
              "width": 0.5
             },
             "pattern": {
              "fillmode": "overlay",
              "size": 10,
              "solidity": 0.2
             }
            },
            "type": "barpolar"
           }
          ],
          "carpet": [
           {
            "aaxis": {
             "endlinecolor": "#2a3f5f",
             "gridcolor": "white",
             "linecolor": "white",
             "minorgridcolor": "white",
             "startlinecolor": "#2a3f5f"
            },
            "baxis": {
             "endlinecolor": "#2a3f5f",
             "gridcolor": "white",
             "linecolor": "white",
             "minorgridcolor": "white",
             "startlinecolor": "#2a3f5f"
            },
            "type": "carpet"
           }
          ],
          "choropleth": [
           {
            "colorbar": {
             "outlinewidth": 0,
             "ticks": ""
            },
            "type": "choropleth"
           }
          ],
          "contour": [
           {
            "colorbar": {
             "outlinewidth": 0,
             "ticks": ""
            },
            "colorscale": [
             [
              0,
              "#0d0887"
             ],
             [
              0.1111111111111111,
              "#46039f"
             ],
             [
              0.2222222222222222,
              "#7201a8"
             ],
             [
              0.3333333333333333,
              "#9c179e"
             ],
             [
              0.4444444444444444,
              "#bd3786"
             ],
             [
              0.5555555555555556,
              "#d8576b"
             ],
             [
              0.6666666666666666,
              "#ed7953"
             ],
             [
              0.7777777777777778,
              "#fb9f3a"
             ],
             [
              0.8888888888888888,
              "#fdca26"
             ],
             [
              1,
              "#f0f921"
             ]
            ],
            "type": "contour"
           }
          ],
          "contourcarpet": [
           {
            "colorbar": {
             "outlinewidth": 0,
             "ticks": ""
            },
            "type": "contourcarpet"
           }
          ],
          "heatmap": [
           {
            "colorbar": {
             "outlinewidth": 0,
             "ticks": ""
            },
            "colorscale": [
             [
              0,
              "#0d0887"
             ],
             [
              0.1111111111111111,
              "#46039f"
             ],
             [
              0.2222222222222222,
              "#7201a8"
             ],
             [
              0.3333333333333333,
              "#9c179e"
             ],
             [
              0.4444444444444444,
              "#bd3786"
             ],
             [
              0.5555555555555556,
              "#d8576b"
             ],
             [
              0.6666666666666666,
              "#ed7953"
             ],
             [
              0.7777777777777778,
              "#fb9f3a"
             ],
             [
              0.8888888888888888,
              "#fdca26"
             ],
             [
              1,
              "#f0f921"
             ]
            ],
            "type": "heatmap"
           }
          ],
          "heatmapgl": [
           {
            "colorbar": {
             "outlinewidth": 0,
             "ticks": ""
            },
            "colorscale": [
             [
              0,
              "#0d0887"
             ],
             [
              0.1111111111111111,
              "#46039f"
             ],
             [
              0.2222222222222222,
              "#7201a8"
             ],
             [
              0.3333333333333333,
              "#9c179e"
             ],
             [
              0.4444444444444444,
              "#bd3786"
             ],
             [
              0.5555555555555556,
              "#d8576b"
             ],
             [
              0.6666666666666666,
              "#ed7953"
             ],
             [
              0.7777777777777778,
              "#fb9f3a"
             ],
             [
              0.8888888888888888,
              "#fdca26"
             ],
             [
              1,
              "#f0f921"
             ]
            ],
            "type": "heatmapgl"
           }
          ],
          "histogram": [
           {
            "marker": {
             "pattern": {
              "fillmode": "overlay",
              "size": 10,
              "solidity": 0.2
             }
            },
            "type": "histogram"
           }
          ],
          "histogram2d": [
           {
            "colorbar": {
             "outlinewidth": 0,
             "ticks": ""
            },
            "colorscale": [
             [
              0,
              "#0d0887"
             ],
             [
              0.1111111111111111,
              "#46039f"
             ],
             [
              0.2222222222222222,
              "#7201a8"
             ],
             [
              0.3333333333333333,
              "#9c179e"
             ],
             [
              0.4444444444444444,
              "#bd3786"
             ],
             [
              0.5555555555555556,
              "#d8576b"
             ],
             [
              0.6666666666666666,
              "#ed7953"
             ],
             [
              0.7777777777777778,
              "#fb9f3a"
             ],
             [
              0.8888888888888888,
              "#fdca26"
             ],
             [
              1,
              "#f0f921"
             ]
            ],
            "type": "histogram2d"
           }
          ],
          "histogram2dcontour": [
           {
            "colorbar": {
             "outlinewidth": 0,
             "ticks": ""
            },
            "colorscale": [
             [
              0,
              "#0d0887"
             ],
             [
              0.1111111111111111,
              "#46039f"
             ],
             [
              0.2222222222222222,
              "#7201a8"
             ],
             [
              0.3333333333333333,
              "#9c179e"
             ],
             [
              0.4444444444444444,
              "#bd3786"
             ],
             [
              0.5555555555555556,
              "#d8576b"
             ],
             [
              0.6666666666666666,
              "#ed7953"
             ],
             [
              0.7777777777777778,
              "#fb9f3a"
             ],
             [
              0.8888888888888888,
              "#fdca26"
             ],
             [
              1,
              "#f0f921"
             ]
            ],
            "type": "histogram2dcontour"
           }
          ],
          "mesh3d": [
           {
            "colorbar": {
             "outlinewidth": 0,
             "ticks": ""
            },
            "type": "mesh3d"
           }
          ],
          "parcoords": [
           {
            "line": {
             "colorbar": {
              "outlinewidth": 0,
              "ticks": ""
             }
            },
            "type": "parcoords"
           }
          ],
          "pie": [
           {
            "automargin": true,
            "type": "pie"
           }
          ],
          "scatter": [
           {
            "marker": {
             "colorbar": {
              "outlinewidth": 0,
              "ticks": ""
             }
            },
            "type": "scatter"
           }
          ],
          "scatter3d": [
           {
            "line": {
             "colorbar": {
              "outlinewidth": 0,
              "ticks": ""
             }
            },
            "marker": {
             "colorbar": {
              "outlinewidth": 0,
              "ticks": ""
             }
            },
            "type": "scatter3d"
           }
          ],
          "scattercarpet": [
           {
            "marker": {
             "colorbar": {
              "outlinewidth": 0,
              "ticks": ""
             }
            },
            "type": "scattercarpet"
           }
          ],
          "scattergeo": [
           {
            "marker": {
             "colorbar": {
              "outlinewidth": 0,
              "ticks": ""
             }
            },
            "type": "scattergeo"
           }
          ],
          "scattergl": [
           {
            "marker": {
             "colorbar": {
              "outlinewidth": 0,
              "ticks": ""
             }
            },
            "type": "scattergl"
           }
          ],
          "scattermapbox": [
           {
            "marker": {
             "colorbar": {
              "outlinewidth": 0,
              "ticks": ""
             }
            },
            "type": "scattermapbox"
           }
          ],
          "scatterpolar": [
           {
            "marker": {
             "colorbar": {
              "outlinewidth": 0,
              "ticks": ""
             }
            },
            "type": "scatterpolar"
           }
          ],
          "scatterpolargl": [
           {
            "marker": {
             "colorbar": {
              "outlinewidth": 0,
              "ticks": ""
             }
            },
            "type": "scatterpolargl"
           }
          ],
          "scatterternary": [
           {
            "marker": {
             "colorbar": {
              "outlinewidth": 0,
              "ticks": ""
             }
            },
            "type": "scatterternary"
           }
          ],
          "surface": [
           {
            "colorbar": {
             "outlinewidth": 0,
             "ticks": ""
            },
            "colorscale": [
             [
              0,
              "#0d0887"
             ],
             [
              0.1111111111111111,
              "#46039f"
             ],
             [
              0.2222222222222222,
              "#7201a8"
             ],
             [
              0.3333333333333333,
              "#9c179e"
             ],
             [
              0.4444444444444444,
              "#bd3786"
             ],
             [
              0.5555555555555556,
              "#d8576b"
             ],
             [
              0.6666666666666666,
              "#ed7953"
             ],
             [
              0.7777777777777778,
              "#fb9f3a"
             ],
             [
              0.8888888888888888,
              "#fdca26"
             ],
             [
              1,
              "#f0f921"
             ]
            ],
            "type": "surface"
           }
          ],
          "table": [
           {
            "cells": {
             "fill": {
              "color": "#EBF0F8"
             },
             "line": {
              "color": "white"
             }
            },
            "header": {
             "fill": {
              "color": "#C8D4E3"
             },
             "line": {
              "color": "white"
             }
            },
            "type": "table"
           }
          ]
         },
         "layout": {
          "annotationdefaults": {
           "arrowcolor": "#2a3f5f",
           "arrowhead": 0,
           "arrowwidth": 1
          },
          "autotypenumbers": "strict",
          "coloraxis": {
           "colorbar": {
            "outlinewidth": 0,
            "ticks": ""
           }
          },
          "colorscale": {
           "diverging": [
            [
             0,
             "#8e0152"
            ],
            [
             0.1,
             "#c51b7d"
            ],
            [
             0.2,
             "#de77ae"
            ],
            [
             0.3,
             "#f1b6da"
            ],
            [
             0.4,
             "#fde0ef"
            ],
            [
             0.5,
             "#f7f7f7"
            ],
            [
             0.6,
             "#e6f5d0"
            ],
            [
             0.7,
             "#b8e186"
            ],
            [
             0.8,
             "#7fbc41"
            ],
            [
             0.9,
             "#4d9221"
            ],
            [
             1,
             "#276419"
            ]
           ],
           "sequential": [
            [
             0,
             "#0d0887"
            ],
            [
             0.1111111111111111,
             "#46039f"
            ],
            [
             0.2222222222222222,
             "#7201a8"
            ],
            [
             0.3333333333333333,
             "#9c179e"
            ],
            [
             0.4444444444444444,
             "#bd3786"
            ],
            [
             0.5555555555555556,
             "#d8576b"
            ],
            [
             0.6666666666666666,
             "#ed7953"
            ],
            [
             0.7777777777777778,
             "#fb9f3a"
            ],
            [
             0.8888888888888888,
             "#fdca26"
            ],
            [
             1,
             "#f0f921"
            ]
           ],
           "sequentialminus": [
            [
             0,
             "#0d0887"
            ],
            [
             0.1111111111111111,
             "#46039f"
            ],
            [
             0.2222222222222222,
             "#7201a8"
            ],
            [
             0.3333333333333333,
             "#9c179e"
            ],
            [
             0.4444444444444444,
             "#bd3786"
            ],
            [
             0.5555555555555556,
             "#d8576b"
            ],
            [
             0.6666666666666666,
             "#ed7953"
            ],
            [
             0.7777777777777778,
             "#fb9f3a"
            ],
            [
             0.8888888888888888,
             "#fdca26"
            ],
            [
             1,
             "#f0f921"
            ]
           ]
          },
          "colorway": [
           "#636efa",
           "#EF553B",
           "#00cc96",
           "#ab63fa",
           "#FFA15A",
           "#19d3f3",
           "#FF6692",
           "#B6E880",
           "#FF97FF",
           "#FECB52"
          ],
          "font": {
           "color": "#2a3f5f"
          },
          "geo": {
           "bgcolor": "white",
           "lakecolor": "white",
           "landcolor": "#E5ECF6",
           "showlakes": true,
           "showland": true,
           "subunitcolor": "white"
          },
          "hoverlabel": {
           "align": "left"
          },
          "hovermode": "closest",
          "mapbox": {
           "style": "light"
          },
          "paper_bgcolor": "white",
          "plot_bgcolor": "#E5ECF6",
          "polar": {
           "angularaxis": {
            "gridcolor": "white",
            "linecolor": "white",
            "ticks": ""
           },
           "bgcolor": "#E5ECF6",
           "radialaxis": {
            "gridcolor": "white",
            "linecolor": "white",
            "ticks": ""
           }
          },
          "scene": {
           "xaxis": {
            "backgroundcolor": "#E5ECF6",
            "gridcolor": "white",
            "gridwidth": 2,
            "linecolor": "white",
            "showbackground": true,
            "ticks": "",
            "zerolinecolor": "white"
           },
           "yaxis": {
            "backgroundcolor": "#E5ECF6",
            "gridcolor": "white",
            "gridwidth": 2,
            "linecolor": "white",
            "showbackground": true,
            "ticks": "",
            "zerolinecolor": "white"
           },
           "zaxis": {
            "backgroundcolor": "#E5ECF6",
            "gridcolor": "white",
            "gridwidth": 2,
            "linecolor": "white",
            "showbackground": true,
            "ticks": "",
            "zerolinecolor": "white"
           }
          },
          "shapedefaults": {
           "line": {
            "color": "#2a3f5f"
           }
          },
          "ternary": {
           "aaxis": {
            "gridcolor": "white",
            "linecolor": "white",
            "ticks": ""
           },
           "baxis": {
            "gridcolor": "white",
            "linecolor": "white",
            "ticks": ""
           },
           "bgcolor": "#E5ECF6",
           "caxis": {
            "gridcolor": "white",
            "linecolor": "white",
            "ticks": ""
           }
          },
          "title": {
           "x": 0.05
          },
          "xaxis": {
           "automargin": true,
           "gridcolor": "white",
           "linecolor": "white",
           "ticks": "",
           "title": {
            "standoff": 15
           },
           "zerolinecolor": "white",
           "zerolinewidth": 2
          },
          "yaxis": {
           "automargin": true,
           "gridcolor": "white",
           "linecolor": "white",
           "ticks": "",
           "title": {
            "standoff": 15
           },
           "zerolinecolor": "white",
           "zerolinewidth": 2
          }
         }
        },
        "xaxis": {
         "anchor": "y",
         "domain": [
          0,
          1
         ],
         "title": {
          "text": "annu_return_10y"
         }
        },
        "yaxis": {
         "anchor": "x",
         "domain": [
          0,
          1
         ],
         "title": {
          "text": "count"
         }
        }
       }
      }
     },
     "metadata": {},
     "output_type": "display_data"
    }
   ],
   "source": [
    "fig = px.histogram(new_df, x=\"annu_return_10y\")\n",
    "fig.show()"
   ]
  },
  {
   "cell_type": "code",
   "execution_count": 31,
   "id": "1970e18c",
   "metadata": {},
   "outputs": [
    {
     "data": {
      "application/vnd.plotly.v1+json": {
       "config": {
        "plotlyServerURL": "https://plot.ly"
       },
       "data": [
        {
         "alignmentgroup": "True",
         "bingroup": "x",
         "hovertemplate": "ESG_risk=%{x}<br>count=%{y}<extra></extra>",
         "legendgroup": "",
         "marker": {
          "color": "#636efa",
          "pattern": {
           "shape": ""
          }
         },
         "name": "",
         "offsetgroup": "",
         "orientation": "v",
         "showlegend": false,
         "type": "histogram",
         "x": [
          12.97,
          15.45,
          999,
          23.59,
          999,
          25.95,
          13.16,
          13.49,
          20.34,
          19.51,
          20.62,
          22.79,
          999,
          13.57,
          32.92,
          34.28,
          6.99,
          30.53,
          19.83,
          22.12,
          19.36,
          23.22,
          34.87,
          999,
          17.47,
          999,
          43.22,
          22.55,
          17.36,
          10.36,
          25.71,
          999,
          14.71,
          30.28,
          29.57,
          34.5,
          20.45,
          34.88,
          19.42,
          12.53,
          14.6,
          10.44,
          19.95,
          999,
          20.74,
          22.82,
          11.92,
          19.24,
          999,
          20.28,
          25.36,
          13.64,
          26.78,
          34.47,
          24.53,
          999,
          16.91,
          24.89,
          22.08,
          14.74,
          34.88,
          28.78,
          15.23,
          16.58,
          24.39,
          36.58,
          999,
          24.08,
          14.47,
          23.64,
          999,
          17,
          21.06,
          22.64,
          24.51,
          19.62,
          15.52,
          36.08,
          18,
          32.3,
          19.68,
          16.14,
          999,
          14.52,
          28.14,
          30.54,
          18.7,
          12.14,
          999,
          16.74,
          28.54,
          16.25,
          18.26,
          12.73,
          18.38,
          12.02,
          32.84,
          999,
          20.12,
          15.95,
          999,
          999,
          999,
          999,
          999,
          999,
          999,
          999,
          999,
          999,
          999,
          999,
          999,
          999,
          999,
          999,
          999,
          999,
          999,
          10.35,
          999,
          999,
          999,
          999,
          999,
          999,
          999,
          24.22,
          999,
          999,
          999,
          25.85,
          999,
          999,
          999,
          999,
          999,
          999,
          999,
          999,
          999,
          999,
          999,
          999,
          999,
          999,
          999,
          999,
          999,
          999,
          999,
          999,
          999,
          999,
          999,
          20.39,
          999,
          999,
          999,
          999,
          999,
          999,
          999,
          999,
          999,
          999,
          999,
          999,
          999,
          999,
          999,
          999,
          999,
          999,
          999,
          999,
          999,
          999,
          999,
          999,
          999,
          999,
          999,
          999,
          999,
          999,
          999,
          999,
          999,
          999,
          999,
          999,
          999,
          999,
          999,
          999,
          999,
          999
         ],
         "xaxis": "x",
         "yaxis": "y"
        }
       ],
       "layout": {
        "barmode": "relative",
        "legend": {
         "tracegroupgap": 0
        },
        "margin": {
         "t": 60
        },
        "template": {
         "data": {
          "bar": [
           {
            "error_x": {
             "color": "#2a3f5f"
            },
            "error_y": {
             "color": "#2a3f5f"
            },
            "marker": {
             "line": {
              "color": "#E5ECF6",
              "width": 0.5
             },
             "pattern": {
              "fillmode": "overlay",
              "size": 10,
              "solidity": 0.2
             }
            },
            "type": "bar"
           }
          ],
          "barpolar": [
           {
            "marker": {
             "line": {
              "color": "#E5ECF6",
              "width": 0.5
             },
             "pattern": {
              "fillmode": "overlay",
              "size": 10,
              "solidity": 0.2
             }
            },
            "type": "barpolar"
           }
          ],
          "carpet": [
           {
            "aaxis": {
             "endlinecolor": "#2a3f5f",
             "gridcolor": "white",
             "linecolor": "white",
             "minorgridcolor": "white",
             "startlinecolor": "#2a3f5f"
            },
            "baxis": {
             "endlinecolor": "#2a3f5f",
             "gridcolor": "white",
             "linecolor": "white",
             "minorgridcolor": "white",
             "startlinecolor": "#2a3f5f"
            },
            "type": "carpet"
           }
          ],
          "choropleth": [
           {
            "colorbar": {
             "outlinewidth": 0,
             "ticks": ""
            },
            "type": "choropleth"
           }
          ],
          "contour": [
           {
            "colorbar": {
             "outlinewidth": 0,
             "ticks": ""
            },
            "colorscale": [
             [
              0,
              "#0d0887"
             ],
             [
              0.1111111111111111,
              "#46039f"
             ],
             [
              0.2222222222222222,
              "#7201a8"
             ],
             [
              0.3333333333333333,
              "#9c179e"
             ],
             [
              0.4444444444444444,
              "#bd3786"
             ],
             [
              0.5555555555555556,
              "#d8576b"
             ],
             [
              0.6666666666666666,
              "#ed7953"
             ],
             [
              0.7777777777777778,
              "#fb9f3a"
             ],
             [
              0.8888888888888888,
              "#fdca26"
             ],
             [
              1,
              "#f0f921"
             ]
            ],
            "type": "contour"
           }
          ],
          "contourcarpet": [
           {
            "colorbar": {
             "outlinewidth": 0,
             "ticks": ""
            },
            "type": "contourcarpet"
           }
          ],
          "heatmap": [
           {
            "colorbar": {
             "outlinewidth": 0,
             "ticks": ""
            },
            "colorscale": [
             [
              0,
              "#0d0887"
             ],
             [
              0.1111111111111111,
              "#46039f"
             ],
             [
              0.2222222222222222,
              "#7201a8"
             ],
             [
              0.3333333333333333,
              "#9c179e"
             ],
             [
              0.4444444444444444,
              "#bd3786"
             ],
             [
              0.5555555555555556,
              "#d8576b"
             ],
             [
              0.6666666666666666,
              "#ed7953"
             ],
             [
              0.7777777777777778,
              "#fb9f3a"
             ],
             [
              0.8888888888888888,
              "#fdca26"
             ],
             [
              1,
              "#f0f921"
             ]
            ],
            "type": "heatmap"
           }
          ],
          "heatmapgl": [
           {
            "colorbar": {
             "outlinewidth": 0,
             "ticks": ""
            },
            "colorscale": [
             [
              0,
              "#0d0887"
             ],
             [
              0.1111111111111111,
              "#46039f"
             ],
             [
              0.2222222222222222,
              "#7201a8"
             ],
             [
              0.3333333333333333,
              "#9c179e"
             ],
             [
              0.4444444444444444,
              "#bd3786"
             ],
             [
              0.5555555555555556,
              "#d8576b"
             ],
             [
              0.6666666666666666,
              "#ed7953"
             ],
             [
              0.7777777777777778,
              "#fb9f3a"
             ],
             [
              0.8888888888888888,
              "#fdca26"
             ],
             [
              1,
              "#f0f921"
             ]
            ],
            "type": "heatmapgl"
           }
          ],
          "histogram": [
           {
            "marker": {
             "pattern": {
              "fillmode": "overlay",
              "size": 10,
              "solidity": 0.2
             }
            },
            "type": "histogram"
           }
          ],
          "histogram2d": [
           {
            "colorbar": {
             "outlinewidth": 0,
             "ticks": ""
            },
            "colorscale": [
             [
              0,
              "#0d0887"
             ],
             [
              0.1111111111111111,
              "#46039f"
             ],
             [
              0.2222222222222222,
              "#7201a8"
             ],
             [
              0.3333333333333333,
              "#9c179e"
             ],
             [
              0.4444444444444444,
              "#bd3786"
             ],
             [
              0.5555555555555556,
              "#d8576b"
             ],
             [
              0.6666666666666666,
              "#ed7953"
             ],
             [
              0.7777777777777778,
              "#fb9f3a"
             ],
             [
              0.8888888888888888,
              "#fdca26"
             ],
             [
              1,
              "#f0f921"
             ]
            ],
            "type": "histogram2d"
           }
          ],
          "histogram2dcontour": [
           {
            "colorbar": {
             "outlinewidth": 0,
             "ticks": ""
            },
            "colorscale": [
             [
              0,
              "#0d0887"
             ],
             [
              0.1111111111111111,
              "#46039f"
             ],
             [
              0.2222222222222222,
              "#7201a8"
             ],
             [
              0.3333333333333333,
              "#9c179e"
             ],
             [
              0.4444444444444444,
              "#bd3786"
             ],
             [
              0.5555555555555556,
              "#d8576b"
             ],
             [
              0.6666666666666666,
              "#ed7953"
             ],
             [
              0.7777777777777778,
              "#fb9f3a"
             ],
             [
              0.8888888888888888,
              "#fdca26"
             ],
             [
              1,
              "#f0f921"
             ]
            ],
            "type": "histogram2dcontour"
           }
          ],
          "mesh3d": [
           {
            "colorbar": {
             "outlinewidth": 0,
             "ticks": ""
            },
            "type": "mesh3d"
           }
          ],
          "parcoords": [
           {
            "line": {
             "colorbar": {
              "outlinewidth": 0,
              "ticks": ""
             }
            },
            "type": "parcoords"
           }
          ],
          "pie": [
           {
            "automargin": true,
            "type": "pie"
           }
          ],
          "scatter": [
           {
            "marker": {
             "colorbar": {
              "outlinewidth": 0,
              "ticks": ""
             }
            },
            "type": "scatter"
           }
          ],
          "scatter3d": [
           {
            "line": {
             "colorbar": {
              "outlinewidth": 0,
              "ticks": ""
             }
            },
            "marker": {
             "colorbar": {
              "outlinewidth": 0,
              "ticks": ""
             }
            },
            "type": "scatter3d"
           }
          ],
          "scattercarpet": [
           {
            "marker": {
             "colorbar": {
              "outlinewidth": 0,
              "ticks": ""
             }
            },
            "type": "scattercarpet"
           }
          ],
          "scattergeo": [
           {
            "marker": {
             "colorbar": {
              "outlinewidth": 0,
              "ticks": ""
             }
            },
            "type": "scattergeo"
           }
          ],
          "scattergl": [
           {
            "marker": {
             "colorbar": {
              "outlinewidth": 0,
              "ticks": ""
             }
            },
            "type": "scattergl"
           }
          ],
          "scattermapbox": [
           {
            "marker": {
             "colorbar": {
              "outlinewidth": 0,
              "ticks": ""
             }
            },
            "type": "scattermapbox"
           }
          ],
          "scatterpolar": [
           {
            "marker": {
             "colorbar": {
              "outlinewidth": 0,
              "ticks": ""
             }
            },
            "type": "scatterpolar"
           }
          ],
          "scatterpolargl": [
           {
            "marker": {
             "colorbar": {
              "outlinewidth": 0,
              "ticks": ""
             }
            },
            "type": "scatterpolargl"
           }
          ],
          "scatterternary": [
           {
            "marker": {
             "colorbar": {
              "outlinewidth": 0,
              "ticks": ""
             }
            },
            "type": "scatterternary"
           }
          ],
          "surface": [
           {
            "colorbar": {
             "outlinewidth": 0,
             "ticks": ""
            },
            "colorscale": [
             [
              0,
              "#0d0887"
             ],
             [
              0.1111111111111111,
              "#46039f"
             ],
             [
              0.2222222222222222,
              "#7201a8"
             ],
             [
              0.3333333333333333,
              "#9c179e"
             ],
             [
              0.4444444444444444,
              "#bd3786"
             ],
             [
              0.5555555555555556,
              "#d8576b"
             ],
             [
              0.6666666666666666,
              "#ed7953"
             ],
             [
              0.7777777777777778,
              "#fb9f3a"
             ],
             [
              0.8888888888888888,
              "#fdca26"
             ],
             [
              1,
              "#f0f921"
             ]
            ],
            "type": "surface"
           }
          ],
          "table": [
           {
            "cells": {
             "fill": {
              "color": "#EBF0F8"
             },
             "line": {
              "color": "white"
             }
            },
            "header": {
             "fill": {
              "color": "#C8D4E3"
             },
             "line": {
              "color": "white"
             }
            },
            "type": "table"
           }
          ]
         },
         "layout": {
          "annotationdefaults": {
           "arrowcolor": "#2a3f5f",
           "arrowhead": 0,
           "arrowwidth": 1
          },
          "autotypenumbers": "strict",
          "coloraxis": {
           "colorbar": {
            "outlinewidth": 0,
            "ticks": ""
           }
          },
          "colorscale": {
           "diverging": [
            [
             0,
             "#8e0152"
            ],
            [
             0.1,
             "#c51b7d"
            ],
            [
             0.2,
             "#de77ae"
            ],
            [
             0.3,
             "#f1b6da"
            ],
            [
             0.4,
             "#fde0ef"
            ],
            [
             0.5,
             "#f7f7f7"
            ],
            [
             0.6,
             "#e6f5d0"
            ],
            [
             0.7,
             "#b8e186"
            ],
            [
             0.8,
             "#7fbc41"
            ],
            [
             0.9,
             "#4d9221"
            ],
            [
             1,
             "#276419"
            ]
           ],
           "sequential": [
            [
             0,
             "#0d0887"
            ],
            [
             0.1111111111111111,
             "#46039f"
            ],
            [
             0.2222222222222222,
             "#7201a8"
            ],
            [
             0.3333333333333333,
             "#9c179e"
            ],
            [
             0.4444444444444444,
             "#bd3786"
            ],
            [
             0.5555555555555556,
             "#d8576b"
            ],
            [
             0.6666666666666666,
             "#ed7953"
            ],
            [
             0.7777777777777778,
             "#fb9f3a"
            ],
            [
             0.8888888888888888,
             "#fdca26"
            ],
            [
             1,
             "#f0f921"
            ]
           ],
           "sequentialminus": [
            [
             0,
             "#0d0887"
            ],
            [
             0.1111111111111111,
             "#46039f"
            ],
            [
             0.2222222222222222,
             "#7201a8"
            ],
            [
             0.3333333333333333,
             "#9c179e"
            ],
            [
             0.4444444444444444,
             "#bd3786"
            ],
            [
             0.5555555555555556,
             "#d8576b"
            ],
            [
             0.6666666666666666,
             "#ed7953"
            ],
            [
             0.7777777777777778,
             "#fb9f3a"
            ],
            [
             0.8888888888888888,
             "#fdca26"
            ],
            [
             1,
             "#f0f921"
            ]
           ]
          },
          "colorway": [
           "#636efa",
           "#EF553B",
           "#00cc96",
           "#ab63fa",
           "#FFA15A",
           "#19d3f3",
           "#FF6692",
           "#B6E880",
           "#FF97FF",
           "#FECB52"
          ],
          "font": {
           "color": "#2a3f5f"
          },
          "geo": {
           "bgcolor": "white",
           "lakecolor": "white",
           "landcolor": "#E5ECF6",
           "showlakes": true,
           "showland": true,
           "subunitcolor": "white"
          },
          "hoverlabel": {
           "align": "left"
          },
          "hovermode": "closest",
          "mapbox": {
           "style": "light"
          },
          "paper_bgcolor": "white",
          "plot_bgcolor": "#E5ECF6",
          "polar": {
           "angularaxis": {
            "gridcolor": "white",
            "linecolor": "white",
            "ticks": ""
           },
           "bgcolor": "#E5ECF6",
           "radialaxis": {
            "gridcolor": "white",
            "linecolor": "white",
            "ticks": ""
           }
          },
          "scene": {
           "xaxis": {
            "backgroundcolor": "#E5ECF6",
            "gridcolor": "white",
            "gridwidth": 2,
            "linecolor": "white",
            "showbackground": true,
            "ticks": "",
            "zerolinecolor": "white"
           },
           "yaxis": {
            "backgroundcolor": "#E5ECF6",
            "gridcolor": "white",
            "gridwidth": 2,
            "linecolor": "white",
            "showbackground": true,
            "ticks": "",
            "zerolinecolor": "white"
           },
           "zaxis": {
            "backgroundcolor": "#E5ECF6",
            "gridcolor": "white",
            "gridwidth": 2,
            "linecolor": "white",
            "showbackground": true,
            "ticks": "",
            "zerolinecolor": "white"
           }
          },
          "shapedefaults": {
           "line": {
            "color": "#2a3f5f"
           }
          },
          "ternary": {
           "aaxis": {
            "gridcolor": "white",
            "linecolor": "white",
            "ticks": ""
           },
           "baxis": {
            "gridcolor": "white",
            "linecolor": "white",
            "ticks": ""
           },
           "bgcolor": "#E5ECF6",
           "caxis": {
            "gridcolor": "white",
            "linecolor": "white",
            "ticks": ""
           }
          },
          "title": {
           "x": 0.05
          },
          "xaxis": {
           "automargin": true,
           "gridcolor": "white",
           "linecolor": "white",
           "ticks": "",
           "title": {
            "standoff": 15
           },
           "zerolinecolor": "white",
           "zerolinewidth": 2
          },
          "yaxis": {
           "automargin": true,
           "gridcolor": "white",
           "linecolor": "white",
           "ticks": "",
           "title": {
            "standoff": 15
           },
           "zerolinecolor": "white",
           "zerolinewidth": 2
          }
         }
        },
        "xaxis": {
         "anchor": "y",
         "domain": [
          0,
          1
         ],
         "title": {
          "text": "ESG_risk"
         }
        },
        "yaxis": {
         "anchor": "x",
         "domain": [
          0,
          1
         ],
         "title": {
          "text": "count"
         }
        }
       }
      }
     },
     "metadata": {},
     "output_type": "display_data"
    }
   ],
   "source": [
    "fig = px.histogram(new_df, x=\"ESG_risk\")\n",
    "fig.show()"
   ]
  },
  {
   "cell_type": "markdown",
   "id": "a4da629b",
   "metadata": {},
   "source": [
    "## "
   ]
  }
 ],
 "metadata": {
  "kernelspec": {
   "display_name": "Python 3",
   "language": "python",
   "name": "python3"
  },
  "language_info": {
   "codemirror_mode": {
    "name": "ipython",
    "version": 3
   },
   "file_extension": ".py",
   "mimetype": "text/x-python",
   "name": "python",
   "nbconvert_exporter": "python",
   "pygments_lexer": "ipython3",
   "version": "3.9.7"
  },
  "toc": {
   "base_numbering": 1,
   "nav_menu": {},
   "number_sections": true,
   "sideBar": true,
   "skip_h1_title": false,
   "title_cell": "Table of Contents",
   "title_sidebar": "Contents",
   "toc_cell": false,
   "toc_position": {},
   "toc_section_display": true,
   "toc_window_display": false
  }
 },
 "nbformat": 4,
 "nbformat_minor": 5
}
