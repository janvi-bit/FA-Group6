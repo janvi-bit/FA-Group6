{
 "cells": [
  {
   "cell_type": "code",
   "execution_count": 1,
   "metadata": {},
   "outputs": [],
   "source": [
    "import pandas as pd\n",
    "import numpy as np\n",
    "import matplotlib.pyplot as plt\n",
    "import scipy.stats\n",
    "\n",
    "from pandas_datareader import data\n",
    "from scipy.optimize import minimize"
   ]
  },
  {
   "cell_type": "code",
   "execution_count": 2,
   "metadata": {},
   "outputs": [],
   "source": [
    "data_collection = pd.read_csv('Final_stock_data_V2.csv')\n",
    "adjClose_5y = pd.read_csv('Cleaned_AdjCloseP_5y.csv', index_col='Date')\n",
    "close_5y = pd.read_csv('Cleaned_CloseP_5y.csv', index_col='Date')\n"
   ]
  },
  {
   "cell_type": "code",
   "execution_count": 3,
   "metadata": {},
   "outputs": [],
   "source": [
    "adjClose_5y = adjClose_5y[['AAP', 'ABT']]"
   ]
  },
  {
   "cell_type": "code",
   "execution_count": 4,
   "metadata": {},
   "outputs": [],
   "source": [
    "tickers = adjClose_5y.columns"
   ]
  },
  {
   "cell_type": "code",
   "execution_count": 5,
   "metadata": {},
   "outputs": [
    {
     "data": {
      "text/html": [
       "<div>\n",
       "<style scoped>\n",
       "    .dataframe tbody tr th:only-of-type {\n",
       "        vertical-align: middle;\n",
       "    }\n",
       "\n",
       "    .dataframe tbody tr th {\n",
       "        vertical-align: top;\n",
       "    }\n",
       "\n",
       "    .dataframe thead th {\n",
       "        text-align: right;\n",
       "    }\n",
       "</style>\n",
       "<table border=\"1\" class=\"dataframe\">\n",
       "  <thead>\n",
       "    <tr style=\"text-align: right;\">\n",
       "      <th></th>\n",
       "      <th>AAP</th>\n",
       "      <th>ABT</th>\n",
       "    </tr>\n",
       "    <tr>\n",
       "      <th>Date</th>\n",
       "      <th></th>\n",
       "      <th></th>\n",
       "    </tr>\n",
       "  </thead>\n",
       "  <tbody>\n",
       "    <tr>\n",
       "      <th>2017-02-03</th>\n",
       "      <td>157.890411</td>\n",
       "      <td>39.270012</td>\n",
       "    </tr>\n",
       "    <tr>\n",
       "      <th>2017-02-06</th>\n",
       "      <td>155.484421</td>\n",
       "      <td>38.948734</td>\n",
       "    </tr>\n",
       "    <tr>\n",
       "      <th>2017-02-07</th>\n",
       "      <td>154.426956</td>\n",
       "      <td>39.370998</td>\n",
       "    </tr>\n",
       "    <tr>\n",
       "      <th>2017-02-08</th>\n",
       "      <td>157.870956</td>\n",
       "      <td>38.921196</td>\n",
       "    </tr>\n",
       "    <tr>\n",
       "      <th>2017-02-09</th>\n",
       "      <td>159.908234</td>\n",
       "      <td>39.049706</td>\n",
       "    </tr>\n",
       "  </tbody>\n",
       "</table>\n",
       "</div>"
      ],
      "text/plain": [
       "                   AAP        ABT\n",
       "Date                             \n",
       "2017-02-03  157.890411  39.270012\n",
       "2017-02-06  155.484421  38.948734\n",
       "2017-02-07  154.426956  39.370998\n",
       "2017-02-08  157.870956  38.921196\n",
       "2017-02-09  159.908234  39.049706"
      ]
     },
     "execution_count": 5,
     "metadata": {},
     "output_type": "execute_result"
    }
   ],
   "source": [
    "adjClose_5y.head()"
   ]
  },
  {
   "cell_type": "code",
   "execution_count": 6,
   "metadata": {},
   "outputs": [
    {
     "name": "stdout",
     "output_type": "stream",
     "text": [
      "<class 'pandas.core.frame.DataFrame'>\n",
      "Index: 1274 entries, 2017-02-03 to 2022-02-24\n",
      "Data columns (total 2 columns):\n",
      " #   Column  Non-Null Count  Dtype  \n",
      "---  ------  --------------  -----  \n",
      " 0   AAP     1274 non-null   float64\n",
      " 1   ABT     1274 non-null   float64\n",
      "dtypes: float64(2)\n",
      "memory usage: 29.9+ KB\n"
     ]
    }
   ],
   "source": [
    "adjClose_5y.info()"
   ]
  },
  {
   "cell_type": "markdown",
   "metadata": {},
   "source": [
    "# ____________________________________________"
   ]
  },
  {
   "cell_type": "code",
   "execution_count": 7,
   "metadata": {},
   "outputs": [],
   "source": [
    "risk_free_ann_ret_rate = 0.0176"
   ]
  },
  {
   "cell_type": "code",
   "execution_count": 8,
   "metadata": {},
   "outputs": [
    {
     "data": {
      "text/html": [
       "<div>\n",
       "<style scoped>\n",
       "    .dataframe tbody tr th:only-of-type {\n",
       "        vertical-align: middle;\n",
       "    }\n",
       "\n",
       "    .dataframe tbody tr th {\n",
       "        vertical-align: top;\n",
       "    }\n",
       "\n",
       "    .dataframe thead th {\n",
       "        text-align: right;\n",
       "    }\n",
       "</style>\n",
       "<table border=\"1\" class=\"dataframe\">\n",
       "  <thead>\n",
       "    <tr style=\"text-align: right;\">\n",
       "      <th></th>\n",
       "      <th>AAP</th>\n",
       "      <th>ABT</th>\n",
       "    </tr>\n",
       "    <tr>\n",
       "      <th>Date</th>\n",
       "      <th></th>\n",
       "      <th></th>\n",
       "    </tr>\n",
       "  </thead>\n",
       "  <tbody>\n",
       "    <tr>\n",
       "      <th>2017-02-06</th>\n",
       "      <td>-0.015238</td>\n",
       "      <td>-0.008181</td>\n",
       "    </tr>\n",
       "    <tr>\n",
       "      <th>2017-02-07</th>\n",
       "      <td>-0.006801</td>\n",
       "      <td>0.010842</td>\n",
       "    </tr>\n",
       "    <tr>\n",
       "      <th>2017-02-08</th>\n",
       "      <td>0.022302</td>\n",
       "      <td>-0.011425</td>\n",
       "    </tr>\n",
       "    <tr>\n",
       "      <th>2017-02-09</th>\n",
       "      <td>0.012905</td>\n",
       "      <td>0.003302</td>\n",
       "    </tr>\n",
       "    <tr>\n",
       "      <th>2017-02-10</th>\n",
       "      <td>-0.004732</td>\n",
       "      <td>0.004702</td>\n",
       "    </tr>\n",
       "    <tr>\n",
       "      <th>...</th>\n",
       "      <td>...</td>\n",
       "      <td>...</td>\n",
       "    </tr>\n",
       "    <tr>\n",
       "      <th>2022-02-17</th>\n",
       "      <td>-0.008903</td>\n",
       "      <td>-0.025065</td>\n",
       "    </tr>\n",
       "    <tr>\n",
       "      <th>2022-02-18</th>\n",
       "      <td>-0.007305</td>\n",
       "      <td>-0.031431</td>\n",
       "    </tr>\n",
       "    <tr>\n",
       "      <th>2022-02-22</th>\n",
       "      <td>-0.055027</td>\n",
       "      <td>0.006165</td>\n",
       "    </tr>\n",
       "    <tr>\n",
       "      <th>2022-02-23</th>\n",
       "      <td>-0.048172</td>\n",
       "      <td>-0.002213</td>\n",
       "    </tr>\n",
       "    <tr>\n",
       "      <th>2022-02-24</th>\n",
       "      <td>0.020376</td>\n",
       "      <td>0.012537</td>\n",
       "    </tr>\n",
       "  </tbody>\n",
       "</table>\n",
       "<p>1273 rows × 2 columns</p>\n",
       "</div>"
      ],
      "text/plain": [
       "                 AAP       ABT\n",
       "Date                          \n",
       "2017-02-06 -0.015238 -0.008181\n",
       "2017-02-07 -0.006801  0.010842\n",
       "2017-02-08  0.022302 -0.011425\n",
       "2017-02-09  0.012905  0.003302\n",
       "2017-02-10 -0.004732  0.004702\n",
       "...              ...       ...\n",
       "2022-02-17 -0.008903 -0.025065\n",
       "2022-02-18 -0.007305 -0.031431\n",
       "2022-02-22 -0.055027  0.006165\n",
       "2022-02-23 -0.048172 -0.002213\n",
       "2022-02-24  0.020376  0.012537\n",
       "\n",
       "[1273 rows x 2 columns]"
      ]
     },
     "execution_count": 8,
     "metadata": {},
     "output_type": "execute_result"
    }
   ],
   "source": [
    "returns_ts = adjClose_5y.pct_change().dropna()\n",
    "returns_ts"
   ]
  },
  {
   "cell_type": "code",
   "execution_count": 9,
   "metadata": {},
   "outputs": [
    {
     "data": {
      "text/plain": [
       "AAP    0.000437\n",
       "ABT    0.000993\n",
       "dtype: float64"
      ]
     },
     "execution_count": 9,
     "metadata": {},
     "output_type": "execute_result"
    }
   ],
   "source": [
    "avg_daily_ret = returns_ts.mean()\n",
    "avg_daily_ret"
   ]
  },
  {
   "cell_type": "code",
   "execution_count": 10,
   "metadata": {},
   "outputs": [
    {
     "data": {
      "text/html": [
       "<div>\n",
       "<style scoped>\n",
       "    .dataframe tbody tr th:only-of-type {\n",
       "        vertical-align: middle;\n",
       "    }\n",
       "\n",
       "    .dataframe tbody tr th {\n",
       "        vertical-align: top;\n",
       "    }\n",
       "\n",
       "    .dataframe thead th {\n",
       "        text-align: right;\n",
       "    }\n",
       "</style>\n",
       "<table border=\"1\" class=\"dataframe\">\n",
       "  <thead>\n",
       "    <tr style=\"text-align: right;\">\n",
       "      <th></th>\n",
       "    </tr>\n",
       "  </thead>\n",
       "  <tbody>\n",
       "  </tbody>\n",
       "</table>\n",
       "</div>"
      ],
      "text/plain": [
       "Empty DataFrame\n",
       "Columns: []\n",
       "Index: []"
      ]
     },
     "execution_count": 10,
     "metadata": {},
     "output_type": "execute_result"
    }
   ],
   "source": [
    "excess_ret = pd.DataFrame()\n",
    "excess_ret"
   ]
  },
  {
   "cell_type": "code",
   "execution_count": 11,
   "metadata": {},
   "outputs": [
    {
     "data": {
      "text/html": [
       "<div>\n",
       "<style scoped>\n",
       "    .dataframe tbody tr th:only-of-type {\n",
       "        vertical-align: middle;\n",
       "    }\n",
       "\n",
       "    .dataframe tbody tr th {\n",
       "        vertical-align: top;\n",
       "    }\n",
       "\n",
       "    .dataframe thead th {\n",
       "        text-align: right;\n",
       "    }\n",
       "</style>\n",
       "<table border=\"1\" class=\"dataframe\">\n",
       "  <thead>\n",
       "    <tr style=\"text-align: right;\">\n",
       "      <th></th>\n",
       "      <th>AAP</th>\n",
       "      <th>ABT</th>\n",
       "      <th>RiskFree_Rate</th>\n",
       "    </tr>\n",
       "    <tr>\n",
       "      <th>Date</th>\n",
       "      <th></th>\n",
       "      <th></th>\n",
       "      <th></th>\n",
       "    </tr>\n",
       "  </thead>\n",
       "  <tbody>\n",
       "    <tr>\n",
       "      <th>2017-02-06</th>\n",
       "      <td>-0.015238</td>\n",
       "      <td>-0.008181</td>\n",
       "      <td>0.00007</td>\n",
       "    </tr>\n",
       "    <tr>\n",
       "      <th>2017-02-07</th>\n",
       "      <td>-0.006801</td>\n",
       "      <td>0.010842</td>\n",
       "      <td>0.00007</td>\n",
       "    </tr>\n",
       "    <tr>\n",
       "      <th>2017-02-08</th>\n",
       "      <td>0.022302</td>\n",
       "      <td>-0.011425</td>\n",
       "      <td>0.00007</td>\n",
       "    </tr>\n",
       "    <tr>\n",
       "      <th>2017-02-09</th>\n",
       "      <td>0.012905</td>\n",
       "      <td>0.003302</td>\n",
       "      <td>0.00007</td>\n",
       "    </tr>\n",
       "    <tr>\n",
       "      <th>2017-02-10</th>\n",
       "      <td>-0.004732</td>\n",
       "      <td>0.004702</td>\n",
       "      <td>0.00007</td>\n",
       "    </tr>\n",
       "    <tr>\n",
       "      <th>...</th>\n",
       "      <td>...</td>\n",
       "      <td>...</td>\n",
       "      <td>...</td>\n",
       "    </tr>\n",
       "    <tr>\n",
       "      <th>2022-02-17</th>\n",
       "      <td>-0.008903</td>\n",
       "      <td>-0.025065</td>\n",
       "      <td>0.00007</td>\n",
       "    </tr>\n",
       "    <tr>\n",
       "      <th>2022-02-18</th>\n",
       "      <td>-0.007305</td>\n",
       "      <td>-0.031431</td>\n",
       "      <td>0.00007</td>\n",
       "    </tr>\n",
       "    <tr>\n",
       "      <th>2022-02-22</th>\n",
       "      <td>-0.055027</td>\n",
       "      <td>0.006165</td>\n",
       "      <td>0.00007</td>\n",
       "    </tr>\n",
       "    <tr>\n",
       "      <th>2022-02-23</th>\n",
       "      <td>-0.048172</td>\n",
       "      <td>-0.002213</td>\n",
       "      <td>0.00007</td>\n",
       "    </tr>\n",
       "    <tr>\n",
       "      <th>2022-02-24</th>\n",
       "      <td>0.020376</td>\n",
       "      <td>0.012537</td>\n",
       "      <td>0.00007</td>\n",
       "    </tr>\n",
       "  </tbody>\n",
       "</table>\n",
       "<p>1273 rows × 3 columns</p>\n",
       "</div>"
      ],
      "text/plain": [
       "                 AAP       ABT  RiskFree_Rate\n",
       "Date                                         \n",
       "2017-02-06 -0.015238 -0.008181        0.00007\n",
       "2017-02-07 -0.006801  0.010842        0.00007\n",
       "2017-02-08  0.022302 -0.011425        0.00007\n",
       "2017-02-09  0.012905  0.003302        0.00007\n",
       "2017-02-10 -0.004732  0.004702        0.00007\n",
       "...              ...       ...            ...\n",
       "2022-02-17 -0.008903 -0.025065        0.00007\n",
       "2022-02-18 -0.007305 -0.031431        0.00007\n",
       "2022-02-22 -0.055027  0.006165        0.00007\n",
       "2022-02-23 -0.048172 -0.002213        0.00007\n",
       "2022-02-24  0.020376  0.012537        0.00007\n",
       "\n",
       "[1273 rows x 3 columns]"
      ]
     },
     "execution_count": 11,
     "metadata": {},
     "output_type": "execute_result"
    }
   ],
   "source": [
    "\n",
    "returns_ts['RiskFree_Rate'] = risk_free_ann_ret_rate/252\n",
    "avg_rf_ret = returns_ts['RiskFree_Rate'].mean()\n",
    "returns_ts"
   ]
  },
  {
   "cell_type": "code",
   "execution_count": 12,
   "metadata": {},
   "outputs": [],
   "source": [
    "for n in adjClose_5y.columns:\n",
    "    excess_ret['Excess_ret_' + n] = returns_ts[n] - returns_ts['RiskFree_Rate']"
   ]
  },
  {
   "cell_type": "code",
   "execution_count": 13,
   "metadata": {},
   "outputs": [],
   "source": [
    "\n",
    "def sharpe_ratio(excess_ret, ticker):\n",
    "\n",
    "    sharpe_ratio = ((avg_daily_ret[ticker] - avg_rf_ret) / (excess_ret['Excess_ret_' + ticker].std())*np.sqrt(252))\n",
    "\n",
    "    return sharpe_ratio.round(3)\n"
   ]
  },
  {
   "cell_type": "code",
   "execution_count": 14,
   "metadata": {},
   "outputs": [
    {
     "data": {
      "text/plain": [
       "{'AAP': 0.263, 'ABT': 0.932}"
      ]
     },
     "execution_count": 14,
     "metadata": {},
     "output_type": "execute_result"
    }
   ],
   "source": [
    "sharpe_ratio_dic = {}\n",
    "\n",
    "for n in tickers:\n",
    "\n",
    "    sharpe_ratio_dic[n] = sharpe_ratio(excess_ret, n)\n",
    "\n",
    "sharpe_ratio_dic"
   ]
  },
  {
   "cell_type": "code",
   "execution_count": 16,
   "metadata": {},
   "outputs": [],
   "source": [
    "n = len(adjClose_5y.columns)\n",
    "log_ret = np.log(adjClose_5y / adjClose_5y.shift(1)).dropna()\n",
    "\n",
    "\n",
    "def calculate_vol(weights):\n",
    "    annualized_cov = np.dot(log_ret.cov()*252,weights)\n",
    "    vol = np.dot(weights.transpose(),annualized_cov)\n",
    "    return np.sqrt(vol)\n",
    "\n",
    "def calculate_returns(weights, log_returns):\n",
    "    # Annual log Returns\n",
    "\n",
    "    return np.sum(log_returns.mean()*weights) * 252\n",
    "\n",
    "def function_to_minimize(weights):\n",
    "\n",
    "    # minimize a -1 * SR (that's how the math works here, but it is the same as maximizing SR)\n",
    "    return -1 * ((calculate_returns(weights, log_ret) - risk_free_ann_ret_rate )/calculate_vol(weights)) "
   ]
  },
  {
   "cell_type": "markdown",
   "metadata": {},
   "source": [
    "# ---------------------"
   ]
  },
  {
   "cell_type": "markdown",
   "metadata": {},
   "source": [
    "# Filter by Sector"
   ]
  },
  {
   "cell_type": "code",
   "execution_count": null,
   "metadata": {},
   "outputs": [],
   "source": [
    "data_collection"
   ]
  },
  {
   "cell_type": "code",
   "execution_count": null,
   "metadata": {},
   "outputs": [],
   "source": [
    "data_collection['sector'].hist(xrot=90)"
   ]
  },
  {
   "cell_type": "markdown",
   "metadata": {},
   "source": [
    "# Test Profile => Growth\n",
    "### Need ?\n",
    "#### Sectors: Technology, Energy, real estate, consumer cyclical, communication services\n",
    "#### High return\n",
    "#### low correlation\n",
    "#### max 40 stocks\n"
   ]
  },
  {
   "cell_type": "code",
   "execution_count": null,
   "metadata": {},
   "outputs": [],
   "source": [
    "sectors = ['Technology', 'Energy', 'Real Estate', 'Consumer Cyclical', 'Communication Services']"
   ]
  },
  {
   "cell_type": "code",
   "execution_count": null,
   "metadata": {},
   "outputs": [],
   "source": [
    "ind_data = data_collection[data_collection['sector'].isin(sectors)]\n",
    "ind_data"
   ]
  },
  {
   "cell_type": "code",
   "execution_count": null,
   "metadata": {},
   "outputs": [],
   "source": [
    "top_40_ret = ind_data['annu_return_5y'].sort_values(ascending=False)[:40]"
   ]
  },
  {
   "cell_type": "code",
   "execution_count": null,
   "metadata": {},
   "outputs": [],
   "source": [
    "top_40_ret_data = ind_data.loc[top_40_ret.index]\n",
    "top_40_ret_data"
   ]
  },
  {
   "cell_type": "code",
   "execution_count": null,
   "metadata": {},
   "outputs": [],
   "source": [
    "top_40_ret_data['sector'].hist()"
   ]
  },
  {
   "cell_type": "code",
   "execution_count": null,
   "metadata": {},
   "outputs": [],
   "source": []
  },
  {
   "cell_type": "code",
   "execution_count": null,
   "metadata": {},
   "outputs": [],
   "source": []
  },
  {
   "cell_type": "code",
   "execution_count": null,
   "metadata": {},
   "outputs": [],
   "source": []
  },
  {
   "cell_type": "code",
   "execution_count": null,
   "metadata": {},
   "outputs": [],
   "source": []
  },
  {
   "cell_type": "code",
   "execution_count": null,
   "metadata": {},
   "outputs": [],
   "source": []
  },
  {
   "cell_type": "markdown",
   "metadata": {},
   "source": [
    "# TEST mini"
   ]
  },
  {
   "cell_type": "code",
   "execution_count": null,
   "metadata": {},
   "outputs": [],
   "source": [
    "def calculate_returns(weights, log_returns):\n",
    "    # Annual log Returns\n",
    "\n",
    "    return np.sum(log_returns.mean()*weights) * 252"
   ]
  },
  {
   "cell_type": "code",
   "execution_count": null,
   "metadata": {},
   "outputs": [],
   "source": [
    "n = len(adjClose_5y[top_40_ret_data['ticker']].columns)\n",
    "log_returns_test = np.log(adjClose_5y[top_40_ret_data['ticker']] / adjClose_5y[top_40_ret_data['ticker']].shift(1)).dropna() # Same as 1 + stocks_data.pct_change()\n",
    "log_returns_test"
   ]
  },
  {
   "cell_type": "code",
   "execution_count": null,
   "metadata": {},
   "outputs": [],
   "source": [
    "def function_to_minimize(weights):\n",
    "\n",
    "    # minimize a -1 * SR (that's how the math works here, but it is the same as maximizing SR)\n",
    "    return -1 * ((calculate_returns(weights, log_returns_test) - 0 )/calculate_volatility(weights, log_returns_test)) # assuming rf =0\n"
   ]
  },
  {
   "cell_type": "code",
   "execution_count": null,
   "metadata": {},
   "outputs": [],
   "source": [
    "required_return = 0.30\n",
    "constraints = ({'type':'eq','fun': lambda weights: np.sum(weights)-1},\n",
    "               {'type':'eq','fun': lambda weights: calculate_returns(weights,log_returns_test) - required_return})\n",
    "bounds = tuple((0,1) for n in range(n))\n",
    "equal_weights = n * [1/n] #going to be our starting point then the function will look at either direction for minimum negative SG"
   ]
  },
  {
   "cell_type": "code",
   "execution_count": null,
   "metadata": {},
   "outputs": [],
   "source": [
    "def calculate_vol(weights):\n",
    "    annualized_cov = np.dot(log_returns_test.cov()*252,weights)\n",
    "    vol = np.dot(weights.transpose(),annualized_cov)\n",
    "    return np.sqrt(vol)"
   ]
  },
  {
   "cell_type": "code",
   "execution_count": null,
   "metadata": {},
   "outputs": [],
   "source": [
    "result = minimize(fun=calculate_vol,x0=equal_weights,bounds=bounds,constraints=constraints)\n",
    "result"
   ]
  },
  {
   "cell_type": "code",
   "execution_count": null,
   "metadata": {},
   "outputs": [],
   "source": [
    "min_var_weights = result['x']\n",
    "min_var_weights"
   ]
  },
  {
   "cell_type": "code",
   "execution_count": null,
   "metadata": {},
   "outputs": [],
   "source": [
    "result['x']\n",
    "portfolio = {}\n",
    "p = 0\n",
    "for i in result['x']:\n",
    "    print('Put',(i*100).round(3), \"% in\", log_returns_test.columns[p])\n",
    "\n",
    "    portfolio[log_returns_test.columns[p]] = (i*100).round(3)\n",
    "    p += 1"
   ]
  },
  {
   "cell_type": "code",
   "execution_count": null,
   "metadata": {},
   "outputs": [],
   "source": [
    "cleaned_portfolio = {}\n",
    "for n in portfolio:\n",
    "    if portfolio[n] != 0:\n",
    "        cleaned_portfolio[n] = portfolio[n]\n",
    "cleaned_portfolio"
   ]
  },
  {
   "cell_type": "code",
   "execution_count": null,
   "metadata": {},
   "outputs": [],
   "source": [
    "list(cleaned_portfolio.keys())"
   ]
  },
  {
   "cell_type": "code",
   "execution_count": null,
   "metadata": {},
   "outputs": [],
   "source": [
    "cleaned_pf_data = data_collection[data_collection['ticker'].isin(list(cleaned_portfolio.keys()))]\n",
    "cleaned_pf_data"
   ]
  },
  {
   "cell_type": "code",
   "execution_count": null,
   "metadata": {},
   "outputs": [],
   "source": [
    "cleaned_pf_data['sector'].hist()"
   ]
  },
  {
   "cell_type": "markdown",
   "metadata": {},
   "source": [
    "# ___________________"
   ]
  },
  {
   "cell_type": "code",
   "execution_count": null,
   "metadata": {},
   "outputs": [],
   "source": [
    "log_returns = np.log(adjClose_5y / adjClose_5y.shift(1)) # Same as 1 + stocks_data.pct_change()\n",
    "log_returns"
   ]
  },
  {
   "cell_type": "code",
   "execution_count": null,
   "metadata": {},
   "outputs": [],
   "source": [
    "n = len(adjClose_5y.columns)"
   ]
  },
  {
   "cell_type": "code",
   "execution_count": null,
   "metadata": {},
   "outputs": [],
   "source": [
    "def gen_weights(n):\n",
    "    weights = np.random.random(n)\n",
    "\n",
    "    return weights / np.sum(weights)"
   ]
  },
  {
   "cell_type": "code",
   "execution_count": null,
   "metadata": {},
   "outputs": [],
   "source": [
    "def calculate_returns(weights, log_returns):\n",
    "    # Annual log Returns\n",
    "\n",
    "    return np.sum(log_returns.mean()*weights) * 252"
   ]
  },
  {
   "cell_type": "code",
   "execution_count": null,
   "metadata": {},
   "outputs": [],
   "source": [
    "def calculate_volatility(weights, log_returns):\n",
    "    annualized_cov = np.dot(log_returns.cov()*252, weights)\n",
    "    vol = np.dot(weights.transpose(), annualized_cov)\n",
    "\n",
    "    return np.sqrt(vol)"
   ]
  },
  {
   "cell_type": "code",
   "execution_count": null,
   "metadata": {},
   "outputs": [],
   "source": [
    "calculate_volatility(gen_weights(n), log_returns)"
   ]
  },
  {
   "cell_type": "code",
   "execution_count": null,
   "metadata": {},
   "outputs": [],
   "source": [
    "mc_portfolio_returns = []\n",
    "mc_portfolio_vol = []\n",
    "mc_weights = []\n",
    "\n",
    "for sim in range(20000):\n",
    "\n",
    "    weights = gen_weights(n)\n",
    "    mc_weights.append(weights)\n",
    "\n",
    "    mc_portfolio_returns.append(calculate_returns(weights, log_returns))\n",
    "\n",
    "    mc_portfolio_vol.append(calculate_volatility(weights, log_returns))\n",
    "\n"
   ]
  },
  {
   "cell_type": "code",
   "execution_count": null,
   "metadata": {},
   "outputs": [],
   "source": [
    "mc_sharpe_ratio = (np.array(mc_portfolio_returns) - 0 )/np.array(mc_portfolio_vol) # assuming rf =0"
   ]
  },
  {
   "cell_type": "code",
   "execution_count": null,
   "metadata": {},
   "outputs": [],
   "source": [
    "plt.figure(figsize = (10,5))\n",
    "plt.scatter(mc_portfolio_vol, mc_portfolio_returns, c=mc_sharpe_ratio)\n",
    "plt.colorbar(label='Sharpe Ratio')\n",
    "plt.xlabel('Volatility')\n",
    "plt.ylabel('Returns')\n",
    "\n",
    "plt.show()\n"
   ]
  },
  {
   "cell_type": "markdown",
   "metadata": {},
   "source": [
    "# ------------------------------"
   ]
  },
  {
   "cell_type": "code",
   "execution_count": null,
   "metadata": {},
   "outputs": [],
   "source": [
    "mc_weights[np.argmax(mc_sharpe_ratio)]\n"
   ]
  },
  {
   "cell_type": "markdown",
   "metadata": {},
   "source": [
    "['AAPL', 'ARKK', 'TSLA', 'AMZN', 'MSFT', 'GOOGL', 'JPM', 'NFLX']\n",
    "array([0.02920397, 0.02217007, 0.07986235, 0.40333344, 0.281858  ,\n",
    "       0.05538882, 0.04158916, 0.08659419])\n",
    "\n",
    "array([0.16056466, 0.0022723 , 0.11224832, 0.33140994, 0.16490515,\n",
    "       0.02462714, 0.02794456, 0.17602793])"
   ]
  },
  {
   "cell_type": "code",
   "execution_count": null,
   "metadata": {},
   "outputs": [],
   "source": []
  },
  {
   "cell_type": "markdown",
   "metadata": {},
   "source": [
    "# Max SH"
   ]
  },
  {
   "cell_type": "code",
   "execution_count": null,
   "metadata": {},
   "outputs": [],
   "source": [
    "def function_to_minimize(weights):\n",
    "\n",
    "    # minimize a -1 * SR (that's how the math works here, but it is the same as maximizing SR)\n",
    "    return -1 * ((calculate_returns(weights, log_returns) - 0 )/calculate_volatility(weights, log_returns)) # assuming rf =0\n"
   ]
  },
  {
   "cell_type": "code",
   "execution_count": null,
   "metadata": {},
   "outputs": [],
   "source": [
    "bounds = tuple((0,1) for n in range(n))\n",
    "sum_constraint = ({'type': 'eq', 'fun': lambda weights: np.sum(weights)-1}) # Read the documentation for minimize for more details\n",
    "equal_weights = n * [1/n] #going to be our starting point then the function will look at either direction for minimum negative SG"
   ]
  },
  {
   "cell_type": "code",
   "execution_count": null,
   "metadata": {},
   "outputs": [],
   "source": [
    "results = minimize(fun=function_to_minimize,\n",
    "        x0=equal_weights,\n",
    "        bounds=bounds,\n",
    "        constraints=sum_constraint)"
   ]
  },
  {
   "cell_type": "code",
   "execution_count": null,
   "metadata": {},
   "outputs": [],
   "source": [
    "results"
   ]
  },
  {
   "cell_type": "code",
   "execution_count": null,
   "metadata": {},
   "outputs": [],
   "source": [
    "# weights for optimal portfolio using historical data SR\n",
    "results['x']\n",
    "p = 0\n",
    "for i in results['x']:\n",
    "    print('Put',(i*100).round(3), \"% in\", stocks_data.columns[p])\n",
    "    p += 1"
   ]
  },
  {
   "cell_type": "markdown",
   "metadata": {},
   "source": [
    "# Min Var for given return"
   ]
  },
  {
   "cell_type": "code",
   "execution_count": null,
   "metadata": {},
   "outputs": [],
   "source": [
    "required_return = 0.4"
   ]
  },
  {
   "cell_type": "code",
   "execution_count": null,
   "metadata": {},
   "outputs": [],
   "source": [
    "constraints = ({'type':'eq','fun': lambda weights: np.sum(weights)-1},\n",
    "               {'type':'eq','fun': lambda weights: calculate_returns(weights,log_returns) - required_return})"
   ]
  },
  {
   "cell_type": "code",
   "execution_count": null,
   "metadata": {},
   "outputs": [],
   "source": [
    "bounds = tuple((0,1) for n in range(n))\n",
    "equal_weights = n * [1/n] #going to be our starting point then the function will look at either direction for minimum negative SG"
   ]
  },
  {
   "cell_type": "code",
   "execution_count": null,
   "metadata": {},
   "outputs": [],
   "source": [
    "def calculate_vol(weights):\n",
    "    annualized_cov = np.dot(log_returns.cov()*252,weights)\n",
    "    vol = np.dot(weights.transpose(),annualized_cov)\n",
    "    return np.sqrt(vol)"
   ]
  },
  {
   "cell_type": "code",
   "execution_count": null,
   "metadata": {},
   "outputs": [],
   "source": [
    "result = minimize(fun=calculate_vol,x0=equal_weights,bounds=bounds,constraints=constraints)"
   ]
  },
  {
   "cell_type": "code",
   "execution_count": null,
   "metadata": {},
   "outputs": [],
   "source": [
    "result\n"
   ]
  },
  {
   "cell_type": "code",
   "execution_count": null,
   "metadata": {},
   "outputs": [],
   "source": [
    "min_var_weights = result['x']"
   ]
  },
  {
   "cell_type": "code",
   "execution_count": null,
   "metadata": {},
   "outputs": [],
   "source": [
    "min_var_weights"
   ]
  },
  {
   "cell_type": "code",
   "execution_count": null,
   "metadata": {},
   "outputs": [],
   "source": [
    "calculate_vol(min_var_weights)"
   ]
  },
  {
   "cell_type": "markdown",
   "metadata": {},
   "source": [
    "# Max return for given vol"
   ]
  },
  {
   "cell_type": "code",
   "execution_count": null,
   "metadata": {},
   "outputs": [],
   "source": [
    "required_vol = 0.4"
   ]
  },
  {
   "cell_type": "code",
   "execution_count": null,
   "metadata": {},
   "outputs": [],
   "source": [
    "constraints = ({'type':'eq','fun': lambda weights: np.sum(weights)-1},\n",
    "               {'type':'eq','fun': lambda weights: calculate_vol(weights) - required_vol})"
   ]
  },
  {
   "cell_type": "code",
   "execution_count": null,
   "metadata": {},
   "outputs": [],
   "source": [
    "bounds = tuple((0,1) for n in range(n))\n",
    "equal_weights = n * [1/n] #going to be our starting point then the function will look at either direction for minimum negative SG"
   ]
  },
  {
   "cell_type": "code",
   "execution_count": null,
   "metadata": {},
   "outputs": [],
   "source": [
    "def calculate_ret(weights):\n",
    "    # Annual log Returns\n",
    "\n",
    "    return -1 * np.sum(log_returns.mean()*weights) * 252"
   ]
  },
  {
   "cell_type": "code",
   "execution_count": null,
   "metadata": {},
   "outputs": [],
   "source": [
    "result = minimize(fun=calculate_ret,x0=equal_weights,bounds=bounds,constraints=constraints)"
   ]
  },
  {
   "cell_type": "code",
   "execution_count": null,
   "metadata": {},
   "outputs": [],
   "source": [
    "result"
   ]
  },
  {
   "cell_type": "code",
   "execution_count": null,
   "metadata": {},
   "outputs": [],
   "source": [
    "calculate_ret(result['x']) * -1"
   ]
  },
  {
   "cell_type": "markdown",
   "metadata": {},
   "source": []
  },
  {
   "cell_type": "code",
   "execution_count": null,
   "metadata": {},
   "outputs": [],
   "source": [
    "given_ret = 0.3\n",
    "given_vol = 0.4"
   ]
  },
  {
   "cell_type": "code",
   "execution_count": null,
   "metadata": {},
   "outputs": [],
   "source": [
    "constraints = ({'type':'eq','fun': lambda weights: np.sum(weights)-1},\n",
    "               {'type':'eq','fun': lambda weights: calculate_vol(weights) - given_vol},\n",
    "               {'type':'eq','fun': lambda weights: calculate_returns(weights,log_returns) - given_ret})"
   ]
  },
  {
   "cell_type": "code",
   "execution_count": null,
   "metadata": {},
   "outputs": [],
   "source": [
    "bounds = tuple((0,1) for n in range(n))\n",
    "equal_weights = n * [1/n] #going to be our starting point then the function will look at either direction for minimum negative SG"
   ]
  },
  {
   "cell_type": "code",
   "execution_count": null,
   "metadata": {},
   "outputs": [],
   "source": [
    "def function_to_minimize(weights):\n",
    "\n",
    "    # minimize a -1 * SR (that's how the math works here, but it is the same as maximizing SR)\n",
    "    return -1 * ((calculate_returns(weights, log_returns) - 0 )/calculate_volatility(weights, log_returns)) # assuming rf =0\n"
   ]
  },
  {
   "cell_type": "code",
   "execution_count": null,
   "metadata": {},
   "outputs": [],
   "source": [
    "results = minimize(fun=function_to_minimize,\n",
    "        x0=equal_weights,\n",
    "        bounds=bounds,\n",
    "        constraints=constraints)"
   ]
  },
  {
   "cell_type": "code",
   "execution_count": null,
   "metadata": {},
   "outputs": [],
   "source": [
    "results"
   ]
  },
  {
   "cell_type": "code",
   "execution_count": null,
   "metadata": {},
   "outputs": [],
   "source": []
  }
 ],
 "metadata": {
  "interpreter": {
   "hash": "7721351e5879682ba19781c9ae1e618cad7501e9e7e18d108f2dc9697e683748"
  },
  "kernelspec": {
   "display_name": "Python 3.9.7 64-bit ('base': conda)",
   "language": "python",
   "name": "python3"
  },
  "language_info": {
   "codemirror_mode": {
    "name": "ipython",
    "version": 3
   },
   "file_extension": ".py",
   "mimetype": "text/x-python",
   "name": "python",
   "nbconvert_exporter": "python",
   "pygments_lexer": "ipython3",
   "version": "3.9.7"
  },
  "orig_nbformat": 4
 },
 "nbformat": 4,
 "nbformat_minor": 2
}
