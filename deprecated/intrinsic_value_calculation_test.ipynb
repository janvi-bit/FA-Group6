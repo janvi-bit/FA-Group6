{
 "cells": [
  {
   "cell_type": "code",
   "execution_count": null,
   "id": "6a843d8c",
   "metadata": {},
   "outputs": [],
   "source": [
    "# pip install yahoo-finance"
   ]
  },
  {
   "cell_type": "code",
   "execution_count": 1,
   "id": "9e70896c",
   "metadata": {},
   "outputs": [],
   "source": [
    "import yfinance as yf"
   ]
  },
  {
   "cell_type": "code",
   "execution_count": 9,
   "id": "f07d33fb",
   "metadata": {},
   "outputs": [
    {
     "name": "stdout",
     "output_type": "stream",
     "text": [
      "dict_keys(['zip', 'sector', 'fullTimeEmployees', 'longBusinessSummary', 'city', 'phone', 'state', 'country', 'companyOfficers', 'website', 'maxAge', 'address1', 'industry', 'ebitdaMargins', 'profitMargins', 'grossMargins', 'operatingCashflow', 'revenueGrowth', 'operatingMargins', 'ebitda', 'targetLowPrice', 'recommendationKey', 'grossProfits', 'freeCashflow', 'targetMedianPrice', 'currentPrice', 'earningsGrowth', 'currentRatio', 'returnOnAssets', 'numberOfAnalystOpinions', 'targetMeanPrice', 'debtToEquity', 'returnOnEquity', 'targetHighPrice', 'totalCash', 'totalDebt', 'totalRevenue', 'totalCashPerShare', 'financialCurrency', 'revenuePerShare', 'quickRatio', 'recommendationMean', 'exchange', 'shortName', 'longName', 'exchangeTimezoneName', 'exchangeTimezoneShortName', 'isEsgPopulated', 'gmtOffSetMilliseconds', 'quoteType', 'symbol', 'messageBoardId', 'market', 'annualHoldingsTurnover', 'enterpriseToRevenue', 'beta3Year', 'enterpriseToEbitda', '52WeekChange', 'morningStarRiskRating', 'forwardEps', 'revenueQuarterlyGrowth', 'sharesOutstanding', 'fundInceptionDate', 'annualReportExpenseRatio', 'totalAssets', 'bookValue', 'sharesShort', 'sharesPercentSharesOut', 'fundFamily', 'lastFiscalYearEnd', 'heldPercentInstitutions', 'netIncomeToCommon', 'trailingEps', 'lastDividendValue', 'SandP52WeekChange', 'priceToBook', 'heldPercentInsiders', 'nextFiscalYearEnd', 'yield', 'mostRecentQuarter', 'shortRatio', 'sharesShortPreviousMonthDate', 'floatShares', 'beta', 'enterpriseValue', 'priceHint', 'threeYearAverageReturn', 'lastSplitDate', 'lastSplitFactor', 'legalType', 'lastDividendDate', 'morningStarOverallRating', 'earningsQuarterlyGrowth', 'priceToSalesTrailing12Months', 'dateShortInterest', 'pegRatio', 'ytdReturn', 'forwardPE', 'lastCapGain', 'shortPercentOfFloat', 'sharesShortPriorMonth', 'impliedSharesOutstanding', 'category', 'fiveYearAverageReturn', 'previousClose', 'regularMarketOpen', 'twoHundredDayAverage', 'trailingAnnualDividendYield', 'payoutRatio', 'volume24Hr', 'regularMarketDayHigh', 'navPrice', 'averageDailyVolume10Day', 'regularMarketPreviousClose', 'fiftyDayAverage', 'trailingAnnualDividendRate', 'open', 'toCurrency', 'averageVolume10days', 'expireDate', 'algorithm', 'dividendRate', 'exDividendDate', 'circulatingSupply', 'startDate', 'regularMarketDayLow', 'currency', 'trailingPE', 'regularMarketVolume', 'lastMarket', 'maxSupply', 'openInterest', 'marketCap', 'volumeAllCurrencies', 'strikePrice', 'averageVolume', 'dayLow', 'ask', 'askSize', 'volume', 'fiftyTwoWeekHigh', 'fromCurrency', 'fiveYearAvgDividendYield', 'fiftyTwoWeekLow', 'bid', 'tradeable', 'dividendYield', 'bidSize', 'dayHigh', 'regularMarketPrice', 'preMarketPrice', 'logo_url', 'trailingPegRatio'])\n"
     ]
    }
   ],
   "source": [
    "AAPL = yf.Ticker(\"AAPL\")\n",
    "print(AAPL.info.keys())"
   ]
  },
  {
   "cell_type": "code",
   "execution_count": 5,
   "id": "51056a90",
   "metadata": {},
   "outputs": [
    {
     "data": {
      "text/plain": [
       "6.015"
      ]
     },
     "execution_count": 5,
     "metadata": {},
     "output_type": "execute_result"
    }
   ],
   "source": [
    "# extracting EPS(TTM) of stock from Yahoo Finance\n",
    "\n",
    "eps = AAPL.info['trailingEps']\n",
    "eps"
   ]
  },
  {
   "cell_type": "code",
   "execution_count": 18,
   "id": "61418845",
   "metadata": {},
   "outputs": [],
   "source": [
    "# CHANGE FOR EACH STOCK\n",
    "# manual extraction of growth estimate: next 5 years (per annum)\n",
    "# in percentage\n",
    "growth_estimate = 14.85 / 100"
   ]
  },
  {
   "cell_type": "code",
   "execution_count": 32,
   "id": "e698ae6e",
   "metadata": {},
   "outputs": [
    {
     "data": {
      "text/plain": [
       "0.15"
      ]
     },
     "execution_count": 32,
     "metadata": {},
     "output_type": "execute_result"
    }
   ],
   "source": [
    "# FIXED\n",
    "# set minimum rate of return as 15%, slightly above the returns from index funds\n",
    "# in percentage\n",
    "min_ror = 15 / 100\n",
    "min_ror"
   ]
  },
  {
   "cell_type": "code",
   "execution_count": 12,
   "id": "9966df0d",
   "metadata": {},
   "outputs": [
    {
     "data": {
      "text/plain": [
       "0.5"
      ]
     },
     "execution_count": 12,
     "metadata": {},
     "output_type": "execute_result"
    }
   ],
   "source": [
    "# FIXED\n",
    "# only buy when stock price gets to 50% of what asset manager thinks it's worth \n",
    "\n",
    "margin_of_safety = 50 / 100\n",
    "margin_of_safety"
   ]
  },
  {
   "cell_type": "code",
   "execution_count": 20,
   "id": "3686fc30",
   "metadata": {},
   "outputs": [
    {
     "data": {
      "text/plain": [
       "25.509999999999998"
      ]
     },
     "execution_count": 20,
     "metadata": {},
     "output_type": "execute_result"
    }
   ],
   "source": [
    "# CHANGE FOR EACH STOCK\n",
    "# manual calculation of P/E ratio using MSN money -> analysis -> price ratios\n",
    "# P/E = (P/E Ratio 5-Year High + P/E Ratio 5-Year Low)/2\n",
    "estimated_pe = ( 34.28 + 16.74 ) / 2\n",
    "estimated_pe"
   ]
  },
  {
   "cell_type": "code",
   "execution_count": 19,
   "id": "9327bed0",
   "metadata": {},
   "outputs": [
    {
     "data": {
      "text/plain": [
       "[6.015,\n",
       " 6.9082275,\n",
       " 7.934099283749999,\n",
       " 9.112313027386874,\n",
       " 10.465491511953823,\n",
       " 12.019617001478967,\n",
       " 13.804530126198593,\n",
       " 15.854502849939085,\n",
       " 18.20889652315504]"
      ]
     },
     "execution_count": 19,
     "metadata": {},
     "output_type": "execute_result"
    }
   ],
   "source": [
    "year1_earnings = eps\n",
    "\n",
    "list_of_future_earnings = [year1_earnings]\n",
    "for year in range(2,10):\n",
    "    predicted_earning = list_of_future_earnings[year-2] + (list_of_future_earnings[year-2]*growth_estimate)\n",
    "    list_of_future_earnings.append(predicted_earning)\n",
    "list_of_future_earnings"
   ]
  },
  {
   "cell_type": "code",
   "execution_count": 48,
   "id": "298f7f3f",
   "metadata": {},
   "outputs": [
    {
     "data": {
      "text/plain": [
       "[132.04243462813017,\n",
       " 151.8487998223497,\n",
       " 174.62611979570212,\n",
       " 200.82003776505744,\n",
       " 230.94304342981604,\n",
       " 265.58449994428844,\n",
       " 305.4221749359317,\n",
       " 351.23550117632146,\n",
       " 403.92082635276967,\n",
       " 464.50895030568506]"
      ]
     },
     "execution_count": 48,
     "metadata": {},
     "output_type": "execute_result"
    }
   ],
   "source": [
    "estimated_share_price_in_10_years = list_of_future_earnings[-1] * estimated_pe\n",
    "estimated_share_prices = [estimated_share_price_in_10_years]\n",
    "\n",
    "for i in range(len(list_of_future_earnings)):\n",
    "    estimated_share = estimated_share_prices[i] / (1 + min_ror)\n",
    "    estimated_share_prices.append(estimated_share)\n",
    "final = list(reversed(estimated_share_prices))\n",
    "final"
   ]
  },
  {
   "cell_type": "code",
   "execution_count": 49,
   "id": "6a96ce66",
   "metadata": {},
   "outputs": [
    {
     "data": {
      "text/plain": [
       "132.04243462813017"
      ]
     },
     "execution_count": 49,
     "metadata": {},
     "output_type": "execute_result"
    }
   ],
   "source": [
    "intrinsic_value = final[0]\n",
    "intrinsic_value"
   ]
  },
  {
   "cell_type": "markdown",
   "id": "41f49679",
   "metadata": {},
   "source": [
    "## extra cool stuff"
   ]
  },
  {
   "cell_type": "code",
   "execution_count": 7,
   "id": "a4171fd6",
   "metadata": {},
   "outputs": [
    {
     "name": "stdout",
     "output_type": "stream",
     "text": [
      "                                     Value\n",
      "2022-2                                    \n",
      "palmOil                              False\n",
      "controversialWeapons                 False\n",
      "gambling                             False\n",
      "socialScore                           6.86\n",
      "nuclear                              False\n",
      "furLeather                           False\n",
      "alcoholic                            False\n",
      "gmo                                  False\n",
      "catholic                             False\n",
      "socialPercentile                      None\n",
      "peerCount                               55\n",
      "governanceScore                       8.76\n",
      "environmentPercentile                 None\n",
      "animalTesting                        False\n",
      "tobacco                              False\n",
      "totalEsg                             16.27\n",
      "highestControversy                       3\n",
      "esgPerformance                  UNDER_PERF\n",
      "coal                                 False\n",
      "pesticides                           False\n",
      "adult                                False\n",
      "percentile                           12.87\n",
      "peerGroup              Technology Hardware\n",
      "smallArms                            False\n",
      "environmentScore                      0.65\n",
      "governancePercentile                  None\n",
      "militaryContract                     False\n"
     ]
    }
   ],
   "source": [
    "print(AAPL.sustainability)"
   ]
  },
  {
   "cell_type": "code",
   "execution_count": 8,
   "id": "e358403e",
   "metadata": {},
   "outputs": [
    {
     "name": "stdout",
     "output_type": "stream",
     "text": [
      "            Dividends  Stock Splits\n",
      "Date                               \n",
      "1987-05-11   0.000536           0.0\n",
      "1987-06-16   0.000000           2.0\n",
      "1987-08-10   0.000536           0.0\n",
      "1987-11-17   0.000714           0.0\n",
      "1988-02-12   0.000714           0.0\n",
      "...               ...           ...\n",
      "2021-02-05   0.205000           0.0\n",
      "2021-05-07   0.220000           0.0\n",
      "2021-08-06   0.220000           0.0\n",
      "2021-11-05   0.220000           0.0\n",
      "2022-02-04   0.220000           0.0\n",
      "\n",
      "[79 rows x 2 columns]\n"
     ]
    }
   ],
   "source": [
    "print(AAPL.actions)"
   ]
  }
 ],
 "metadata": {
  "kernelspec": {
   "display_name": "Python 3 (ipykernel)",
   "language": "python",
   "name": "python3"
  },
  "language_info": {
   "codemirror_mode": {
    "name": "ipython",
    "version": 3
   },
   "file_extension": ".py",
   "mimetype": "text/x-python",
   "name": "python",
   "nbconvert_exporter": "python",
   "pygments_lexer": "ipython3",
   "version": "3.9.7"
  }
 },
 "nbformat": 4,
 "nbformat_minor": 5
}
