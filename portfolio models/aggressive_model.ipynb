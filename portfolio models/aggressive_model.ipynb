{
 "cells": [
  {
   "cell_type": "code",
   "execution_count": 1,
   "id": "f72fee01",
   "metadata": {},
   "outputs": [
    {
     "name": "stderr",
     "output_type": "stream",
     "text": [
      "/Users/marwan/opt/anaconda3/lib/python3.9/site-packages/pyfolio/pos.py:26: UserWarning: Module \"zipline.assets\" not found; mutltipliers will not be applied to position notionals.\n",
      "  warnings.warn(\n"
     ]
    }
   ],
   "source": [
    "import pandas as pd\n",
    "import numpy as np\n",
    "from datetime import date\n",
    "import matplotlib.pyplot as plt\n",
    "import seaborn as sns\n",
    "from tabulate import tabulate\n",
    "from pandas_datareader import data\n",
    "from scipy.optimize import minimize\n",
    "import matplotlib.pyplot as plt\n",
    "import scipy.stats\n",
    "from scipy.stats import norm\n",
    "import pyfolio as pf\n",
    "%matplotlib inline"
   ]
  },
  {
   "cell_type": "code",
   "execution_count": null,
   "id": "545db8ba",
   "metadata": {},
   "outputs": [],
   "source": [
    "import csv\n",
    "df = pd.read_csv('Final_stock_data_V2.csv')\n",
    "df"
   ]
  },
  {
   "cell_type": "code",
   "execution_count": null,
   "id": "4ae15c60",
   "metadata": {},
   "outputs": [],
   "source": [
    "df['sector'].hist(xrot=90)"
   ]
  },
  {
   "cell_type": "markdown",
   "id": "110774e2",
   "metadata": {},
   "source": [
    "## Filter based on 2/3 criteria"
   ]
  },
  {
   "cell_type": "code",
   "execution_count": null,
   "id": "49eea520",
   "metadata": {},
   "outputs": [],
   "source": [
    "def check_criteria(each):\n",
    "    check = []\n",
    "    if each[\"capm_status\"] == \"UnderValued\":\n",
    "        check.append(True)\n",
    "    if each[\"Earnings_expectation\"] == \"Increase\":\n",
    "        check.append(True)\n",
    "    if each[\"irv_status\"] == \"Below Fair Price\":\n",
    "        check.append(True)\n",
    "    return check"
   ]
  },
  {
   "cell_type": "code",
   "execution_count": null,
   "id": "7338cd06",
   "metadata": {},
   "outputs": [],
   "source": [
    "def check_number(criteria):\n",
    "    if len(criteria) >= 2:\n",
    "        return True\n",
    "    else:\n",
    "        return False"
   ]
  },
  {
   "cell_type": "code",
   "execution_count": null,
   "id": "c95eff4c",
   "metadata": {},
   "outputs": [],
   "source": [
    "rows = []\n",
    "for i in range(938):\n",
    "    each = df.iloc[i]\n",
    "    criteria = check_criteria(each)\n",
    "    result = check_number(criteria)\n",
    "    if result:\n",
    "        rows.append(i)"
   ]
  },
  {
   "cell_type": "code",
   "execution_count": null,
   "id": "655c9990",
   "metadata": {},
   "outputs": [],
   "source": [
    "len(rows)"
   ]
  },
  {
   "cell_type": "code",
   "execution_count": null,
   "id": "3db90343",
   "metadata": {},
   "outputs": [],
   "source": [
    "df = df.iloc[rows]\n",
    "df"
   ]
  },
  {
   "cell_type": "code",
   "execution_count": null,
   "id": "21de7ec9",
   "metadata": {},
   "outputs": [],
   "source": [
    "#total number of stocks for each sector \n",
    "\n",
    "df[\"sector\"].value_counts()"
   ]
  },
  {
   "cell_type": "code",
   "execution_count": null,
   "id": "e1b0f131",
   "metadata": {},
   "outputs": [],
   "source": [
    "#df for each sector\n",
    "\n",
    "df_basic_materials = df.loc[df['sector'] == 'Basic Materials']\n",
    "df_communication = df.loc[df['sector'] == 'Communication Services']\n",
    "df_consumer_c = df.loc[df['sector'] == 'Consumer Cyclical']\n",
    "df_consumer_d = df.loc[df['sector'] == 'Consumer Defensive']\n",
    "df_energy = df.loc[df['sector'] == 'Energy']\n",
    "df_financial = df.loc[df['sector'] == 'Financial Services']\n",
    "df_healthcare = df.loc[df['sector'] == 'Healthcare']\n",
    "df_industrials = df.loc[df['sector'] == 'Industrials']\n",
    "df_real_estate = df.loc[df['sector'] == 'Real Estate']\n",
    "df_tech = df.loc[df['sector'] == 'Technology']\n",
    "df_utilites = df.loc[df['sector'] == 'Utilities']"
   ]
  },
  {
   "cell_type": "markdown",
   "id": "508ef430",
   "metadata": {},
   "source": [
    "## Selection of Sector based on Returns"
   ]
  },
  {
   "cell_type": "code",
   "execution_count": null,
   "id": "5282a92d",
   "metadata": {},
   "outputs": [],
   "source": [
    "#calculating the average returns\n",
    "\n",
    "basic_returns = df_basic_materials['annu_return_5y'].mean()\n",
    "comm_returns = df_communication['annu_return_5y'].mean()\n",
    "consumer_c_returns = df_consumer_c['annu_return_5y'].mean()\n",
    "consumer_d_returns = df_consumer_d['annu_return_5y'].mean()\n",
    "energy_returns = df_energy['annu_return_5y'].mean()\n",
    "financial_returns = df_financial['annu_return_5y'].mean()\n",
    "healthcare_returns = df_healthcare['annu_return_5y'].mean()\n",
    "industrials_returns = df_industrials['annu_return_5y'].mean()\n",
    "real_estate_returns = df_real_estate['annu_return_5y'].mean()\n",
    "tech_returns = df_tech['annu_return_5y'].mean()\n",
    "utilities_returns = df_utilites['annu_return_5y'].mean()\n",
    "\n",
    "print(tabulate([['Basic Materials', basic_returns],['Communication Services', comm_returns],['Consumer Cyclical', consumer_c_returns],['Consumer Defensive', consumer_d_returns], ['Energy', energy_returns], ['Financial Services', financial_returns], ['Healthcare', healthcare_returns], ['Industrials', industrials_returns], ['Real Estate', real_estate_returns], ['Technology', tech_returns], ['Utilities', utilities_returns]],\n",
    "               headers=['Sector','Annual Returns']))"
   ]
  },
  {
   "cell_type": "markdown",
   "id": "660428b9",
   "metadata": {},
   "source": [
    "From above, the top 3 sectors that give the highest returns is Technology (0.123625), Utilities (0.118782), Real Estate (0.106064). These will be the chosen sectors for the aggressive model. "
   ]
  },
  {
   "cell_type": "code",
   "execution_count": null,
   "id": "1b64daaa",
   "metadata": {},
   "outputs": [],
   "source": [
    "#combining the top 3 sectors into 1 dataframe\n",
    "\n",
    "df2 = pd.concat([df_tech, df_utilites, df_real_estate])\n",
    "df2"
   ]
  },
  {
   "cell_type": "markdown",
   "id": "ee20a5e5",
   "metadata": {},
   "source": [
    "## Filtering Stocks based on Sharpe Ratio"
   ]
  },
  {
   "cell_type": "code",
   "execution_count": null,
   "id": "f8b2f953",
   "metadata": {},
   "outputs": [],
   "source": [
    "def get_closeprice(ticker):    \n",
    "    start_date = str(date.today().year - 5) +'-0'+ str(date.today().month) +'-'+ str(date.today().day)\n",
    "    end_date = str(date.today())\n",
    "    \n",
    "    panel_data = data.DataReader([ticker],'yahoo', start_date, end_date)\n",
    "    closes = panel_data[[\"Close\", \"Adj Close\"]]\n",
    "    \n",
    "    return closes"
   ]
  },
  {
   "cell_type": "code",
   "execution_count": null,
   "id": "d828d80c",
   "metadata": {},
   "outputs": [],
   "source": [
    "def get_sharpe_ratio(ticker):\n",
    "    \n",
    "    closes = get_closeprice(ticker)\n",
    "    adj_close = closes[\"Adj Close\"]\n",
    "    \n",
    "    risk_free_ann_ret_rate = 0.0195  #assuming this rate based on the latest data\n",
    "     \n",
    "    #Rp\n",
    "    returns_ts = adj_close.pct_change().dropna()\n",
    "    \n",
    "    #Average Rp\n",
    "    avg_daily_ret = returns_ts.mean()\n",
    "\n",
    "    #Average risk-free rate for the year (Annual rate / number of trading days to spread it out)\n",
    "    returns_ts['RiskFree_Rate'] = risk_free_ann_ret_rate/252\n",
    "\n",
    "    #Average Rf\n",
    "    avg_rf_ret = returns_ts['RiskFree_Rate'].mean()\n",
    "\n",
    "    #calculate sharpe ratio\n",
    "\n",
    "    #Add the excess return columns for each ETF: Rp - Rf\n",
    "    returns_ts['Excess_ret'] = returns_ts[ticker] - returns_ts['RiskFree_Rate']\n",
    "    \n",
    "    sharpe = ((avg_daily_ret[ticker] - avg_rf_ret) /returns_ts['Excess_ret'].std())*np.sqrt(252)\n",
    "\n",
    "    return sharpe.round(3)"
   ]
  },
  {
   "cell_type": "code",
   "execution_count": null,
   "id": "93203773",
   "metadata": {
    "scrolled": false
   },
   "outputs": [],
   "source": [
    "sharpe_list = []\n",
    "for i in range(len(df2)):\n",
    "    each = df2.iloc[i]\n",
    "    ticker = each[\"ticker\"]\n",
    "    sharpe = get_sharpe_ratio(ticker)\n",
    "    sharpe_list.append(sharpe)"
   ]
  },
  {
   "cell_type": "code",
   "execution_count": null,
   "id": "2abc9cf6",
   "metadata": {},
   "outputs": [],
   "source": [
    "sharpe_list"
   ]
  },
  {
   "cell_type": "code",
   "execution_count": null,
   "id": "18ee78f0",
   "metadata": {},
   "outputs": [],
   "source": [
    "df2[\"sharpe\"] = sharpe_list\n",
    "df2"
   ]
  },
  {
   "cell_type": "code",
   "execution_count": null,
   "id": "a6c04403",
   "metadata": {
    "scrolled": false
   },
   "outputs": [],
   "source": [
    "#only choosing stocks which has a sharpe ratio of more than 0.6 \n",
    "\n",
    "df3 = df2[df2[\"sharpe\"] > 0.6]\n",
    "df3"
   ]
  },
  {
   "cell_type": "markdown",
   "id": "46ba3eb2",
   "metadata": {},
   "source": [
    "## Correlation between Stocks"
   ]
  },
  {
   "cell_type": "code",
   "execution_count": null,
   "id": "59d16f2f",
   "metadata": {},
   "outputs": [],
   "source": [
    "def get_return_series(ticker):\n",
    "    closes = get_closeprice(ticker)\n",
    "    return_series_close = (closes['Close'].pct_change()+ 1).cumprod() - 1\n",
    "    return return_series_close"
   ]
  },
  {
   "cell_type": "code",
   "execution_count": null,
   "id": "1b568cab",
   "metadata": {},
   "outputs": [],
   "source": [
    "returns_list = []\n",
    "for i in range(len(df3)):\n",
    "    each = df3.iloc[i]\n",
    "    ticker = each[\"ticker\"]\n",
    "    returns = get_return_series(ticker)\n",
    "    if (len(returns) == 1260):\n",
    "        returns_list.append(returns)"
   ]
  },
  {
   "cell_type": "code",
   "execution_count": null,
   "id": "080f51b7",
   "metadata": {
    "scrolled": false
   },
   "outputs": [],
   "source": [
    "returns_list"
   ]
  },
  {
   "cell_type": "code",
   "execution_count": null,
   "id": "3a7f009d",
   "metadata": {},
   "outputs": [],
   "source": [
    "return_series_close = pd.concat(returns_list, axis=1)\n",
    "return_series_close"
   ]
  },
  {
   "cell_type": "code",
   "execution_count": null,
   "id": "ca85b659",
   "metadata": {},
   "outputs": [],
   "source": [
    "return_series_close.plot(figsize=(16,9))"
   ]
  },
  {
   "cell_type": "code",
   "execution_count": null,
   "id": "38d0eae8",
   "metadata": {},
   "outputs": [],
   "source": [
    "highest = return_series_close[return_series_close.tail(1) > 5]"
   ]
  },
  {
   "cell_type": "code",
   "execution_count": null,
   "id": "f6520ad5",
   "metadata": {},
   "outputs": [],
   "source": [
    "highest.dropna(axis=1, how=\"all\")"
   ]
  },
  {
   "cell_type": "code",
   "execution_count": null,
   "id": "247158fa",
   "metadata": {},
   "outputs": [],
   "source": [
    "correlation = return_series_close.corr()\n",
    "# correlation\n",
    "fig, ax = plt.subplots(figsize=(16,10))\n",
    "sns.heatmap(correlation, annot = True, ax = ax, cmap=\"YlGnBu\")"
   ]
  },
  {
   "cell_type": "code",
   "execution_count": null,
   "id": "f1f01300",
   "metadata": {},
   "outputs": [],
   "source": [
    "#only choosing stocks with correlation less than 1 for diversification\n",
    "\n",
    "correlation = correlation[correlation < 0.1]\n",
    "correlation"
   ]
  },
  {
   "cell_type": "markdown",
   "id": "4a6ea18c",
   "metadata": {},
   "source": [
    "## Final DF"
   ]
  },
  {
   "cell_type": "code",
   "execution_count": null,
   "id": "1deb643f",
   "metadata": {},
   "outputs": [],
   "source": [
    "all_stocks = []\n",
    "for each in correlation:\n",
    "    all_stocks.append(each)"
   ]
  },
  {
   "cell_type": "code",
   "execution_count": null,
   "id": "a13ec4b8",
   "metadata": {},
   "outputs": [],
   "source": [
    "indexes = []\n",
    "for i in range(len(df3)):\n",
    "    each = df3.iloc[i]\n",
    "    ticker = each[\"ticker\"]\n",
    "    if ticker in all_stocks:\n",
    "        indexes.append(i)"
   ]
  },
  {
   "cell_type": "code",
   "execution_count": null,
   "id": "ba8698ff",
   "metadata": {},
   "outputs": [],
   "source": [
    "chosen_df = df3.iloc[indexes]\n",
    "chosen_df"
   ]
  },
  {
   "cell_type": "code",
   "execution_count": null,
   "id": "836273d5",
   "metadata": {},
   "outputs": [],
   "source": [
    "chosen_df.to_csv(\"selected_stocks_aggressive.csv\")"
   ]
  },
  {
   "cell_type": "markdown",
   "id": "b333f404",
   "metadata": {},
   "source": [
    "## Bonds"
   ]
  },
  {
   "cell_type": "code",
   "execution_count": null,
   "id": "315f9560",
   "metadata": {},
   "outputs": [],
   "source": [
    "pip install Nasdaq-Data-Link"
   ]
  },
  {
   "cell_type": "code",
   "execution_count": null,
   "id": "1242c54e",
   "metadata": {},
   "outputs": [],
   "source": [
    "pip install quandl"
   ]
  },
  {
   "cell_type": "code",
   "execution_count": 2,
   "id": "0836d522",
   "metadata": {},
   "outputs": [],
   "source": [
    "import nasdaqdatalink\n",
    "import quandl"
   ]
  },
  {
   "cell_type": "code",
   "execution_count": 3,
   "id": "64213cf4",
   "metadata": {},
   "outputs": [
    {
     "data": {
      "text/plain": [
       "Date\n",
       "1990-01-02    7.87\n",
       "1990-01-03    7.92\n",
       "1990-01-04    7.91\n",
       "1990-01-05    7.92\n",
       "1990-01-08    7.92\n",
       "              ... \n",
       "2022-01-31    1.62\n",
       "2022-02-01    1.63\n",
       "2022-02-02    1.60\n",
       "2022-02-03    1.66\n",
       "2022-02-04    1.78\n",
       "Name: 5 YR, Length: 8032, dtype: float64"
      ]
     },
     "execution_count": 3,
     "metadata": {},
     "output_type": "execute_result"
    }
   ],
   "source": [
    "quandl.get('USTREASURY/YIELD')['5 YR']\n",
    "#expected return from US 5y treasury bond is 1.78"
   ]
  },
  {
   "cell_type": "markdown",
   "id": "f4a29527",
   "metadata": {},
   "source": [
    "## Aggressive Model 1: 70% Stocks & 30% Bonds"
   ]
  },
  {
   "cell_type": "code",
   "execution_count": 9,
   "id": "be4e7734",
   "metadata": {},
   "outputs": [],
   "source": [
    "chosen_df = pd.read_csv('selected_stocks_aggressive.csv')\n",
    "adjClose_5y = pd.read_csv('Cleaned_AdjCloseP_5y.csv', index_col='Date')"
   ]
  },
  {
   "cell_type": "code",
   "execution_count": 10,
   "id": "452f05e2",
   "metadata": {},
   "outputs": [],
   "source": [
    "def calculate_returns(weights, log_returns):\n",
    "    # Annual log Returns\n",
    "    \n",
    "    return np.sum(log_returns.mean()*weights) * 252"
   ]
  },
  {
   "cell_type": "code",
   "execution_count": 11,
   "id": "29f321a9",
   "metadata": {},
   "outputs": [
    {
     "data": {
      "text/html": [
       "<div>\n",
       "<style scoped>\n",
       "    .dataframe tbody tr th:only-of-type {\n",
       "        vertical-align: middle;\n",
       "    }\n",
       "\n",
       "    .dataframe tbody tr th {\n",
       "        vertical-align: top;\n",
       "    }\n",
       "\n",
       "    .dataframe thead th {\n",
       "        text-align: right;\n",
       "    }\n",
       "</style>\n",
       "<table border=\"1\" class=\"dataframe\">\n",
       "  <thead>\n",
       "    <tr style=\"text-align: right;\">\n",
       "      <th></th>\n",
       "      <th>ADSK</th>\n",
       "      <th>AMD</th>\n",
       "      <th>ANSS</th>\n",
       "      <th>EPAM</th>\n",
       "      <th>NTAP</th>\n",
       "      <th>QCOM</th>\n",
       "      <th>AOSL</th>\n",
       "      <th>APPS</th>\n",
       "      <th>ASML</th>\n",
       "      <th>AUDC</th>\n",
       "      <th>...</th>\n",
       "      <th>NSIT</th>\n",
       "      <th>ON</th>\n",
       "      <th>POWI</th>\n",
       "      <th>RIOT</th>\n",
       "      <th>RMBS</th>\n",
       "      <th>TTD</th>\n",
       "      <th>UCTT</th>\n",
       "      <th>WDAY</th>\n",
       "      <th>CBRE</th>\n",
       "      <th>SBAC</th>\n",
       "    </tr>\n",
       "    <tr>\n",
       "      <th>Date</th>\n",
       "      <th></th>\n",
       "      <th></th>\n",
       "      <th></th>\n",
       "      <th></th>\n",
       "      <th></th>\n",
       "      <th></th>\n",
       "      <th></th>\n",
       "      <th></th>\n",
       "      <th></th>\n",
       "      <th></th>\n",
       "      <th></th>\n",
       "      <th></th>\n",
       "      <th></th>\n",
       "      <th></th>\n",
       "      <th></th>\n",
       "      <th></th>\n",
       "      <th></th>\n",
       "      <th></th>\n",
       "      <th></th>\n",
       "      <th></th>\n",
       "      <th></th>\n",
       "    </tr>\n",
       "  </thead>\n",
       "  <tbody>\n",
       "    <tr>\n",
       "      <th>2017-02-06</th>\n",
       "      <td>-0.019016</td>\n",
       "      <td>0.107564</td>\n",
       "      <td>-0.001262</td>\n",
       "      <td>-0.012116</td>\n",
       "      <td>0.002088</td>\n",
       "      <td>-0.001889</td>\n",
       "      <td>-0.029289</td>\n",
       "      <td>0.000000</td>\n",
       "      <td>-0.006361</td>\n",
       "      <td>0.053571</td>\n",
       "      <td>...</td>\n",
       "      <td>-0.006116</td>\n",
       "      <td>-0.005034</td>\n",
       "      <td>-0.020928</td>\n",
       "      <td>0.031449</td>\n",
       "      <td>-0.011094</td>\n",
       "      <td>-0.004158</td>\n",
       "      <td>-0.020441</td>\n",
       "      <td>0.011427</td>\n",
       "      <td>-0.015038</td>\n",
       "      <td>-0.012280</td>\n",
       "    </tr>\n",
       "    <tr>\n",
       "      <th>2017-02-07</th>\n",
       "      <td>0.020082</td>\n",
       "      <td>-0.025261</td>\n",
       "      <td>0.002207</td>\n",
       "      <td>0.015768</td>\n",
       "      <td>0.012178</td>\n",
       "      <td>0.007348</td>\n",
       "      <td>-0.005769</td>\n",
       "      <td>0.014389</td>\n",
       "      <td>0.008391</td>\n",
       "      <td>-0.005979</td>\n",
       "      <td>...</td>\n",
       "      <td>-0.002671</td>\n",
       "      <td>0.006468</td>\n",
       "      <td>0.007524</td>\n",
       "      <td>0.051293</td>\n",
       "      <td>0.001592</td>\n",
       "      <td>-0.008718</td>\n",
       "      <td>0.011844</td>\n",
       "      <td>0.007934</td>\n",
       "      <td>-0.002259</td>\n",
       "      <td>0.003728</td>\n",
       "    </tr>\n",
       "    <tr>\n",
       "      <th>2017-02-08</th>\n",
       "      <td>-0.018755</td>\n",
       "      <td>0.020112</td>\n",
       "      <td>-0.000315</td>\n",
       "      <td>-0.013456</td>\n",
       "      <td>0.003342</td>\n",
       "      <td>-0.007159</td>\n",
       "      <td>0.004330</td>\n",
       "      <td>0.000000</td>\n",
       "      <td>0.006711</td>\n",
       "      <td>0.041122</td>\n",
       "      <td>...</td>\n",
       "      <td>-0.002946</td>\n",
       "      <td>0.003575</td>\n",
       "      <td>0.013403</td>\n",
       "      <td>-0.065323</td>\n",
       "      <td>-0.013617</td>\n",
       "      <td>-0.007383</td>\n",
       "      <td>-0.003145</td>\n",
       "      <td>-0.002910</td>\n",
       "      <td>-0.005508</td>\n",
       "      <td>0.019561</td>\n",
       "    </tr>\n",
       "    <tr>\n",
       "      <th>2017-02-09</th>\n",
       "      <td>0.011390</td>\n",
       "      <td>-0.010378</td>\n",
       "      <td>0.011381</td>\n",
       "      <td>0.014215</td>\n",
       "      <td>0.008944</td>\n",
       "      <td>-0.000189</td>\n",
       "      <td>0.010031</td>\n",
       "      <td>0.014185</td>\n",
       "      <td>0.003459</td>\n",
       "      <td>-0.015954</td>\n",
       "      <td>...</td>\n",
       "      <td>0.169589</td>\n",
       "      <td>-0.003575</td>\n",
       "      <td>-0.017911</td>\n",
       "      <td>0.065323</td>\n",
       "      <td>0.019961</td>\n",
       "      <td>0.024400</td>\n",
       "      <td>0.001574</td>\n",
       "      <td>0.002328</td>\n",
       "      <td>0.025342</td>\n",
       "      <td>0.007180</td>\n",
       "    </tr>\n",
       "    <tr>\n",
       "      <th>2017-02-10</th>\n",
       "      <td>-0.007779</td>\n",
       "      <td>0.011852</td>\n",
       "      <td>0.005591</td>\n",
       "      <td>0.010718</td>\n",
       "      <td>0.003555</td>\n",
       "      <td>0.020959</td>\n",
       "      <td>0.038690</td>\n",
       "      <td>0.027780</td>\n",
       "      <td>0.002647</td>\n",
       "      <td>0.010182</td>\n",
       "      <td>...</td>\n",
       "      <td>0.022609</td>\n",
       "      <td>0.012812</td>\n",
       "      <td>0.006006</td>\n",
       "      <td>-0.005900</td>\n",
       "      <td>0.011006</td>\n",
       "      <td>0.000344</td>\n",
       "      <td>-0.001574</td>\n",
       "      <td>-0.005597</td>\n",
       "      <td>0.074153</td>\n",
       "      <td>-0.006245</td>\n",
       "    </tr>\n",
       "    <tr>\n",
       "      <th>...</th>\n",
       "      <td>...</td>\n",
       "      <td>...</td>\n",
       "      <td>...</td>\n",
       "      <td>...</td>\n",
       "      <td>...</td>\n",
       "      <td>...</td>\n",
       "      <td>...</td>\n",
       "      <td>...</td>\n",
       "      <td>...</td>\n",
       "      <td>...</td>\n",
       "      <td>...</td>\n",
       "      <td>...</td>\n",
       "      <td>...</td>\n",
       "      <td>...</td>\n",
       "      <td>...</td>\n",
       "      <td>...</td>\n",
       "      <td>...</td>\n",
       "      <td>...</td>\n",
       "      <td>...</td>\n",
       "      <td>...</td>\n",
       "      <td>...</td>\n",
       "    </tr>\n",
       "    <tr>\n",
       "      <th>2022-02-17</th>\n",
       "      <td>-0.045290</td>\n",
       "      <td>-0.046257</td>\n",
       "      <td>-0.040391</td>\n",
       "      <td>-0.021092</td>\n",
       "      <td>-0.005257</td>\n",
       "      <td>-0.034181</td>\n",
       "      <td>-0.079797</td>\n",
       "      <td>-0.039260</td>\n",
       "      <td>-0.020438</td>\n",
       "      <td>-0.013813</td>\n",
       "      <td>...</td>\n",
       "      <td>-0.001214</td>\n",
       "      <td>-0.047373</td>\n",
       "      <td>-0.014205</td>\n",
       "      <td>-0.098070</td>\n",
       "      <td>-0.027448</td>\n",
       "      <td>-0.018713</td>\n",
       "      <td>-0.036807</td>\n",
       "      <td>-0.052144</td>\n",
       "      <td>-0.018367</td>\n",
       "      <td>-0.026176</td>\n",
       "    </tr>\n",
       "    <tr>\n",
       "      <th>2022-02-18</th>\n",
       "      <td>-0.029759</td>\n",
       "      <td>0.012909</td>\n",
       "      <td>-0.036769</td>\n",
       "      <td>0.005067</td>\n",
       "      <td>-0.001868</td>\n",
       "      <td>0.005023</td>\n",
       "      <td>-0.007718</td>\n",
       "      <td>-0.040005</td>\n",
       "      <td>-0.004005</td>\n",
       "      <td>-0.005005</td>\n",
       "      <td>...</td>\n",
       "      <td>0.010471</td>\n",
       "      <td>0.000166</td>\n",
       "      <td>-0.021302</td>\n",
       "      <td>-0.045502</td>\n",
       "      <td>-0.021092</td>\n",
       "      <td>-0.017275</td>\n",
       "      <td>-0.022629</td>\n",
       "      <td>-0.010390</td>\n",
       "      <td>-0.001103</td>\n",
       "      <td>-0.017587</td>\n",
       "    </tr>\n",
       "    <tr>\n",
       "      <th>2022-02-22</th>\n",
       "      <td>-0.005503</td>\n",
       "      <td>0.015862</td>\n",
       "      <td>0.011352</td>\n",
       "      <td>-0.035573</td>\n",
       "      <td>-0.054018</td>\n",
       "      <td>-0.010494</td>\n",
       "      <td>-0.053364</td>\n",
       "      <td>-0.055883</td>\n",
       "      <td>-0.011738</td>\n",
       "      <td>-0.001076</td>\n",
       "      <td>...</td>\n",
       "      <td>-0.004417</td>\n",
       "      <td>-0.029672</td>\n",
       "      <td>-0.021310</td>\n",
       "      <td>-0.061988</td>\n",
       "      <td>-0.016972</td>\n",
       "      <td>-0.042532</td>\n",
       "      <td>-0.036963</td>\n",
       "      <td>0.016738</td>\n",
       "      <td>-0.005230</td>\n",
       "      <td>0.021297</td>\n",
       "    </tr>\n",
       "    <tr>\n",
       "      <th>2022-02-23</th>\n",
       "      <td>-0.031227</td>\n",
       "      <td>-0.052272</td>\n",
       "      <td>-0.020877</td>\n",
       "      <td>-0.022484</td>\n",
       "      <td>-0.023854</td>\n",
       "      <td>-0.026077</td>\n",
       "      <td>0.000000</td>\n",
       "      <td>-0.027405</td>\n",
       "      <td>-0.013428</td>\n",
       "      <td>-0.023599</td>\n",
       "      <td>...</td>\n",
       "      <td>0.003415</td>\n",
       "      <td>-0.011877</td>\n",
       "      <td>-0.014463</td>\n",
       "      <td>-0.056753</td>\n",
       "      <td>-0.013788</td>\n",
       "      <td>-0.009132</td>\n",
       "      <td>-0.045970</td>\n",
       "      <td>-0.023569</td>\n",
       "      <td>-0.031967</td>\n",
       "      <td>-0.019476</td>\n",
       "    </tr>\n",
       "    <tr>\n",
       "      <th>2022-02-24</th>\n",
       "      <td>0.042890</td>\n",
       "      <td>0.060539</td>\n",
       "      <td>0.064469</td>\n",
       "      <td>-0.089878</td>\n",
       "      <td>-0.058776</td>\n",
       "      <td>0.038597</td>\n",
       "      <td>0.070599</td>\n",
       "      <td>0.090352</td>\n",
       "      <td>0.038978</td>\n",
       "      <td>0.023240</td>\n",
       "      <td>...</td>\n",
       "      <td>0.027003</td>\n",
       "      <td>0.056061</td>\n",
       "      <td>0.042333</td>\n",
       "      <td>0.075387</td>\n",
       "      <td>0.031508</td>\n",
       "      <td>0.110984</td>\n",
       "      <td>0.030880</td>\n",
       "      <td>0.042959</td>\n",
       "      <td>-0.023278</td>\n",
       "      <td>0.036895</td>\n",
       "    </tr>\n",
       "  </tbody>\n",
       "</table>\n",
       "<p>1273 rows × 25 columns</p>\n",
       "</div>"
      ],
      "text/plain": [
       "                ADSK       AMD      ANSS      EPAM      NTAP      QCOM  \\\n",
       "Date                                                                     \n",
       "2017-02-06 -0.019016  0.107564 -0.001262 -0.012116  0.002088 -0.001889   \n",
       "2017-02-07  0.020082 -0.025261  0.002207  0.015768  0.012178  0.007348   \n",
       "2017-02-08 -0.018755  0.020112 -0.000315 -0.013456  0.003342 -0.007159   \n",
       "2017-02-09  0.011390 -0.010378  0.011381  0.014215  0.008944 -0.000189   \n",
       "2017-02-10 -0.007779  0.011852  0.005591  0.010718  0.003555  0.020959   \n",
       "...              ...       ...       ...       ...       ...       ...   \n",
       "2022-02-17 -0.045290 -0.046257 -0.040391 -0.021092 -0.005257 -0.034181   \n",
       "2022-02-18 -0.029759  0.012909 -0.036769  0.005067 -0.001868  0.005023   \n",
       "2022-02-22 -0.005503  0.015862  0.011352 -0.035573 -0.054018 -0.010494   \n",
       "2022-02-23 -0.031227 -0.052272 -0.020877 -0.022484 -0.023854 -0.026077   \n",
       "2022-02-24  0.042890  0.060539  0.064469 -0.089878 -0.058776  0.038597   \n",
       "\n",
       "                AOSL      APPS      ASML      AUDC  ...      NSIT        ON  \\\n",
       "Date                                                ...                       \n",
       "2017-02-06 -0.029289  0.000000 -0.006361  0.053571  ... -0.006116 -0.005034   \n",
       "2017-02-07 -0.005769  0.014389  0.008391 -0.005979  ... -0.002671  0.006468   \n",
       "2017-02-08  0.004330  0.000000  0.006711  0.041122  ... -0.002946  0.003575   \n",
       "2017-02-09  0.010031  0.014185  0.003459 -0.015954  ...  0.169589 -0.003575   \n",
       "2017-02-10  0.038690  0.027780  0.002647  0.010182  ...  0.022609  0.012812   \n",
       "...              ...       ...       ...       ...  ...       ...       ...   \n",
       "2022-02-17 -0.079797 -0.039260 -0.020438 -0.013813  ... -0.001214 -0.047373   \n",
       "2022-02-18 -0.007718 -0.040005 -0.004005 -0.005005  ...  0.010471  0.000166   \n",
       "2022-02-22 -0.053364 -0.055883 -0.011738 -0.001076  ... -0.004417 -0.029672   \n",
       "2022-02-23  0.000000 -0.027405 -0.013428 -0.023599  ...  0.003415 -0.011877   \n",
       "2022-02-24  0.070599  0.090352  0.038978  0.023240  ...  0.027003  0.056061   \n",
       "\n",
       "                POWI      RIOT      RMBS       TTD      UCTT      WDAY  \\\n",
       "Date                                                                     \n",
       "2017-02-06 -0.020928  0.031449 -0.011094 -0.004158 -0.020441  0.011427   \n",
       "2017-02-07  0.007524  0.051293  0.001592 -0.008718  0.011844  0.007934   \n",
       "2017-02-08  0.013403 -0.065323 -0.013617 -0.007383 -0.003145 -0.002910   \n",
       "2017-02-09 -0.017911  0.065323  0.019961  0.024400  0.001574  0.002328   \n",
       "2017-02-10  0.006006 -0.005900  0.011006  0.000344 -0.001574 -0.005597   \n",
       "...              ...       ...       ...       ...       ...       ...   \n",
       "2022-02-17 -0.014205 -0.098070 -0.027448 -0.018713 -0.036807 -0.052144   \n",
       "2022-02-18 -0.021302 -0.045502 -0.021092 -0.017275 -0.022629 -0.010390   \n",
       "2022-02-22 -0.021310 -0.061988 -0.016972 -0.042532 -0.036963  0.016738   \n",
       "2022-02-23 -0.014463 -0.056753 -0.013788 -0.009132 -0.045970 -0.023569   \n",
       "2022-02-24  0.042333  0.075387  0.031508  0.110984  0.030880  0.042959   \n",
       "\n",
       "                CBRE      SBAC  \n",
       "Date                            \n",
       "2017-02-06 -0.015038 -0.012280  \n",
       "2017-02-07 -0.002259  0.003728  \n",
       "2017-02-08 -0.005508  0.019561  \n",
       "2017-02-09  0.025342  0.007180  \n",
       "2017-02-10  0.074153 -0.006245  \n",
       "...              ...       ...  \n",
       "2022-02-17 -0.018367 -0.026176  \n",
       "2022-02-18 -0.001103 -0.017587  \n",
       "2022-02-22 -0.005230  0.021297  \n",
       "2022-02-23 -0.031967 -0.019476  \n",
       "2022-02-24 -0.023278  0.036895  \n",
       "\n",
       "[1273 rows x 25 columns]"
      ]
     },
     "execution_count": 11,
     "metadata": {},
     "output_type": "execute_result"
    }
   ],
   "source": [
    "n = len(adjClose_5y[chosen_df['ticker']].columns)\n",
    "log_returns_test = np.log(adjClose_5y[chosen_df['ticker']] / adjClose_5y[chosen_df['ticker']].shift(1)).dropna() # Same as 1 + stocks_data.pct_change()\n",
    "log_returns_test"
   ]
  },
  {
   "cell_type": "code",
   "execution_count": 17,
   "id": "24835c1c",
   "metadata": {},
   "outputs": [],
   "source": [
    "def calculate_vol(weights):\n",
    "    annualized_cov = np.dot(log_returns_test.cov()*252,weights)\n",
    "    vol = np.dot(weights.transpose(),annualized_cov)\n",
    "    return np.sqrt(vol)\n",
    "    \n",
    "def calculate_returns(weights, log_returns):\n",
    "    # Annual log Returns\n",
    "\n",
    "    return np.sum(log_returns.mean()*weights) * 252\n"
   ]
  },
  {
   "cell_type": "code",
   "execution_count": 18,
   "id": "816f4a3b",
   "metadata": {},
   "outputs": [],
   "source": [
    "def function_to_minimize(weights):\n",
    "\n",
    "    # minimize a -1 * SR (that's how the math works here, but it is the same as maximizing SR)\n",
    "    return -1 * ((calculate_returns(weights, log_returns_test) - 0 )/calculate_volatility(weights, log_returns_test)) # assuming rf =0"
   ]
  },
  {
   "cell_type": "code",
   "execution_count": 19,
   "id": "a1053479",
   "metadata": {},
   "outputs": [],
   "source": [
    "required_return = 0.70 \n",
    "\n",
    "constraints = ({'type':'eq','fun': lambda weights: np.sum(weights)-1},\n",
    "               {'type':'eq','fun': lambda weights: calculate_returns(weights,log_returns_test) - required_return})\n",
    "bounds = tuple((0,1) for n in range(n))\n",
    "equal_weights = n * [1/n] #going to be our starting point then the function will look at either direction for minimum negative SG"
   ]
  },
  {
   "cell_type": "code",
   "execution_count": 20,
   "id": "86685d6a",
   "metadata": {},
   "outputs": [
    {
     "data": {
      "text/plain": [
       "     fun: 0.5311244845364465\n",
       "     jac: array([0.20401067, 0.28892915, 0.17360228, 0.20621307, 0.12237805,\n",
       "       0.16549504, 0.23905381, 0.66020308, 0.18814695, 0.15490836,\n",
       "       0.19835311, 0.14229292, 0.14234179, 0.10843409, 0.12648353,\n",
       "       0.13911653, 0.25966766, 0.19161016, 0.36526345, 0.16391917,\n",
       "       0.49673201, 0.26036364, 0.20728758, 0.1310854 , 0.08251219])\n",
       " message: 'Optimization terminated successfully'\n",
       "    nfev: 156\n",
       "     nit: 6\n",
       "    njev: 6\n",
       "  status: 0\n",
       " success: True\n",
       "       x: array([1.20248863e-16, 1.21005003e-01, 0.00000000e+00, 2.52402266e-17,\n",
       "       0.00000000e+00, 1.49871186e-17, 7.87727088e-17, 5.26167600e-01,\n",
       "       7.90520533e-03, 7.03172159e-02, 2.71657583e-17, 3.10678133e-17,\n",
       "       7.06411925e-17, 0.00000000e+00, 0.00000000e+00, 0.00000000e+00,\n",
       "       0.00000000e+00, 1.40982987e-17, 2.01715814e-17, 6.98096321e-18,\n",
       "       2.74604976e-01, 1.39832152e-17, 1.73161769e-18, 0.00000000e+00,\n",
       "       3.19893851e-17])"
      ]
     },
     "execution_count": 20,
     "metadata": {},
     "output_type": "execute_result"
    }
   ],
   "source": [
    "result = minimize(fun=calculate_vol,x0=equal_weights,bounds=bounds,constraints=constraints)\n",
    "result"
   ]
  },
  {
   "cell_type": "code",
   "execution_count": 21,
   "id": "59252b43",
   "metadata": {},
   "outputs": [
    {
     "data": {
      "text/plain": [
       "array([1.20248863e-16, 1.21005003e-01, 0.00000000e+00, 2.52402266e-17,\n",
       "       0.00000000e+00, 1.49871186e-17, 7.87727088e-17, 5.26167600e-01,\n",
       "       7.90520533e-03, 7.03172159e-02, 2.71657583e-17, 3.10678133e-17,\n",
       "       7.06411925e-17, 0.00000000e+00, 0.00000000e+00, 0.00000000e+00,\n",
       "       0.00000000e+00, 1.40982987e-17, 2.01715814e-17, 6.98096321e-18,\n",
       "       2.74604976e-01, 1.39832152e-17, 1.73161769e-18, 0.00000000e+00,\n",
       "       3.19893851e-17])"
      ]
     },
     "execution_count": 21,
     "metadata": {},
     "output_type": "execute_result"
    }
   ],
   "source": [
    "min_var_weights = result['x']\n",
    "min_var_weights"
   ]
  },
  {
   "cell_type": "code",
   "execution_count": 26,
   "id": "66566a06",
   "metadata": {},
   "outputs": [
    {
     "name": "stdout",
     "output_type": "stream",
     "text": [
      "Put 0.0 % in ADSK\n",
      "Put 12.101 % in AMD\n",
      "Put 0.0 % in ANSS\n",
      "Put 0.0 % in EPAM\n",
      "Put 0.0 % in NTAP\n",
      "Put 0.0 % in QCOM\n",
      "Put 0.0 % in AOSL\n",
      "Put 52.617 % in APPS\n",
      "Put 0.791 % in ASML\n",
      "Put 7.032 % in AUDC\n",
      "Put 0.0 % in DIOD\n",
      "Put 0.0 % in DSGX\n",
      "Put 0.0 % in INOD\n",
      "Put 0.0 % in MANT\n",
      "Put 0.0 % in MGIC\n",
      "Put 0.0 % in NSIT\n",
      "Put 0.0 % in ON\n",
      "Put 0.0 % in POWI\n",
      "Put 0.0 % in RIOT\n",
      "Put 0.0 % in RMBS\n",
      "Put 27.46 % in TTD\n",
      "Put 0.0 % in UCTT\n",
      "Put 0.0 % in WDAY\n",
      "Put 0.0 % in CBRE\n",
      "Put 0.0 % in SBAC\n"
     ]
    }
   ],
   "source": [
    "result['x']\n",
    "portfolio = {}\n",
    "p = 0\n",
    "for i in result['x']:\n",
    "    print('Put',(i*100).round(3), \"% in\", log_returns_test.columns[p])\n",
    "\n",
    "    portfolio[log_returns_test.columns[p]] = (i).round(5)\n",
    "    p += 1"
   ]
  },
  {
   "cell_type": "code",
   "execution_count": 27,
   "id": "8082598a",
   "metadata": {},
   "outputs": [
    {
     "data": {
      "text/plain": [
       "{'AMD': 0.12101,\n",
       " 'APPS': 0.52617,\n",
       " 'ASML': 0.00791,\n",
       " 'AUDC': 0.07032,\n",
       " 'TTD': 0.2746}"
      ]
     },
     "execution_count": 27,
     "metadata": {},
     "output_type": "execute_result"
    }
   ],
   "source": [
    "cleaned_portfolio = {}\n",
    "for n in portfolio:\n",
    "    if portfolio[n] != 0:\n",
    "        cleaned_portfolio[n] = portfolio[n]\n",
    "cleaned_portfolio"
   ]
  },
  {
   "cell_type": "code",
   "execution_count": 28,
   "id": "019dbdc8",
   "metadata": {},
   "outputs": [
    {
     "data": {
      "text/plain": [
       "['AMD', 'APPS', 'ASML', 'AUDC', 'TTD']"
      ]
     },
     "execution_count": 28,
     "metadata": {},
     "output_type": "execute_result"
    }
   ],
   "source": [
    "list(cleaned_portfolio.keys())"
   ]
  },
  {
   "cell_type": "code",
   "execution_count": 29,
   "id": "f436e91d",
   "metadata": {},
   "outputs": [
    {
     "data": {
      "text/html": [
       "<div>\n",
       "<style scoped>\n",
       "    .dataframe tbody tr th:only-of-type {\n",
       "        vertical-align: middle;\n",
       "    }\n",
       "\n",
       "    .dataframe tbody tr th {\n",
       "        vertical-align: top;\n",
       "    }\n",
       "\n",
       "    .dataframe thead th {\n",
       "        text-align: right;\n",
       "    }\n",
       "</style>\n",
       "<table border=\"1\" class=\"dataframe\">\n",
       "  <thead>\n",
       "    <tr style=\"text-align: right;\">\n",
       "      <th></th>\n",
       "      <th>Unnamed: 0</th>\n",
       "      <th>ticker</th>\n",
       "      <th>name</th>\n",
       "      <th>sector</th>\n",
       "      <th>Earnings_expectation</th>\n",
       "      <th>irv_status</th>\n",
       "      <th>capm_status</th>\n",
       "      <th>esg_status</th>\n",
       "      <th>current_price</th>\n",
       "      <th>annu_return_10y</th>\n",
       "      <th>...</th>\n",
       "      <th>eps_ttm</th>\n",
       "      <th>growth_estimate_5y</th>\n",
       "      <th>pe_forward</th>\n",
       "      <th>pe_trailing</th>\n",
       "      <th>irv_FairValue</th>\n",
       "      <th>ESG_risk</th>\n",
       "      <th>capm_expected_return</th>\n",
       "      <th>AHV_5y</th>\n",
       "      <th>annu_return_5y</th>\n",
       "      <th>sharpe</th>\n",
       "    </tr>\n",
       "  </thead>\n",
       "  <tbody>\n",
       "    <tr>\n",
       "      <th>1</th>\n",
       "      <td>14</td>\n",
       "      <td>AMD</td>\n",
       "      <td>Advanced Micro Devices, Inc.</td>\n",
       "      <td>Technology</td>\n",
       "      <td>Increase</td>\n",
       "      <td>Below Fair Price</td>\n",
       "      <td>OverValued</td>\n",
       "      <td>No Data</td>\n",
       "      <td>117.110</td>\n",
       "      <td>0.319034</td>\n",
       "      <td>...</td>\n",
       "      <td>3.242</td>\n",
       "      <td>0.3532</td>\n",
       "      <td>35.062874</td>\n",
       "      <td>36.122765</td>\n",
       "      <td>253.245268</td>\n",
       "      <td>999.0</td>\n",
       "      <td>0.256240</td>\n",
       "      <td>0.564107</td>\n",
       "      <td>0.569607</td>\n",
       "      <td>0.981</td>\n",
       "    </tr>\n",
       "    <tr>\n",
       "      <th>7</th>\n",
       "      <td>244</td>\n",
       "      <td>APPS</td>\n",
       "      <td>Digital Turbine, Inc.</td>\n",
       "      <td>Technology</td>\n",
       "      <td>Increase</td>\n",
       "      <td>Below Fair Price</td>\n",
       "      <td>UnderValued</td>\n",
       "      <td>No Data</td>\n",
       "      <td>43.800</td>\n",
       "      <td>0.278657</td>\n",
       "      <td>...</td>\n",
       "      <td>0.530</td>\n",
       "      <td>0.5000</td>\n",
       "      <td>20.372091</td>\n",
       "      <td>82.641510</td>\n",
       "      <td>239.323247</td>\n",
       "      <td>999.0</td>\n",
       "      <td>0.285415</td>\n",
       "      <td>0.719036</td>\n",
       "      <td>1.325025</td>\n",
       "      <td>1.395</td>\n",
       "    </tr>\n",
       "    <tr>\n",
       "      <th>8</th>\n",
       "      <td>249</td>\n",
       "      <td>ASML</td>\n",
       "      <td>ASML Holding N.V. - New York Re</td>\n",
       "      <td>Technology</td>\n",
       "      <td>Increase</td>\n",
       "      <td>Below Fair Price</td>\n",
       "      <td>OverValued</td>\n",
       "      <td>No Data</td>\n",
       "      <td>634.790</td>\n",
       "      <td>0.341963</td>\n",
       "      <td>...</td>\n",
       "      <td>15.017</td>\n",
       "      <td>0.2980</td>\n",
       "      <td>32.420326</td>\n",
       "      <td>42.271423</td>\n",
       "      <td>943.608234</td>\n",
       "      <td>999.0</td>\n",
       "      <td>0.134681</td>\n",
       "      <td>0.360669</td>\n",
       "      <td>0.411064</td>\n",
       "      <td>1.065</td>\n",
       "    </tr>\n",
       "    <tr>\n",
       "      <th>9</th>\n",
       "      <td>258</td>\n",
       "      <td>AUDC</td>\n",
       "      <td>AudioCodes Ltd.</td>\n",
       "      <td>Technology</td>\n",
       "      <td>Increase</td>\n",
       "      <td>Below Fair Price</td>\n",
       "      <td>OverValued</td>\n",
       "      <td>No Data</td>\n",
       "      <td>27.675</td>\n",
       "      <td>0.234188</td>\n",
       "      <td>...</td>\n",
       "      <td>1.028</td>\n",
       "      <td>0.2500</td>\n",
       "      <td>16.875000</td>\n",
       "      <td>26.921206</td>\n",
       "      <td>29.306718</td>\n",
       "      <td>999.0</td>\n",
       "      <td>0.084842</td>\n",
       "      <td>0.446357</td>\n",
       "      <td>0.362672</td>\n",
       "      <td>0.818</td>\n",
       "    </tr>\n",
       "    <tr>\n",
       "      <th>20</th>\n",
       "      <td>890</td>\n",
       "      <td>TTD</td>\n",
       "      <td>The Trade Desk, Inc.</td>\n",
       "      <td>Technology</td>\n",
       "      <td>Increase</td>\n",
       "      <td>Below Fair Price</td>\n",
       "      <td>OverValued</td>\n",
       "      <td>No Data</td>\n",
       "      <td>73.680</td>\n",
       "      <td>0.376786</td>\n",
       "      <td>...</td>\n",
       "      <td>0.561</td>\n",
       "      <td>0.2800</td>\n",
       "      <td>80.967030</td>\n",
       "      <td>131.336900</td>\n",
       "      <td>96.589249</td>\n",
       "      <td>999.0</td>\n",
       "      <td>0.302433</td>\n",
       "      <td>0.683392</td>\n",
       "      <td>0.956083</td>\n",
       "      <td>1.129</td>\n",
       "    </tr>\n",
       "  </tbody>\n",
       "</table>\n",
       "<p>5 rows × 23 columns</p>\n",
       "</div>"
      ],
      "text/plain": [
       "    Unnamed: 0 ticker                             name      sector  \\\n",
       "1           14    AMD     Advanced Micro Devices, Inc.  Technology   \n",
       "7          244   APPS            Digital Turbine, Inc.  Technology   \n",
       "8          249   ASML  ASML Holding N.V. - New York Re  Technology   \n",
       "9          258   AUDC                  AudioCodes Ltd.  Technology   \n",
       "20         890    TTD             The Trade Desk, Inc.  Technology   \n",
       "\n",
       "   Earnings_expectation        irv_status  capm_status esg_status  \\\n",
       "1              Increase  Below Fair Price   OverValued    No Data   \n",
       "7              Increase  Below Fair Price  UnderValued    No Data   \n",
       "8              Increase  Below Fair Price   OverValued    No Data   \n",
       "9              Increase  Below Fair Price   OverValued    No Data   \n",
       "20             Increase  Below Fair Price   OverValued    No Data   \n",
       "\n",
       "    current_price  annu_return_10y  ...  eps_ttm growth_estimate_5y  \\\n",
       "1         117.110         0.319034  ...    3.242             0.3532   \n",
       "7          43.800         0.278657  ...    0.530             0.5000   \n",
       "8         634.790         0.341963  ...   15.017             0.2980   \n",
       "9          27.675         0.234188  ...    1.028             0.2500   \n",
       "20         73.680         0.376786  ...    0.561             0.2800   \n",
       "\n",
       "    pe_forward  pe_trailing  irv_FairValue  ESG_risk  capm_expected_return  \\\n",
       "1    35.062874    36.122765     253.245268     999.0              0.256240   \n",
       "7    20.372091    82.641510     239.323247     999.0              0.285415   \n",
       "8    32.420326    42.271423     943.608234     999.0              0.134681   \n",
       "9    16.875000    26.921206      29.306718     999.0              0.084842   \n",
       "20   80.967030   131.336900      96.589249     999.0              0.302433   \n",
       "\n",
       "      AHV_5y  annu_return_5y  sharpe  \n",
       "1   0.564107        0.569607   0.981  \n",
       "7   0.719036        1.325025   1.395  \n",
       "8   0.360669        0.411064   1.065  \n",
       "9   0.446357        0.362672   0.818  \n",
       "20  0.683392        0.956083   1.129  \n",
       "\n",
       "[5 rows x 23 columns]"
      ]
     },
     "execution_count": 29,
     "metadata": {},
     "output_type": "execute_result"
    }
   ],
   "source": [
    "cleaned_pf_data = chosen_df[chosen_df['ticker'].isin(list(cleaned_portfolio.keys()))]\n",
    "cleaned_pf_data"
   ]
  },
  {
   "cell_type": "code",
   "execution_count": null,
   "id": "f289e408",
   "metadata": {},
   "outputs": [],
   "source": []
  }
 ],
 "metadata": {
  "kernelspec": {
   "display_name": "Python 3 (ipykernel)",
   "language": "python",
   "name": "python3"
  },
  "language_info": {
   "codemirror_mode": {
    "name": "ipython",
    "version": 3
   },
   "file_extension": ".py",
   "mimetype": "text/x-python",
   "name": "python",
   "nbconvert_exporter": "python",
   "pygments_lexer": "ipython3",
   "version": "3.9.7"
  }
 },
 "nbformat": 4,
 "nbformat_minor": 5
}
