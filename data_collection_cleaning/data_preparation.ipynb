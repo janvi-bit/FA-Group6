{
 "cells": [
  {
   "cell_type": "code",
   "execution_count": 1,
   "metadata": {},
   "outputs": [],
   "source": [
    "import pandas as pd\n",
    "import numpy as np\n",
    "import matplotlib.pyplot as plt\n",
    "from datetime import date\n",
    "import yfinance as yf\n",
    "\n",
    "from yahoo_fin import stock_info as si\n",
    "\n",
    "from pandas_datareader import data"
   ]
  },
  {
   "cell_type": "code",
   "execution_count": 2,
   "metadata": {},
   "outputs": [],
   "source": [
    "df_1 = pd.read_csv('stock_data_part_1.csv')\n",
    "df_2 = pd.read_csv('stock_data_part_2.csv')"
   ]
  },
  {
   "cell_type": "code",
   "execution_count": 3,
   "metadata": {},
   "outputs": [
    {
     "name": "stdout",
     "output_type": "stream",
     "text": [
      "<class 'pandas.core.frame.DataFrame'>\n",
      "Int64Index: 2030 entries, 0 to 595\n",
      "Data columns (total 19 columns):\n",
      " #   Column                Non-Null Count  Dtype  \n",
      "---  ------                --------------  -----  \n",
      " 0   ticker                2030 non-null   object \n",
      " 1   name                  2029 non-null   object \n",
      " 2   sector                2030 non-null   object \n",
      " 3   Earnings_expectation  0 non-null      float64\n",
      " 4   irv_status            0 non-null      float64\n",
      " 5   capm_status           0 non-null      float64\n",
      " 6   esg_status            0 non-null      float64\n",
      " 7   current_price         2030 non-null   float64\n",
      " 8   annu_return_10y       2029 non-null   float64\n",
      " 9   market_cap            2028 non-null   float64\n",
      " 10  marketcap_cat         0 non-null      float64\n",
      " 11  beta                  1820 non-null   float64\n",
      " 12  eps_ttm               2024 non-null   float64\n",
      " 13  growth_estimate_5y    2030 non-null   float64\n",
      " 14  pe_forward            1983 non-null   float64\n",
      " 15  pe_trailing           1323 non-null   float64\n",
      " 16  irv_FairValue         0 non-null      float64\n",
      " 17  ESG_risk              489 non-null    float64\n",
      " 18  capm_expected_return  0 non-null      float64\n",
      "dtypes: float64(16), object(3)\n",
      "memory usage: 317.2+ KB\n"
     ]
    }
   ],
   "source": [
    "df = [df_1, df_2]\n",
    "final_df = pd.concat(df)\n",
    "final_df.info()"
   ]
  },
  {
   "cell_type": "markdown",
   "metadata": {},
   "source": [
    "## Separating Missing Data Stocks"
   ]
  },
  {
   "cell_type": "code",
   "execution_count": 4,
   "metadata": {},
   "outputs": [],
   "source": [
    "missing_data_stocks = final_df.loc[ (final_df['beta'].isnull() == True) | (final_df['eps_ttm'].isnull() == True) & (final_df['pe_forward'].isnull() == True) | (final_df['pe_trailing'].isnull() == True)| (final_df['name'].isnull() == True) |(final_df['annu_return_10y'].isnull() == True) ]"
   ]
  },
  {
   "cell_type": "code",
   "execution_count": 5,
   "metadata": {},
   "outputs": [
    {
     "name": "stdout",
     "output_type": "stream",
     "text": [
      "<class 'pandas.core.frame.DataFrame'>\n",
      "Int64Index: 964 entries, 2 to 594\n",
      "Data columns (total 19 columns):\n",
      " #   Column                Non-Null Count  Dtype  \n",
      "---  ------                --------------  -----  \n",
      " 0   ticker                964 non-null    object \n",
      " 1   name                  964 non-null    object \n",
      " 2   sector                964 non-null    object \n",
      " 3   Earnings_expectation  0 non-null      float64\n",
      " 4   irv_status            0 non-null      float64\n",
      " 5   capm_status           0 non-null      float64\n",
      " 6   esg_status            0 non-null      float64\n",
      " 7   current_price         964 non-null    float64\n",
      " 8   annu_return_10y       964 non-null    float64\n",
      " 9   market_cap            964 non-null    float64\n",
      " 10  marketcap_cat         0 non-null      float64\n",
      " 11  beta                  964 non-null    float64\n",
      " 12  eps_ttm               964 non-null    float64\n",
      " 13  growth_estimate_5y    964 non-null    float64\n",
      " 14  pe_forward            945 non-null    float64\n",
      " 15  pe_trailing           964 non-null    float64\n",
      " 16  irv_FairValue         0 non-null      float64\n",
      " 17  ESG_risk              241 non-null    float64\n",
      " 18  capm_expected_return  0 non-null      float64\n",
      "dtypes: float64(16), object(3)\n",
      "memory usage: 150.6+ KB\n"
     ]
    }
   ],
   "source": [
    "final_df.drop(index=missing_data_stocks.index, inplace=True)\n",
    "final_df.info()"
   ]
  },
  {
   "cell_type": "code",
   "execution_count": 6,
   "metadata": {},
   "outputs": [
    {
     "name": "stdout",
     "output_type": "stream",
     "text": [
      "<class 'pandas.core.frame.DataFrame'>\n",
      "Int64Index: 938 entries, 2 to 594\n",
      "Data columns (total 19 columns):\n",
      " #   Column                Non-Null Count  Dtype  \n",
      "---  ------                --------------  -----  \n",
      " 0   ticker                938 non-null    object \n",
      " 1   name                  938 non-null    object \n",
      " 2   sector                938 non-null    object \n",
      " 3   Earnings_expectation  0 non-null      float64\n",
      " 4   irv_status            0 non-null      float64\n",
      " 5   capm_status           0 non-null      float64\n",
      " 6   esg_status            0 non-null      float64\n",
      " 7   current_price         938 non-null    float64\n",
      " 8   annu_return_10y       938 non-null    float64\n",
      " 9   market_cap            938 non-null    float64\n",
      " 10  marketcap_cat         0 non-null      float64\n",
      " 11  beta                  938 non-null    float64\n",
      " 12  eps_ttm               938 non-null    float64\n",
      " 13  growth_estimate_5y    938 non-null    float64\n",
      " 14  pe_forward            938 non-null    float64\n",
      " 15  pe_trailing           938 non-null    float64\n",
      " 16  irv_FairValue         0 non-null      float64\n",
      " 17  ESG_risk              234 non-null    float64\n",
      " 18  capm_expected_return  0 non-null      float64\n",
      "dtypes: float64(16), object(3)\n",
      "memory usage: 146.6+ KB\n"
     ]
    }
   ],
   "source": [
    "final_df.drop(index=final_df.loc[ (final_df['pe_forward'].isnull() == True)].index, inplace=True)\n",
    "final_df.info()"
   ]
  },
  {
   "cell_type": "code",
   "execution_count": 11,
   "metadata": {},
   "outputs": [],
   "source": [
    "final_df.reset_index(drop=True, inplace=True)"
   ]
  },
  {
   "cell_type": "code",
   "execution_count": 15,
   "metadata": {},
   "outputs": [],
   "source": [
    "final_df.loc[final_df['ESG_risk'].isnull() == True, 'ESG_risk'] = 999"
   ]
  },
  {
   "cell_type": "code",
   "execution_count": 19,
   "metadata": {},
   "outputs": [],
   "source": [
    "final_df.to_csv('stock_data_V1.csv', index_label=False)"
   ]
  },
  {
   "cell_type": "code",
   "execution_count": null,
   "metadata": {},
   "outputs": [],
   "source": []
  }
 ],
 "metadata": {
  "interpreter": {
   "hash": "7721351e5879682ba19781c9ae1e618cad7501e9e7e18d108f2dc9697e683748"
  },
  "kernelspec": {
   "display_name": "Python 3.9.7 ('base')",
   "language": "python",
   "name": "python3"
  },
  "language_info": {
   "codemirror_mode": {
    "name": "ipython",
    "version": 3
   },
   "file_extension": ".py",
   "mimetype": "text/x-python",
   "name": "python",
   "nbconvert_exporter": "python",
   "pygments_lexer": "ipython3",
   "version": "3.9.7"
  },
  "orig_nbformat": 4
 },
 "nbformat": 4,
 "nbformat_minor": 2
}
