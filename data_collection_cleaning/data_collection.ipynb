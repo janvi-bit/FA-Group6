{
 "cells": [
  {
   "cell_type": "code",
   "execution_count": 1,
   "metadata": {},
   "outputs": [],
   "source": [
    "import pandas as pd\n",
    "import numpy as np\n",
    "import matplotlib.pyplot as plt\n",
    "from datetime import date\n",
    "import yfinance as yf\n",
    "\n",
    "from yahoo_fin import stock_info as si\n",
    "\n",
    "from pandas_datareader import data"
   ]
  },
  {
   "cell_type": "code",
   "execution_count": 2,
   "metadata": {},
   "outputs": [],
   "source": [
    "def cumm_prod(price_df, start=None, end=None):\n",
    "    \"\"\"\n",
    "    Calculating the cummulative product of the percentage change to normalize the return and be\n",
    "    able to compare the stocks. \n",
    "\n",
    "    \"\"\"\n",
    "    if start == None and end == None:\n",
    "        return_series = (price_df.pct_change()+1).cumprod() - 1\n",
    "        return_series.dropna(inplace=True)\n",
    "    else:\n",
    "        if end == None:\n",
    "            end = date.today()\n",
    "        return_series = (price_df.loc[start:end].pct_change()+1).cumprod() - 1\n",
    "        return_series.dropna(inplace=True)\n",
    "        \n",
    "    \n",
    "    return return_series\n",
    "\n",
    "def annualized_return(adjClose_return_df, n_years=None):\n",
    "    \"\"\"\n",
    "    n_years needs to represent the period of the adjClose_return_df.\n",
    "        If it's 1 year worth of cummulative return, you input 1 for the 1y annualized returns.\n",
    "        If it's 3 years worth of cummulative return, you input 3 for the long period annualized returns.\n",
    "\n",
    "        (1+total return)pow(1/N) - 1) where N = number of years\n",
    "    \"\"\"\n",
    "    if n_years == None or n_years == 0:\n",
    "        print(\"Input How many years does your data covers!\")\n",
    "    else:\n",
    "        annualized_return = ((1 + adjClose_return_df.tail(1))**(1/n_years)-1) * 100\n",
    "        return annualized_return"
   ]
  },
  {
   "cell_type": "code",
   "execution_count": 3,
   "metadata": {},
   "outputs": [],
   "source": [
    "def market_cap_cat(market_cap):\n",
    "    try:\n",
    "        if market_cap > 10000000000:\n",
    "            market_cap_cat = 'Large'\n",
    "        elif 2000000000 < market_cap < 1000000000:\n",
    "            market_cap_cat = 'Medium'\n",
    "        else:\n",
    "            market_cap_cat = 'Small'\n",
    "        return market_cap_cat\n",
    "    except:\n",
    "        return None\n",
    "\n",
    "def earnings_expectations(FPE, TPE):\n",
    "    try:\n",
    "        if FPE == None or TPE == None:\n",
    "            return None\n",
    "        else:\n",
    "            if FPE > TPE:\n",
    "                expect = 'Decrease'\n",
    "            else:\n",
    "                expect = 'Increase'\n",
    "                \n",
    "            return expect\n",
    "    except:\n",
    "        return None\n",
    "\n",
    "def CAPM_analysis(beta, annual_return, market_return, risk_free_rate = 0.0192):\n",
    "    try:\n",
    "        if beta == None or annual_return == None or market_return == None:\n",
    "            return None\n",
    "        else:\n",
    "            capm_status = 'TBD'\n",
    "            \n",
    "            capm_ER = risk_free_rate + beta * (market_return - risk_free_rate)\n",
    "\n",
    "            if annual_return > capm_ER:\n",
    "                capm_status = 'OverValued'\n",
    "            else:\n",
    "                capm_status = 'UnderValued'\n",
    "        \n",
    "        return capm_status, capm_ER\n",
    "    except:\n",
    "        return None\n",
    "        \n",
    "def intrinsic_valuation(ticker, eps_ttm, growth_estimate_5y, PE_trailing, target_return, safety_margin=0.5):\n",
    "\n",
    "    try:\n",
    "        if ticker == None or eps_ttm == None or growth_estimate_5y == None or PE_trailing == None or target_return == None:\n",
    "            return None\n",
    "        else:\n",
    "            irv_status = 'TBD'\n",
    "\n",
    "            forecast_eps_at_year_10 = eps_ttm * ( 1 + growth_estimate_5y) ** 9\n",
    "            forecast_value_at_year_10 = forecast_eps_at_year_10 * PE_trailing\n",
    "\n",
    "            pv_future_value = forecast_value_at_year_10/(1 + target_return)**9\n",
    "\n",
    "            pv_forecast_value_safe = pv_future_value * safety_margin\n",
    "\n",
    "            if float(si.get_live_price(ticker)) > pv_forecast_value_safe:\n",
    "                irv_status = 'Above Fair Price'\n",
    "            else:\n",
    "                irv_status = 'Below Fair Price'\n",
    "\n",
    "            return irv_status, pv_forecast_value_safe\n",
    "    except:\n",
    "        return None\n",
    "\n",
    "def get_ESG(ticker):\n",
    "    ticket = yf.Ticker(ticker)\n",
    "    try:\n",
    "        esg_data = pd.DataFrame(ticket.sustainability)['Value']['totalEsg']\n",
    "        return esg_data\n",
    "    except:\n",
    "        pass\n",
    "\n",
    "def esg_status(esg_Rscore):\n",
    "    if esg_Rscore == None:\n",
    "        return None\n",
    "    else:\n",
    "        if float(esg_Rscore) < 20:\n",
    "            return 'Sustainable'\n",
    "        elif 21 < float(esg_Rscore) < 30:\n",
    "            return 'Average'\n",
    "        else:\n",
    "            return 'Not Sustainable'"
   ]
  },
  {
   "cell_type": "code",
   "execution_count": 4,
   "metadata": {},
   "outputs": [],
   "source": [
    "SPY_adj_close = si.get_data('SPY', start_date= str(date.today().year - 10) +'-'+ str(date.today().month) +'-'+ str(date.today().day), end_date=str(date.today()))['adjclose']\n",
    "cummulative_prod_SPY = cumm_prod(SPY_adj_close)\n",
    "annu_return_10y_SPY = annualized_return(cummulative_prod_SPY, 10)[0]"
   ]
  },
  {
   "cell_type": "code",
   "execution_count": 6,
   "metadata": {},
   "outputs": [],
   "source": [
    "panel_data = pd.DataFrame(columns=['ticker', 'name', 'sector', 'Earnings_expectation', 'irv_status', 'capm_status', 'esg_status', 'current_price', 'annu_return_10y', 'market_cap', 'marketcap_cat', 'beta', 'eps_ttm', 'growth_estimate_5y', 'pe_forward', 'pe_trailing', 'irv_FairValue', 'socialScore', 'governanceScore', 'environmentScore', 'ESG_risk', 'percentile', 'capm_expected_return'])"
   ]
  },
  {
   "cell_type": "code",
   "execution_count": 7,
   "metadata": {},
   "outputs": [],
   "source": [
    "def get_data_v2(ticker):\n",
    "\n",
    "    info = {}\n",
    "\n",
    "    keys = ['shortName', 'forwardPE', 'trailingPE', 'marketCap', 'epsTrailingTwelveMonths', 'regularMarketPrice']\n",
    "    data = si.get_quote_data(ticker)\n",
    "    values = list(map(data.get, keys))\n",
    "\n",
    "    beta = float(si.get_quote_table(ticker)['Beta (5Y Monthly)'])\n",
    "    growth_est = float(si.get_analysts_info(ticker)['Growth Estimates'][ticker][4][:-1]) / 100\n",
    "    sector = si.get_company_info(ticker)['Value']['sector']\n",
    "\n",
    "    # Annualized return calculation (10 years)\n",
    "    adj_close = si.get_data(ticker, start_date= str(date.today().year - 10) +'-'+ str(date.today().month) +'-'+ str(date.today().day), end_date=str(date.today()))['adjclose']\n",
    "    cummulative_prod = cumm_prod(adj_close)\n",
    "    annu_return_10y = annualized_return(cummulative_prod, 10)[0]/100\n",
    "\n",
    " \n",
    "    esg = get_ESG(ticker)\n",
    "    \n",
    "\n",
    "\n",
    "    info = {\n",
    "            'ticker': ticker,\n",
    "            'name': values[0],\n",
    "            'pe_forward': values[1],\n",
    "            'pe_trailing': values[2],\n",
    "            'market_cap': values[3],\n",
    "            'eps_ttm': values[4],\n",
    "            'current_price': values[5],\n",
    "            'beta': beta,\n",
    "            'sector': sector,\n",
    "            'growth_estimate_5y': growth_est,\n",
    "            'annu_return_10y': annu_return_10y,\n",
    "            'ESG_risk': esg\n",
    "        }\n",
    "\n",
    "\n",
    "    \n",
    "\n",
    "    return info"
   ]
  },
  {
   "cell_type": "code",
   "execution_count": 8,
   "metadata": {},
   "outputs": [],
   "source": [
    "            # 'marketcap_cat': market_cap_cat(values[3]),\n",
    "            # 'esg_status': esg_status(esg['totalEsg']),\n",
    "            # 'Earnings_expectation': earnings_expectations(values[1], values[2]),\n",
    "            # 'irv_FairValue': intrinsic_valuation(ticker, values[4],  growth_est, values[2], 0.15)[1],\n",
    "            # 'irv_status': intrinsic_valuation(ticker, values[4],  growth_est, values[2], 0.15)[0],\n",
    "            # 'capm_status': CAPM_analysis(beta, annu_return_10y, annu_return_10y_SPY)[0],\n",
    "            # 'capm_expected_return': CAPM_analysis(beta, annu_return_10y, annu_return_10y_SPY)[1]"
   ]
  },
  {
   "cell_type": "code",
   "execution_count": 9,
   "metadata": {},
   "outputs": [],
   "source": [
    "panel_data = pd.DataFrame(columns=['ticker', 'name', 'sector', 'Earnings_expectation', 'irv_status', 'capm_status', 'esg_status', 'current_price', 'annu_return_10y', 'market_cap', 'marketcap_cat', 'beta', 'eps_ttm', 'growth_estimate_5y', 'pe_forward', 'pe_trailing', 'irv_FairValue', 'ESG_risk', 'capm_expected_return'])"
   ]
  },
  {
   "cell_type": "code",
   "execution_count": 10,
   "metadata": {},
   "outputs": [],
   "source": [
    "sp500_list = si.tickers_sp500()\n",
    "nasdaq_list = si.tickers_nasdaq()\n",
    "ftse_list = si.tickers_ftse250()\n",
    "dow_list = si.tickers_dow()"
   ]
  },
  {
   "cell_type": "code",
   "execution_count": 11,
   "metadata": {},
   "outputs": [
    {
     "data": {
      "text/plain": [
       "6362"
      ]
     },
     "execution_count": 11,
     "metadata": {},
     "output_type": "execute_result"
    }
   ],
   "source": [
    "list_dup = sp500_list + nasdaq_list + ftse_list + dow_list\n",
    "len(list_dup)"
   ]
  },
  {
   "cell_type": "code",
   "execution_count": 12,
   "metadata": {},
   "outputs": [
    {
     "data": {
      "text/plain": [
       "6161"
      ]
     },
     "execution_count": 12,
     "metadata": {},
     "output_type": "execute_result"
    }
   ],
   "source": [
    "\n",
    "ticker_list = []\n",
    "[ticker_list.append(x) for x in list_dup if x not in ticker_list]\n",
    "len(ticker_list)\n"
   ]
  },
  {
   "cell_type": "code",
   "execution_count": 13,
   "metadata": {},
   "outputs": [
    {
     "data": {
      "text/plain": [
       "3996"
      ]
     },
     "execution_count": 13,
     "metadata": {},
     "output_type": "execute_result"
    }
   ],
   "source": [
    "ticker_list.index('NTNX')"
   ]
  },
  {
   "cell_type": "code",
   "execution_count": 14,
   "metadata": {},
   "outputs": [],
   "source": [
    "check_point = ticker_list[3996:]"
   ]
  },
  {
   "cell_type": "code",
   "execution_count": 15,
   "metadata": {},
   "outputs": [
    {
     "name": "stdout",
     "output_type": "stream",
     "text": [
      "250\n",
      "Last ticker processed: PTICU\n",
      "1/5\n",
      "250\n",
      "Last ticker processed: SLNG\n",
      "2/5\n",
      "250\n",
      "Last ticker processed: UFPT\n",
      "3/5\n",
      "250\n",
      "Last ticker processed: EDIN\n",
      "4/5\n"
     ]
    }
   ],
   "source": [
    "count = 0\n",
    "chunk = 0\n",
    "for ticker in check_point:\n",
    "        try:\n",
    "                info = get_data_v2(ticker)\n",
    "                panel_data = panel_data.append(info,ignore_index=True)\n",
    "        except:\n",
    "                pass\n",
    "        count += 1\n",
    "\n",
    "        if count == 250:\n",
    "                print(count)\n",
    "\n",
    "        if count == 500:\n",
    "\n",
    "                chunk += 1\n",
    "                count = 0\n",
    "                print('Last ticker processed: ' + str(ticker))\n",
    "                print(str(chunk)+ '/' + str(int(len(check_point)/500)+1))\n",
    "                panel_data.to_csv(f'stock_date_chunk_postCheck_{chunk}.csv', index=False)\n",
    "\n",
    "\n",
    "\n",
    "\n",
    "       "
   ]
  },
  {
   "cell_type": "code",
   "execution_count": 16,
   "metadata": {},
   "outputs": [],
   "source": [
    "panel_data.to_csv('stock_data_Last.csv', index=False)"
   ]
  },
  {
   "cell_type": "code",
   "execution_count": null,
   "metadata": {},
   "outputs": [],
   "source": []
  }
 ],
 "metadata": {
  "interpreter": {
   "hash": "7721351e5879682ba19781c9ae1e618cad7501e9e7e18d108f2dc9697e683748"
  },
  "kernelspec": {
   "display_name": "Python 3.9.7 ('base')",
   "language": "python",
   "name": "python3"
  },
  "language_info": {
   "codemirror_mode": {
    "name": "ipython",
    "version": 3
   },
   "file_extension": ".py",
   "mimetype": "text/x-python",
   "name": "python",
   "nbconvert_exporter": "python",
   "pygments_lexer": "ipython3",
   "version": "3.9.7"
  },
  "orig_nbformat": 4
 },
 "nbformat": 4,
 "nbformat_minor": 2
}
