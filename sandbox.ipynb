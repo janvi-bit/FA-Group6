{
 "cells": [
  {
   "cell_type": "code",
   "execution_count": 1,
   "metadata": {},
   "outputs": [],
   "source": [
    "import pandas as pd\n",
    "import numpy as np\n",
    "import matplotlib.pyplot as plt\n",
    "import scipy.stats\n",
    "from datetime import date\n",
    "\n",
    "\n",
    "from yahoo_fin import stock_info as si\n",
    "\n",
    "from pandas_datareader import data"
   ]
  },
  {
   "cell_type": "code",
   "execution_count": 2,
   "metadata": {},
   "outputs": [],
   "source": [
    "def cumm_prod(price_df, start=None, end=None):\n",
    "    \"\"\"\n",
    "    Calculating the cummulative product of the percentage change to normalize the return and be\n",
    "    able to compare the stocks. \n",
    "\n",
    "    \"\"\"\n",
    "    if start == None and end == None:\n",
    "        return_series = (price_df.pct_change()+1).cumprod() - 1\n",
    "        return_series.dropna(inplace=True)\n",
    "    else:\n",
    "        if end == None:\n",
    "            end = date.today()\n",
    "        return_series = (price_df.loc[start:end].pct_change()+1).cumprod() - 1\n",
    "        return_series.dropna(inplace=True)\n",
    "        \n",
    "    \n",
    "    return return_series\n",
    "\n",
    "def annualized_return(adjClose_return_df, n_years=None):\n",
    "    \"\"\"\n",
    "    n_years needs to represent the period of the adjClose_return_df.\n",
    "        If it's 1 year worth of cummulative return, you input 1 for the 1y annualized returns.\n",
    "        If it's 3 years worth of cummulative return, you input 3 for the long period annualized returns.\n",
    "\n",
    "        (1+total return)pow(1/N) - 1) where N = number of years\n",
    "    \"\"\"\n",
    "    if n_years == None or n_years == 0:\n",
    "        print(\"Input How many years does your data covers!\")\n",
    "    else:\n",
    "        annualized_return = ((1 + adjClose_return_df.tail(1))**(1/n_years)-1) * 100\n",
    "        return annualized_return"
   ]
  },
  {
   "cell_type": "code",
   "execution_count": 3,
   "metadata": {},
   "outputs": [],
   "source": [
    "def market_cap_cat(market_cap):\n",
    "    if float(market_cap[:-1]) > 10:\n",
    "        market_cap_cat = 'Large'\n",
    "    elif 2 < float(market_cap[:-1]) < 10:\n",
    "        market_cap_cat = 'Medium'\n",
    "    else:\n",
    "        market_cap_cat = 'Small'\n",
    "    return market_cap_cat\n",
    "\n",
    "def earnings_expectations(FPE, TPE):\n",
    "    if FPE > TPE:\n",
    "        expect = 'Decrease'\n",
    "    else:\n",
    "        expect = 'Increase'\n",
    "        \n",
    "    return expect\n",
    "\n",
    "def CAPM_analysis(ticker, beta, risk_free_rate = 0.0192):\n",
    "    capm_status = 'TBD'\n",
    "    \n",
    "    return_52w = float(si.get_stats(ticker)['Value'][1][:-1])/100\n",
    "    market_return = float(si.get_stats(ticker)['Value'][2][:-1])/100\n",
    "    \n",
    "    capm_ER = risk_free_rate + beta * (market_return - risk_free_rate)\n",
    "\n",
    "    if return_52w > capm_ER:\n",
    "        capm_status = 'UnderValued'\n",
    "    else:\n",
    "        capm_status = 'OverValued'\n",
    "    \n",
    "    return capm_status, capm_ER\n",
    "\n",
    "\n",
    "\n",
    "def intrinsic_valuation(ticker, eps_ttm, growth_estimate_5y, PE_trailing, target_return, safety_margin=0.5):\n",
    "\n",
    "    irv_status = 'TBD'\n",
    "\n",
    "    forecast_eps_at_year_10 = eps_ttm * ( 1 + growth_estimate_5y) ** 9\n",
    "    forecast_value_at_year_10 = forecast_eps_at_year_10 * PE_trailing\n",
    "\n",
    "    pv_future_value = forecast_value_at_year_10/(1 + target_return)**9\n",
    "\n",
    "    pv_forecast_value_safe = pv_future_value * safety_margin\n",
    "\n",
    "    if float(si.get_live_price(ticker)) > pv_forecast_value_safe:\n",
    "        irv_status = 'Above Fair Price'\n",
    "    else:\n",
    "        irv_status = 'Below Fair Price'\n",
    "\n",
    "    return irv_status"
   ]
  },
  {
   "cell_type": "code",
   "execution_count": 4,
   "metadata": {},
   "outputs": [],
   "source": [
    "def get_data(ticker):\n",
    "\n",
    "    info = {}\n",
    "\n",
    "    info['ticker'] = ticker\n",
    "    info['name'] = si.get_quote_data(ticker)['shortName']\n",
    "    info['sector'] = si.get_company_info(ticker)['Value']['sector']\n",
    "    info['industry'] = si.get_company_info(ticker)['Value']['industry']\n",
    "\n",
    "    adj_close = si.get_data(ticker, start_date= str(date.today().year - 10) +'-'+ str(date.today().month) +'-'+ str(date.today().day), end_date=str(date.today()))['adjclose']\n",
    "    cummulative_prod = cumm_prod(adj_close)\n",
    "    annu_return_10y = annualized_return(cummulative_prod, 10)[0]\n",
    "\n",
    "    info['current_price'] = float(si.get_live_price(ticker))\n",
    "    info['annu_return_10y'] = annu_return_10y\n",
    "\n",
    "    info['market_cap'] = si.get_quote_table(ticker)['Market Cap']\n",
    "    info['marketcap_cat'] = market_cap_cat(info['market_cap'])\n",
    "\n",
    "\n",
    "    info['beta'] = float(si.get_quote_table(ticker)['Beta (5Y Monthly)'])\n",
    "\n",
    "    info['eps_ttm'] = float(si.get_quote_table(ticker)['EPS (TTM)'])\n",
    "    info['growth_estimate_5y'] = float(si.get_analysts_info(ticker)['Growth Estimates'][ticker][4][:-1]) / 100\n",
    "\n",
    "    # if FPE > TPE => Investor expect a decrease in earnings.\n",
    "    info['pe_forward'] = float(si.get_quote_data(ticker)['forwardPE'])\n",
    "    info['pe_trailing'] = float(si.get_quote_data(ticker)['trailingPE'])\n",
    "\n",
    "    info['Earnings_expect'] = earnings_expectations(info['pe_forward'], info['pe_trailing'])\n",
    "    info['irv_status'] = intrinsic_valuation(ticker, info['eps_ttm'],  info['growth_estimate_5y'], info['pe_trailing'], 0.15)\n",
    "\n",
    "    info['capm_status'] = CAPM_analysis(ticker, info['beta'])[0]\n",
    "\n",
    "\n",
    "\n",
    "    return info"
   ]
  },
  {
   "cell_type": "code",
   "execution_count": 5,
   "metadata": {},
   "outputs": [
    {
     "data": {
      "text/html": [
       "<div>\n",
       "<style scoped>\n",
       "    .dataframe tbody tr th:only-of-type {\n",
       "        vertical-align: middle;\n",
       "    }\n",
       "\n",
       "    .dataframe tbody tr th {\n",
       "        vertical-align: top;\n",
       "    }\n",
       "\n",
       "    .dataframe thead th {\n",
       "        text-align: right;\n",
       "    }\n",
       "</style>\n",
       "<table border=\"1\" class=\"dataframe\">\n",
       "  <thead>\n",
       "    <tr style=\"text-align: right;\">\n",
       "      <th></th>\n",
       "      <th>ticker</th>\n",
       "      <th>name</th>\n",
       "      <th>sector</th>\n",
       "      <th>industry</th>\n",
       "      <th>current_price</th>\n",
       "      <th>annu_return_10y</th>\n",
       "      <th>marketcap_cat</th>\n",
       "      <th>beta</th>\n",
       "      <th>eps_ttm</th>\n",
       "      <th>growth_estimate_5y</th>\n",
       "      <th>pe_forward</th>\n",
       "      <th>pe_trailing</th>\n",
       "      <th>Earnings_expect</th>\n",
       "      <th>irv_status</th>\n",
       "      <th>capm_status</th>\n",
       "    </tr>\n",
       "  </thead>\n",
       "  <tbody>\n",
       "  </tbody>\n",
       "</table>\n",
       "</div>"
      ],
      "text/plain": [
       "Empty DataFrame\n",
       "Columns: [ticker, name, sector, industry, current_price, annu_return_10y, marketcap_cat, beta, eps_ttm, growth_estimate_5y, pe_forward, pe_trailing, Earnings_expect, irv_status, capm_status]\n",
       "Index: []"
      ]
     },
     "execution_count": 5,
     "metadata": {},
     "output_type": "execute_result"
    }
   ],
   "source": [
    "panel_data = pd.DataFrame(columns=['ticker', 'name', 'sector', 'industry', 'current_price', 'annu_return_10y', 'marketcap_cat', 'beta', 'eps_ttm', 'growth_estimate_5y', 'pe_forward', 'pe_trailing', 'Earnings_expect', 'irv_status', 'capm_status'])\n",
    "panel_data"
   ]
  },
  {
   "cell_type": "code",
   "execution_count": 6,
   "metadata": {},
   "outputs": [],
   "source": [
    "sp500_list_10 = si.tickers_sp500()[:4]\n",
    "ticker_error = {}"
   ]
  },
  {
   "cell_type": "code",
   "execution_count": 7,
   "metadata": {},
   "outputs": [],
   "source": [
    "\n",
    "# for ticker in sp500_list_10:\n",
    "#     try:\n",
    "#         info = get_data(ticker)\n",
    "#         panel_data.append(info,ignore_index=True)\n",
    "#     except:\n",
    "#         pass\n"
   ]
  },
  {
   "cell_type": "code",
   "execution_count": 8,
   "metadata": {},
   "outputs": [
    {
     "data": {
      "text/html": [
       "<div>\n",
       "<style scoped>\n",
       "    .dataframe tbody tr th:only-of-type {\n",
       "        vertical-align: middle;\n",
       "    }\n",
       "\n",
       "    .dataframe tbody tr th {\n",
       "        vertical-align: top;\n",
       "    }\n",
       "\n",
       "    .dataframe thead th {\n",
       "        text-align: right;\n",
       "    }\n",
       "</style>\n",
       "<table border=\"1\" class=\"dataframe\">\n",
       "  <thead>\n",
       "    <tr style=\"text-align: right;\">\n",
       "      <th></th>\n",
       "      <th>ticker</th>\n",
       "      <th>name</th>\n",
       "      <th>sector</th>\n",
       "      <th>industry</th>\n",
       "      <th>current_price</th>\n",
       "      <th>annu_return_10y</th>\n",
       "      <th>marketcap_cat</th>\n",
       "      <th>beta</th>\n",
       "      <th>eps_ttm</th>\n",
       "      <th>growth_estimate_5y</th>\n",
       "      <th>pe_forward</th>\n",
       "      <th>pe_trailing</th>\n",
       "      <th>Earnings_expect</th>\n",
       "      <th>irv_status</th>\n",
       "      <th>capm_status</th>\n",
       "    </tr>\n",
       "  </thead>\n",
       "  <tbody>\n",
       "  </tbody>\n",
       "</table>\n",
       "</div>"
      ],
      "text/plain": [
       "Empty DataFrame\n",
       "Columns: [ticker, name, sector, industry, current_price, annu_return_10y, marketcap_cat, beta, eps_ttm, growth_estimate_5y, pe_forward, pe_trailing, Earnings_expect, irv_status, capm_status]\n",
       "Index: []"
      ]
     },
     "execution_count": 8,
     "metadata": {},
     "output_type": "execute_result"
    }
   ],
   "source": [
    "panel_data"
   ]
  },
  {
   "cell_type": "code",
   "execution_count": 9,
   "metadata": {},
   "outputs": [
    {
     "data": {
      "text/plain": [
       "{'ticker': 'GOOGL',\n",
       " 'name': 'Alphabet Inc.',\n",
       " 'sector': 'Communication Services',\n",
       " 'industry': 'Internet Content & Information',\n",
       " 'current_price': 2608.06005859375,\n",
       " 'annu_return_10y': 23.84385705216705,\n",
       " 'market_cap': '1.724T',\n",
       " 'marketcap_cat': 'Small',\n",
       " 'beta': 1.07,\n",
       " 'eps_ttm': 112.2,\n",
       " 'growth_estimate_5y': 0.2756,\n",
       " 'pe_forward': 19.253359,\n",
       " 'pe_trailing': 23.245363,\n",
       " 'Earnings_expect': 'Increase',\n",
       " 'irv_status': 'Below Fair Price',\n",
       " 'capm_status': 'UnderValued'}"
      ]
     },
     "execution_count": 9,
     "metadata": {},
     "output_type": "execute_result"
    }
   ],
   "source": [
    "get_data('GOOGL')"
   ]
  },
  {
   "cell_type": "code",
   "execution_count": null,
   "metadata": {},
   "outputs": [],
   "source": []
  }
 ],
 "metadata": {
  "interpreter": {
   "hash": "7721351e5879682ba19781c9ae1e618cad7501e9e7e18d108f2dc9697e683748"
  },
  "kernelspec": {
   "display_name": "Python 3.9.7 ('base')",
   "language": "python",
   "name": "python3"
  },
  "language_info": {
   "codemirror_mode": {
    "name": "ipython",
    "version": 3
   },
   "file_extension": ".py",
   "mimetype": "text/x-python",
   "name": "python",
   "nbconvert_exporter": "python",
   "pygments_lexer": "ipython3",
   "version": "3.9.7"
  },
  "orig_nbformat": 4
 },
 "nbformat": 4,
 "nbformat_minor": 2
}
