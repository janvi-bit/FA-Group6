{
 "cells": [
  {
   "cell_type": "markdown",
   "id": "8edcf9ab",
   "metadata": {},
   "source": [
    "## Historical Data\n",
    "- timeseries"
   ]
  },
  {
   "cell_type": "code",
   "execution_count": null,
   "id": "cd51fedc",
   "metadata": {},
   "outputs": [],
   "source": []
  },
  {
   "cell_type": "markdown",
   "id": "74d7695d",
   "metadata": {},
   "source": [
    "## Metrics for stock valuation"
   ]
  },
  {
   "cell_type": "markdown",
   "id": "50ae12b1",
   "metadata": {},
   "source": [
    "### Price / Earnings (P/E)\n",
    "- ratio used to value a company"
   ]
  },
  {
   "cell_type": "code",
   "execution_count": null,
   "id": "950a885f",
   "metadata": {},
   "outputs": [],
   "source": []
  },
  {
   "cell_type": "markdown",
   "id": "1c23590d",
   "metadata": {},
   "source": [
    "### Compound Annual Growth Rate (CAGR)"
   ]
  },
  {
   "cell_type": "code",
   "execution_count": null,
   "id": "38e073ce",
   "metadata": {},
   "outputs": [],
   "source": [
    "# reference: https://towardsdatascience.com/python-vs-excel-compound-annual-growth-rate-cagr-c8dbad46d3e0\n",
    "def cagr(start_value, end_value, num_periods):\n",
    "    return (end_value / start_value) ** (1 / (num_periods - 1)) - 1"
   ]
  },
  {
   "cell_type": "markdown",
   "id": "2f001b14",
   "metadata": {},
   "source": [
    "## ESG"
   ]
  },
  {
   "cell_type": "code",
   "execution_count": null,
   "id": "74990ea0",
   "metadata": {},
   "outputs": [],
   "source": []
  }
 ],
 "metadata": {
  "kernelspec": {
   "display_name": "Python 3 (ipykernel)",
   "language": "python",
   "name": "python3"
  },
  "language_info": {
   "codemirror_mode": {
    "name": "ipython",
    "version": 3
   },
   "file_extension": ".py",
   "mimetype": "text/x-python",
   "name": "python",
   "nbconvert_exporter": "python",
   "pygments_lexer": "ipython3",
   "version": "3.9.7"
  }
 },
 "nbformat": 4,
 "nbformat_minor": 5
}
